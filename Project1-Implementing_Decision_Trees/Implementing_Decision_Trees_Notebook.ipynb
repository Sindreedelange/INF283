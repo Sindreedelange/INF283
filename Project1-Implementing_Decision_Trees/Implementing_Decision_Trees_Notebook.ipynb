{
 "cells": [
  {
   "cell_type": "markdown",
   "metadata": {},
   "source": [
    "# <center> Implementing Decision Trees </center>\n",
    "## <center> INF283 - Project 1 </center>\n",
    "### <center> Sindre E. de Lange </center>"
   ]
  },
  {
   "cell_type": "code",
   "execution_count": 1,
   "metadata": {},
   "outputs": [],
   "source": [
    "import numpy as np\n",
    "import os\n",
    "import pandas as pd"
   ]
  },
  {
   "cell_type": "markdown",
   "metadata": {},
   "source": [
    "## Getting data in order to test the model"
   ]
  },
  {
   "cell_type": "code",
   "execution_count": 2,
   "metadata": {},
   "outputs": [],
   "source": [
    "# ! git clone https://github.com/sjwhitworth/golearn.git"
   ]
  },
  {
   "cell_type": "code",
   "execution_count": 3,
   "metadata": {},
   "outputs": [
    {
     "name": "stdout",
     "output_type": "stream",
     "text": [
      "['articles.csv', 'c45-numeric.csv', 'chim.csv', 'exam.csv', 'exams.csv', 'house-votes-84.csv', 'iris.arff', 'iris.csv', 'iris_binned.csv', 'iris_headers.csv', 'iris_headers_subset.csv', 'iris_sorted_asc.csv', 'iris_sorted_desc.csv', 'mnist_test.csv', 'mnist_train.csv', 'randomdata.csv', 'sources.txt', 'tennis.csv', 'weather.arff']\n"
     ]
    }
   ],
   "source": [
    "DATASET_PATH = \"golearn/examples/datasets/\"\n",
    "print(os.listdir(DATASET_PATH))"
   ]
  },
  {
   "cell_type": "code",
   "execution_count": 4,
   "metadata": {},
   "outputs": [],
   "source": [
    "tennis_dataset = \"tennis.csv\"\n",
    "dataset_tennis = pd.read_csv(DATASET_PATH + tennis_dataset)"
   ]
  },
  {
   "cell_type": "code",
   "execution_count": 5,
   "metadata": {},
   "outputs": [
    {
     "data": {
      "text/html": [
       "<div>\n",
       "<style scoped>\n",
       "    .dataframe tbody tr th:only-of-type {\n",
       "        vertical-align: middle;\n",
       "    }\n",
       "\n",
       "    .dataframe tbody tr th {\n",
       "        vertical-align: top;\n",
       "    }\n",
       "\n",
       "    .dataframe thead th {\n",
       "        text-align: right;\n",
       "    }\n",
       "</style>\n",
       "<table border=\"1\" class=\"dataframe\">\n",
       "  <thead>\n",
       "    <tr style=\"text-align: right;\">\n",
       "      <th></th>\n",
       "      <th>outlook</th>\n",
       "      <th>temp</th>\n",
       "      <th>humidity</th>\n",
       "      <th>windy</th>\n",
       "      <th>play</th>\n",
       "    </tr>\n",
       "  </thead>\n",
       "  <tbody>\n",
       "    <tr>\n",
       "      <th>0</th>\n",
       "      <td>sunny</td>\n",
       "      <td>hot</td>\n",
       "      <td>high</td>\n",
       "      <td>False</td>\n",
       "      <td>no</td>\n",
       "    </tr>\n",
       "    <tr>\n",
       "      <th>1</th>\n",
       "      <td>sunny</td>\n",
       "      <td>hot</td>\n",
       "      <td>high</td>\n",
       "      <td>True</td>\n",
       "      <td>no</td>\n",
       "    </tr>\n",
       "    <tr>\n",
       "      <th>2</th>\n",
       "      <td>overcast</td>\n",
       "      <td>hot</td>\n",
       "      <td>high</td>\n",
       "      <td>False</td>\n",
       "      <td>yes</td>\n",
       "    </tr>\n",
       "    <tr>\n",
       "      <th>3</th>\n",
       "      <td>rainy</td>\n",
       "      <td>mild</td>\n",
       "      <td>high</td>\n",
       "      <td>False</td>\n",
       "      <td>yes</td>\n",
       "    </tr>\n",
       "    <tr>\n",
       "      <th>4</th>\n",
       "      <td>rainy</td>\n",
       "      <td>cool</td>\n",
       "      <td>normal</td>\n",
       "      <td>False</td>\n",
       "      <td>yes</td>\n",
       "    </tr>\n",
       "  </tbody>\n",
       "</table>\n",
       "</div>"
      ],
      "text/plain": [
       "    outlook  temp humidity  windy play\n",
       "0     sunny   hot     high  False   no\n",
       "1     sunny   hot     high   True   no\n",
       "2  overcast   hot     high  False  yes\n",
       "3     rainy  mild     high  False  yes\n",
       "4     rainy  cool   normal  False  yes"
      ]
     },
     "execution_count": 5,
     "metadata": {},
     "output_type": "execute_result"
    }
   ],
   "source": [
    "dataset_tennis.head()"
   ]
  },
  {
   "cell_type": "code",
   "execution_count": 6,
   "metadata": {},
   "outputs": [
    {
     "name": "stdout",
     "output_type": "stream",
     "text": [
      "<class 'pandas.core.frame.DataFrame'>\n",
      "RangeIndex: 14 entries, 0 to 13\n",
      "Data columns (total 5 columns):\n",
      "outlook     14 non-null object\n",
      "temp        14 non-null object\n",
      "humidity    14 non-null object\n",
      "windy       14 non-null bool\n",
      "play        14 non-null object\n",
      "dtypes: bool(1), object(4)\n",
      "memory usage: 542.0+ bytes\n"
     ]
    }
   ],
   "source": [
    "dataset_tennis.info()"
   ]
  },
  {
   "cell_type": "code",
   "execution_count": 7,
   "metadata": {},
   "outputs": [
    {
     "data": {
      "text/html": [
       "<div>\n",
       "<style scoped>\n",
       "    .dataframe tbody tr th:only-of-type {\n",
       "        vertical-align: middle;\n",
       "    }\n",
       "\n",
       "    .dataframe tbody tr th {\n",
       "        vertical-align: top;\n",
       "    }\n",
       "\n",
       "    .dataframe thead th {\n",
       "        text-align: right;\n",
       "    }\n",
       "</style>\n",
       "<table border=\"1\" class=\"dataframe\">\n",
       "  <thead>\n",
       "    <tr style=\"text-align: right;\">\n",
       "      <th></th>\n",
       "      <th>outlook</th>\n",
       "      <th>temp</th>\n",
       "      <th>humidity</th>\n",
       "      <th>windy</th>\n",
       "      <th>play</th>\n",
       "    </tr>\n",
       "  </thead>\n",
       "  <tbody>\n",
       "    <tr>\n",
       "      <th>count</th>\n",
       "      <td>14</td>\n",
       "      <td>14</td>\n",
       "      <td>14</td>\n",
       "      <td>14</td>\n",
       "      <td>14</td>\n",
       "    </tr>\n",
       "    <tr>\n",
       "      <th>unique</th>\n",
       "      <td>3</td>\n",
       "      <td>3</td>\n",
       "      <td>2</td>\n",
       "      <td>2</td>\n",
       "      <td>2</td>\n",
       "    </tr>\n",
       "    <tr>\n",
       "      <th>top</th>\n",
       "      <td>sunny</td>\n",
       "      <td>mild</td>\n",
       "      <td>high</td>\n",
       "      <td>False</td>\n",
       "      <td>yes</td>\n",
       "    </tr>\n",
       "    <tr>\n",
       "      <th>freq</th>\n",
       "      <td>5</td>\n",
       "      <td>6</td>\n",
       "      <td>7</td>\n",
       "      <td>8</td>\n",
       "      <td>9</td>\n",
       "    </tr>\n",
       "  </tbody>\n",
       "</table>\n",
       "</div>"
      ],
      "text/plain": [
       "       outlook  temp humidity  windy play\n",
       "count       14    14       14     14   14\n",
       "unique       3     3        2      2    2\n",
       "top      sunny  mild     high  False  yes\n",
       "freq         5     6        7      8    9"
      ]
     },
     "execution_count": 7,
     "metadata": {},
     "output_type": "execute_result"
    }
   ],
   "source": [
    "dataset_tennis.describe()"
   ]
  },
  {
   "cell_type": "code",
   "execution_count": 8,
   "metadata": {},
   "outputs": [],
   "source": [
    "data_enc = dataset_tennis\n",
    "for columns in dataset_tennis:\n",
    "    data_enc[columns], unique_data = pd.factorize(dataset_tennis[columns])"
   ]
  },
  {
   "cell_type": "code",
   "execution_count": 9,
   "metadata": {},
   "outputs": [
    {
     "name": "stdout",
     "output_type": "stream",
     "text": [
      "   outlook  temp  humidity  windy  play\n",
      "0        0     0         0      0     0\n",
      "1        0     0         0      1     0\n",
      "2        1     0         0      0     1\n",
      "3        2     1         0      0     1\n",
      "4        2     2         1      0     1\n"
     ]
    }
   ],
   "source": [
    "print(data_enc.head())"
   ]
  },
  {
   "cell_type": "code",
   "execution_count": 10,
   "metadata": {},
   "outputs": [],
   "source": [
    "X_enc = data_enc.drop(['play'], axis=1)\n",
    "y_enc = data_enc['play']"
   ]
  },
  {
   "cell_type": "code",
   "execution_count": 11,
   "metadata": {},
   "outputs": [
    {
     "data": {
      "text/html": [
       "<div>\n",
       "<style scoped>\n",
       "    .dataframe tbody tr th:only-of-type {\n",
       "        vertical-align: middle;\n",
       "    }\n",
       "\n",
       "    .dataframe tbody tr th {\n",
       "        vertical-align: top;\n",
       "    }\n",
       "\n",
       "    .dataframe thead th {\n",
       "        text-align: right;\n",
       "    }\n",
       "</style>\n",
       "<table border=\"1\" class=\"dataframe\">\n",
       "  <thead>\n",
       "    <tr style=\"text-align: right;\">\n",
       "      <th></th>\n",
       "      <th>outlook</th>\n",
       "      <th>temp</th>\n",
       "      <th>humidity</th>\n",
       "      <th>windy</th>\n",
       "    </tr>\n",
       "  </thead>\n",
       "  <tbody>\n",
       "    <tr>\n",
       "      <th>0</th>\n",
       "      <td>0</td>\n",
       "      <td>0</td>\n",
       "      <td>0</td>\n",
       "      <td>0</td>\n",
       "    </tr>\n",
       "    <tr>\n",
       "      <th>1</th>\n",
       "      <td>0</td>\n",
       "      <td>0</td>\n",
       "      <td>0</td>\n",
       "      <td>1</td>\n",
       "    </tr>\n",
       "    <tr>\n",
       "      <th>2</th>\n",
       "      <td>1</td>\n",
       "      <td>0</td>\n",
       "      <td>0</td>\n",
       "      <td>0</td>\n",
       "    </tr>\n",
       "    <tr>\n",
       "      <th>3</th>\n",
       "      <td>2</td>\n",
       "      <td>1</td>\n",
       "      <td>0</td>\n",
       "      <td>0</td>\n",
       "    </tr>\n",
       "    <tr>\n",
       "      <th>4</th>\n",
       "      <td>2</td>\n",
       "      <td>2</td>\n",
       "      <td>1</td>\n",
       "      <td>0</td>\n",
       "    </tr>\n",
       "  </tbody>\n",
       "</table>\n",
       "</div>"
      ],
      "text/plain": [
       "   outlook  temp  humidity  windy\n",
       "0        0     0         0      0\n",
       "1        0     0         0      1\n",
       "2        1     0         0      0\n",
       "3        2     1         0      0\n",
       "4        2     2         1      0"
      ]
     },
     "execution_count": 11,
     "metadata": {},
     "output_type": "execute_result"
    }
   ],
   "source": [
    "X_enc.head()"
   ]
  },
  {
   "cell_type": "code",
   "execution_count": 12,
   "metadata": {},
   "outputs": [
    {
     "data": {
      "text/plain": [
       "0    0\n",
       "1    0\n",
       "2    1\n",
       "3    1\n",
       "4    1\n",
       "Name: play, dtype: int64"
      ]
     },
     "execution_count": 12,
     "metadata": {},
     "output_type": "execute_result"
    }
   ],
   "source": [
    "y_enc.head()"
   ]
  },
  {
   "cell_type": "code",
   "execution_count": 13,
   "metadata": {},
   "outputs": [
    {
     "name": "stdout",
     "output_type": "stream",
     "text": [
      "0.6\n"
     ]
    }
   ],
   "source": [
    "from sklearn import tree\n",
    "from sklearn.model_selection import train_test_split\n",
    "clf = tree.DecisionTreeClassifier()\n",
    "X_train, X_test, y_train, y_test = train_test_split(X_enc, y_enc, test_size=0.3, random_state=42)\n",
    "clf = clf.fit(X_train, y_train)\n",
    "print(clf.score(X_test, y_test))"
   ]
  },
  {
   "cell_type": "markdown",
   "metadata": {},
   "source": [
    "## Data for verifying the model *check*"
   ]
  },
  {
   "cell_type": "markdown",
   "metadata": {},
   "source": [
    "# Model implementation"
   ]
  },
  {
   "cell_type": "markdown",
   "metadata": {},
   "source": [
    "## 1. Implement the ID3 algorithm from scratch"
   ]
  },
  {
   "cell_type": "code",
   "execution_count": 321,
   "metadata": {},
   "outputs": [],
   "source": [
    "def calc_entropy(p):\n",
    "    \"\"\"Calculate the entropy for a given fraction\"\"\"\n",
    "    if p!=0:\n",
    "        return -p * np.log2(p)\n",
    "    else:\n",
    "        return 0"
   ]
  },
  {
   "cell_type": "code",
   "execution_count": 322,
   "metadata": {},
   "outputs": [],
   "source": [
    "def calc_entropy_system(target_variable):\n",
    "    \"\"\"Calculates the entropy of the (entire) system\n",
    "    Data is the target variable\"\"\"\n",
    "    tot_len = len(target_variable)\n",
    "    unique, counts = np.unique(target_variable, return_counts=True)\n",
    "    dic = dict(zip(unique, counts))\n",
    "    entropy = 0\n",
    "    for key, value in dic.items():\n",
    "        entropy += calc_entropy(value/tot_len)\n",
    "    return entropy"
   ]
  },
  {
   "cell_type": "code",
   "execution_count": 323,
   "metadata": {},
   "outputs": [],
   "source": [
    "import collections\n",
    "\n",
    "def calc_entropy_dataset(X, y):\n",
    "    tot_num_occurences = len(y)\n",
    "    entropy_system = calc_entropy_system(y)\n",
    "    # Small hack because the system was initially made for full Dataframe input\n",
    "    data = pd.concat([X, y], axis=1)\n",
    "    X_y_zip = {}\n",
    "    for columns in X:\n",
    "        # Map each value in each column to their \"outcome\"/target variable\n",
    "        frames = []\n",
    "        X_y_zip[columns] = data[[columns, y.name]].apply(tuple, axis=1)\n",
    "    each_feature_w_entropy = calc_entropy_feature(X_y_zip, tot_num_occurences)\n",
    "    \n",
    "\n",
    "    return calc_entropy_all_branches(each_feature_w_entropy, entropy_system)"
   ]
  },
  {
   "cell_type": "code",
   "execution_count": 324,
   "metadata": {},
   "outputs": [],
   "source": [
    "def calc_entropy_feature(X_y_zip, tot_num_occurences):\n",
    "    \"\"\"Calcalutes the entropy for each feature in a dataset.\n",
    "    Assumes that all unique columns are zipped with the target variable.\n",
    "    Returns a dictionary on the format \n",
    "        {'column feature': \n",
    "            {unique value: [\n",
    "                number of times this value occured in the set\n",
    "                number of values in the set\n",
    "                entropy when this value occured in the set\n",
    "            ], ... }}\"\"\"\n",
    "    columns_entropy = {}\n",
    "    for feature in X_y_zip:\n",
    "        # Get unique variables for each key\n",
    "        list_of_unique_variables = list(set([x[0] for x in X_y_zip[feature].values]))\n",
    "\n",
    "        val_dict = {}\n",
    "        for val in list_of_unique_variables:\n",
    "            # Total number of days for each unique variable\n",
    "            num_days_val = len([x[1] for x in X_y_zip[feature] if x[0] == val])\n",
    "            # Total number of days for each key (assuming it is binary (and tennis), for now)\n",
    "            num_days_val_tennis = len([x[1] for x in X_y_zip[feature] if x[0] == val and x[1] == 1])\n",
    "            num_days_val_not_tennis = num_days_val - num_days_val_tennis\n",
    "            #Calculate entropy for each unique value\n",
    "            #print(\"num_days_val: \", num_days_val, \" \\n num_days_val_tennis: \", num_days_val_tennis, \"\\n num_days_val_not_tennis: \", num_days_val_not_tennis)\n",
    "            val_entropy = calc_entropy(num_days_val_tennis/num_days_val) + calc_entropy(num_days_val_not_tennis/num_days_val)\n",
    "            # Make a list with relevant data for each unique value\n",
    "            val_list = [num_days_val, tot_num_occurences, val_entropy]\n",
    "            # Append that list to a dictionary, where the unique value is key\n",
    "            val_dict[val] = val_list\n",
    "        # Append dictionaries for unique values, to their respectively feature\n",
    "        columns_entropy[feature] = val_dict\n",
    "    return columns_entropy"
   ]
  },
  {
   "cell_type": "code",
   "execution_count": 325,
   "metadata": {},
   "outputs": [],
   "source": [
    "def calc_entropy_all_branches(feature_entr_dict, entropy_src):\n",
    "    \"\"\"Calculates the entropy among all the branches\n",
    "    Expects a dictionary on the format \n",
    "        {'column feature': \n",
    "            {unique value: [\n",
    "                number of this value occured in the set\n",
    "                number of values in the set\n",
    "                entropy when this value occured in the set\n",
    "            ], ... }}\"\"\"\n",
    "    column_entropy_dict_full = {}\n",
    "    for column_feature in feature_entr_dict:\n",
    "        entropy_all = 0\n",
    "        # Take each value from each 'unique value', for each 'column feature' from the inputed dictionary\n",
    "        # and calculates the entropy for each 'unique value', e.g. sunny, rainy, etc. \n",
    "        for unique_val in feature_entr_dict[column_feature]:\n",
    "            # NOTE: As mentioned in PyDoc - assumes this format\n",
    "            num_val = feature_entr_dict[column_feature][unique_val][0]\n",
    "            num_tot = feature_entr_dict[column_feature][unique_val][1]\n",
    "            num_val_entropy = feature_entr_dict[column_feature][unique_val][2]\n",
    "            entropy_all += (num_val/num_tot)*num_val_entropy\n",
    "        column_entropy_dict_full[column_feature] = entropy_all\n",
    "    \n",
    "    information_gain_dict = {}\n",
    "    for key, value in column_entropy_dict_full.items():\n",
    "        information_gain_dict[key] = randomness_reduction(entropy_src, value)\n",
    "    return information_gain_dict"
   ]
  },
  {
   "cell_type": "code",
   "execution_count": 326,
   "metadata": {},
   "outputs": [],
   "source": [
    "def randomness_reduction(entropy_src, entropy_branch):\n",
    "    \"\"\" Calculates the reduction in randomness, aka Information Gain.\n",
    "    Takes in the entropy of the entire system, and the entropy for one branch\n",
    "    Returns the Information Gain - restricted to 3 decimals.\"\"\"\n",
    "    return (round(entropy_src - entropy_branch, 3))"
   ]
  },
  {
   "cell_type": "code",
   "execution_count": 327,
   "metadata": {},
   "outputs": [],
   "source": [
    "def getLargestInformationGain(X, y):\n",
    "    \"\"\"Gets the largest IG for any given dataset (that is Pandas DataFrame)\"\"\"\n",
    "    ig_dict = calc_entropy_dataset(X, y)\n",
    "    return (max(ig_dict, key=ig_dict.get))"
   ]
  },
  {
   "cell_type": "code",
   "execution_count": 328,
   "metadata": {},
   "outputs": [
    {
     "data": {
      "text/plain": [
       "'outlook'"
      ]
     },
     "execution_count": 328,
     "metadata": {},
     "output_type": "execute_result"
    }
   ],
   "source": [
    "getLargestInformationGain(X_enc, y_enc)"
   ]
  },
  {
   "cell_type": "markdown",
   "metadata": {},
   "source": [
    "# Notes:\n",
    "- The best feature to pick as the one to classify on is the one with the most information (gain), i.e. highest entropy\n",
    "    - After finding the best feature, re-evaluate the entropy of each feature and again pick the one with the highest entropy"
   ]
  },
  {
   "cell_type": "markdown",
   "metadata": {},
   "source": [
    "# Q\n",
    "> Skal vi fjerne features fra datasettet etter å ha \"laget\" en node av det? Typ, \"outlook\" er rot, skal da barna dens ikke ha \"outlook\" i dens datasett?"
   ]
  },
  {
   "cell_type": "code",
   "execution_count": 99,
   "metadata": {},
   "outputs": [
    {
     "ename": "SyntaxError",
     "evalue": "invalid syntax (<ipython-input-99-f70ea9b94b7b>, line 8)",
     "output_type": "error",
     "traceback": [
      "\u001b[1;36m  File \u001b[1;32m\"<ipython-input-99-f70ea9b94b7b>\"\u001b[1;36m, line \u001b[1;32m8\u001b[0m\n\u001b[1;33m    return ((element,) = y_dist_values)\u001b[0m\n\u001b[1;37m                       ^\u001b[0m\n\u001b[1;31mSyntaxError\u001b[0m\u001b[1;31m:\u001b[0m invalid syntax\n"
     ]
    }
   ],
   "source": [
    "# Check if leaf --> if only one answer, or last column/feature --> Add no children\n",
    "# Leaf check:\n",
    "if node.is_leaf():\n",
    "# Check if leaf because of last column, or unique value in y\n",
    "    y_dist_values = set(node.data[y])\n",
    "    # Unique value\n",
    "    if len(y_dist_values) == 1:\n",
    "        return ((element,) = y_dist_values)\n",
    "    # Last column, return most frequent/dominate value\n",
    "    else:\n",
    "        return y.max()"
   ]
  },
  {
   "cell_type": "code",
   "execution_count": 368,
   "metadata": {},
   "outputs": [
    {
     "name": "stdout",
     "output_type": "stream",
     "text": [
      "outlook\n",
      "├── 0\n",
      "├── 1\n",
      "└── 2\n",
      "\n",
      "None\n",
      "outlook\n",
      "├── 1\n",
      "├── 2\n",
      "└── humidity\n",
      "    ├── 0\n",
      "    └── 1\n",
      "\n",
      "None\n",
      "Unique variables in target variable\n",
      "outlook\n",
      "├── 1\n",
      "├── 2\n",
      "└── humidity\n",
      "    ├── 0\n",
      "    │   └── 0\n",
      "    └── 1\n",
      "\n",
      "None\n",
      "Unique variables in target variable\n",
      "outlook\n",
      "├── 1\n",
      "├── 2\n",
      "└── humidity\n",
      "    ├── 0\n",
      "    │   └── 0\n",
      "    └── 1\n",
      "        └── 1\n",
      "\n",
      "None\n",
      "Unique variables in target variable\n",
      "outlook\n",
      "├── 1\n",
      "│   └── 1\n",
      "├── 2\n",
      "└── humidity\n",
      "    ├── 0\n",
      "    │   └── 0\n",
      "    └── 1\n",
      "        └── 1\n",
      "\n",
      "None\n",
      "outlook\n",
      "├── 1\n",
      "│   └── 1\n",
      "├── humidity\n",
      "│   ├── 0\n",
      "│   │   └── 0\n",
      "│   └── 1\n",
      "│       └── 1\n",
      "└── windy\n",
      "    ├── 0\n",
      "    └── 1\n",
      "\n",
      "None\n",
      "Unique variables in target variable\n",
      "outlook\n",
      "├── 1\n",
      "│   └── 1\n",
      "├── humidity\n",
      "│   ├── 0\n",
      "│   │   └── 0\n",
      "│   └── 1\n",
      "│       └── 1\n",
      "└── windy\n",
      "    ├── 0\n",
      "    │   └── 1\n",
      "    └── 1\n",
      "\n",
      "None\n",
      "Unique variables in target variable\n",
      "outlook\n",
      "├── 1\n",
      "│   └── 1\n",
      "├── humidity\n",
      "│   ├── 0\n",
      "│   │   └── 0\n",
      "│   └── 1\n",
      "│       └── 1\n",
      "└── windy\n",
      "    ├── 0\n",
      "    │   └── 1\n",
      "    └── 1\n",
      "        └── 0\n",
      "\n",
      "Make tree finished: \n",
      " None\n"
     ]
    }
   ],
   "source": [
    "learn(X_enc, y_enc)"
   ]
  },
  {
   "cell_type": "code",
   "execution_count": 347,
   "metadata": {},
   "outputs": [],
   "source": [
    "# Utilizing the simple tree library that is \"Treelib\"\n",
    "from treelib import Node, Tree\n",
    "\n",
    "def learn(X, y, impurity_measure='entropy'):\n",
    "    \"\"\"Function that learns a decision tree classifier from data.\n",
    "        Default impurity measure for information gain is Entropy.\"\"\"\n",
    "\n",
    "    tree = Tree()\n",
    "    tree = make_tree(X, y, impurity_measure, tree)\n",
    "    print(\"Make tree finished: \\n\", tree.show())\n",
    "    # Get largest information gain column\n",
    "    # Get relevant data - for root that is entire data\n",
    "        # for all other it is parent data minus parent column\n",
    "        \n",
    "    # create the node, set its name as IG column name\n",
    "    # set current node to just defined node\n",
    "    # create children for the node \n",
    "    # print tree"
   ]
  },
  {
   "cell_type": "code",
   "execution_count": 367,
   "metadata": {},
   "outputs": [],
   "source": [
    "def make_tree(X, y, impurity_measure, tree, current_node=None):\n",
    "    \"\"\"Recursive method to make a tree\n",
    "    X, y = the data, training- and target variables, respectively\n",
    "    impurity_measer = the desired measure of impurity (entropy or gini index)\n",
    "    tree = the tree object one wishes to populate\n",
    "    current_node = the current node one stands one\"\"\"\n",
    "    # Edge case: tree not initialized - store whole dataset in root\n",
    "    # Also necessary to get a reference to root node\n",
    "    if current_node is None:\n",
    "        # Combine data to one dataset\n",
    "        data = pd.concat([X, y], axis=1)\n",
    "        # Get best split\n",
    "        root_node_name = getLargestInformationGain(X, y)\n",
    "        # Make the root node, store the entire dataset\n",
    "        tree.create_node(tag=root_node_name, identifier=root_node_name, data=data)\n",
    "        # Get a reference to the root node\n",
    "        current_node = tree.get_node(root_node_name)  \n",
    "        # Call recursive method\n",
    "        return make_children(X, y, impurity_measure, tree, current_node)\n",
    "    # Tree is initialized\n",
    "    else:\n",
    "         # Edge cases - no children to make:\n",
    "        # 1. Unique values in target variable = y\n",
    "        if len(set(y)) == 1:\n",
    "            print(\"Unique variables in target variable\")\n",
    "            (element, ) = set(y)\n",
    "            # Make a node of the leaf, and set its single unique value as its name \n",
    "            node_name = str(element)\n",
    "            data = element \n",
    "            tree.create_node(tag=node_name, data=data, parent=current_node)\n",
    "            return tree\n",
    "        # 2. No columns left in X, i.e. splitted on entire dataset\n",
    "        elif len(X.columns) == 0:\n",
    "            print(\"No more columns\")\n",
    "            # Set to majority in y\n",
    "            data = y.max()\n",
    "            node_name = str(data)\n",
    "            tree.create_node(tag=node_name, data=data, parent=current_node)\n",
    "            return tree\n",
    "        else:\n",
    "            node_name = getLargestInformationGain(X, y)\n",
    "            current_node.tag = node_name\n",
    "            #print(\"Current node (after make_tree): \\n\", current_node)\n",
    "            return make_children(X, y, impurity_measure, tree, current_node)"
   ]
  },
  {
   "cell_type": "code",
   "execution_count": 360,
   "metadata": {},
   "outputs": [],
   "source": [
    "def make_children(X, y, impurity_measure, tree, current_node):\n",
    "    # For each unique value in the parents column - make a child node\n",
    "    child_list = list(set(X[current_node.tag]))\n",
    "    data = pd.concat([X, y], axis=1)\n",
    "    for value in child_list:\n",
    "        node_name = str(value)\n",
    "        # Split dataset\n",
    "        data_loc = split_data(value, data, current_node.tag)\n",
    "        # Remove parent column - for children nodes\n",
    "        data_loc = data_loc.drop([current_node.tag], axis=1)\n",
    "        tree.create_node(tag=node_name, data=data_loc, parent=current_node)\n",
    "    # Need referece to each child node, therefore new loop\n",
    "    for children_node in current_node.fpointer:\n",
    "        current_node = tree.get_node(children_node)\n",
    "        X = current_node.data.drop([y.name], axis=1)\n",
    "        y = current_node.data[y.name]\n",
    "        #print(\"Current node (before make_tree): \\n\", current_node)\n",
    "        print(tree.show())\n",
    "        tree = make_tree(X, y, impurity_measure, tree, current_node)\n",
    "        #print(\"Children: \", value, \"\\n data: \\n\", data)\n",
    "            \n",
    "    return tree\n",
    "    #node_name = getLargestInformationGain(X, y)\n",
    "    #tree.create_node(tag=node_name, data=data, parent=current_node)"
   ]
  },
  {
   "cell_type": "code",
   "execution_count": 369,
   "metadata": {},
   "outputs": [],
   "source": [
    "def split_data(value, data, column):\n",
    "    \"\"\"Splits the dataframe such that it return the rows, where the specified\n",
    "    columns value == value\"\"\"\n",
    "    data_loc = data.loc[data[column] == value]\n",
    "    return data_loc"
   ]
  },
  {
   "cell_type": "code",
   "execution_count": null,
   "metadata": {},
   "outputs": [],
   "source": [
    "def predict(x, tree):\n",
    "    \"\"\"Predict class label of some new data point x.\"\"\""
   ]
  },
  {
   "cell_type": "markdown",
   "metadata": {},
   "source": [
    "Create a tree: (1:16:11, https://www.youtube.com/watch?v=3jl2h9hSRvc&feature=youtu.be)"
   ]
  },
  {
   "cell_type": "markdown",
   "metadata": {},
   "source": [
    "Uncomment if necessary to install treelib"
   ]
  },
  {
   "cell_type": "code",
   "execution_count": 27,
   "metadata": {},
   "outputs": [],
   "source": [
    "# ! pip install treelib"
   ]
  },
  {
   "cell_type": "code",
   "execution_count": 28,
   "metadata": {},
   "outputs": [],
   "source": [
    "# Utilizing the simple tree library that is \"Treelib\"\n",
    "from treelib import Node, Tree"
   ]
  },
  {
   "cell_type": "code",
   "execution_count": 29,
   "metadata": {},
   "outputs": [
    {
     "data": {
      "text/plain": [
       "Node(tag=outlook, identifier=outlook, data=None)"
      ]
     },
     "execution_count": 29,
     "metadata": {},
     "output_type": "execute_result"
    }
   ],
   "source": [
    "tree = Tree()\n",
    "root_node_name = getLargestInformationGain(dataset_tennis, 'play')\n",
    "tree.create_node(tag=root_node_name, identifier=root_node_name)"
   ]
  },
  {
   "cell_type": "code",
   "execution_count": 30,
   "metadata": {},
   "outputs": [
    {
     "data": {
      "text/plain": [
       "Node(tag=outlook2, identifier=outlook2, data=None)"
      ]
     },
     "execution_count": 30,
     "metadata": {},
     "output_type": "execute_result"
    }
   ],
   "source": [
    "tree.create_node(identifier=root_node_name + '0', parent=root_node_name)\n",
    "tree.create_node(identifier=root_node_name + '1', parent=root_node_name)\n",
    "tree.create_node(identifier=root_node_name + '2', parent=root_node_name)"
   ]
  },
  {
   "cell_type": "code",
   "execution_count": 31,
   "metadata": {},
   "outputs": [
    {
     "name": "stdout",
     "output_type": "stream",
     "text": [
      "outlook\n",
      "├── outlook0\n",
      "├── outlook1\n",
      "└── outlook2\n",
      "\n",
      "None\n"
     ]
    }
   ],
   "source": [
    "print(tree.show())"
   ]
  },
  {
   "cell_type": "code",
   "execution_count": 32,
   "metadata": {},
   "outputs": [],
   "source": [
    "dataset_rem_outlook = dataset_tennis.drop(['outlook'], axis=1)"
   ]
  },
  {
   "cell_type": "code",
   "execution_count": 33,
   "metadata": {},
   "outputs": [
    {
     "data": {
      "text/html": [
       "<div>\n",
       "<style scoped>\n",
       "    .dataframe tbody tr th:only-of-type {\n",
       "        vertical-align: middle;\n",
       "    }\n",
       "\n",
       "    .dataframe tbody tr th {\n",
       "        vertical-align: top;\n",
       "    }\n",
       "\n",
       "    .dataframe thead th {\n",
       "        text-align: right;\n",
       "    }\n",
       "</style>\n",
       "<table border=\"1\" class=\"dataframe\">\n",
       "  <thead>\n",
       "    <tr style=\"text-align: right;\">\n",
       "      <th></th>\n",
       "      <th>temp</th>\n",
       "      <th>humidity</th>\n",
       "      <th>windy</th>\n",
       "      <th>play</th>\n",
       "    </tr>\n",
       "  </thead>\n",
       "  <tbody>\n",
       "    <tr>\n",
       "      <th>0</th>\n",
       "      <td>0</td>\n",
       "      <td>0</td>\n",
       "      <td>0</td>\n",
       "      <td>0</td>\n",
       "    </tr>\n",
       "    <tr>\n",
       "      <th>1</th>\n",
       "      <td>0</td>\n",
       "      <td>0</td>\n",
       "      <td>1</td>\n",
       "      <td>0</td>\n",
       "    </tr>\n",
       "    <tr>\n",
       "      <th>2</th>\n",
       "      <td>0</td>\n",
       "      <td>0</td>\n",
       "      <td>0</td>\n",
       "      <td>1</td>\n",
       "    </tr>\n",
       "    <tr>\n",
       "      <th>3</th>\n",
       "      <td>1</td>\n",
       "      <td>0</td>\n",
       "      <td>0</td>\n",
       "      <td>1</td>\n",
       "    </tr>\n",
       "    <tr>\n",
       "      <th>4</th>\n",
       "      <td>2</td>\n",
       "      <td>1</td>\n",
       "      <td>0</td>\n",
       "      <td>1</td>\n",
       "    </tr>\n",
       "  </tbody>\n",
       "</table>\n",
       "</div>"
      ],
      "text/plain": [
       "   temp  humidity  windy  play\n",
       "0     0         0      0     0\n",
       "1     0         0      1     0\n",
       "2     0         0      0     1\n",
       "3     1         0      0     1\n",
       "4     2         1      0     1"
      ]
     },
     "execution_count": 33,
     "metadata": {},
     "output_type": "execute_result"
    }
   ],
   "source": [
    "dataset_rem_outlook.head()"
   ]
  },
  {
   "cell_type": "code",
   "execution_count": 34,
   "metadata": {},
   "outputs": [],
   "source": [
    "next_node_name = getLargestInformationGain(dataset_rem_outlook, 'play')"
   ]
  },
  {
   "cell_type": "code",
   "execution_count": 35,
   "metadata": {},
   "outputs": [
    {
     "data": {
      "text/plain": [
       "Node(tag=humidity20, identifier=humidity20, data=None)"
      ]
     },
     "execution_count": 35,
     "metadata": {},
     "output_type": "execute_result"
    }
   ],
   "source": [
    "tree.create_node(identifier=next_node_name + '00', parent=root_node_name + '0')\n",
    "tree.create_node(identifier=next_node_name + '10', parent=root_node_name + '0')\n",
    "tree.create_node(identifier=next_node_name + '20', parent=root_node_name + '0')"
   ]
  },
  {
   "cell_type": "code",
   "execution_count": 36,
   "metadata": {},
   "outputs": [
    {
     "data": {
      "text/plain": [
       "Node(tag=humidity21, identifier=humidity21, data=None)"
      ]
     },
     "execution_count": 36,
     "metadata": {},
     "output_type": "execute_result"
    }
   ],
   "source": [
    "tree.create_node(identifier=next_node_name + '01', parent=root_node_name + '1')\n",
    "tree.create_node(identifier=next_node_name + '11', parent=root_node_name + '1')\n",
    "tree.create_node(identifier=next_node_name + '21', parent=root_node_name + '1')"
   ]
  },
  {
   "cell_type": "code",
   "execution_count": 37,
   "metadata": {},
   "outputs": [
    {
     "data": {
      "text/plain": [
       "Node(tag=humidity22, identifier=humidity22, data=None)"
      ]
     },
     "execution_count": 37,
     "metadata": {},
     "output_type": "execute_result"
    }
   ],
   "source": [
    "tree.create_node(identifier=next_node_name + '02', parent=root_node_name + '2')\n",
    "tree.create_node(identifier=next_node_name + '12', parent=root_node_name + '2')\n",
    "tree.create_node(identifier=next_node_name + '22', parent=root_node_name + '2')"
   ]
  },
  {
   "cell_type": "code",
   "execution_count": 38,
   "metadata": {},
   "outputs": [
    {
     "name": "stdout",
     "output_type": "stream",
     "text": [
      "outlook\n",
      "├── outlook0\n",
      "│   ├── humidity00\n",
      "│   ├── humidity10\n",
      "│   └── humidity20\n",
      "├── outlook1\n",
      "│   ├── humidity01\n",
      "│   ├── humidity11\n",
      "│   └── humidity21\n",
      "└── outlook2\n",
      "    ├── humidity02\n",
      "    ├── humidity12\n",
      "    └── humidity22\n",
      "\n",
      "None\n"
     ]
    }
   ],
   "source": [
    "print(tree.show())"
   ]
  }
 ],
 "metadata": {
  "kernelspec": {
   "display_name": "DAT158",
   "language": "python",
   "name": "dat158"
  },
  "language_info": {
   "codemirror_mode": {
    "name": "ipython",
    "version": 3
   },
   "file_extension": ".py",
   "mimetype": "text/x-python",
   "name": "python",
   "nbconvert_exporter": "python",
   "pygments_lexer": "ipython3",
   "version": "3.6.6"
  }
 },
 "nbformat": 4,
 "nbformat_minor": 2
}
