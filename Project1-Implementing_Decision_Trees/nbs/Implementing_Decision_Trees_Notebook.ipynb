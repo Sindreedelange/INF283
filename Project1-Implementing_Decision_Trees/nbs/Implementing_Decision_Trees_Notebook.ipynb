{
 "cells": [
  {
   "cell_type": "markdown",
   "metadata": {},
   "source": [
    "# <center> Implementing Decision Trees </center>\n",
    "## <center> INF283 - Project 1 </center>\n",
    "### <center> Sindre E. de Lange </center>"
   ]
  },
  {
   "cell_type": "code",
   "execution_count": null,
   "metadata": {},
   "outputs": [],
   "source": [
    "# Uncomment if needing to install treelib\n",
    "#! pip install treelib"
   ]
  },
  {
   "cell_type": "code",
   "execution_count": 2,
   "metadata": {},
   "outputs": [],
   "source": [
    "import numpy as np\n",
    "import pandas as pd\n",
    "\n",
    "import os\n",
    "import sys"
   ]
  },
  {
   "cell_type": "code",
   "execution_count": 11,
   "metadata": {},
   "outputs": [],
   "source": [
    "# To import ImpurityMeasure\n",
    "sys.path.append(\"../classes/\")"
   ]
  },
  {
   "cell_type": "code",
   "execution_count": 8,
   "metadata": {},
   "outputs": [],
   "source": [
    "from ImpurityMeasure import *\n",
    "# Utilizing the simple tree library that is \"Treelib\"\n",
    "from treelib import Node, Tree"
   ]
  },
  {
   "cell_type": "markdown",
   "metadata": {},
   "source": [
    "## Getting data in order to test the model"
   ]
  },
  {
   "cell_type": "code",
   "execution_count": 12,
   "metadata": {},
   "outputs": [
    {
     "name": "stdout",
     "output_type": "stream",
     "text": [
      "['mushrooms.csv', 'tennis.csv']\n"
     ]
    }
   ],
   "source": [
    "DATASET_PATH = \"../csv/\"\n",
    "print(os.listdir(DATASET_PATH))"
   ]
  },
  {
   "cell_type": "code",
   "execution_count": 3,
   "metadata": {},
   "outputs": [],
   "source": [
    "tennis_dataset = \"tennis.csv\"\n",
    "dataset_tennis = pd.read_csv(DATASET_PATH + tennis_dataset)"
   ]
  },
  {
   "cell_type": "code",
   "execution_count": 4,
   "metadata": {},
   "outputs": [
    {
     "data": {
      "text/html": [
       "<div>\n",
       "<style scoped>\n",
       "    .dataframe tbody tr th:only-of-type {\n",
       "        vertical-align: middle;\n",
       "    }\n",
       "\n",
       "    .dataframe tbody tr th {\n",
       "        vertical-align: top;\n",
       "    }\n",
       "\n",
       "    .dataframe thead th {\n",
       "        text-align: right;\n",
       "    }\n",
       "</style>\n",
       "<table border=\"1\" class=\"dataframe\">\n",
       "  <thead>\n",
       "    <tr style=\"text-align: right;\">\n",
       "      <th></th>\n",
       "      <th>outlook</th>\n",
       "      <th>temp</th>\n",
       "      <th>humidity</th>\n",
       "      <th>windy</th>\n",
       "      <th>play</th>\n",
       "    </tr>\n",
       "  </thead>\n",
       "  <tbody>\n",
       "    <tr>\n",
       "      <th>0</th>\n",
       "      <td>sunny</td>\n",
       "      <td>hot</td>\n",
       "      <td>high</td>\n",
       "      <td>False</td>\n",
       "      <td>no</td>\n",
       "    </tr>\n",
       "    <tr>\n",
       "      <th>1</th>\n",
       "      <td>sunny</td>\n",
       "      <td>hot</td>\n",
       "      <td>high</td>\n",
       "      <td>True</td>\n",
       "      <td>no</td>\n",
       "    </tr>\n",
       "    <tr>\n",
       "      <th>2</th>\n",
       "      <td>overcast</td>\n",
       "      <td>hot</td>\n",
       "      <td>high</td>\n",
       "      <td>False</td>\n",
       "      <td>yes</td>\n",
       "    </tr>\n",
       "    <tr>\n",
       "      <th>3</th>\n",
       "      <td>rainy</td>\n",
       "      <td>mild</td>\n",
       "      <td>high</td>\n",
       "      <td>False</td>\n",
       "      <td>yes</td>\n",
       "    </tr>\n",
       "    <tr>\n",
       "      <th>4</th>\n",
       "      <td>rainy</td>\n",
       "      <td>cool</td>\n",
       "      <td>normal</td>\n",
       "      <td>False</td>\n",
       "      <td>yes</td>\n",
       "    </tr>\n",
       "  </tbody>\n",
       "</table>\n",
       "</div>"
      ],
      "text/plain": [
       "    outlook  temp humidity  windy play\n",
       "0     sunny   hot     high  False   no\n",
       "1     sunny   hot     high   True   no\n",
       "2  overcast   hot     high  False  yes\n",
       "3     rainy  mild     high  False  yes\n",
       "4     rainy  cool   normal  False  yes"
      ]
     },
     "execution_count": 4,
     "metadata": {},
     "output_type": "execute_result"
    }
   ],
   "source": [
    "dataset_tennis.head()"
   ]
  },
  {
   "cell_type": "code",
   "execution_count": 5,
   "metadata": {},
   "outputs": [
    {
     "name": "stdout",
     "output_type": "stream",
     "text": [
      "<class 'pandas.core.frame.DataFrame'>\n",
      "RangeIndex: 14 entries, 0 to 13\n",
      "Data columns (total 5 columns):\n",
      "outlook     14 non-null object\n",
      "temp        14 non-null object\n",
      "humidity    14 non-null object\n",
      "windy       14 non-null bool\n",
      "play        14 non-null object\n",
      "dtypes: bool(1), object(4)\n",
      "memory usage: 542.0+ bytes\n"
     ]
    }
   ],
   "source": [
    "dataset_tennis.info()"
   ]
  },
  {
   "cell_type": "code",
   "execution_count": 6,
   "metadata": {},
   "outputs": [
    {
     "data": {
      "text/html": [
       "<div>\n",
       "<style scoped>\n",
       "    .dataframe tbody tr th:only-of-type {\n",
       "        vertical-align: middle;\n",
       "    }\n",
       "\n",
       "    .dataframe tbody tr th {\n",
       "        vertical-align: top;\n",
       "    }\n",
       "\n",
       "    .dataframe thead th {\n",
       "        text-align: right;\n",
       "    }\n",
       "</style>\n",
       "<table border=\"1\" class=\"dataframe\">\n",
       "  <thead>\n",
       "    <tr style=\"text-align: right;\">\n",
       "      <th></th>\n",
       "      <th>outlook</th>\n",
       "      <th>temp</th>\n",
       "      <th>humidity</th>\n",
       "      <th>windy</th>\n",
       "      <th>play</th>\n",
       "    </tr>\n",
       "  </thead>\n",
       "  <tbody>\n",
       "    <tr>\n",
       "      <th>count</th>\n",
       "      <td>14</td>\n",
       "      <td>14</td>\n",
       "      <td>14</td>\n",
       "      <td>14</td>\n",
       "      <td>14</td>\n",
       "    </tr>\n",
       "    <tr>\n",
       "      <th>unique</th>\n",
       "      <td>3</td>\n",
       "      <td>3</td>\n",
       "      <td>2</td>\n",
       "      <td>2</td>\n",
       "      <td>2</td>\n",
       "    </tr>\n",
       "    <tr>\n",
       "      <th>top</th>\n",
       "      <td>rainy</td>\n",
       "      <td>mild</td>\n",
       "      <td>normal</td>\n",
       "      <td>False</td>\n",
       "      <td>yes</td>\n",
       "    </tr>\n",
       "    <tr>\n",
       "      <th>freq</th>\n",
       "      <td>5</td>\n",
       "      <td>6</td>\n",
       "      <td>7</td>\n",
       "      <td>8</td>\n",
       "      <td>9</td>\n",
       "    </tr>\n",
       "  </tbody>\n",
       "</table>\n",
       "</div>"
      ],
      "text/plain": [
       "       outlook  temp humidity  windy play\n",
       "count       14    14       14     14   14\n",
       "unique       3     3        2      2    2\n",
       "top      rainy  mild   normal  False  yes\n",
       "freq         5     6        7      8    9"
      ]
     },
     "execution_count": 6,
     "metadata": {},
     "output_type": "execute_result"
    }
   ],
   "source": [
    "dataset_tennis.describe()"
   ]
  },
  {
   "cell_type": "code",
   "execution_count": 7,
   "metadata": {},
   "outputs": [],
   "source": [
    "data_enc = dataset_tennis\n",
    "for columns in dataset_tennis:\n",
    "    data_enc[columns], unique_data = pd.factorize(dataset_tennis[columns])"
   ]
  },
  {
   "cell_type": "code",
   "execution_count": 8,
   "metadata": {},
   "outputs": [
    {
     "name": "stdout",
     "output_type": "stream",
     "text": [
      "   outlook  temp  humidity  windy  play\n",
      "0        0     0         0      0     0\n",
      "1        0     0         0      1     0\n",
      "2        1     0         0      0     1\n",
      "3        2     1         0      0     1\n",
      "4        2     2         1      0     1\n"
     ]
    }
   ],
   "source": [
    "print(data_enc.head())"
   ]
  },
  {
   "cell_type": "code",
   "execution_count": 9,
   "metadata": {},
   "outputs": [],
   "source": [
    "X_enc = data_enc.drop(['play'], axis=1)\n",
    "y_enc = data_enc['play']"
   ]
  },
  {
   "cell_type": "code",
   "execution_count": 10,
   "metadata": {},
   "outputs": [
    {
     "data": {
      "text/html": [
       "<div>\n",
       "<style scoped>\n",
       "    .dataframe tbody tr th:only-of-type {\n",
       "        vertical-align: middle;\n",
       "    }\n",
       "\n",
       "    .dataframe tbody tr th {\n",
       "        vertical-align: top;\n",
       "    }\n",
       "\n",
       "    .dataframe thead th {\n",
       "        text-align: right;\n",
       "    }\n",
       "</style>\n",
       "<table border=\"1\" class=\"dataframe\">\n",
       "  <thead>\n",
       "    <tr style=\"text-align: right;\">\n",
       "      <th></th>\n",
       "      <th>outlook</th>\n",
       "      <th>temp</th>\n",
       "      <th>humidity</th>\n",
       "      <th>windy</th>\n",
       "    </tr>\n",
       "  </thead>\n",
       "  <tbody>\n",
       "    <tr>\n",
       "      <th>0</th>\n",
       "      <td>0</td>\n",
       "      <td>0</td>\n",
       "      <td>0</td>\n",
       "      <td>0</td>\n",
       "    </tr>\n",
       "    <tr>\n",
       "      <th>1</th>\n",
       "      <td>0</td>\n",
       "      <td>0</td>\n",
       "      <td>0</td>\n",
       "      <td>1</td>\n",
       "    </tr>\n",
       "    <tr>\n",
       "      <th>2</th>\n",
       "      <td>1</td>\n",
       "      <td>0</td>\n",
       "      <td>0</td>\n",
       "      <td>0</td>\n",
       "    </tr>\n",
       "    <tr>\n",
       "      <th>3</th>\n",
       "      <td>2</td>\n",
       "      <td>1</td>\n",
       "      <td>0</td>\n",
       "      <td>0</td>\n",
       "    </tr>\n",
       "    <tr>\n",
       "      <th>4</th>\n",
       "      <td>2</td>\n",
       "      <td>2</td>\n",
       "      <td>1</td>\n",
       "      <td>0</td>\n",
       "    </tr>\n",
       "  </tbody>\n",
       "</table>\n",
       "</div>"
      ],
      "text/plain": [
       "   outlook  temp  humidity  windy\n",
       "0        0     0         0      0\n",
       "1        0     0         0      1\n",
       "2        1     0         0      0\n",
       "3        2     1         0      0\n",
       "4        2     2         1      0"
      ]
     },
     "execution_count": 10,
     "metadata": {},
     "output_type": "execute_result"
    }
   ],
   "source": [
    "X_enc.head()"
   ]
  },
  {
   "cell_type": "code",
   "execution_count": 11,
   "metadata": {},
   "outputs": [
    {
     "data": {
      "text/plain": [
       "0    0\n",
       "1    0\n",
       "2    1\n",
       "3    1\n",
       "4    1\n",
       "Name: play, dtype: int64"
      ]
     },
     "execution_count": 11,
     "metadata": {},
     "output_type": "execute_result"
    }
   ],
   "source": [
    "y_enc.head()"
   ]
  },
  {
   "cell_type": "code",
   "execution_count": 12,
   "metadata": {},
   "outputs": [
    {
     "name": "stdout",
     "output_type": "stream",
     "text": [
      "0.6\n"
     ]
    }
   ],
   "source": [
    "from sklearn import tree\n",
    "from sklearn.model_selection import train_test_split\n",
    "clf = tree.DecisionTreeClassifier()\n",
    "X_train, X_test, y_train, y_test = train_test_split(X_enc, y_enc, test_size=0.3, random_state=42)\n",
    "clf = clf.fit(X_train, y_train)\n",
    "print(clf.score(X_test, y_test))"
   ]
  },
  {
   "cell_type": "markdown",
   "metadata": {},
   "source": [
    "## Data for verifying the model *check*"
   ]
  },
  {
   "cell_type": "markdown",
   "metadata": {},
   "source": [
    "# Model implementation"
   ]
  },
  {
   "cell_type": "markdown",
   "metadata": {},
   "source": [
    "# Notes:\n",
    "- The best feature to pick as the one to classify on is the one with the most information (gain), i.e. highest entropy\n",
    "    - After finding the best feature, re-evaluate the entropy of each feature and again pick the one with the highest entropy"
   ]
  },
  {
   "cell_type": "markdown",
   "metadata": {},
   "source": [
    "# Problems:\n",
    "> cannot instantiate and use imp_measure inside the **learn** method <br>\n",
    "> unsure about the **Gini Index** calculations <br>\n",
    "> Not able to return **classification label** from predict method"
   ]
  },
  {
   "cell_type": "code",
   "execution_count": 13,
   "metadata": {},
   "outputs": [],
   "source": [
    "imp_measure = ImpurityMeasure(\"entropy\")"
   ]
  },
  {
   "cell_type": "code",
   "execution_count": 14,
   "metadata": {},
   "outputs": [],
   "source": [
    "def learn(X, y, impurity_measure_alt='entropy'):\n",
    "    \"\"\"Function that learns a decision tree classifier from data (=X, y).\n",
    "        Default impurity measure for information gain is Entropy.\n",
    "        Expects cleaned data, in particular categorical, discrete values\"\"\"\n",
    "    tree = Tree()\n",
    "    tree = make_tree(X, y, tree)\n",
    "    return tree"
   ]
  },
  {
   "cell_type": "code",
   "execution_count": 15,
   "metadata": {},
   "outputs": [],
   "source": [
    "def make_tree(X, y, tree, current_node=None):\n",
    "    \"\"\"Recursive method to make a tree\n",
    "    X, y = the data, training- and target variables, respectively\n",
    "    impurity_measer = the desired measure of impurity (entropy or gini index)\n",
    "    tree = the tree object one wishes to populate\n",
    "    current_node = the current node one stands one\"\"\"\n",
    "    # Edge case: tree not initialized - store whole dataset in root\n",
    "    # Also necessary to get a reference to root node (because of identifier)\n",
    "    if current_node is None:\n",
    "        # Combine data to one dataset\n",
    "        data = pd.concat([X, y], axis=1)\n",
    "        # Set root node name to something generic that is easy to get\n",
    "        root_node_name = \"root_node\"\n",
    "        # Get best split\n",
    "        root_node_tag = imp_measure.getLargestInformationGain(X, y)\n",
    "        # Make the root node, store the entire dataset\n",
    "        tree.create_node(tag=root_node_tag, identifier=root_node_name, data=data)\n",
    "        # Get a reference to the root node\n",
    "        current_node = tree.get_node(root_node_name) \n",
    "        # Call recursive method\n",
    "        return make_children(X=X, y=y, tree=tree, current_node=current_node)\n",
    "    # Tree is initialized\n",
    "    else:\n",
    "         # Edge cases - no children to make:\n",
    "        # 1. Unique values in target variable = y\n",
    "        if len(set(y)) == 1:\n",
    "            (element, ) = set(y)\n",
    "            # Make a node of the leaf\n",
    "            # and set its single unique value as its name, and value\n",
    "            node_name = str(element)\n",
    "            data = element\n",
    "            tree.create_node(tag=node_name, data=data, parent=current_node)\n",
    "            return tree\n",
    "        # 2. No columns left in X, i.e. splitted on entire dataset\n",
    "        elif len(X.columns) == 0:\n",
    "            # Set to majority in y\n",
    "            data = y.max()\n",
    "            node_name = str(data)\n",
    "            tree.create_node(tag=node_name, data=data, parent=current_node)\n",
    "            return tree\n",
    "        else:\n",
    "            node_name = imp_measure.getLargestInformationGain(X, y)\n",
    "            current_node.tag = node_name\n",
    "            return make_children(X=X, y=y, tree=tree, current_node=current_node)"
   ]
  },
  {
   "cell_type": "code",
   "execution_count": 16,
   "metadata": {},
   "outputs": [],
   "source": [
    "def make_children(X, y, tree, current_node):\n",
    "    \"\"\"Identify and initialize the children for a specific node\n",
    "    X, y = dataset of current node\n",
    "    impurity_measer = the desired measure of impurity (entropy or gini index)\n",
    "    tree = the tree object one wishes to populate\n",
    "    current_node = the current node one stands one, and wishes to define children\"\"\"\n",
    "    # For each unique value in the parents column - make a child node\n",
    "    child_list = list(set(X[current_node.tag]))\n",
    "    data = pd.concat([X, y], axis=1)\n",
    "    for value in child_list:\n",
    "        node_name = str(value)\n",
    "        # Split dataset\n",
    "        data_loc = split_data(value, data, current_node.tag)\n",
    "        # Remove parent column - for children nodes\n",
    "        #data_loc = data_loc.drop([current_node.tag], axis=1)\n",
    "        tree.create_node(tag=node_name, data=data_loc, parent=current_node)\n",
    "    # Need referece to each child node, therefore new loop\n",
    "    for children_node in current_node.fpointer:\n",
    "        current_node = tree.get_node(children_node)\n",
    "        X = current_node.data.drop([y.name], axis=1)\n",
    "        y = current_node.data[y.name]\n",
    "        tree = make_tree(X=X, y=y, tree=tree, current_node=current_node)\n",
    "             \n",
    "    return tree"
   ]
  },
  {
   "cell_type": "code",
   "execution_count": 17,
   "metadata": {},
   "outputs": [],
   "source": [
    "def split_data(value, data, column):\n",
    "    \"\"\"Splits the dataframe such that it return the rows, where the specified\n",
    "    columns value == value\"\"\"\n",
    "    data_loc = data.loc[data[column] == value]\n",
    "    return data_loc"
   ]
  },
  {
   "cell_type": "code",
   "execution_count": null,
   "metadata": {},
   "outputs": [],
   "source": [
    "root = tree.root"
   ]
  },
  {
   "cell_type": "code",
   "execution_count": null,
   "metadata": {},
   "outputs": [],
   "source": [
    "print(root)"
   ]
  },
  {
   "cell_type": "code",
   "execution_count": 20,
   "metadata": {},
   "outputs": [],
   "source": [
    "def predict(x, tree):\n",
    "    \"\"\"Predict class label of some new data point x.\"\"\"\n",
    "    \n",
    "    current_node = tree.get_node(tree.root)\n",
    "    classification_value = getClassificationLabel(x=x, tree=tree, current_node=current_node)\n",
    "    print(classification_value)"
   ]
  },
  {
   "cell_type": "code",
   "execution_count": 21,
   "metadata": {},
   "outputs": [],
   "source": [
    "def getClassificationLabel(x, tree, current_node):\n",
    "    \"\"\"x = inputed data to classify\n",
    "    current_node = current node to inspect (its children)\"\"\"\n",
    "    # Current node's name is the name of the column that is (presumably) best to split on\n",
    "    split_column = current_node.tag\n",
    "    # Find the children node which has the same value, in the same column\n",
    "    correct_children_node = None\n",
    "    # Find the column in the inputed dataset = x, and get its value\n",
    "    val_x = x.get(split_column)\n",
    "    # Loop through the children of current node\n",
    "    for node_children in current_node.fpointer:\n",
    "        # node_children is only identifier to children - need to get the actual references to those children\n",
    "        current_children_node = tree.get_node(node_children)\n",
    "        # Check if children node is leaf - return its data = classification label\n",
    "        if current_children_node.is_leaf():\n",
    "            return current_children_node.data\n",
    "        # If a node's column = parents tag contains val_x --> correct child node\n",
    "        if val_x in current_children_node.data[split_column]:\n",
    "            correct_children_node = current_children_node\n",
    "            break\n",
    "    getClassificationLabel(x=x, tree=tree, current_node=correct_children_node)"
   ]
  },
  {
   "cell_type": "code",
   "execution_count": 24,
   "metadata": {},
   "outputs": [
    {
     "name": "stdout",
     "output_type": "stream",
     "text": [
      "None\n"
     ]
    }
   ],
   "source": [
    "predict(not_optimal_test_data, tree)"
   ]
  },
  {
   "cell_type": "code",
   "execution_count": 18,
   "metadata": {},
   "outputs": [
    {
     "name": "stdout",
     "output_type": "stream",
     "text": [
      "outlook\n",
      "├── 1\n",
      "│   └── 1\n",
      "├── humidity\n",
      "│   ├── 0\n",
      "│   │   └── 0\n",
      "│   └── 1\n",
      "│       └── 1\n",
      "└── windy\n",
      "    ├── 0\n",
      "    │   └── 1\n",
      "    └── 1\n",
      "        └── 0\n",
      "\n"
     ]
    }
   ],
   "source": [
    "tree = learn(X_enc, y_enc)\n",
    "print(tree)"
   ]
  },
  {
   "cell_type": "code",
   "execution_count": 23,
   "metadata": {},
   "outputs": [],
   "source": [
    "not_optimal_test_data = X_enc.iloc[0]"
   ]
  },
  {
   "cell_type": "code",
   "execution_count": null,
   "metadata": {},
   "outputs": [],
   "source": [
    "tree.get_node(\"root_node\")\n",
    "for children in "
   ]
  }
 ],
 "metadata": {
  "kernelspec": {
   "display_name": "DAT158",
   "language": "python",
   "name": "dat158"
  },
  "language_info": {
   "codemirror_mode": {
    "name": "ipython",
    "version": 3
   },
   "file_extension": ".py",
   "mimetype": "text/x-python",
   "name": "python",
   "nbconvert_exporter": "python",
   "pygments_lexer": "ipython3",
   "version": "3.6.6"
  }
 },
 "nbformat": 4,
 "nbformat_minor": 2
}
