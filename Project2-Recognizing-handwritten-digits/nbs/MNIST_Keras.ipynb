{
 "cells": [
  {
   "cell_type": "code",
   "execution_count": 1,
   "metadata": {},
   "outputs": [
    {
     "name": "stderr",
     "output_type": "stream",
     "text": [
      "Using TensorFlow backend.\n"
     ]
    }
   ],
   "source": [
    "import sys\n",
    "sys.path.append(\"../utils\")\n",
    "from Data import *\n",
    "from Models import *\n",
    "from Plots import *\n",
    "from sklearn.ensemble import RandomForestClassifier\n",
    "from sklearn.metrics import accuracy_score\n",
    "import pickle\n",
    "from xgboost import XGBClassifier\n",
    "from sklearn.model_selection import GridSearchCV\n",
    "import matplotlib.patches as npatches"
   ]
  },
  {
   "cell_type": "code",
   "execution_count": 2,
   "metadata": {},
   "outputs": [],
   "source": [
    "data_util = Data()\n",
    "model_util = Models()\n",
    "plots_util = Plots()"
   ]
  },
  {
   "cell_type": "code",
   "execution_count": 3,
   "metadata": {},
   "outputs": [],
   "source": [
    "classifiers_dict = {}"
   ]
  },
  {
   "cell_type": "code",
   "execution_count": 4,
   "metadata": {},
   "outputs": [],
   "source": [
    "model_name_save = \"MNIST_\"\n",
    "pickle_model_ext = \".pickle.dat\"\n",
    "models_path = \"../models/\"\n",
    "dictionary_path = \"../dictionaries/\""
   ]
  },
  {
   "cell_type": "code",
   "execution_count": 5,
   "metadata": {},
   "outputs": [],
   "source": [
    "random_state = 42"
   ]
  },
  {
   "cell_type": "markdown",
   "metadata": {},
   "source": [
    "## NN"
   ]
  },
  {
   "cell_type": "code",
   "execution_count": 6,
   "metadata": {},
   "outputs": [],
   "source": [
    "model_name_nn = \"NN\""
   ]
  },
  {
   "cell_type": "code",
   "execution_count": 7,
   "metadata": {},
   "outputs": [],
   "source": [
    "full_name_nn = model_name_save + model_name_nn"
   ]
  },
  {
   "cell_type": "markdown",
   "metadata": {},
   "source": [
    "### Save time by loading the model"
   ]
  },
  {
   "cell_type": "code",
   "execution_count": 8,
   "metadata": {},
   "outputs": [],
   "source": [
    "# model_nn = model_util.load_model(full_name_nn)\n",
    "# model_nn.summary()"
   ]
  },
  {
   "cell_type": "markdown",
   "metadata": {},
   "source": [
    "### Or train it yourself"
   ]
  },
  {
   "cell_type": "code",
   "execution_count": 9,
   "metadata": {},
   "outputs": [],
   "source": [
    "X_train_nn, X_val_nn, X_test_nn, y_train_nn, y_val_nn, y_test_nn = data_util.get_data(train_val_test=True)"
   ]
  },
  {
   "cell_type": "code",
   "execution_count": 10,
   "metadata": {},
   "outputs": [
    {
     "name": "stdout",
     "output_type": "stream",
     "text": [
      "X_train:  (39199, 784)\n",
      "X_val:  (16800, 784)\n",
      "X_test:  (14000, 784)\n",
      "y_train:  (39199, 10)\n",
      "y_val:  (16800, 10)\n",
      "y_test:  (14000, 10)\n"
     ]
    }
   ],
   "source": [
    "data_util.print_data_shapes_val(X_train=X_train_nn, \n",
    "                                X_test=X_test_nn, \n",
    "                                y_train=y_train_nn, \n",
    "                                y_test=y_test_nn, \n",
    "                                y_val = y_val_nn, \n",
    "                                X_val = X_val_nn)"
   ]
  },
  {
   "cell_type": "code",
   "execution_count": 11,
   "metadata": {},
   "outputs": [],
   "source": [
    "model_nn = model_util.get_nn_model()"
   ]
  },
  {
   "cell_type": "code",
   "execution_count": 12,
   "metadata": {},
   "outputs": [
    {
     "name": "stdout",
     "output_type": "stream",
     "text": [
      "_________________________________________________________________\n",
      "Layer (type)                 Output Shape              Param #   \n",
      "=================================================================\n",
      "dense_1 (Dense)              (None, 256)               200960    \n",
      "_________________________________________________________________\n",
      "dense_2 (Dense)              (None, 128)               32896     \n",
      "_________________________________________________________________\n",
      "dense_3 (Dense)              (None, 60)                7740      \n",
      "_________________________________________________________________\n",
      "dense_4 (Dense)              (None, 10)                610       \n",
      "=================================================================\n",
      "Total params: 242,206\n",
      "Trainable params: 242,206\n",
      "Non-trainable params: 0\n",
      "_________________________________________________________________\n"
     ]
    }
   ],
   "source": [
    "model_nn.summary()"
   ]
  },
  {
   "cell_type": "code",
   "execution_count": 13,
   "metadata": {},
   "outputs": [],
   "source": [
    "epochs_nn = 10\n",
    "bs_nn = 64"
   ]
  },
  {
   "cell_type": "code",
   "execution_count": 14,
   "metadata": {
    "scrolled": true
   },
   "outputs": [
    {
     "name": "stdout",
     "output_type": "stream",
     "text": [
      "Train on 39199 samples, validate on 16800 samples\n",
      "Epoch 1/10\n",
      "39199/39199 [==============================] - 7s 175us/step - loss: 1.5277 - acc: 0.8827 - val_loss: 0.7903 - val_acc: 0.9092\n",
      "Epoch 2/10\n",
      "39199/39199 [==============================] - 6s 161us/step - loss: 0.7042 - acc: 0.9141 - val_loss: 0.6715 - val_acc: 0.9098\n",
      "Epoch 3/10\n",
      "39199/39199 [==============================] - 6s 162us/step - loss: 0.6242 - acc: 0.9208 - val_loss: 0.6235 - val_acc: 0.9170\n",
      "Epoch 4/10\n",
      "39199/39199 [==============================] - 6s 165us/step - loss: 0.5770 - acc: 0.9288 - val_loss: 0.5629 - val_acc: 0.9258\n",
      "Epoch 5/10\n",
      "39199/39199 [==============================] - 7s 173us/step - loss: 0.5410 - acc: 0.9340 - val_loss: 0.5175 - val_acc: 0.9353\n",
      "Epoch 6/10\n",
      "39199/39199 [==============================] - 7s 177us/step - loss: 0.5106 - acc: 0.9368 - val_loss: 0.5113 - val_acc: 0.9357\n",
      "Epoch 7/10\n",
      "39199/39199 [==============================] - 7s 171us/step - loss: 0.4877 - acc: 0.9392 - val_loss: 0.4934 - val_acc: 0.9404\n",
      "Epoch 8/10\n",
      "39199/39199 [==============================] - 7s 169us/step - loss: 0.4714 - acc: 0.9413 - val_loss: 0.4844 - val_acc: 0.9357\n",
      "Epoch 9/10\n",
      "39199/39199 [==============================] - 7s 170us/step - loss: 0.4507 - acc: 0.9454 - val_loss: 0.4635 - val_acc: 0.9408\n",
      "Epoch 10/10\n",
      "39199/39199 [==============================] - 7s 169us/step - loss: 0.4333 - acc: 0.9474 - val_loss: 0.4225 - val_acc: 0.9528\n"
     ]
    }
   ],
   "source": [
    "time_nn, history_nn = model_util.train_nn_model(model_nn,\n",
    "                                                X_train_nn,\n",
    "                                                X_val_nn,\n",
    "                                                X_test_nn,\n",
    "                                                y_train_nn,\n",
    "                                                y_val_nn,\n",
    "                                                y_test_nn,\n",
    "                                                epochs_nn, bs_nn)"
   ]
  },
  {
   "cell_type": "code",
   "execution_count": 15,
   "metadata": {
    "scrolled": true
   },
   "outputs": [
    {
     "name": "stdout",
     "output_type": "stream",
     "text": [
      "0.9527976190476191\n",
      "0.9474221280927047\n"
     ]
    }
   ],
   "source": [
    "print(history_nn.history['val_acc'][-1])\n",
    "print(history_nn.history['acc'][-1])"
   ]
  },
  {
   "cell_type": "code",
   "execution_count": 16,
   "metadata": {},
   "outputs": [],
   "source": [
    "val_acc_last_nn = history_nn.history['val_acc'][-1]"
   ]
  },
  {
   "cell_type": "code",
   "execution_count": 40,
   "metadata": {},
   "outputs": [],
   "source": [
    "classifiers_dict[model_name_nn] = {'accuracy': val_acc_last_nn, 'time': time_nn}"
   ]
  },
  {
   "cell_type": "code",
   "execution_count": 11,
   "metadata": {},
   "outputs": [
    {
     "name": "stdout",
     "output_type": "stream",
     "text": [
      "Saving model:  foo  to the folder:  ../models/\n"
     ]
    }
   ],
   "source": [
    "# Save the model\n",
    "# model_util.save_model(model_nn, model_name_save + model_name_nn)"
   ]
  },
  {
   "cell_type": "markdown",
   "metadata": {},
   "source": [
    "## CNN"
   ]
  },
  {
   "cell_type": "code",
   "execution_count": 18,
   "metadata": {},
   "outputs": [],
   "source": [
    "model_name_cnn = \"CNN\""
   ]
  },
  {
   "cell_type": "code",
   "execution_count": 19,
   "metadata": {},
   "outputs": [],
   "source": [
    "full_name_cnn = model_name_save + model_name_cnn"
   ]
  },
  {
   "cell_type": "markdown",
   "metadata": {},
   "source": [
    "### Save time by loading the model"
   ]
  },
  {
   "cell_type": "code",
   "execution_count": 20,
   "metadata": {},
   "outputs": [],
   "source": [
    "# model_cnn = model_util.load_model(full_name_cnn)\n",
    "# model_cnn.summary()"
   ]
  },
  {
   "cell_type": "code",
   "execution_count": 6,
   "metadata": {},
   "outputs": [],
   "source": [
    "X_train_cnn, X_val_cnn, X_test_cnn, y_train_cnn, y_val_cnn, y_test_cnn = data_util.get_data(one_hot_enc=False, \n",
    "                                                                                            reshape=True, \n",
    "                                                                                            train_val_test=True)"
   ]
  },
  {
   "cell_type": "code",
   "execution_count": 7,
   "metadata": {},
   "outputs": [],
   "source": [
    "y_train_cnn_cat, y_val_cnn_cat, y_test_cnn_cat = data_util.label_to_categorical(y_train_cnn, \n",
    "                                                                                y_val_cnn, \n",
    "                                                                                y_test_cnn)"
   ]
  },
  {
   "cell_type": "code",
   "execution_count": 8,
   "metadata": {},
   "outputs": [
    {
     "name": "stdout",
     "output_type": "stream",
     "text": [
      "X_train:  (39199, 28, 28, 1)\n",
      "X_val:  (16800, 28, 28, 1)\n",
      "X_test:  (14000, 28, 28, 1)\n",
      "y_train:  (39199, 10)\n",
      "y_val:  (16800, 10)\n",
      "y_test:  (14000, 10)\n"
     ]
    }
   ],
   "source": [
    "data_util.print_data_shapes_val(X_train=X_train_cnn, \n",
    "                                X_test=X_test_cnn, \n",
    "                                y_train=y_train_cnn_cat, \n",
    "                                y_test=y_test_cnn_cat, \n",
    "                                y_val = y_val_cnn_cat, \n",
    "                                X_val = X_val_cnn)"
   ]
  },
  {
   "cell_type": "code",
   "execution_count": 9,
   "metadata": {},
   "outputs": [],
   "source": [
    "model_cnn = model_util.get_cnn_model()"
   ]
  },
  {
   "cell_type": "code",
   "execution_count": 25,
   "metadata": {},
   "outputs": [
    {
     "name": "stdout",
     "output_type": "stream",
     "text": [
      "_________________________________________________________________\n",
      "Layer (type)                 Output Shape              Param #   \n",
      "=================================================================\n",
      "conv2d_1 (Conv2D)            (None, 24, 24, 32)        832       \n",
      "_________________________________________________________________\n",
      "max_pooling2d_1 (MaxPooling2 (None, 12, 12, 32)        0         \n",
      "_________________________________________________________________\n",
      "dropout_1 (Dropout)          (None, 12, 12, 32)        0         \n",
      "_________________________________________________________________\n",
      "flatten_1 (Flatten)          (None, 4608)              0         \n",
      "_________________________________________________________________\n",
      "dense_5 (Dense)              (None, 128)               589952    \n",
      "_________________________________________________________________\n",
      "dense_6 (Dense)              (None, 10)                1290      \n",
      "=================================================================\n",
      "Total params: 592,074\n",
      "Trainable params: 592,074\n",
      "Non-trainable params: 0\n",
      "_________________________________________________________________\n"
     ]
    }
   ],
   "source": [
    "model_cnn.summary()"
   ]
  },
  {
   "cell_type": "code",
   "execution_count": 26,
   "metadata": {},
   "outputs": [],
   "source": [
    "epochs_cnn = 10\n",
    "bs_cnn = 64"
   ]
  },
  {
   "cell_type": "code",
   "execution_count": 27,
   "metadata": {},
   "outputs": [
    {
     "name": "stdout",
     "output_type": "stream",
     "text": [
      "Train on 39199 samples, validate on 16800 samples\n",
      "Epoch 1/10\n",
      "39199/39199 [==============================] - 30s 757us/step - loss: 0.2444 - acc: 0.9277 - val_loss: 0.0965 - val_acc: 0.9717\n",
      "Epoch 2/10\n",
      "39199/39199 [==============================] - 28s 707us/step - loss: 0.0895 - acc: 0.9721 - val_loss: 0.0759 - val_acc: 0.9765\n",
      "Epoch 3/10\n",
      "39199/39199 [==============================] - 29s 752us/step - loss: 0.0648 - acc: 0.9797 - val_loss: 0.0537 - val_acc: 0.9834\n",
      "Epoch 4/10\n",
      "39199/39199 [==============================] - 29s 750us/step - loss: 0.0502 - acc: 0.9838 - val_loss: 0.0487 - val_acc: 0.9856\n",
      "Epoch 5/10\n",
      "39199/39199 [==============================] - 30s 773us/step - loss: 0.0436 - acc: 0.9851 - val_loss: 0.0514 - val_acc: 0.9843\n",
      "Epoch 6/10\n",
      "39199/39199 [==============================] - 26s 654us/step - loss: 0.0354 - acc: 0.9883 - val_loss: 0.0424 - val_acc: 0.9881\n",
      "Epoch 7/10\n",
      "39199/39199 [==============================] - 25s 635us/step - loss: 0.0317 - acc: 0.9895 - val_loss: 0.0453 - val_acc: 0.9865\n",
      "Epoch 8/10\n",
      "39199/39199 [==============================] - 27s 681us/step - loss: 0.0244 - acc: 0.9918 - val_loss: 0.0439 - val_acc: 0.9871\n",
      "Epoch 9/10\n",
      "39199/39199 [==============================] - 28s 712us/step - loss: 0.0228 - acc: 0.9919 - val_loss: 0.0434 - val_acc: 0.9882\n",
      "Epoch 10/10\n",
      "39199/39199 [==============================] - 27s 688us/step - loss: 0.0198 - acc: 0.9930 - val_loss: 0.0445 - val_acc: 0.9871\n"
     ]
    }
   ],
   "source": [
    "time_cnn, history_cnn = model_util.train_cnn_model(model_cnn, \n",
    "                                                                       X_train_cnn, \n",
    "                                                                       X_val_cnn, \n",
    "                                                                       X_test_cnn, \n",
    "                                                                       y_train_cnn_cat, \n",
    "                                                                       y_val_cnn_cat, \n",
    "                                                                       y_test_cnn_cat, \n",
    "                                                                       epochs_cnn, \n",
    "                                                                       bs_cnn)"
   ]
  },
  {
   "cell_type": "code",
   "execution_count": 28,
   "metadata": {},
   "outputs": [
    {
     "name": "stdout",
     "output_type": "stream",
     "text": [
      "0.9871428571428571\n",
      "0.9930100257659634\n"
     ]
    }
   ],
   "source": [
    "print(history_cnn.history['val_acc'][-1])\n",
    "print(history_cnn.history['acc'][-1])"
   ]
  },
  {
   "cell_type": "code",
   "execution_count": 42,
   "metadata": {},
   "outputs": [],
   "source": [
    "val_acc_last_cnn = history_cnn.history['val_acc'][-1]"
   ]
  },
  {
   "cell_type": "code",
   "execution_count": 43,
   "metadata": {},
   "outputs": [],
   "source": [
    "classifiers_dict[model_name_cnn] = {'accuracy': val_acc_last_cnn, 'time': time_cnn}"
   ]
  },
  {
   "cell_type": "code",
   "execution_count": 36,
   "metadata": {},
   "outputs": [],
   "source": [
    "# Save the model\n",
    "# model_util.save_model(model, model_name_save + model_name_cnn)"
   ]
  },
  {
   "cell_type": "markdown",
   "metadata": {},
   "source": [
    "## Random Forest"
   ]
  },
  {
   "cell_type": "code",
   "execution_count": 37,
   "metadata": {},
   "outputs": [],
   "source": [
    "model_name_rf = \"RF\""
   ]
  },
  {
   "cell_type": "code",
   "execution_count": 38,
   "metadata": {},
   "outputs": [],
   "source": [
    "full_path_rf = models_path + model_name_save + model_name_rf + pickle_model_ext"
   ]
  },
  {
   "cell_type": "markdown",
   "metadata": {},
   "source": [
    "### Save time by loading the model"
   ]
  },
  {
   "cell_type": "code",
   "execution_count": 39,
   "metadata": {},
   "outputs": [],
   "source": [
    "# random_f_clf = pickle.load(open(full_path_rf, \"rb\"))"
   ]
  },
  {
   "cell_type": "markdown",
   "metadata": {},
   "source": [
    "### Or train it yourself"
   ]
  },
  {
   "cell_type": "code",
   "execution_count": 40,
   "metadata": {},
   "outputs": [],
   "source": [
    "X_train_rf, X_val_rf, X_test_rf, y_train_rf, y_val_rf, y_test_rf = data_util.get_data(train_val_test=True)"
   ]
  },
  {
   "cell_type": "code",
   "execution_count": 41,
   "metadata": {},
   "outputs": [
    {
     "name": "stdout",
     "output_type": "stream",
     "text": [
      "X_train:  (39199, 784)\n",
      "X_val:  (16800, 784)\n",
      "X_test:  (14000, 784)\n",
      "y_train:  (39199, 10)\n",
      "y_val:  (16800, 10)\n",
      "y_test:  (14000, 10)\n"
     ]
    }
   ],
   "source": [
    "data_util.print_data_shapes_val(X_train=X_train_rf, \n",
    "                                X_test=X_test_rf, \n",
    "                                y_train=y_train_rf, \n",
    "                                y_test=y_test_rf, \n",
    "                                y_val = y_val_rf, \n",
    "                                X_val = X_val_rf)"
   ]
  },
  {
   "cell_type": "code",
   "execution_count": 42,
   "metadata": {},
   "outputs": [],
   "source": [
    "random_f_clf = RandomForestClassifier(n_estimators=50,\n",
    "                                     n_jobs = 2,\n",
    "                                     random_state=random_state)\n",
    "start_rf = time.time()\n",
    "random_f_clf.fit(X_train_rf, y_train_rf)\n",
    "end_rf = time.time()\n",
    "tot_rf = round(end_rf - start_rf, 3)"
   ]
  },
  {
   "cell_type": "code",
   "execution_count": 43,
   "metadata": {
    "scrolled": true
   },
   "outputs": [
    {
     "name": "stdout",
     "output_type": "stream",
     "text": [
      "Scores:  0.88 \n",
      " Training time:  12.476  seconds\n"
     ]
    }
   ],
   "source": [
    "y_pred_rf = random_f_clf.predict(X_val_rf)\n",
    "scores_rf = round(accuracy_score(y_val_rf, y_pred_rf), 3)\n",
    "print(\"Scores: \", scores_rf, \"\\n Training time: \", tot_rf, \" seconds\")"
   ]
  },
  {
   "cell_type": "code",
   "execution_count": 44,
   "metadata": {},
   "outputs": [],
   "source": [
    "classifiers_dict[model_name_rf] = {'accuracy': scores_rf, 'time': tot_rf}"
   ]
  },
  {
   "cell_type": "code",
   "execution_count": 45,
   "metadata": {},
   "outputs": [],
   "source": [
    "# Save the model\n",
    "# pickle.dump(random_f_clf, open(full_path_rf, \"wb\"))"
   ]
  },
  {
   "cell_type": "markdown",
   "metadata": {},
   "source": [
    "## XGBoost"
   ]
  },
  {
   "cell_type": "code",
   "execution_count": 46,
   "metadata": {},
   "outputs": [],
   "source": [
    "model_name_xgb = \"XGB\""
   ]
  },
  {
   "cell_type": "code",
   "execution_count": 47,
   "metadata": {},
   "outputs": [],
   "source": [
    "full_path_xgb = models_path + model_name_save + model_name_xgb + pickle_model_ext"
   ]
  },
  {
   "cell_type": "markdown",
   "metadata": {},
   "source": [
    "### Save time by loading the model"
   ]
  },
  {
   "cell_type": "code",
   "execution_count": 48,
   "metadata": {},
   "outputs": [],
   "source": [
    "optim_est_xgb = pickle.load(open(full_path_xgb, \"rb\"))"
   ]
  },
  {
   "cell_type": "markdown",
   "metadata": {},
   "source": [
    "### Or train it yourself (Disclaimer: This one is time consuming)"
   ]
  },
  {
   "cell_type": "code",
   "execution_count": 53,
   "metadata": {},
   "outputs": [],
   "source": [
    "X_train_xgb, X_val_xgb, X_test_xgb, y_train_xgb, y_val_xgb, y_test_xgb = data_util.get_data(one_hot_enc=False, train_val_test=True)"
   ]
  },
  {
   "cell_type": "code",
   "execution_count": 59,
   "metadata": {},
   "outputs": [
    {
     "name": "stdout",
     "output_type": "stream",
     "text": [
      "X_train:  (39199, 784)\n",
      "X_val:  (16800, 784)\n",
      "X_test:  (14000, 784)\n",
      "y_train:  (39199, 1)\n",
      "y_val:  (16800, 1)\n",
      "y_test:  (14000, 1)\n"
     ]
    }
   ],
   "source": [
    "data_util.print_data_shapes_val(X_train=X_train_xgb, \n",
    "                                X_test=X_test_xgb, \n",
    "                                y_train=y_train_xgb, \n",
    "                                y_test=y_test_xgb, \n",
    "                                y_val = y_val_xgb, \n",
    "                                X_val = X_val_xgb)"
   ]
  },
  {
   "cell_type": "code",
   "execution_count": 60,
   "metadata": {},
   "outputs": [],
   "source": [
    "params = {\n",
    "        'gamma': [0.5, 2],\n",
    "        'subsample': [0.6, 1.0],\n",
    "        'colsample_bytree': [0.6, 1.0],\n",
    "        'max_depth': [3, 5],\n",
    "        'n_estimators': [5, 10]\n",
    "        }"
   ]
  },
  {
   "cell_type": "code",
   "execution_count": 63,
   "metadata": {},
   "outputs": [],
   "source": [
    "%%capture \n",
    "xgb_clf = XGBClassifier()\n",
    "rs = GridSearchCV(xgb_clf,\n",
    "                  params,\n",
    "                  cv=2,\n",
    "                  scoring=\"accuracy\",\n",
    "                  n_jobs=1,\n",
    "                  verbose=2)\n",
    "start_xgb = time.time()\n",
    "rs.fit(X_train_xgb, y_train_xgb.values.ravel())\n",
    "end_xgb = time.time()\n",
    "tot_xgb = round(end_xgb - start_xgb, 2)"
   ]
  },
  {
   "cell_type": "code",
   "execution_count": 66,
   "metadata": {},
   "outputs": [
    {
     "name": "stdout",
     "output_type": "stream",
     "text": [
      "XGBClassifier(base_score=0.5, booster='gbtree', colsample_bylevel=1,\n",
      "       colsample_bytree=0.6, gamma=2, learning_rate=0.1, max_delta_step=0,\n",
      "       max_depth=5, min_child_weight=1, missing=None, n_estimators=10,\n",
      "       n_jobs=1, nthread=None, objective='multi:softprob', random_state=0,\n",
      "       reg_alpha=0, reg_lambda=1, scale_pos_weight=1, seed=None,\n",
      "       silent=True, subsample=1.0)\n"
     ]
    }
   ],
   "source": [
    "optim_est_xgb = rs.best_estimator_"
   ]
  },
  {
   "cell_type": "code",
   "execution_count": 49,
   "metadata": {},
   "outputs": [
    {
     "name": "stdout",
     "output_type": "stream",
     "text": [
      "XGBClassifier(base_score=0.5, booster='gbtree', colsample_bylevel=1,\n",
      "       colsample_bytree=0.6, gamma=2, learning_rate=0.1, max_delta_step=0,\n",
      "       max_depth=5, min_child_weight=1, missing=nan, n_estimators=10,\n",
      "       n_jobs=1, nthread=None, objective='multi:softprob', random_state=0,\n",
      "       reg_alpha=0, reg_lambda=1, scale_pos_weight=1, seed=None,\n",
      "       silent=True, subsample=1.0)\n"
     ]
    }
   ],
   "source": [
    "print(optim_est_xgb)"
   ]
  },
  {
   "cell_type": "code",
   "execution_count": 54,
   "metadata": {},
   "outputs": [],
   "source": [
    "y_pred_xgb = optim_est_xgb.predict(X_val_xgb)\n",
    "scores_xgb = accuracy_score(y_val_xgb, y_pred_xgb)"
   ]
  },
  {
   "cell_type": "code",
   "execution_count": 56,
   "metadata": {},
   "outputs": [
    {
     "name": "stdout",
     "output_type": "stream",
     "text": [
      "Scores:  0.9019642857142857 \n",
      " Training time:  1913.77  seconds\n"
     ]
    }
   ],
   "source": [
    "print(\"Scores: \", scores_xgb, \"\\n Training time: \", tot_xgb, \" seconds\")"
   ]
  },
  {
   "cell_type": "code",
   "execution_count": 65,
   "metadata": {},
   "outputs": [],
   "source": [
    "classifiers_dict['XGB'] = {'accuracy': scores_xgb, 'time': tot_xgb}"
   ]
  },
  {
   "cell_type": "code",
   "execution_count": 66,
   "metadata": {},
   "outputs": [],
   "source": [
    "# Save the model\n",
    "# pickle.dump(optim_est_xgb, open(full_path_xgb, \"wb\"))"
   ]
  },
  {
   "cell_type": "markdown",
   "metadata": {},
   "source": [
    "> Saving the dictionary to file"
   ]
  },
  {
   "cell_type": "code",
   "execution_count": 37,
   "metadata": {},
   "outputs": [],
   "source": [
    "classifiers_dict_f_name = \"classifiers_dict.npy\"\n",
    "classifiers_dict_f_path = dictionary_path + classifiers_dict_f_name"
   ]
  },
  {
   "cell_type": "code",
   "execution_count": 54,
   "metadata": {},
   "outputs": [],
   "source": [
    "np.save(classifiers_dict_f_path, classifiers_dict)"
   ]
  },
  {
   "cell_type": "markdown",
   "metadata": {},
   "source": [
    "# Evaluating"
   ]
  },
  {
   "cell_type": "code",
   "execution_count": 38,
   "metadata": {},
   "outputs": [],
   "source": [
    "# To load the classifiers dict:\n",
    "classifiers_dict = np.load(classifiers_dict_f_path).item()"
   ]
  },
  {
   "cell_type": "code",
   "execution_count": 44,
   "metadata": {},
   "outputs": [
    {
     "data": {
      "text/plain": [
       "{'NN': {'accuracy': 0.9527976190476191, 'time': 66.88},\n",
       " 'CNN': {'accuracy': 0.9871428571428571, 'time': 279.143},\n",
       " 'RF': {'accuracy': 0.88, 'time': 12.476},\n",
       " 'XGB': {'accuracy': 0.9019642857142857, 'time': 1913.77}}"
      ]
     },
     "execution_count": 44,
     "metadata": {},
     "output_type": "execute_result"
    }
   ],
   "source": [
    "classifiers_dict"
   ]
  },
  {
   "cell_type": "code",
   "execution_count": 72,
   "metadata": {},
   "outputs": [],
   "source": [
    "accuracy_list = []\n",
    "time_list = []\n",
    "classifiers_list = []\n",
    "for k, v in classifiers_dict.items():\n",
    "    classifiers_list.append(k)\n",
    "    accuracy_list.append(classifiers_dict[k]['accuracy'])\n",
    "    time_list.append(classifiers_dict[k]['time'])"
   ]
  },
  {
   "cell_type": "markdown",
   "metadata": {},
   "source": [
    "> I want to plot both time and accuracy in the same plot, for the different classifiers, but accuracy ranges from 0-1, while time ranges from approximately 16 seconds to 2500 seconds. This means I have to normalize the time values, so that they are between 0 and 1."
   ]
  },
  {
   "cell_type": "code",
   "execution_count": 73,
   "metadata": {},
   "outputs": [
    {
     "name": "stdout",
     "output_type": "stream",
     "text": [
      "0.00711893278711653\n",
      "0.026442571468880793\n",
      "0.006519069689670128\n",
      "1.0\n"
     ]
    }
   ],
   "source": [
    "# normalize time list\n",
    "normalizing_constant = max(time_list)\n",
    "for i in range(len(time_list)):\n",
    "    time_list[i] = time_list[i]/normalizing_constant\n",
    "    print(time_list[i])"
   ]
  },
  {
   "cell_type": "code",
   "execution_count": 77,
   "metadata": {},
   "outputs": [
    {
     "data": {
      "image/png": "[encoded data removed]",
      "text/plain": [
       "<Figure size 432x288 with 1 Axes>"
      ]
     },
     "metadata": {},
     "output_type": "display_data"
    }
   ],
   "source": [
    "y_pos = np.arange(len(classifiers_list))\n",
    "bar_width = 0.3\n",
    "plt.bar(y_pos, accuracy_list, width=bar_width, color='b', align='center')\n",
    "plt.bar(y_pos + bar_width, time_list, width=bar_width, color='r', align='center')\n",
    "plt.xticks(y_pos, classifiers_list)\n",
    "plt.title('Accuracy & training time for each classifier')\n",
    "\n",
    "blue = npatches.Patch(color='blue', label='accuracy')\n",
    "red = npatches.Patch(color='red', label='time')\n",
    "\n",
    "plt.legend(handles=[blue, red])\n",
    "plt.tight_layout()\n",
    "plt.show()"
   ]
  },
  {
   "cell_type": "markdown",
   "metadata": {},
   "source": [
    "> Pretty simple to see that XGBoost is poluting the plot - remove it, and try again, to get a better look at the actually successfull models"
   ]
  },
  {
   "cell_type": "code",
   "execution_count": 78,
   "metadata": {},
   "outputs": [
    {
     "data": {
      "text/plain": [
       "'XGB'"
      ]
     },
     "execution_count": 78,
     "metadata": {},
     "output_type": "execute_result"
    }
   ],
   "source": [
    "classifiers_list_no_xgb = classifiers_list\n",
    "xgb_index = classifiers_list_no_xgb.index('XGB')\n",
    "accuracy_list.pop(xgb_index)\n",
    "time_list.pop(xgb_index)\n",
    "classifiers_list_no_xgb.pop(xgb_index)"
   ]
  },
  {
   "cell_type": "markdown",
   "metadata": {},
   "source": [
    "> Still have to normalize time values "
   ]
  },
  {
   "cell_type": "code",
   "execution_count": 79,
   "metadata": {},
   "outputs": [
    {
     "name": "stdout",
     "output_type": "stream",
     "text": [
      "0.2692224088528802\n",
      "1.0\n",
      "0.2465369034680368\n"
     ]
    }
   ],
   "source": [
    "normalizing_constant = max(time_list)\n",
    "for i in range(len(time_list)):\n",
    "    time_list[i] = time_list[i]/normalizing_constant\n",
    "    print(time_list[i])"
   ]
  },
  {
   "cell_type": "code",
   "execution_count": 80,
   "metadata": {},
   "outputs": [
    {
     "data": {
      "image/png": "[encoded data removed]",
      "text/plain": [
       "<Figure size 432x288 with 1 Axes>"
      ]
     },
     "metadata": {},
     "output_type": "display_data"
    }
   ],
   "source": [
    "y_pos = np.arange(len(classifiers_list))\n",
    "bar_width = 0.3\n",
    "plt.bar(y_pos, accuracy_list, width=bar_width, color='b', align='center')\n",
    "plt.bar(y_pos + bar_width, time_list, width=bar_width, color='r', align='center')\n",
    "plt.xticks(y_pos, classifiers_list)\n",
    "plt.title('Accuracy & training time for each classifier')\n",
    "\n",
    "blue = npatches.Patch(color='blue', label='accuracy')\n",
    "red = npatches.Patch(color='red', label='time')\n",
    "\n",
    "plt.legend(handles=[blue, red])\n",
    "plt.tight_layout()\n",
    "plt.show()"
   ]
  },
  {
   "cell_type": "markdown",
   "metadata": {},
   "source": [
    "Can see that NN and CNN are relatively equal, with CNN edging a small advantage in both metrics, and far superior to Random Forest - accuracy-wise. Random Forest on the other hand is much better time-wise. If the data set would've required computation time equal to many hours, then Random Forest would probably be the most relevant model, at least for a starter model. However, the difference in time is approximately 1 minute, while the accuracy difference is ~ 10%.  "
   ]
  },
  {
   "cell_type": "markdown",
   "metadata": {},
   "source": [
    "## Plots (Neural Networks)"
   ]
  },
  {
   "cell_type": "code",
   "execution_count": 33,
   "metadata": {},
   "outputs": [
    {
     "data": {
      "image/png": "[encoded data removed]",
      "text/plain": [
       "<Figure size 432x288 with 1 Axes>"
      ]
     },
     "metadata": {},
     "output_type": "display_data"
    },
    {
     "data": {
      "image/png": "[encoded data removed]",
      "text/plain": [
       "<Figure size 432x288 with 1 Axes>"
      ]
     },
     "metadata": {},
     "output_type": "display_data"
    }
   ],
   "source": [
    "plt.plot(history_cnn.history['acc'])\n",
    "plt.plot(history_cnn.history['val_acc'])\n",
    "plt.title('Convolutional Neural Network model accuracy')\n",
    "plt.ylabel('accuracy')\n",
    "plt.xlabel('epoch')\n",
    "plt.legend(['train', 'validation'], loc='lower right')\n",
    "plt.show()\n",
    "\n",
    "plt.plot(history_cnn.history['loss'])\n",
    "plt.plot(history_cnn.history['val_loss'])\n",
    "plt.title('Convolutional Neural Network model loss')\n",
    "plt.ylabel('loss')\n",
    "plt.xlabel('epoch')\n",
    "plt.legend(['train', 'validation'], loc='upper right')\n",
    "plt.show()"
   ]
  },
  {
   "cell_type": "code",
   "execution_count": 35,
   "metadata": {},
   "outputs": [
    {
     "data": {
      "image/png": "[encoded data removed]",
      "text/plain": [
       "<Figure size 432x288 with 1 Axes>"
      ]
     },
     "metadata": {},
     "output_type": "display_data"
    },
    {
     "data": {
      "image/png": "[encoded data removed]",
      "text/plain": [
       "<Figure size 432x288 with 1 Axes>"
      ]
     },
     "metadata": {},
     "output_type": "display_data"
    }
   ],
   "source": [
    "plt.plot(history_nn.history['acc'])\n",
    "plt.plot(history_nn.history['val_acc'])\n",
    "plt.title('Neural Network model accuracy')\n",
    "plt.ylabel('accuracy')\n",
    "plt.xlabel('epoch')\n",
    "plt.legend(['train', 'validation'], loc='lower right')\n",
    "plt.show()\n",
    "\n",
    "plt.plot(history_nn.history['loss'])\n",
    "plt.plot(history_nn.history['val_loss'])\n",
    "plt.title('Neural Network model loss')\n",
    "plt.ylabel('loss')\n",
    "plt.xlabel('epoch')\n",
    "plt.legend(['train', 'validation'], loc='upper right')\n",
    "plt.show()"
   ]
  },
  {
   "cell_type": "markdown",
   "metadata": {},
   "source": [
    "## Conclusion"
   ]
  },
  {
   "cell_type": "markdown",
   "metadata": {},
   "source": [
    "It is pretty clear that neural networks are the way to go, more specifically that convolutional neural networks are superior at recognizing images (confirming every experiment made since cnn's were invented). \n",
    "\n",
    "With this in mind it seems only necessary to do hyperparameter tuning for the aformentioned cnn, and remember to increase the dropout, because of the previous overfitting "
   ]
  },
  {
   "cell_type": "code",
   "execution_count": 18,
   "metadata": {},
   "outputs": [],
   "source": [
    "batch_size = [50, 100]\n",
    "epochs = [6, 12]\n",
    "learning_rate = [1e-3, 1e-4]\n",
    "pool_size = [(3, 3)]\n",
    "activation = ['relu']\n",
    "dropout = [7e-1, 5e-1]\n",
    "classifier_cnn = {}"
   ]
  },
  {
   "cell_type": "markdown",
   "metadata": {},
   "source": [
    "> **NOTE** <br>\n",
    "Do not find it necessary to test other optimizers other than Adam, seeing as this combines the best of two worlds: Momentum with RMSprop"
   ]
  },
  {
   "cell_type": "code",
   "execution_count": null,
   "metadata": {},
   "outputs": [],
   "source": []
  },
  {
   "cell_type": "code",
   "execution_count": null,
   "metadata": {},
   "outputs": [
    {
     "name": "stdout",
     "output_type": "stream",
     "text": [
      "Train on 39199 samples, validate on 16800 samples\n",
      "Epoch 1/6\n",
      "39199/39199 [==============================] - 19s 494us/step - loss: 0.3381 - acc: 0.8955 - val_loss: 0.1055 - val_acc: 0.9687\n",
      "Epoch 2/6\n",
      "39199/39199 [==============================] - 22s 550us/step - loss: 0.1457 - acc: 0.9546 - val_loss: 0.0764 - val_acc: 0.9760\n",
      "Epoch 3/6\n",
      "39199/39199 [==============================] - 22s 559us/step - loss: 0.1113 - acc: 0.9644 - val_loss: 0.0606 - val_acc: 0.9815\n",
      "Epoch 4/6\n",
      "39199/39199 [==============================] - 20s 517us/step - loss: 0.0946 - acc: 0.9689 - val_loss: 0.0524 - val_acc: 0.9845\n",
      "Epoch 5/6\n",
      "39199/39199 [==============================] - 20s 506us/step - loss: 0.0804 - acc: 0.9744 - val_loss: 0.0453 - val_acc: 0.9868\n",
      "Epoch 6/6\n",
      "39199/39199 [==============================] - 20s 508us/step - loss: 0.0762 - acc: 0.9758 - val_loss: 0.0447 - val_acc: 0.9865\n",
      "{'parameters': {'batch_size': 50, 'epochs': 6, 'learning-rate': 0.001, 'pool-size': (3, 3), 'activation': 'relu', 'dropout': 0.7}, 'time': 123.34337306022644, 'history': <keras.callbacks.History object at 0x000001A9EE79C630>, 'model': <keras.engine.sequential.Sequential object at 0x000001A9A76F45C0>}\n",
      "Train on 39199 samples, validate on 16800 samples\n",
      "Epoch 1/6\n",
      "39199/39199 [==============================] - 22s 559us/step - loss: 0.2695 - acc: 0.9161 - val_loss: 0.0969 - val_acc: 0.9708\n",
      "Epoch 2/6\n",
      "39199/39199 [==============================] - 23s 583us/step - loss: 0.1015 - acc: 0.9675 - val_loss: 0.0666 - val_acc: 0.9793\n",
      "Epoch 3/6\n",
      "39199/39199 [==============================] - 23s 591us/step - loss: 0.0763 - acc: 0.9760 - val_loss: 0.0588 - val_acc: 0.9826\n",
      "Epoch 4/6\n",
      "39199/39199 [==============================] - 20s 511us/step - loss: 0.0621 - acc: 0.9799 - val_loss: 0.0543 - val_acc: 0.9840\n",
      "Epoch 5/6\n",
      "39199/39199 [==============================] - 20s 510us/step - loss: 0.0530 - acc: 0.9824 - val_loss: 0.0504 - val_acc: 0.9843\n",
      "Epoch 6/6\n",
      "39199/39199 [==============================] - 20s 515us/step - loss: 0.0455 - acc: 0.9849 - val_loss: 0.0454 - val_acc: 0.9862\n",
      "{'parameters': {'batch_size': 50, 'epochs': 6, 'learning-rate': 0.001, 'pool-size': (3, 3), 'activation': 'relu', 'dropout': 0.5}, 'time': 128.69773650169373, 'history': <keras.callbacks.History object at 0x000001A9EECBAF98>, 'model': <keras.engine.sequential.Sequential object at 0x000001A9EE989CC0>}\n",
      "Train on 39199 samples, validate on 16800 samples\n",
      "Epoch 1/6\n",
      "39199/39199 [==============================] - 25s 637us/step - loss: 0.8981 - acc: 0.7357 - val_loss: 0.3516 - val_acc: 0.9042\n",
      "Epoch 2/6\n",
      "39199/39199 [==============================] - 24s 621us/step - loss: 0.3829 - acc: 0.8835 - val_loss: 0.2468 - val_acc: 0.9317\n",
      "Epoch 3/6\n",
      "39199/39199 [==============================] - 22s 571us/step - loss: 0.2942 - acc: 0.9109 - val_loss: 0.1930 - val_acc: 0.9470\n",
      "Epoch 4/6\n",
      "39199/39199 [==============================] - 21s 530us/step - loss: 0.2394 - acc: 0.9280 - val_loss: 0.1582 - val_acc: 0.9552\n",
      "Epoch 5/6\n",
      "39199/39199 [==============================] - 21s 525us/step - loss: 0.2069 - acc: 0.9380 - val_loss: 0.1389 - val_acc: 0.9601\n",
      "Epoch 6/6\n",
      "39199/39199 [==============================] - 24s 603us/step - loss: 0.1861 - acc: 0.9434 - val_loss: 0.1221 - val_acc: 0.9655\n",
      "{'parameters': {'batch_size': 50, 'epochs': 6, 'learning-rate': 0.0001, 'pool-size': (3, 3), 'activation': 'relu', 'dropout': 0.7}, 'time': 137.18848276138306, 'history': <keras.callbacks.History object at 0x000001A9A8080898>, 'model': <keras.engine.sequential.Sequential object at 0x000001A9EEFDF128>}\n",
      "Train on 39199 samples, validate on 16800 samples\n",
      "Epoch 1/6\n",
      "39199/39199 [==============================] - 26s 662us/step - loss: 0.7630 - acc: 0.7862 - val_loss: 0.3028 - val_acc: 0.9159\n",
      "Epoch 2/6\n",
      "39199/39199 [==============================] - 27s 682us/step - loss: 0.2910 - acc: 0.9142 - val_loss: 0.2057 - val_acc: 0.9441\n",
      "Epoch 3/6\n",
      "39199/39199 [==============================] - 23s 582us/step - loss: 0.2225 - acc: 0.9340 - val_loss: 0.1619 - val_acc: 0.9557\n",
      "Epoch 4/6\n",
      "39199/39199 [==============================] - 24s 621us/step - loss: 0.1845 - acc: 0.9448 - val_loss: 0.1369 - val_acc: 0.9625\n",
      "Epoch 5/6\n",
      "39199/39199 [==============================] - 25s 642us/step - loss: 0.1563 - acc: 0.9528 - val_loss: 0.1198 - val_acc: 0.9670\n",
      "Epoch 6/6\n",
      "39199/39199 [==============================] - 28s 718us/step - loss: 0.1403 - acc: 0.9577 - val_loss: 0.1078 - val_acc: 0.9693\n",
      "{'parameters': {'batch_size': 50, 'epochs': 6, 'learning-rate': 0.0001, 'pool-size': (3, 3), 'activation': 'relu', 'dropout': 0.5}, 'time': 153.71971797943115, 'history': <keras.callbacks.History object at 0x000001A9A7F76F98>, 'model': <keras.engine.sequential.Sequential object at 0x000001A9EF5D2E48>}\n",
      "Train on 39199 samples, validate on 16800 samples\n",
      "Epoch 1/12\n",
      "39199/39199 [==============================] - 29s 740us/step - loss: 0.3285 - acc: 0.8985 - val_loss: 0.1062 - val_acc: 0.9680\n",
      "Epoch 2/12\n",
      "39199/39199 [==============================] - 26s 662us/step - loss: 0.1376 - acc: 0.9560 - val_loss: 0.0734 - val_acc: 0.9778\n",
      "Epoch 3/12\n",
      "22300/39199 [================>.............] - ETA: 10s - loss: 0.1113 - acc: 0.9644"
     ]
    }
   ],
   "source": [
    "start_cnn_optim = time.time()\n",
    "counter = 0\n",
    "for bs in batch_size:\n",
    "    for epoch in epochs:\n",
    "        for lr in learning_rate:\n",
    "            for pool_s in pool_size:\n",
    "                for activat in activation:\n",
    "                    for drop in dropout:\n",
    "                        start_cnn_optim_each_model = time.time()\n",
    "                        model_cnn_optim = model_util.get_cnn_model(activation=activat,\n",
    "                                                                   pool_size=pool_s,\n",
    "                                                                   dropout=drop,\n",
    "                                                                  learning_rate=lr)\n",
    "                        history_cnn_optim = model_cnn_optim.fit(X_train_cnn,\n",
    "                                            y_train_cnn_cat,\n",
    "                                            validation_data=(X_val_cnn, y_val_cnn_cat),\n",
    "                                            epochs=epoch,\n",
    "                                            batch_size=bs)\n",
    "                        \n",
    "                        end_cnn_optim_each_model = time.time()\n",
    "                        total_cnn_optim_each_model = end_cnn_optim_each_model - start_cnn_optim_each_model\n",
    "                        \n",
    "                        classifier_cnn[counter] = {'parameters':\n",
    "                                               {\n",
    "                                                   'batch_size': bs,\n",
    "                                                   'epochs': epoch,\n",
    "                                                   'learning-rate': lr,\n",
    "                                                   'pool-size': pool_s,\n",
    "                                                   'activation': activat,\n",
    "                                                   'dropout': drop\n",
    "                                               },\n",
    "                                                   'time': total_cnn_optim_each_model,\n",
    "                                                   'history': history_cnn_optim,\n",
    "                                                   'model': model_cnn_optim\n",
    "                                              }\n",
    "                        print(classifier_cnn[counter])\n",
    "                        counter += 1\n",
    "                    \n",
    "                    \n",
    "end_cnn_optim = time.time()\n",
    "total_cnn_optim = end_cnn_optim - start_cnn_optim"
   ]
  },
  {
   "cell_type": "markdown",
   "metadata": {},
   "source": [
    "> Find the best model (accuracy)"
   ]
  },
  {
   "cell_type": "code",
   "execution_count": 16,
   "metadata": {},
   "outputs": [
    {
     "data": {
      "text/plain": [
       "0.95428571388835"
      ]
     },
     "execution_count": 16,
     "metadata": {},
     "output_type": "execute_result"
    }
   ],
   "source": [
    "classifier_cnn[0]['history'].history['val_acc'][-1]"
   ]
  },
  {
   "cell_type": "code",
   "execution_count": null,
   "metadata": {},
   "outputs": [],
   "source": [
    "max_acc = max(float(d['scores']['accuracy']) for d in classifier_cnn.values())\n",
    "for key, value in classifier_cnn.items() :\n",
    "    print(value['scores']['accuracy'] == max_acc)"
   ]
  },
  {
   "cell_type": "code",
   "execution_count": null,
   "metadata": {},
   "outputs": [],
   "source": [
    "optim_cnn = classifier_cnn[5]"
   ]
  },
  {
   "cell_type": "code",
   "execution_count": null,
   "metadata": {},
   "outputs": [],
   "source": [
    "optim_cnn_time_score = {}\n",
    "optim_cnn_time_score['scores'] = optim_cnn['scores']\n",
    "optim_cnn_time_score['time'] = optim_cnn['time'] "
   ]
  },
  {
   "cell_type": "code",
   "execution_count": null,
   "metadata": {},
   "outputs": [],
   "source": [
    "optim_cnn_time_score"
   ]
  },
  {
   "cell_type": "code",
   "execution_count": null,
   "metadata": {},
   "outputs": [],
   "source": [
    "optim_cnn_params_to_store = optim_cnn\n",
    "optim_cnn_params_to_store = optim_classifier.pop(['history'])\n",
    "optim_cnn_params_to_store = optim_classifier.pop(['model'])"
   ]
  },
  {
   "cell_type": "code",
   "execution_count": null,
   "metadata": {},
   "outputs": [],
   "source": [
    "plt.plot(history_optim_cnn_gridsearch.history['acc'])\n",
    "plt.plot(history_optim_cnn_gridsearch.history['val_acc'])\n",
    "plt.title('Convolutional Neural Network model accuracy')\n",
    "plt.ylabel('accuracy')\n",
    "plt.xlabel('epoch')\n",
    "plt.legend(['train', 'test'], loc='lower right')\n",
    "plt.show()\n",
    "\n",
    "plt.plot(history_optim_cnn_gridsearch.history['loss'])\n",
    "plt.plot(history_optim_cnn_gridsearch.history['val_loss'])\n",
    "plt.title('Convolutional Neural Network model loss')\n",
    "plt.ylabel('loss')\n",
    "plt.xlabel('epoch')\n",
    "plt.legend(['train', 'test'], loc='upper right')\n",
    "plt.show()"
   ]
  },
  {
   "cell_type": "markdown",
   "metadata": {},
   "source": [
    "## Confusion Matrix"
   ]
  },
  {
   "cell_type": "code",
   "execution_count": null,
   "metadata": {},
   "outputs": [],
   "source": [
    "# Note: Have to use 'original' labels, i.e. no 'to_categorical'\n",
    "y_pred_optim_cnn_gridsearch = model_optim_cnn_gridsearch.predict_classes(X_val_cnn)\n",
    "conf_mat_optim_cnn = confusion_matrix(y_val_cnn, y_pred_optim_cnn_gridsearch)\n",
    "\n",
    "plot_utils.plot_confusion_matrix(conf_mat_optim_cnn)\n",
    "target_names = ['0','1', '2','3','4','5','6','7','8','9']  \n",
    "print(classification_report(y_test_cnn, y_pred_optim_cnn_gridsearch, target_names=target_names))"
   ]
  }
 ],
 "metadata": {
  "kernelspec": {
   "display_name": "DAT158",
   "language": "python",
   "name": "dat158"
  },
  "language_info": {
   "codemirror_mode": {
    "name": "ipython",
    "version": 3
   },
   "file_extension": ".py",
   "mimetype": "text/x-python",
   "name": "python",
   "nbconvert_exporter": "python",
   "pygments_lexer": "ipython3",
   "version": "3.6.6"
  }
 },
 "nbformat": 4,
 "nbformat_minor": 2
}
