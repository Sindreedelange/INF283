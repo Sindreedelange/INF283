{
 "cells": [
  {
   "cell_type": "code",
   "execution_count": 1,
   "metadata": {},
   "outputs": [
    {
     "name": "stderr",
     "output_type": "stream",
     "text": [
      "Using TensorFlow backend.\n"
     ]
    }
   ],
   "source": [
    "import pandas as pd\n",
    "import numpy as np\n",
    "import os\n",
    "import sys\n",
    "import time\n",
    "from sklearn.model_selection import train_test_split\n",
    "from sklearn.preprocessing import OneHotEncoder\n",
    "import matplotlib.pyplot as plt\n",
    "import pickle\n",
    "from sklearn.model_selection import GridSearchCV\n",
    "import matplotlib.patches as npatches\n",
    "from sklearn.metrics import confusion_matrix\n",
    "\n",
    "from keras.models import Sequential\n",
    "from keras.layers.core import Dense\n",
    "from keras.optimizers import Adam\n",
    "from keras import regularizers\n",
    "import keras\n",
    "\n",
    "from keras.layers import Dropout\n",
    "from keras.layers import Flatten\n",
    "from keras.layers.convolutional import Conv2D\n",
    "from keras.layers.convolutional import MaxPooling2D\n",
    "from keras.datasets import mnist\n",
    "from keras.utils import np_utils\n",
    "from keras.wrappers.scikit_learn import KerasClassifier"
   ]
  },
  {
   "cell_type": "code",
   "execution_count": 2,
   "metadata": {},
   "outputs": [],
   "source": [
    "# Reproducible results\n",
    "random_state = 42\n",
    "np.random.seed(random_state)"
   ]
  },
  {
   "cell_type": "markdown",
   "metadata": {},
   "source": [
    "# Data"
   ]
  },
  {
   "cell_type": "code",
   "execution_count": 3,
   "metadata": {},
   "outputs": [],
   "source": [
    "def get_data(one_hot_enc=True, reshape=False, train_val_test=False):\n",
    "    DATA_PATH = \"../data/\"\n",
    "    file_list = os.listdir(DATA_PATH)\n",
    "    images_path = file_list[0]\n",
    "    labels_path = file_list[1]\n",
    "    images_path_full = os.path.join(DATA_PATH + images_path)\n",
    "    labels_path_full = os.path.join(DATA_PATH + labels_path)\n",
    "    X = pd.read_csv(images_path_full)\n",
    "    if reshape:\n",
    "        X = X.values.astype('float32')\n",
    "        # Normalize data\n",
    "        X = X / 255\n",
    "        # Reshape for cnn \n",
    "        X = X.reshape([-1, 28, 28, 1]).astype('float32')\n",
    "    else:\n",
    "        # Normalize data\n",
    "        X = X / 255\n",
    "    y = pd.read_csv(labels_path_full)\n",
    "    # Encode labels\n",
    "    if one_hot_enc:\n",
    "        encoder = OneHotEncoder(sparse=False, categories='auto')\n",
    "        y = encoder.fit_transform(y)\n",
    "    # Divide into train and test set \n",
    "    X_train, X_test, y_train, y_test = train_test_split(X, y, test_size=0.2, random_state=random_state)\n",
    "    if train_val_test:\n",
    "        X_train, X_val, y_train, y_val = train_test_split(X_train, y_train, test_size=0.3, random_state=random_state)\n",
    "        return X_train, X_val, X_test, y_train, y_val, y_test\n",
    "    else:\n",
    "        return X_train, X_test, y_train, y_test"
   ]
  },
  {
   "cell_type": "code",
   "execution_count": 4,
   "metadata": {},
   "outputs": [],
   "source": [
    "def print_data_shapes_val(X_train, X_val, X_test, y_train, y_val, y_test):\n",
    "    print(\"X_train_nn: \", X_train.shape)\n",
    "    print(\"X_val_nn: \", X_val.shape)\n",
    "    print(\"X_test_nn: \", X_test.shape)\n",
    "    print(\"y_train_nn: \", y_train.shape)\n",
    "    print(\"y_val_nn: \", y_val.shape)\n",
    "    print(\"y_test_nn: \", y_test.shape)"
   ]
  },
  {
   "cell_type": "code",
   "execution_count": 5,
   "metadata": {},
   "outputs": [],
   "source": [
    "def print_data_shapes_nval(X_train, X_test, y_train, y_test):\n",
    "    print(\"X_train_nn: \", X_train.shape)\n",
    "    print(\"X_test_nn: \", X_test.shape)\n",
    "    print(\"y_train_nn: \", y_train.shape)\n",
    "    print(\"y_test_nn: \", y_test.shape)"
   ]
  },
  {
   "cell_type": "markdown",
   "metadata": {},
   "source": [
    "# Classifiers"
   ]
  },
  {
   "cell_type": "code",
   "execution_count": 14,
   "metadata": {},
   "outputs": [],
   "source": [
    "classifiers_dict = {}"
   ]
  },
  {
   "cell_type": "code",
   "execution_count": 6,
   "metadata": {},
   "outputs": [],
   "source": [
    "model_folder_path = \"../models/\""
   ]
  },
  {
   "cell_type": "code",
   "execution_count": 38,
   "metadata": {},
   "outputs": [],
   "source": [
    "dictionary_path = \"../dictionaries/\""
   ]
  },
  {
   "cell_type": "code",
   "execution_count": 16,
   "metadata": {},
   "outputs": [],
   "source": [
    "learning_rate = 1e-3\n",
    "optimizer = Adam(lr=learning_rate)"
   ]
  },
  {
   "cell_type": "markdown",
   "metadata": {},
   "source": [
    "### Standard Neural Net"
   ]
  },
  {
   "cell_type": "code",
   "execution_count": 7,
   "metadata": {},
   "outputs": [],
   "source": [
    "X_train_nn, X_val_nn, X_test_nn, y_train_nn, y_val_nn, y_test_nn = get_data(train_val_test=True)"
   ]
  },
  {
   "cell_type": "code",
   "execution_count": 107,
   "metadata": {},
   "outputs": [],
   "source": [
    "model_name_nn = \"MNIST_nn\"\n",
    "model_name_ext_nn = \".hdf5\"\n",
    "full_path_nn = model_folder_path + model_name_nn + model_name_ext_nn"
   ]
  },
  {
   "cell_type": "code",
   "execution_count": 108,
   "metadata": {},
   "outputs": [],
   "source": [
    "# Load the model\n",
    "model_nn = keras.models.load_model(full_path_nn)"
   ]
  },
  {
   "cell_type": "code",
   "execution_count": 109,
   "metadata": {},
   "outputs": [],
   "source": [
    "# Params\n",
    "\n",
    "# Model compile\n",
    "metrics = ['accuracy']\n",
    "loss = 'categorical_crossentropy'\n",
    "\n",
    "# Model architecture\n",
    "regularizer_l2 = regularizers.l2(0.01)\n",
    "\n",
    "# Model fit\n",
    "epochs = 12\n",
    "batch_size = 64"
   ]
  },
  {
   "cell_type": "code",
   "execution_count": 110,
   "metadata": {},
   "outputs": [
    {
     "name": "stdout",
     "output_type": "stream",
     "text": [
      "X_train_nn:  (39199, 784)\n",
      "X_val_nn:  (16800, 784)\n",
      "X_test_nn:  (14000, 784)\n",
      "y_train_nn:  (39199, 10)\n",
      "y_val_nn:  (16800, 10)\n",
      "y_test_nn:  (14000, 10)\n"
     ]
    }
   ],
   "source": [
    "print_data_shapes_val(X_train_nn, X_val_nn, X_test_nn, y_train_nn, y_val_nn, y_test_nn)"
   ]
  },
  {
   "cell_type": "code",
   "execution_count": 111,
   "metadata": {},
   "outputs": [],
   "source": [
    "model_nn = Sequential()\n",
    "model_nn.add(Dense(256, input_dim=784, activation='relu', kernel_regularizer=regularizer_l2))\n",
    "model_nn.add(Dense(128, activation='relu'))\n",
    "model_nn.add(Dense(60, activation='relu', kernel_regularizer=regularizer_l2))\n",
    "model_nn.add(Dense(10, activation='softmax'))"
   ]
  },
  {
   "cell_type": "code",
   "execution_count": 112,
   "metadata": {},
   "outputs": [],
   "source": [
    "model_nn.compile(loss=loss, optimizer=optimizer, metrics=metrics)"
   ]
  },
  {
   "cell_type": "code",
   "execution_count": 113,
   "metadata": {
    "scrolled": true
   },
   "outputs": [
    {
     "name": "stdout",
     "output_type": "stream",
     "text": [
      "Train on 39199 samples, validate on 16800 samples\n",
      "Epoch 1/12\n",
      "39199/39199 [==============================] - 8s 202us/step - loss: 0.7080 - acc: 0.8970 - val_loss: 0.4618 - val_acc: 0.9263\n",
      "Epoch 2/12\n",
      "39199/39199 [==============================] - 7s 185us/step - loss: 0.4026 - acc: 0.9362 - val_loss: 0.4102 - val_acc: 0.9286\n",
      "Epoch 3/12\n",
      "39199/39199 [==============================] - 7s 187us/step - loss: 0.3556 - acc: 0.9453 - val_loss: 0.3394 - val_acc: 0.9477\n",
      "Epoch 4/12\n",
      "39199/39199 [==============================] - 7s 190us/step - loss: 0.3225 - acc: 0.9493 - val_loss: 0.3236 - val_acc: 0.9493\n",
      "Epoch 5/12\n",
      "39199/39199 [==============================] - 7s 182us/step - loss: 0.3032 - acc: 0.9532 - val_loss: 0.3182 - val_acc: 0.9476\n",
      "Epoch 6/12\n",
      "39199/39199 [==============================] - 7s 190us/step - loss: 0.2860 - acc: 0.9560 - val_loss: 0.2868 - val_acc: 0.9562\n",
      "Epoch 7/12\n",
      "39199/39199 [==============================] - 8s 192us/step - loss: 0.2750 - acc: 0.9584 - val_loss: 0.2821 - val_acc: 0.9543\n",
      "Epoch 8/12\n",
      "39199/39199 [==============================] - 8s 200us/step - loss: 0.2608 - acc: 0.9606 - val_loss: 0.2968 - val_acc: 0.9471\n",
      "Epoch 9/12\n",
      "39199/39199 [==============================] - 8s 204us/step - loss: 0.2599 - acc: 0.9595 - val_loss: 0.2700 - val_acc: 0.9554\n",
      "Epoch 10/12\n",
      "39199/39199 [==============================] - 8s 203us/step - loss: 0.2476 - acc: 0.9614 - val_loss: 0.2633 - val_acc: 0.9557\n",
      "Epoch 11/12\n",
      "39199/39199 [==============================] - 10s 257us/step - loss: 0.2451 - acc: 0.9617 - val_loss: 0.2990 - val_acc: 0.9452\n",
      "Epoch 12/12\n",
      "39199/39199 [==============================] - 9s 222us/step - loss: 0.2375 - acc: 0.9630 - val_loss: 0.2553 - val_acc: 0.9583\n",
      "14000/14000 [==============================] - 1s 83us/step\n"
     ]
    }
   ],
   "source": [
    "start_nn = time.time()\n",
    "history_nn = model_nn.fit(X_train_nn, y_train_nn, validation_data=(X_val_nn, y_val_nn), epochs=epochs, batch_size=batch_size)\n",
    "end_nn = time.time()\n",
    "scores_nn = model_nn.evaluate(X_test_nn, y_test_nn)"
   ]
  },
  {
   "cell_type": "code",
   "execution_count": 75,
   "metadata": {},
   "outputs": [],
   "source": [
    "tot_nn = round(end_nn - start_nn, 2)"
   ]
  },
  {
   "cell_type": "code",
   "execution_count": 76,
   "metadata": {
    "scrolled": true
   },
   "outputs": [
    {
     "name": "stdout",
     "output_type": "stream",
     "text": [
      "Scores:  [0.2433919607741492, 0.9611428571428572] \n",
      " Training time:  75.03  seconds\n"
     ]
    }
   ],
   "source": [
    "print(\"Scores: \", scores_nn, \"\\n Training time: \", tot_nn, \" seconds\")"
   ]
  },
  {
   "cell_type": "markdown",
   "metadata": {},
   "source": [
    "> Can see that the model is somewhat overfitting - Will try to implement *Regularizer*\n",
    "<br>\n",
    "This resulted in a loss in accuracy, but there is a trade off between accuracy and overfitting"
   ]
  },
  {
   "cell_type": "code",
   "execution_count": 114,
   "metadata": {},
   "outputs": [],
   "source": [
    "classifiers_dict['NN'] = {'accuracy': scores_nn[1], 'time': tot_nn}"
   ]
  },
  {
   "cell_type": "code",
   "execution_count": 115,
   "metadata": {},
   "outputs": [],
   "source": [
    "keras.models.save_model(model_nn, full_path_nn)"
   ]
  },
  {
   "cell_type": "markdown",
   "metadata": {},
   "source": [
    "### CNN"
   ]
  },
  {
   "cell_type": "code",
   "execution_count": 8,
   "metadata": {},
   "outputs": [],
   "source": [
    "X_train_cnn, X_val_cnn, X_test_cnn, y_train_cnn, y_val_cnn, y_test_cnn = get_data(one_hot_enc=False, reshape=True, train_val_test=True)"
   ]
  },
  {
   "cell_type": "code",
   "execution_count": 163,
   "metadata": {},
   "outputs": [],
   "source": [
    "y_train_cnn = np_utils.to_categorical(y_train_cnn)\n",
    "y_val_cnn = np_utils.to_categorical(y_val_cnn)\n",
    "y_test_cnn = np_utils.to_categorical(y_test_cnn)"
   ]
  },
  {
   "cell_type": "code",
   "execution_count": 164,
   "metadata": {},
   "outputs": [
    {
     "name": "stdout",
     "output_type": "stream",
     "text": [
      "X_train_nn:  (39199, 28, 28, 1)\n",
      "X_val_nn:  (16800, 28, 28, 1)\n",
      "X_test_nn:  (14000, 28, 28, 1)\n",
      "y_train_nn:  (39199, 10)\n",
      "y_val_nn:  (16800, 10)\n",
      "y_test_nn:  (14000, 10)\n"
     ]
    }
   ],
   "source": [
    "print_data_shapes_val(X_train_cnn, X_val_cnn, X_test_cnn, y_train_cnn, y_val_cnn, y_test_cnn)"
   ]
  },
  {
   "cell_type": "code",
   "execution_count": 13,
   "metadata": {},
   "outputs": [],
   "source": [
    "model_name_cnn = \"MNIST_cnn\"\n",
    "model_name_ext_cnn = \".hdf5\"\n",
    "full_path_cnn = model_folder_path + model_name_cnn + model_name_ext_cnn"
   ]
  },
  {
   "cell_type": "code",
   "execution_count": 45,
   "metadata": {},
   "outputs": [],
   "source": [
    "# Load the model\n",
    "# model_cnn = keras.models.load_model(full_path_cnn)"
   ]
  },
  {
   "cell_type": "code",
   "execution_count": 153,
   "metadata": {},
   "outputs": [],
   "source": [
    "model_cnn = Sequential()\n",
    "model_cnn.add(Conv2D(32, (5, 5), input_shape=(28, 28, 1), activation='relu'))\n",
    "model_cnn.add(MaxPooling2D(pool_size=(2, 2)))\n",
    "model_cnn.add(Dropout(0.4))\n",
    "model_cnn.add(Flatten())\n",
    "model_cnn.add(Dense(128, activation='relu'))\n",
    "model_cnn.add(Dense(10, activation='softmax'))"
   ]
  },
  {
   "cell_type": "code",
   "execution_count": 156,
   "metadata": {},
   "outputs": [],
   "source": [
    "model_cnn.compile(loss='categorical_crossentropy', optimizer=optimizer, metrics=['accuracy'])"
   ]
  },
  {
   "cell_type": "markdown",
   "metadata": {},
   "source": [
    "> Tried implementing with GridSearchCV, but it seems there is a problem with combining Keras Classifier and GridSearchCV\n",
    "\n",
    "https://stackoverflow.com/questions/48717451/keras-kerasclassifier-gridsearch-typeerror-cant-pickle-thread-lock-objects"
   ]
  },
  {
   "cell_type": "code",
   "execution_count": 157,
   "metadata": {},
   "outputs": [
    {
     "name": "stdout",
     "output_type": "stream",
     "text": [
      "Train on 39199 samples, validate on 16800 samples\n",
      "Epoch 1/4\n",
      "39199/39199 [==============================] - 20s 503us/step - loss: 0.3073 - acc: 0.9109 - val_loss: 0.1250 - val_acc: 0.9632\n",
      "Epoch 2/4\n",
      "39199/39199 [==============================] - 20s 514us/step - loss: 0.1010 - acc: 0.9702 - val_loss: 0.0811 - val_acc: 0.9761\n",
      "Epoch 3/4\n",
      "39199/39199 [==============================] - 21s 543us/step - loss: 0.0711 - acc: 0.9780 - val_loss: 0.0671 - val_acc: 0.9802\n",
      "Epoch 4/4\n",
      "39199/39199 [==============================] - 20s 518us/step - loss: 0.0595 - acc: 0.9810 - val_loss: 0.0631 - val_acc: 0.9805\n",
      "14000/14000 [==============================] - 3s 245us/step\n"
     ]
    }
   ],
   "source": [
    "start_cnn = time.time()\n",
    "history_cnn = model_cnn.fit(X_train_cnn, y_train_cnn, validation_data=(X_val_cnn, y_val_cnn), epochs=4, batch_size=200)\n",
    "end_cnn = time.time()\n",
    "scores_cnn = model_cnn.evaluate(X_test_cnn, y_test_cnn)"
   ]
  },
  {
   "cell_type": "code",
   "execution_count": 44,
   "metadata": {},
   "outputs": [],
   "source": [
    "tot_cnn = round(end_cnn - start_cnn, 2)"
   ]
  },
  {
   "cell_type": "code",
   "execution_count": 41,
   "metadata": {
    "scrolled": true
   },
   "outputs": [
    {
     "name": "stdout",
     "output_type": "stream",
     "text": [
      "Scores:  [0.04565956243426938, 0.9862142857142857] \n",
      " Training time:  90.88  seconds\n"
     ]
    }
   ],
   "source": [
    "print(\"Scores: \", scores_cnn, \"\\n Training time: \", tot_cnn, \" seconds\")"
   ]
  },
  {
   "cell_type": "code",
   "execution_count": 140,
   "metadata": {},
   "outputs": [],
   "source": [
    "classifiers_dict['CNN'] = {'accuracy': scores_cnn[1], 'time': tot_cnn}"
   ]
  },
  {
   "cell_type": "code",
   "execution_count": 43,
   "metadata": {},
   "outputs": [],
   "source": [
    "# Save the model\n",
    "keras.models.save_model(model_cnn, full_path_cnn)"
   ]
  },
  {
   "cell_type": "markdown",
   "metadata": {},
   "source": [
    "### Random Forest"
   ]
  },
  {
   "cell_type": "code",
   "execution_count": 49,
   "metadata": {},
   "outputs": [],
   "source": [
    "from sklearn.ensemble import RandomForestClassifier\n",
    "from sklearn.metrics import accuracy_score"
   ]
  },
  {
   "cell_type": "code",
   "execution_count": 50,
   "metadata": {},
   "outputs": [],
   "source": [
    "X_train_rf, X_test_rf, y_train_rf, y_test_rf = get_data()"
   ]
  },
  {
   "cell_type": "code",
   "execution_count": 51,
   "metadata": {},
   "outputs": [
    {
     "name": "stdout",
     "output_type": "stream",
     "text": [
      "X_train_nn:  (55999, 784)\n",
      "X_test_nn:  (14000, 784)\n",
      "y_train_nn:  (55999, 10)\n",
      "y_test_nn:  (14000, 10)\n"
     ]
    }
   ],
   "source": [
    "print_data_shapes_nval(X_train_rf, X_test_rf, y_train_rf, y_test_rf)"
   ]
  },
  {
   "cell_type": "code",
   "execution_count": 52,
   "metadata": {},
   "outputs": [],
   "source": [
    "model_name_rf = \"MNIST_Random_Forest\"\n",
    "model_name_ext_rf = \".pickle.dat\"\n",
    "full_path_rf = model_folder_path + model_name_rf + model_name_ext_rf"
   ]
  },
  {
   "cell_type": "code",
   "execution_count": 53,
   "metadata": {},
   "outputs": [],
   "source": [
    "# Load model\n",
    "random_f_clf = pickle.load(open(full_path_rf, \"rb\"))"
   ]
  },
  {
   "cell_type": "code",
   "execution_count": 54,
   "metadata": {},
   "outputs": [],
   "source": [
    "random_f_clf = RandomForestClassifier(n_estimators=50,\n",
    "                                     n_jobs = 2,\n",
    "                                     random_state=random_state)\n",
    "start_rf = time.time()\n",
    "random_f_clf.fit(X_train_rf, y_train_rf)\n",
    "end_rf = time.time()"
   ]
  },
  {
   "cell_type": "code",
   "execution_count": 55,
   "metadata": {},
   "outputs": [],
   "source": [
    "tot_rf = round(end_rf - start_rf, 2)"
   ]
  },
  {
   "cell_type": "code",
   "execution_count": 56,
   "metadata": {},
   "outputs": [],
   "source": [
    "y_pred_rf = random_f_clf.predict(X_test_rf)\n",
    "scores_rf = accuracy_score(y_test_rf, y_pred_rf)"
   ]
  },
  {
   "cell_type": "code",
   "execution_count": 57,
   "metadata": {
    "scrolled": false
   },
   "outputs": [
    {
     "name": "stdout",
     "output_type": "stream",
     "text": [
      "Scores:  0.8957857142857143 \n",
      " Training time:  15.95  seconds\n"
     ]
    }
   ],
   "source": [
    "print(\"Scores: \", scores_rf, \"\\n Training time: \", tot_rf, \" seconds\")"
   ]
  },
  {
   "cell_type": "code",
   "execution_count": 58,
   "metadata": {},
   "outputs": [],
   "source": [
    "classifiers_dict['RF'] = {'accuracy': scores_rf, 'time': tot_rf}"
   ]
  },
  {
   "cell_type": "code",
   "execution_count": 133,
   "metadata": {},
   "outputs": [],
   "source": [
    "# Save the model\n",
    "pickle.dump(random_f_clf, open(full_path_rf, \"wb\"))"
   ]
  },
  {
   "cell_type": "markdown",
   "metadata": {},
   "source": [
    "### XGBoost"
   ]
  },
  {
   "cell_type": "code",
   "execution_count": 34,
   "metadata": {},
   "outputs": [],
   "source": [
    "# If needing to install xgboost (using conda)\n",
    "# ! conda install py-xgboost"
   ]
  },
  {
   "cell_type": "code",
   "execution_count": 153,
   "metadata": {},
   "outputs": [],
   "source": [
    "from xgboost import XGBClassifier"
   ]
  },
  {
   "cell_type": "code",
   "execution_count": 154,
   "metadata": {},
   "outputs": [],
   "source": [
    "X_train_xgb, X_test_xgb, y_train_xgb, y_test_xgb = get_data(one_hot_enc=False)"
   ]
  },
  {
   "cell_type": "code",
   "execution_count": 155,
   "metadata": {
    "scrolled": true
   },
   "outputs": [
    {
     "name": "stdout",
     "output_type": "stream",
     "text": [
      "X_train_nn:  (55999, 784)\n",
      "X_test_nn:  (14000, 784)\n",
      "y_train_nn:  (55999, 1)\n",
      "y_test_nn:  (14000, 1)\n"
     ]
    }
   ],
   "source": [
    "print_data_shapes_nval(X_train_xgb, X_test_xgb, y_train_xgb, y_test_xgb)"
   ]
  },
  {
   "cell_type": "code",
   "execution_count": 156,
   "metadata": {},
   "outputs": [],
   "source": [
    "model_name_xgb = \"MNIST_XGBoost\"\n",
    "model_name_ext_xgb = \".pickle.dat\"\n",
    "full_path_xgb = model_folder_path + model_name_xgb + model_name_ext_xgb"
   ]
  },
  {
   "cell_type": "markdown",
   "metadata": {},
   "source": [
    "### NOTE: If you want to save time - load the model. "
   ]
  },
  {
   "cell_type": "code",
   "execution_count": 157,
   "metadata": {},
   "outputs": [],
   "source": [
    "# Load the model\n",
    "# optim_est_xgb = pickle.load(open(full_path_xgb), \"rb\")"
   ]
  },
  {
   "cell_type": "code",
   "execution_count": 158,
   "metadata": {},
   "outputs": [],
   "source": [
    "params = {\n",
    "        'gamma': [0.5, 2],\n",
    "        'subsample': [0.6, 1.0],\n",
    "        'colsample_bytree': [0.6, 1.0],\n",
    "        'max_depth': [3, 5],\n",
    "        'n_estimators': [5, 10]\n",
    "        }"
   ]
  },
  {
   "cell_type": "markdown",
   "metadata": {},
   "source": [
    "Fun to try with more parameters, but my poor CPU cannot take any more.."
   ]
  },
  {
   "cell_type": "markdown",
   "metadata": {},
   "source": [
    "## Disclaimer: This takes a lot of time"
   ]
  },
  {
   "cell_type": "code",
   "execution_count": 159,
   "metadata": {},
   "outputs": [],
   "source": [
    "%%capture \n",
    "xgb_clf = XGBClassifier()\n",
    "rs = GridSearchCV(xgb_clf,\n",
    "                  params,\n",
    "                  cv=2,\n",
    "                  scoring=\"accuracy\",\n",
    "                  n_jobs=1,\n",
    "                  verbose=2)\n",
    "start_xgb = time.time()\n",
    "rs.fit(X_train_xgb, y_train_xgb.values.ravel())\n",
    "end_xgb = time.time()"
   ]
  },
  {
   "cell_type": "code",
   "execution_count": 160,
   "metadata": {},
   "outputs": [
    {
     "name": "stdout",
     "output_type": "stream",
     "text": [
      "XGBClassifier(base_score=0.5, booster='gbtree', colsample_bylevel=1,\n",
      "       colsample_bytree=0.6, gamma=0.5, learning_rate=0.1,\n",
      "       max_delta_step=0, max_depth=5, min_child_weight=1, missing=None,\n",
      "       n_estimators=10, n_jobs=1, nthread=None, objective='multi:softprob',\n",
      "       random_state=0, reg_alpha=0, reg_lambda=1, scale_pos_weight=1,\n",
      "       seed=None, silent=True, subsample=1.0)\n"
     ]
    }
   ],
   "source": [
    "optim_est_xgb = rs.best_estimator_\n",
    "print(optim_est_xgb)"
   ]
  },
  {
   "cell_type": "code",
   "execution_count": 161,
   "metadata": {},
   "outputs": [],
   "source": [
    "tot_xgb = round(end_xgb - start_xgb, 2)"
   ]
  },
  {
   "cell_type": "code",
   "execution_count": 162,
   "metadata": {},
   "outputs": [],
   "source": [
    "y_pred_xgb = optim_est_xgb.predict(X_test_xgb)\n",
    "scores_xgb = accuracy_score(y_test_xgb, y_pred_xgb)"
   ]
  },
  {
   "cell_type": "code",
   "execution_count": 163,
   "metadata": {},
   "outputs": [
    {
     "name": "stdout",
     "output_type": "stream",
     "text": [
      "Scores:  0.9046428571428572 \n",
      " Training time:  2489.19  seconds\n"
     ]
    }
   ],
   "source": [
    "print(\"Scores: \", scores_xgb, \"\\n Training time: \", tot_xgb, \" seconds\")"
   ]
  },
  {
   "cell_type": "code",
   "execution_count": 164,
   "metadata": {},
   "outputs": [],
   "source": [
    "classifiers_dict['XGB'] = {'scores': scores_xgb, 'time': tot_xgb}"
   ]
  },
  {
   "cell_type": "code",
   "execution_count": 165,
   "metadata": {},
   "outputs": [],
   "source": [
    "pickle.dump(optim_est_xgb, open(full_path_xgb, \"wb\"))"
   ]
  },
  {
   "cell_type": "markdown",
   "metadata": {},
   "source": [
    "> Saving the dictionary to file"
   ]
  },
  {
   "cell_type": "code",
   "execution_count": 37,
   "metadata": {},
   "outputs": [],
   "source": [
    "classifiers_dict_f_name = \"classifiers_dict.npy\"\n",
    "classifiers_dict_f_path = dictionary_path + classifiers_dict_f_name"
   ]
  },
  {
   "cell_type": "code",
   "execution_count": 167,
   "metadata": {},
   "outputs": [],
   "source": [
    "np.save(classifiers_dict_f_path, classifiers_dict)"
   ]
  },
  {
   "cell_type": "markdown",
   "metadata": {},
   "source": [
    "## Evaluating"
   ]
  },
  {
   "cell_type": "code",
   "execution_count": 14,
   "metadata": {},
   "outputs": [],
   "source": [
    "# To load the classifiers dict:\n",
    "classifiers_dict = np.load(classifiers_dict_f_path).item()"
   ]
  },
  {
   "cell_type": "code",
   "execution_count": 15,
   "metadata": {},
   "outputs": [
    {
     "data": {
      "text/plain": [
       "{'NN': {'accuracy': 0.9642142857142857, 'time': 94.46},\n",
       " 'CNN': {'accuracy': 0.9862142857142857, 'time': 90.88},\n",
       " 'RF': {'accuracy': 0.8957857142857143, 'time': 16.93},\n",
       " 'XGB': {'accuracy': 0.9046428571428572, 'time': 2489.19}}"
      ]
     },
     "execution_count": 15,
     "metadata": {},
     "output_type": "execute_result"
    }
   ],
   "source": [
    "classifiers_dict"
   ]
  },
  {
   "cell_type": "code",
   "execution_count": 36,
   "metadata": {
    "scrolled": true
   },
   "outputs": [],
   "source": [
    "accuracy_list = []\n",
    "time_list = []\n",
    "classifiers_list = []\n",
    "for k, v in classifiers_dict.items():\n",
    "    classifiers_list.append(k)\n",
    "    accuracy_list.append(classifiers_dict[k]['accuracy'])\n",
    "    time_list.append(classifiers_dict[k]['time'])"
   ]
  },
  {
   "cell_type": "markdown",
   "metadata": {},
   "source": [
    "> I want to plot both time and accuracy in the same plot, for the different classifiers, but accuracy ranges from 0-1, while time ranges from approximately 16 seconds to 2500 seconds. This means I have to normalize the time values, so that they are between 0 and 1."
   ]
  },
  {
   "cell_type": "code",
   "execution_count": 42,
   "metadata": {},
   "outputs": [
    {
     "name": "stdout",
     "output_type": "stream",
     "text": [
      "0.0379480875304818\n",
      "0.036509868672138325\n",
      "0.006801409293786332\n",
      "1.0\n"
     ]
    }
   ],
   "source": [
    "# normalize time list\n",
    "normalizing_constant = max(time_list)\n",
    "for i in range(len(time_list)):\n",
    "    time_list[i] = time_list[i]/normalizing_constant\n",
    "    print(time_list[i])"
   ]
  },
  {
   "cell_type": "code",
   "execution_count": 63,
   "metadata": {},
   "outputs": [
    {
     "data": {
      "image/png": "[encoded data removed]",
      "text/plain": [
       "<Figure size 432x288 with 1 Axes>"
      ]
     },
     "metadata": {},
     "output_type": "display_data"
    }
   ],
   "source": [
    "y_pos = np.arange(len(classifiers_list))\n",
    "bar_width = 0.3\n",
    "plt.bar(y_pos, accuracy_list, width=bar_width, color='b', align='center')\n",
    "plt.bar(y_pos + bar_width, time_list, width=bar_width, color='r', align='center')\n",
    "plt.xticks(y_pos, classifiers_list)\n",
    "plt.title('Accuracy & training time for each classifier')\n",
    "\n",
    "blue = npatches.Patch(color='blue', label='accuracy')\n",
    "red = npatches.Patch(color='red', label='time')\n",
    "\n",
    "plt.legend(handles=[blue, red])\n",
    "plt.tight_layout()\n",
    "plt.show()"
   ]
  },
  {
   "cell_type": "markdown",
   "metadata": {},
   "source": [
    "> Pretty simple to see that XGBoost is poluting the plot - remove it, and try again, to get a better look at the actually successfull models"
   ]
  },
  {
   "cell_type": "code",
   "execution_count": 103,
   "metadata": {},
   "outputs": [
    {
     "data": {
      "text/plain": [
       "'XGB'"
      ]
     },
     "execution_count": 103,
     "metadata": {},
     "output_type": "execute_result"
    }
   ],
   "source": [
    "xgb_index = classifiers_list.index('XGB')\n",
    "accuracy_list.pop(xgb_index)\n",
    "time_list.pop(xgb_index)\n",
    "classifiers_list.pop(xgb_index)"
   ]
  },
  {
   "cell_type": "markdown",
   "metadata": {},
   "source": [
    "> Still have to normalize time values "
   ]
  },
  {
   "cell_type": "code",
   "execution_count": 116,
   "metadata": {},
   "outputs": [
    {
     "name": "stdout",
     "output_type": "stream",
     "text": [
      "1.0\n",
      "0.9621003599407156\n",
      "0.1792293034088503\n"
     ]
    }
   ],
   "source": [
    "normalizing_constant = max(time_list)\n",
    "for i in range(len(time_list)):\n",
    "    time_list[i] = time_list[i]/normalizing_constant\n",
    "    print(time_list[i])"
   ]
  },
  {
   "cell_type": "code",
   "execution_count": 117,
   "metadata": {
    "scrolled": true
   },
   "outputs": [
    {
     "data": {
      "image/png": "[encoded data removed]",
      "text/plain": [
       "<Figure size 432x288 with 1 Axes>"
      ]
     },
     "metadata": {},
     "output_type": "display_data"
    }
   ],
   "source": [
    "y_pos = np.arange(len(classifiers_list))\n",
    "bar_width = 0.3\n",
    "plt.bar(y_pos, accuracy_list, width=bar_width, color='b', align='center')\n",
    "plt.bar(y_pos + bar_width, time_list, width=bar_width, color='r', align='center')\n",
    "plt.xticks(y_pos, classifiers_list)\n",
    "plt.title('Accuracy & training time for each classifier')\n",
    "\n",
    "blue = npatches.Patch(color='blue', label='accuracy')\n",
    "red = npatches.Patch(color='red', label='time')\n",
    "\n",
    "plt.legend(handles=[blue, red])\n",
    "plt.tight_layout()\n",
    "plt.show()"
   ]
  },
  {
   "cell_type": "markdown",
   "metadata": {},
   "source": [
    "Can see that NN and CNN are relatively equal, with CNN edging a small advantage in both metrics, and far superior to Random Forest - accuracy-wise. Random Forest on the other hand is much better time-wise. If the data set would've required computation time equal to many hours, then Random Forest would probably be the most relevant model, at least for a starter model. However, the difference in time is approximately 1 minute, while the accuracy difference is ~ 10%.  "
   ]
  },
  {
   "cell_type": "markdown",
   "metadata": {},
   "source": [
    "## Confusion Matrix"
   ]
  },
  {
   "cell_type": "markdown",
   "metadata": {},
   "source": [
    "> Random Forest"
   ]
  },
  {
   "cell_type": "code",
   "execution_count": 126,
   "metadata": {},
   "outputs": [
    {
     "data": {
      "text/plain": [
       "array([[1365,    0,    0,    0,    0,    0,    0,    0,    0,    0],\n",
       "       [  53, 1537,    1,    0,    0,    0,    0,    1,    0,    0],\n",
       "       [ 139,    0, 1242,    0,    0,    0,    1,    3,    2,    1],\n",
       "       [ 194,    0,    5, 1182,    0,    2,    0,    4,    6,    1],\n",
       "       [ 121,    0,    0,    0, 1237,    0,    1,    1,    0,   13],\n",
       "       [ 196,    0,    2,    4,    0, 1039,    0,    0,    2,    0],\n",
       "       [ 103,    2,    0,    0,    1,    1, 1290,    0,    0,    0],\n",
       "       [ 105,    1,    3,    0,    0,    0,    0, 1337,    0,    7],\n",
       "       [ 209,    3,    1,    3,    1,    0,    0,    0, 1140,    1],\n",
       "       [ 191,    0,    1,    0,    4,    1,    0,    4,    0, 1236]],\n",
       "      dtype=int64)"
      ]
     },
     "execution_count": 126,
     "metadata": {},
     "output_type": "execute_result"
    }
   ],
   "source": [
    "confusion_matrix(y_test_rf.argmax(axis=1), y_pred_rf.argmax(axis=1))"
   ]
  },
  {
   "cell_type": "markdown",
   "metadata": {},
   "source": [
    "> XGBoost"
   ]
  },
  {
   "cell_type": "code",
   "execution_count": null,
   "metadata": {},
   "outputs": [],
   "source": [
    "confusion_matrix(y_test_rf, y_pred_rf)"
   ]
  },
  {
   "cell_type": "markdown",
   "metadata": {},
   "source": [
    "## Looking at the data"
   ]
  },
  {
   "cell_type": "code",
   "execution_count": 9,
   "metadata": {},
   "outputs": [
    {
     "data": {
      "text/plain": [
       "<matplotlib.image.AxesImage at 0x1a43a73fe10>"
      ]
     },
     "execution_count": 9,
     "metadata": {},
     "output_type": "execute_result"
    },
    {
     "data": {
      "image/png": "[encoded data removed]",
      "text/plain": [
       "<Figure size 432x288 with 1 Axes>"
      ]
     },
     "metadata": {},
     "output_type": "display_data"
    }
   ],
   "source": [
    "plt.imshow(X_train_cnn[3].reshape(28, 28), cmap='gray')"
   ]
  },
  {
   "cell_type": "code",
   "execution_count": 11,
   "metadata": {},
   "outputs": [
    {
     "data": {
      "text/plain": [
       "array([[0.        , 0.        , 0.        , 0.        , 0.        ,\n",
       "        0.        , 0.        , 0.        , 0.        , 0.        ,\n",
       "        0.        , 0.        , 0.        , 0.        , 0.        ,\n",
       "        0.        , 0.        , 0.        , 0.        , 0.        ,\n",
       "        0.        , 0.        , 0.        , 0.        , 0.        ,\n",
       "        0.        , 0.        , 0.        ],\n",
       "       [0.        , 0.        , 0.        , 0.        , 0.        ,\n",
       "        0.        , 0.        , 0.        , 0.        , 0.        ,\n",
       "        0.        , 0.        , 0.        , 0.        , 0.        ,\n",
       "        0.        , 0.        , 0.        , 0.        , 0.        ,\n",
       "        0.        , 0.        , 0.        , 0.        , 0.        ,\n",
       "        0.        , 0.        , 0.        ],\n",
       "       [0.        , 0.        , 0.        , 0.        , 0.        ,\n",
       "        0.        , 0.        , 0.        , 0.        , 0.        ,\n",
       "        0.        , 0.        , 0.        , 0.        , 0.        ,\n",
       "        0.        , 0.        , 0.        , 0.        , 0.        ,\n",
       "        0.        , 0.        , 0.        , 0.        , 0.        ,\n",
       "        0.        , 0.        , 0.        ],\n",
       "       [0.        , 0.        , 0.        , 0.        , 0.        ,\n",
       "        0.        , 0.        , 0.        , 0.        , 0.        ,\n",
       "        0.        , 0.        , 0.        , 0.        , 0.        ,\n",
       "        0.        , 0.        , 0.        , 0.        , 0.        ,\n",
       "        0.        , 0.        , 0.        , 0.        , 0.        ,\n",
       "        0.        , 0.        , 0.        ],\n",
       "       [0.        , 0.        , 0.        , 0.        , 0.        ,\n",
       "        0.        , 0.        , 0.        , 0.        , 0.        ,\n",
       "        0.        , 0.        , 0.        , 0.        , 0.        ,\n",
       "        0.        , 0.        , 0.        , 0.        , 0.        ,\n",
       "        0.        , 0.        , 0.        , 0.        , 0.        ,\n",
       "        0.        , 0.        , 0.        ],\n",
       "       [0.        , 0.        , 0.        , 0.        , 0.        ,\n",
       "        0.        , 0.        , 0.        , 0.        , 0.        ,\n",
       "        0.        , 0.        , 0.        , 0.        , 0.        ,\n",
       "        0.        , 0.        , 0.11372549, 0.16862746, 0.16862746,\n",
       "        0.10980392, 0.        , 0.        , 0.        , 0.        ,\n",
       "        0.        , 0.        , 0.        ],\n",
       "       [0.        , 0.        , 0.        , 0.        , 0.        ,\n",
       "        0.        , 0.        , 0.        , 0.        , 0.        ,\n",
       "        0.        , 0.        , 0.        , 0.        , 0.33333334,\n",
       "        0.33333334, 0.33333334, 0.76862746, 0.98039216, 0.9882353 ,\n",
       "        0.7607843 , 0.16470589, 0.        , 0.        , 0.        ,\n",
       "        0.        , 0.        , 0.        ],\n",
       "       [0.        , 0.        , 0.        , 0.        , 0.        ,\n",
       "        0.        , 0.        , 0.        , 0.        , 0.        ,\n",
       "        0.        , 0.        , 0.        , 0.        , 0.9882353 ,\n",
       "        0.98039216, 0.98039216, 0.98039216, 0.98039216, 0.9882353 ,\n",
       "        0.98039216, 0.7372549 , 0.49803922, 0.08235294, 0.        ,\n",
       "        0.        , 0.        , 0.        ],\n",
       "       [0.        , 0.        , 0.        , 0.        , 0.        ,\n",
       "        0.        , 0.        , 0.        , 0.        , 0.        ,\n",
       "        0.        , 0.        , 0.44705883, 0.65882355, 0.9882353 ,\n",
       "        0.98039216, 0.98039216, 0.98039216, 0.98039216, 0.9882353 ,\n",
       "        0.98039216, 0.98039216, 0.98039216, 0.16078432, 0.        ,\n",
       "        0.        , 0.        , 0.        ],\n",
       "       [0.        , 0.        , 0.        , 0.        , 0.        ,\n",
       "        0.        , 0.        , 0.        , 0.        , 0.        ,\n",
       "        0.        , 0.        , 0.10588235, 0.8509804 , 0.9882353 ,\n",
       "        0.98039216, 0.98039216, 0.98039216, 0.98039216, 0.9882353 ,\n",
       "        0.98039216, 0.98039216, 0.98039216, 0.8509804 , 0.        ,\n",
       "        0.        , 0.        , 0.        ],\n",
       "       [0.        , 0.        , 0.        , 0.        , 0.        ,\n",
       "        0.        , 0.        , 0.        , 0.        , 0.        ,\n",
       "        0.05882353, 0.5803922 , 0.9882353 , 0.9882353 , 0.99607843,\n",
       "        0.9882353 , 0.9882353 , 0.8784314 , 0.8235294 , 0.83137256,\n",
       "        0.8784314 , 0.9882353 , 0.9882353 , 0.9882353 , 0.        ,\n",
       "        0.        , 0.        , 0.        ],\n",
       "       [0.        , 0.        , 0.        , 0.        , 0.        ,\n",
       "        0.        , 0.        , 0.        , 0.        , 0.33333334,\n",
       "        0.54901963, 0.98039216, 0.98039216, 0.98039216, 0.93333334,\n",
       "        0.6509804 , 0.6509804 , 0.21568628, 0.        , 0.33333334,\n",
       "        0.54901963, 0.98039216, 0.7607843 , 0.6509804 , 0.        ,\n",
       "        0.        , 0.        , 0.        ],\n",
       "       [0.        , 0.        , 0.        , 0.        , 0.        ,\n",
       "        0.        , 0.        , 0.        , 0.41960785, 0.9882353 ,\n",
       "        0.98039216, 0.98039216, 0.98039216, 0.98039216, 0.4117647 ,\n",
       "        0.        , 0.        , 0.        , 0.        , 0.9882353 ,\n",
       "        0.98039216, 0.98039216, 0.654902  , 0.08235294, 0.        ,\n",
       "        0.        , 0.        , 0.        ],\n",
       "       [0.        , 0.        , 0.        , 0.        , 0.        ,\n",
       "        0.        , 0.33333334, 0.65882355, 0.92941177, 0.9882353 ,\n",
       "        0.98039216, 0.98039216, 0.5372549 , 0.3254902 , 0.        ,\n",
       "        0.        , 0.        , 0.44705883, 0.65882355, 0.9882353 ,\n",
       "        0.98039216, 0.98039216, 0.5372549 , 0.05490196, 0.        ,\n",
       "        0.        , 0.        , 0.        ],\n",
       "       [0.        , 0.        , 0.        , 0.        , 0.        ,\n",
       "        0.        , 0.49803922, 0.98039216, 0.98039216, 0.9882353 ,\n",
       "        0.98039216, 0.5647059 , 0.05490196, 0.        , 0.        ,\n",
       "        0.        , 0.        , 0.10588235, 0.8509804 , 0.9882353 ,\n",
       "        0.98039216, 0.98039216, 0.3254902 , 0.        , 0.        ,\n",
       "        0.        , 0.        , 0.        ],\n",
       "       [0.        , 0.        , 0.        , 0.        , 0.        ,\n",
       "        0.33333334, 0.9882353 , 0.9882353 , 0.9882353 , 0.85882354,\n",
       "        0.10980392, 0.        , 0.        , 0.        , 0.        ,\n",
       "        0.05882353, 0.5803922 , 0.9882353 , 0.9882353 , 1.        ,\n",
       "        0.9882353 , 0.49411765, 0.        , 0.        , 0.        ,\n",
       "        0.        , 0.        , 0.        ],\n",
       "       [0.        , 0.        , 0.        , 0.        , 0.05882353,\n",
       "        0.54901963, 0.98039216, 0.98039216, 0.98039216, 0.93333334,\n",
       "        0.43529412, 0.        , 0.        , 0.        , 0.05882353,\n",
       "        0.54901963, 0.98039216, 0.98039216, 0.98039216, 0.93333334,\n",
       "        0.6509804 , 0.3254902 , 0.        , 0.        , 0.        ,\n",
       "        0.        , 0.        , 0.        ],\n",
       "       [0.        , 0.        , 0.        , 0.        , 0.16862746,\n",
       "        0.98039216, 0.98039216, 0.98039216, 0.98039216, 0.8235294 ,\n",
       "        0.        , 0.        , 0.        , 0.        , 0.16862746,\n",
       "        0.98039216, 0.98039216, 0.98039216, 0.98039216, 0.8235294 ,\n",
       "        0.        , 0.        , 0.        , 0.        , 0.        ,\n",
       "        0.        , 0.        , 0.        ],\n",
       "       [0.        , 0.        , 0.        , 0.        , 0.7176471 ,\n",
       "        0.98039216, 0.98039216, 0.98039216, 0.98039216, 0.27450982,\n",
       "        0.        , 0.33333334, 0.65882355, 0.65882355, 0.7176471 ,\n",
       "        0.98039216, 0.98039216, 0.5372549 , 0.3254902 , 0.27450982,\n",
       "        0.        , 0.        , 0.        , 0.        , 0.        ,\n",
       "        0.        , 0.        , 0.        ],\n",
       "       [0.        , 0.        , 0.        , 0.        , 0.29803923,\n",
       "        0.98039216, 0.98039216, 0.98039216, 0.98039216, 0.83137256,\n",
       "        0.8235294 , 0.9019608 , 0.98039216, 0.98039216, 0.9882353 ,\n",
       "        0.98039216, 0.98039216, 0.8745098 , 0.13333334, 0.        ,\n",
       "        0.        , 0.        , 0.        , 0.        , 0.        ,\n",
       "        0.        , 0.        , 0.        ],\n",
       "       [0.        , 0.        , 0.        , 0.        , 0.85882354,\n",
       "        0.9882353 , 0.9882353 , 0.9882353 , 0.9882353 , 0.99607843,\n",
       "        0.9882353 , 0.9882353 , 0.9882353 , 0.9882353 , 1.        ,\n",
       "        0.9882353 , 0.90588236, 0.27450982, 0.        , 0.        ,\n",
       "        0.        , 0.        , 0.        , 0.        , 0.        ,\n",
       "        0.        , 0.        , 0.        ],\n",
       "       [0.        , 0.        , 0.        , 0.        , 0.16862746,\n",
       "        0.98039216, 0.98039216, 0.98039216, 0.98039216, 0.9882353 ,\n",
       "        0.98039216, 0.98039216, 0.98039216, 0.7019608 , 0.654902  ,\n",
       "        0.6509804 , 0.3254902 , 0.        , 0.        , 0.        ,\n",
       "        0.        , 0.        , 0.        , 0.        , 0.        ,\n",
       "        0.        , 0.        , 0.        ],\n",
       "       [0.        , 0.        , 0.        , 0.        , 0.08235294,\n",
       "        0.6509804 , 0.98039216, 0.98039216, 0.98039216, 0.9882353 ,\n",
       "        0.98039216, 0.98039216, 0.98039216, 0.16078432, 0.        ,\n",
       "        0.        , 0.        , 0.        , 0.        , 0.        ,\n",
       "        0.        , 0.        , 0.        , 0.        , 0.        ,\n",
       "        0.        , 0.        , 0.        ],\n",
       "       [0.        , 0.        , 0.        , 0.        , 0.        ,\n",
       "        0.10980392, 0.3254902 , 0.3254902 , 0.3254902 , 0.3254902 ,\n",
       "        0.3254902 , 0.3254902 , 0.3254902 , 0.05490196, 0.        ,\n",
       "        0.        , 0.        , 0.        , 0.        , 0.        ,\n",
       "        0.        , 0.        , 0.        , 0.        , 0.        ,\n",
       "        0.        , 0.        , 0.        ],\n",
       "       [0.        , 0.        , 0.        , 0.        , 0.        ,\n",
       "        0.        , 0.        , 0.        , 0.        , 0.        ,\n",
       "        0.        , 0.        , 0.        , 0.        , 0.        ,\n",
       "        0.        , 0.        , 0.        , 0.        , 0.        ,\n",
       "        0.        , 0.        , 0.        , 0.        , 0.        ,\n",
       "        0.        , 0.        , 0.        ],\n",
       "       [0.        , 0.        , 0.        , 0.        , 0.        ,\n",
       "        0.        , 0.        , 0.        , 0.        , 0.        ,\n",
       "        0.        , 0.        , 0.        , 0.        , 0.        ,\n",
       "        0.        , 0.        , 0.        , 0.        , 0.        ,\n",
       "        0.        , 0.        , 0.        , 0.        , 0.        ,\n",
       "        0.        , 0.        , 0.        ],\n",
       "       [0.        , 0.        , 0.        , 0.        , 0.        ,\n",
       "        0.        , 0.        , 0.        , 0.        , 0.        ,\n",
       "        0.        , 0.        , 0.        , 0.        , 0.        ,\n",
       "        0.        , 0.        , 0.        , 0.        , 0.        ,\n",
       "        0.        , 0.        , 0.        , 0.        , 0.        ,\n",
       "        0.        , 0.        , 0.        ],\n",
       "       [0.        , 0.        , 0.        , 0.        , 0.        ,\n",
       "        0.        , 0.        , 0.        , 0.        , 0.        ,\n",
       "        0.        , 0.        , 0.        , 0.        , 0.        ,\n",
       "        0.        , 0.        , 0.        , 0.        , 0.        ,\n",
       "        0.        , 0.        , 0.        , 0.        , 0.        ,\n",
       "        0.        , 0.        , 0.        ]], dtype=float32)"
      ]
     },
     "execution_count": 11,
     "metadata": {},
     "output_type": "execute_result"
    }
   ],
   "source": [
    "X_train_cnn[3].reshape(28, 28)"
   ]
  },
  {
   "cell_type": "code",
   "execution_count": 88,
   "metadata": {},
   "outputs": [
    {
     "data": {
      "text/plain": [
       "<matplotlib.image.AxesImage at 0x21d9213c9b0>"
      ]
     },
     "execution_count": 88,
     "metadata": {},
     "output_type": "execute_result"
    },
    {
     "data": {
      "image/png": "[encoded data removed]",
      "text/plain": [
       "<Figure size 432x288 with 1 Axes>"
      ]
     },
     "metadata": {},
     "output_type": "display_data"
    }
   ],
   "source": [
    "plt.imshow(X_train_cnn[0].reshape(28, 28), cmap='gray')"
   ]
  },
  {
   "cell_type": "markdown",
   "metadata": {},
   "source": [
    "### Plots"
   ]
  },
  {
   "cell_type": "code",
   "execution_count": 53,
   "metadata": {},
   "outputs": [
    {
     "data": {
      "image/png": "[encoded data removed]",
      "text/plain": [
       "<Figure size 432x288 with 1 Axes>"
      ]
     },
     "metadata": {},
     "output_type": "display_data"
    },
    {
     "data": {
      "image/png": "[encoded data removed]",
      "text/plain": [
       "<Figure size 432x288 with 1 Axes>"
      ]
     },
     "metadata": {},
     "output_type": "display_data"
    }
   ],
   "source": [
    "plt.plot(history_nn.history['acc'])\n",
    "plt.plot(history_nn.history['val_acc'])\n",
    "plt.title('Neural Network model accuracy')\n",
    "plt.ylabel('accuracy')\n",
    "plt.xlabel('epoch')\n",
    "plt.legend(['train', 'test'], loc='lower right')\n",
    "plt.show()\n",
    "\n",
    "plt.plot(history_nn.history['loss'])\n",
    "plt.plot(history_nn.history['val_loss'])\n",
    "plt.title('Neural Network model loss')\n",
    "plt.ylabel('loss')\n",
    "plt.xlabel('epoch')\n",
    "plt.legend(['train', 'test'], loc='upper right')\n",
    "plt.show()"
   ]
  },
  {
   "cell_type": "code",
   "execution_count": 54,
   "metadata": {},
   "outputs": [
    {
     "data": {
      "image/png": "[encoded data removed]",
      "text/plain": [
       "<Figure size 432x288 with 1 Axes>"
      ]
     },
     "metadata": {},
     "output_type": "display_data"
    },
    {
     "data": {
      "image/png": "[encoded data removed]",
      "text/plain": [
       "<Figure size 432x288 with 1 Axes>"
      ]
     },
     "metadata": {},
     "output_type": "display_data"
    }
   ],
   "source": [
    "plt.plot(history_cnn.history['acc'])\n",
    "plt.plot(history_cnn.history['val_acc'])\n",
    "plt.title('Convolutional Neural Network model accuracy')\n",
    "plt.ylabel('accuracy')\n",
    "plt.xlabel('epoch')\n",
    "plt.legend(['train', 'test'], loc='lower right')\n",
    "plt.show()\n",
    "\n",
    "plt.plot(history_cnn.history['loss'])\n",
    "plt.plot(history_cnn.history['val_loss'])\n",
    "plt.title('Convolutional Neural Network model loss')\n",
    "plt.ylabel('loss')\n",
    "plt.xlabel('epoch')\n",
    "plt.legend(['train', 'test'], loc='upper right')\n",
    "plt.show()"
   ]
  },
  {
   "cell_type": "markdown",
   "metadata": {},
   "source": [
    "> Looks like the CNN is overfitting - should probably implement some regularization techniques to combat this. Will do this in the next section when tuning hyperparameters. "
   ]
  },
  {
   "cell_type": "markdown",
   "metadata": {},
   "source": [
    "# Conclusion"
   ]
  },
  {
   "cell_type": "markdown",
   "metadata": {},
   "source": [
    "It is pretty clear that neural networks are the way to go, more specifically that convolutional neural networks are superior at recognizing images (confirming every experiment made since cnn's were invented). \n",
    "\n",
    "With this in mind it seems only necessary to do hyperparameter tuning for the aformentioned cnn. "
   ]
  },
  {
   "cell_type": "code",
   "execution_count": 29,
   "metadata": {},
   "outputs": [],
   "source": [
    "def create_cnn_model(optimizer, activation='relu', pool_size=(2, 2), dropout=0.4):\n",
    "    model_cnn = Sequential()\n",
    "    model_cnn.add(Conv2D(32, (5, 5), input_shape=(28, 28, 1), activation=activation))\n",
    "    model_cnn.add(MaxPooling2D(pool_size=(pool_size)))\n",
    "    model_cnn.add(Dropout(dropout))\n",
    "    model_cnn.add(Flatten())\n",
    "    model_cnn.add(Dense(128, activation=activation))\n",
    "    model_cnn.add(Dense(10, activation='softmax'))\n",
    "    model_cnn.compile(loss='categorical_crossentropy', optimizer=optimizer, metrics=['accuracy'])\n",
    "    return model_cnn"
   ]
  },
  {
   "cell_type": "code",
   "execution_count": 30,
   "metadata": {},
   "outputs": [],
   "source": [
    "batch_size = [50, 100]\n",
    "epochs = [3, 6]\n",
    "learning_rate = [1e-3, 1e-4]\n",
    "pool_size = [(3, 3)]\n",
    "activation = ['relu']\n",
    "dropout = [6e-1, 4e-1]\n",
    "classifier_cnn = {}"
   ]
  },
  {
   "cell_type": "markdown",
   "metadata": {},
   "source": [
    "> **NOTE** <br>\n",
    "Do not find it necessary to test other optimizers other than Adam, seeing as this combines the best of two worlds: Momentum with RMSprop"
   ]
  },
  {
   "cell_type": "code",
   "execution_count": 84,
   "metadata": {},
   "outputs": [],
   "source": [
    "X_train_cnn, X_val_cnn, X_test_cnn, y_train_cnn, y_val_cnn, y_test_cnn = get_data(one_hot_enc=False, reshape=True, train_val_test=True)"
   ]
  },
  {
   "cell_type": "code",
   "execution_count": 82,
   "metadata": {},
   "outputs": [],
   "source": [
    "y_train_cnn = np_utils.to_categorical(y_train_cnn)\n",
    "y_val_cnn = np_utils.to_categorical(y_val_cnn)\n",
    "y_test_cnn = np_utils.to_categorical(y_test_cnn)"
   ]
  },
  {
   "cell_type": "code",
   "execution_count": 33,
   "metadata": {},
   "outputs": [
    {
     "name": "stdout",
     "output_type": "stream",
     "text": [
      "X_train_nn:  (39199, 28, 28, 1)\n",
      "X_val_nn:  (16800, 28, 28, 1)\n",
      "X_test_nn:  (14000, 28, 28, 1)\n",
      "y_train_nn:  (39199, 10)\n",
      "y_val_nn:  (16800, 10)\n",
      "y_test_nn:  (14000, 10)\n"
     ]
    }
   ],
   "source": [
    "print_data_shapes_val(X_train_cnn, X_val_cnn, X_test_cnn, y_train_cnn, y_val_cnn, y_test_cnn)"
   ]
  },
  {
   "cell_type": "code",
   "execution_count": 34,
   "metadata": {},
   "outputs": [
    {
     "name": "stdout",
     "output_type": "stream",
     "text": [
      "X_train_nn:  (39199, 28, 28, 1)\n",
      "X_val_nn:  (16800, 28, 28, 1)\n",
      "X_test_nn:  (14000, 28, 28, 1)\n",
      "y_train_nn:  (39199, 10)\n",
      "y_val_nn:  (16800, 10)\n",
      "y_test_nn:  (14000, 10)\n"
     ]
    }
   ],
   "source": [
    "print_data_shapes_val(X_train_cnn, X_val_cnn, X_test_cnn, y_train_cnn, y_val_cnn, y_test_cnn)"
   ]
  },
  {
   "cell_type": "code",
   "execution_count": 35,
   "metadata": {},
   "outputs": [
    {
     "name": "stdout",
     "output_type": "stream",
     "text": [
      "Train on 39199 samples, validate on 16800 samples\n",
      "Epoch 1/3\n",
      "39199/39199 [==============================] - 21s 531us/step - loss: 0.3114 - acc: 0.9046 - val_loss: 0.1076 - val_acc: 0.9686\n",
      "Epoch 2/3\n",
      "39199/39199 [==============================] - 18s 464us/step - loss: 0.1193 - acc: 0.9624 - val_loss: 0.0715 - val_acc: 0.9787\n",
      "Epoch 3/3\n",
      "39199/39199 [==============================] - 18s 455us/step - loss: 0.0913 - acc: 0.9708 - val_loss: 0.0588 - val_acc: 0.9823\n",
      "14000/14000 [==============================] - 3s 196us/step\n",
      "{'parameters': {'batch_size': 50, 'epochs': 3, 'learning-rate': 0.001, 'pool-size': (3, 3), 'activation': 'relu', 'dropout': 0.6}, 'scores': {'loss': 0.05558230483531952, 'accuracy': 0.9832857142857143}, 'time': 60.02967381477356, 'history': <keras.callbacks.History object at 0x000001A40F5E5748>, 'model': <keras.engine.sequential.Sequential object at 0x000001A42170AD30>}\n",
      "Train on 39199 samples, validate on 16800 samples\n",
      "Epoch 1/3\n",
      "39199/39199 [==============================] - 19s 474us/step - loss: 0.1516 - acc: 0.9519 - val_loss: 0.0672 - val_acc: 0.9808: 0.1759 - acc: - ETA: 3s - loss:\n",
      "Epoch 2/3\n",
      "39199/39199 [==============================] - 18s 461us/step - loss: 0.0625 - acc: 0.9797 - val_loss: 0.0528 - val_acc: 0.9842\n",
      "Epoch 3/3\n",
      "39199/39199 [==============================] - 19s 492us/step - loss: 0.0471 - acc: 0.9848 - val_loss: 0.0455 - val_acc: 0.9865\n",
      "14000/14000 [==============================] - 3s 243us/step\n",
      "{'parameters': {'batch_size': 50, 'epochs': 3, 'learning-rate': 0.001, 'pool-size': (3, 3), 'activation': 'relu', 'dropout': 0.4}, 'scores': {'loss': 0.044775445929794974, 'accuracy': 0.9871428571428571}, 'time': 59.70882034301758, 'history': <keras.callbacks.History object at 0x000001A40EC4B080>, 'model': <keras.engine.sequential.Sequential object at 0x000001A40F901FD0>}\n",
      "Train on 39199 samples, validate on 16800 samples\n",
      "Epoch 1/3\n",
      "39199/39199 [==============================] - 23s 594us/step - loss: 0.7916 - acc: 0.7809 - val_loss: 0.3104 - val_acc: 0.9171\n",
      "Epoch 2/3\n",
      "39199/39199 [==============================] - 21s 547us/step - loss: 0.3195 - acc: 0.9043 - val_loss: 0.2167 - val_acc: 0.9410ss: 0.3224  - ETA: 0s - loss: 0.3199 - acc: 0.90\n",
      "Epoch 3/3\n",
      "39199/39199 [==============================] - 19s 485us/step - loss: 0.2431 - acc: 0.9283 - val_loss: 0.1697 - val_acc: 0.9524\n",
      "14000/14000 [==============================] - 3s 216us/step\n",
      "{'parameters': {'batch_size': 50, 'epochs': 3, 'learning-rate': 0.0001, 'pool-size': (3, 3), 'activation': 'relu', 'dropout': 0.6}, 'scores': {'loss': 0.1703229313109602, 'accuracy': 0.9528571428571428}, 'time': 67.2021381855011, 'history': <keras.callbacks.History object at 0x000001A400802278>, 'model': <keras.engine.sequential.Sequential object at 0x000001A421774550>}\n",
      "Train on 39199 samples, validate on 16800 samples\n",
      "Epoch 1/3\n",
      "39199/39199 [==============================] - 20s 508us/step - loss: 0.3708 - acc: 0.8940 - val_loss: 0.1948 - val_acc: 0.9449\n",
      "Epoch 2/3\n",
      "39199/39199 [==============================] - 20s 512us/step - loss: 0.1892 - acc: 0.9442 - val_loss: 0.1509 - val_acc: 0.9565\n",
      "Epoch 3/3\n",
      "39199/39199 [==============================] - 24s 622us/step - loss: 0.1513 - acc: 0.9549 - val_loss: 0.1235 - val_acc: 0.9647\n",
      "14000/14000 [==============================] - 4s 276us/step\n",
      "{'parameters': {'batch_size': 50, 'epochs': 3, 'learning-rate': 0.0001, 'pool-size': (3, 3), 'activation': 'relu', 'dropout': 0.4}, 'scores': {'loss': 0.12220752038913114, 'accuracy': 0.9647142857142857}, 'time': 68.74296975135803, 'history': <keras.callbacks.History object at 0x000001A40079BBE0>, 'model': <keras.engine.sequential.Sequential object at 0x000001A400782FD0>}\n",
      "Train on 39199 samples, validate on 16800 samples\n",
      "Epoch 1/6\n",
      "39199/39199 [==============================] - 25s 639us/step - loss: 0.2973 - acc: 0.9072 - val_loss: 0.1031 - val_acc: 0.9693\n",
      "Epoch 2/6\n",
      "39199/39199 [==============================] - 20s 517us/step - loss: 0.1162 - acc: 0.9638 - val_loss: 0.0667 - val_acc: 0.9802\n",
      "Epoch 3/6\n",
      "39199/39199 [==============================] - 19s 495us/step - loss: 0.0902 - acc: 0.9709 - val_loss: 0.0571 - val_acc: 0.9821 lo\n",
      "Epoch 4/6\n",
      "39199/39199 [==============================] - 19s 489us/step - loss: 0.0729 - acc: 0.9778 - val_loss: 0.0477 - val_acc: 0.9858\n",
      "Epoch 5/6\n",
      "39199/39199 [==============================] - 21s 541us/step - loss: 0.0612 - acc: 0.9803 - val_loss: 0.0456 - val_acc: 0.9864\n",
      "Epoch 6/6\n",
      "39199/39199 [==============================] - 23s 580us/step - loss: 0.0529 - acc: 0.9825 - val_loss: 0.0443 - val_acc: 0.9860\n",
      "14000/14000 [==============================] - 4s 268us/step\n",
      "{'parameters': {'batch_size': 50, 'epochs': 6, 'learning-rate': 0.001, 'pool-size': (3, 3), 'activation': 'relu', 'dropout': 0.6}, 'scores': {'loss': 0.042237680155850416, 'accuracy': 0.9865714285714285}, 'time': 131.97702407836914, 'history': <keras.callbacks.History object at 0x000001A42179D400>, 'model': <keras.engine.sequential.Sequential object at 0x000001A410486358>}\n",
      "Train on 39199 samples, validate on 16800 samples\n",
      "Epoch 1/6\n",
      "39199/39199 [==============================] - 22s 565us/step - loss: 0.1540 - acc: 0.9515 - val_loss: 0.0700 - val_acc: 0.9785\n",
      "Epoch 2/6\n",
      "39199/39199 [==============================] - 19s 490us/step - loss: 0.0640 - acc: 0.9789 - val_loss: 0.0536 - val_acc: 0.9840\n",
      "Epoch 3/6\n",
      "39199/39199 [==============================] - 19s 495us/step - loss: 0.0481 - acc: 0.9841 - val_loss: 0.0455 - val_acc: 0.9867\n",
      "Epoch 4/6\n",
      "39199/39199 [==============================] - 20s 508us/step - loss: 0.0383 - acc: 0.9876 - val_loss: 0.0439 - val_acc: 0.9871\n",
      "Epoch 5/6\n",
      "39199/39199 [==============================] - 23s 593us/step - loss: 0.0325 - acc: 0.9887 - val_loss: 0.0424 - val_acc: 0.9885\n",
      "Epoch 6/6\n",
      "39199/39199 [==============================] - 24s 600us/step - loss: 0.0282 - acc: 0.9908 - val_loss: 0.0379 - val_acc: 0.9895\n",
      "14000/14000 [==============================] - 4s 280us/step\n",
      "{'parameters': {'batch_size': 50, 'epochs': 6, 'learning-rate': 0.001, 'pool-size': (3, 3), 'activation': 'relu', 'dropout': 0.4}, 'scores': {'loss': 0.038795391272237925, 'accuracy': 0.988}, 'time': 131.85629200935364, 'history': <keras.callbacks.History object at 0x000001A410B99FD0>, 'model': <keras.engine.sequential.Sequential object at 0x000001A4217A8A58>}\n",
      "Train on 39199 samples, validate on 16800 samples\n",
      "Epoch 1/6\n",
      "39199/39199 [==============================] - 22s 551us/step - loss: 0.8234 - acc: 0.7653 - val_loss: 0.3041 - val_acc: 0.9174\n",
      "Epoch 2/6\n",
      "39199/39199 [==============================] - 21s 532us/step - loss: 0.3118 - acc: 0.9078 - val_loss: 0.2102 - val_acc: 0.9437\n",
      "Epoch 3/6\n",
      "39199/39199 [==============================] - 20s 518us/step - loss: 0.2358 - acc: 0.9292 - val_loss: 0.1707 - val_acc: 0.9530\n",
      "Epoch 4/6\n",
      "39199/39199 [==============================] - 24s 616us/step - loss: 0.1957 - acc: 0.9407 - val_loss: 0.1381 - val_acc: 0.9618\n",
      "Epoch 5/6\n",
      "39199/39199 [==============================] - 23s 598us/step - loss: 0.1721 - acc: 0.9498 - val_loss: 0.1244 - val_acc: 0.9654\n",
      "Epoch 6/6\n",
      "39199/39199 [==============================] - 21s 536us/step - loss: 0.1530 - acc: 0.9542 - val_loss: 0.1077 - val_acc: 0.9695\n",
      "14000/14000 [==============================] - 3s 221us/step\n",
      "{'parameters': {'batch_size': 50, 'epochs': 6, 'learning-rate': 0.0001, 'pool-size': (3, 3), 'activation': 'relu', 'dropout': 0.6}, 'scores': {'loss': 0.10669362512230873, 'accuracy': 0.9696428571428571}, 'time': 134.92382669448853, 'history': <keras.callbacks.History object at 0x000001A4106997F0>, 'model': <keras.engine.sequential.Sequential object at 0x000001A411026EF0>}\n",
      "Train on 39199 samples, validate on 16800 samples\n",
      "Epoch 1/6\n",
      "39199/39199 [==============================] - 20s 515us/step - loss: 0.3699 - acc: 0.8917 - val_loss: 0.1832 - val_acc: 0.9488\n",
      "Epoch 2/6\n",
      "39199/39199 [==============================] - 20s 500us/step - loss: 0.1761 - acc: 0.9487 - val_loss: 0.1350 - val_acc: 0.9617TA: 2s - loss: 0.1794 - acc: \n",
      "Epoch 3/6\n",
      "39199/39199 [==============================] - 21s 532us/step - loss: 0.1402 - acc: 0.9586 - val_loss: 0.1117 - val_acc: 0.9686\n",
      "Epoch 4/6\n"
     ]
    },
    {
     "name": "stdout",
     "output_type": "stream",
     "text": [
      "39199/39199 [==============================] - 21s 547us/step - loss: 0.1197 - acc: 0.9647 - val_loss: 0.0977 - val_acc: 0.9726\n",
      "Epoch 5/6\n",
      "39199/39199 [==============================] - 21s 544us/step - loss: 0.1045 - acc: 0.9693 - val_loss: 0.0889 - val_acc: 0.9743\n",
      "Epoch 6/6\n",
      "39199/39199 [==============================] - 19s 482us/step - loss: 0.0948 - acc: 0.9701 - val_loss: 0.0828 - val_acc: 0.9760\n",
      "14000/14000 [==============================] - 3s 209us/step\n",
      "{'parameters': {'batch_size': 50, 'epochs': 6, 'learning-rate': 0.0001, 'pool-size': (3, 3), 'activation': 'relu', 'dropout': 0.4}, 'scores': {'loss': 0.08085641537713154, 'accuracy': 0.9762857142857143}, 'time': 125.70423936843872, 'history': <keras.callbacks.History object at 0x000001A410B96198>, 'model': <keras.engine.sequential.Sequential object at 0x000001A4106A6080>}\n",
      "Train on 39199 samples, validate on 16800 samples\n",
      "Epoch 1/3\n",
      "39199/39199 [==============================] - 17s 442us/step - loss: 0.3763 - acc: 0.8868 - val_loss: 0.1311 - val_acc: 0.960791 - acc: - ETA: 6s - loss: 0.5211 - acc: 0.844 - ETA: 6s - loss: 0.5197 - a - ETA: 5s - loss - - ETA: 1s - loss: 0.4012 - acc: 0.8 - ETA: 1s - loss: 0.\n",
      "Epoch 2/3\n",
      "39199/39199 [==============================] - 16s 419us/step - loss: 0.1312 - acc: 0.9595 - val_loss: 0.0822 - val_acc: 0.9757\n",
      "Epoch 3/3\n",
      "39199/39199 [==============================] - 17s 428us/step - loss: 0.1001 - acc: 0.9686 - val_loss: 0.0650 - val_acc: 0.9806\n",
      "14000/14000 [==============================] - 3s 244us/step\n",
      "{'parameters': {'batch_size': 100, 'epochs': 3, 'learning-rate': 0.001, 'pool-size': (3, 3), 'activation': 'relu', 'dropout': 0.6}, 'scores': {'loss': 0.06358189105668238, 'accuracy': 0.9815714285714285}, 'time': 54.34118723869324, 'history': <keras.callbacks.History object at 0x000001A411929B00>, 'model': <keras.engine.sequential.Sequential object at 0x000001A410FB9710>}\n",
      "Train on 39199 samples, validate on 16800 samples\n",
      "Epoch 1/3\n",
      "39199/39199 [==============================] - 20s 502us/step - loss: 0.1878 - acc: 0.9396 - val_loss: 0.0719 - val_acc: 0.9789\n",
      "Epoch 2/3\n",
      "39199/39199 [==============================] - 19s 494us/step - loss: 0.0685 - acc: 0.9779 - val_loss: 0.0538 - val_acc: 0.9838\n",
      "Epoch 3/3\n",
      "39199/39199 [==============================] - 16s 417us/step - loss: 0.0521 - acc: 0.9830 - val_loss: 0.0503 - val_acc: 0.9851\n",
      "14000/14000 [==============================] - 3s 205us/step\n",
      "{'parameters': {'batch_size': 100, 'epochs': 3, 'learning-rate': 0.001, 'pool-size': (3, 3), 'activation': 'relu', 'dropout': 0.4}, 'scores': {'loss': 0.04905196487996727, 'accuracy': 0.9852857142857143}, 'time': 58.76724576950073, 'history': <keras.callbacks.History object at 0x000001A421ECFA90>, 'model': <keras.engine.sequential.Sequential object at 0x000001A411937978>}\n",
      "Train on 39199 samples, validate on 16800 samples\n",
      "Epoch 1/3\n",
      "39199/39199 [==============================] - 18s 453us/step - loss: 1.0427 - acc: 0.7147 - val_loss: 0.3867 - val_acc: 0.8974ETA: 0s - loss: 1.0523 - acc: 0.\n",
      "Epoch 2/3\n",
      "39199/39199 [==============================] - 17s 435us/step - loss: 0.3745 - acc: 0.8907 - val_loss: 0.2599 - val_acc: 0.9297\n",
      "Epoch 3/3\n",
      "39199/39199 [==============================] - 17s 430us/step - loss: 0.2881 - acc: 0.9153 - val_loss: 0.2073 - val_acc: 0.9427\n",
      "14000/14000 [==============================] - 3s 243us/step\n",
      "{'parameters': {'batch_size': 100, 'epochs': 3, 'learning-rate': 0.0001, 'pool-size': (3, 3), 'activation': 'relu', 'dropout': 0.6}, 'scores': {'loss': 0.20755724103535925, 'accuracy': 0.9421428571428572}, 'time': 55.51535749435425, 'history': <keras.callbacks.History object at 0x000001A42D17BA20>, 'model': <keras.engine.sequential.Sequential object at 0x000001A421EEAF28>}\n",
      "Train on 39199 samples, validate on 16800 samples\n",
      "Epoch 1/3\n",
      "39199/39199 [==============================] - 20s 520us/step - loss: 0.4612 - acc: 0.8710 - val_loss: 0.2153 - val_acc: 0.9403\n",
      "Epoch 2/3\n",
      "39199/39199 [==============================] - 20s 500us/step - loss: 0.2088 - acc: 0.9383 - val_loss: 0.1599 - val_acc: 0.9548\n",
      "Epoch 3/3\n",
      "39199/39199 [==============================] - 18s 450us/step - loss: 0.1665 - acc: 0.9510 - val_loss: 0.1328 - val_acc: 0.9618\n",
      "14000/14000 [==============================] - 3s 219us/step\n",
      "{'parameters': {'batch_size': 100, 'epochs': 3, 'learning-rate': 0.0001, 'pool-size': (3, 3), 'activation': 'relu', 'dropout': 0.4}, 'scores': {'loss': 0.13367755501185144, 'accuracy': 0.962}, 'time': 61.16218304634094, 'history': <keras.callbacks.History object at 0x000001A42D0F4B70>, 'model': <keras.engine.sequential.Sequential object at 0x000001A42D0E1F60>}\n",
      "Train on 39199 samples, validate on 16800 samples\n",
      "Epoch 1/6\n",
      "39199/39199 [==============================] - 18s 452us/step - loss: 0.3500 - acc: 0.8943 - val_loss: 0.1154 - val_acc: 0.9681\n",
      "Epoch 2/6\n",
      "39199/39199 [==============================] - 17s 424us/step - loss: 0.1289 - acc: 0.9588 - val_loss: 0.0789 - val_acc: 0.9776c: 0.958 - ETA: 1s - loss: 0.1\n",
      "Epoch 3/6\n",
      "39199/39199 [==============================] - 16s 420us/step - loss: 0.0931 - acc: 0.9703 - val_loss: 0.0662 - val_acc: 0.9796\n",
      "Epoch 4/6\n",
      "39199/39199 [==============================] - 18s 459us/step - loss: 0.0802 - acc: 0.9742 - val_loss: 0.0588 - val_acc: 0.9826\n",
      "Epoch 5/6\n",
      "39199/39199 [==============================] - 19s 488us/step - loss: 0.0698 - acc: 0.9767 - val_loss: 0.0538 - val_acc: 0.9837\n",
      "Epoch 6/6\n",
      "39199/39199 [==============================] - 19s 480us/step - loss: 0.0600 - acc: 0.9803 - val_loss: 0.0474 - val_acc: 0.9862\n",
      "14000/14000 [==============================] - 3s 229us/step\n",
      "{'parameters': {'batch_size': 100, 'epochs': 6, 'learning-rate': 0.001, 'pool-size': (3, 3), 'activation': 'relu', 'dropout': 0.6}, 'scores': {'loss': 0.04548764315340668, 'accuracy': 0.9859285714285714}, 'time': 110.45443844795227, 'history': <keras.callbacks.History object at 0x000001A42D150390>, 'model': <keras.engine.sequential.Sequential object at 0x000001A4659CC940>}\n",
      "Train on 39199 samples, validate on 16800 samples\n",
      "Epoch 1/6\n",
      "39199/39199 [==============================] - 18s 448us/step - loss: 0.1705 - acc: 0.9473 - val_loss: 0.0652 - val_acc: 0.9800\n",
      "Epoch 2/6\n",
      "39199/39199 [==============================] - 17s 423us/step - loss: 0.0657 - acc: 0.9790 - val_loss: 0.0534 - val_acc: 0.9839\n",
      "Epoch 3/6\n",
      "39199/39199 [==============================] - 17s 424us/step - loss: 0.0492 - acc: 0.9839 - val_loss: 0.0504 - val_acc: 0.9843\n",
      "Epoch 4/6\n",
      "39199/39199 [==============================] - 17s 423us/step - loss: 0.0404 - acc: 0.9870 - val_loss: 0.0461 - val_acc: 0.9866\n",
      "Epoch 5/6\n",
      "39199/39199 [==============================] - 19s 490us/step - loss: 0.0356 - acc: 0.9883 - val_loss: 0.0403 - val_acc: 0.9887\n",
      "Epoch 6/6\n",
      "39199/39199 [==============================] - 19s 489us/step - loss: 0.0277 - acc: 0.9906 - val_loss: 0.0427 - val_acc: 0.9876\n",
      "14000/14000 [==============================] - 4s 259us/step\n",
      "{'parameters': {'batch_size': 100, 'epochs': 6, 'learning-rate': 0.001, 'pool-size': (3, 3), 'activation': 'relu', 'dropout': 0.4}, 'scores': {'loss': 0.043795717359520495, 'accuracy': 0.9871428571428571}, 'time': 109.82125949859619, 'history': <keras.callbacks.History object at 0x000001A465E3DCF8>, 'model': <keras.engine.sequential.Sequential object at 0x000001A421E6C160>}\n",
      "Train on 39199 samples, validate on 16800 samples\n",
      "Epoch 1/6\n",
      "39199/39199 [==============================] - 19s 489us/step - loss: 1.0513 - acc: 0.7078 - val_loss: 0.3896 - val_acc: 0.8977\n",
      "Epoch 2/6\n",
      "39199/39199 [==============================] - 19s 481us/step - loss: 0.3813 - acc: 0.8871 - val_loss: 0.2583 - val_acc: 0.9307\n",
      "Epoch 3/6\n",
      "39199/39199 [==============================] - 18s 450us/step - loss: 0.2876 - acc: 0.9160 - val_loss: 0.2080 - val_acc: 0.9435\n",
      "Epoch 4/6\n",
      "39199/39199 [==============================] - 17s 443us/step - loss: 0.2390 - acc: 0.9281 - val_loss: 0.1769 - val_acc: 0.9511\n",
      "Epoch 5/6\n",
      "39199/39199 [==============================] - 20s 498us/step - loss: 0.2111 - acc: 0.9372 - val_loss: 0.1549 - val_acc: 0.9568\n",
      "Epoch 6/6\n",
      "39199/39199 [==============================] - 20s 522us/step - loss: 0.1884 - acc: 0.9427 - val_loss: 0.1400 - val_acc: 0.9605\n"
     ]
    },
    {
     "name": "stdout",
     "output_type": "stream",
     "text": [
      "14000/14000 [==============================] - 4s 254us/step\n",
      "{'parameters': {'batch_size': 100, 'epochs': 6, 'learning-rate': 0.0001, 'pool-size': (3, 3), 'activation': 'relu', 'dropout': 0.6}, 'scores': {'loss': 0.14052480577145304, 'accuracy': 0.9594285714285714}, 'time': 117.08645582199097, 'history': <keras.callbacks.History object at 0x000001A466351588>, 'model': <keras.engine.sequential.Sequential object at 0x000001A466338E48>}\n",
      "Train on 39199 samples, validate on 16800 samples\n",
      "Epoch 1/6\n",
      "39199/39199 [==============================] - 19s 481us/step - loss: 0.4443 - acc: 0.8740 - val_loss: 0.2176 - val_acc: 0.9380\n",
      "Epoch 2/6\n",
      "39199/39199 [==============================] - 17s 431us/step - loss: 0.2079 - acc: 0.9393 - val_loss: 0.1628 - val_acc: 0.9546\n",
      "Epoch 3/6\n",
      "39199/39199 [==============================] - 17s 431us/step - loss: 0.1669 - acc: 0.9512 - val_loss: 0.1354 - val_acc: 0.9620\n",
      "Epoch 4/6\n",
      "39199/39199 [==============================] - 17s 431us/step - loss: 0.1452 - acc: 0.9566 - val_loss: 0.1210 - val_acc: 0.9661\n",
      "Epoch 5/6\n",
      "39199/39199 [==============================] - 18s 455us/step - loss: 0.1284 - acc: 0.9624 - val_loss: 0.1082 - val_acc: 0.9685\n",
      "Epoch 6/6\n",
      "39199/39199 [==============================] - 20s 503us/step - loss: 0.1154 - acc: 0.9652 - val_loss: 0.1012 - val_acc: 0.9708\n",
      "14000/14000 [==============================] - 4s 258us/step\n",
      "{'parameters': {'batch_size': 100, 'epochs': 6, 'learning-rate': 0.0001, 'pool-size': (3, 3), 'activation': 'relu', 'dropout': 0.4}, 'scores': {'loss': 0.09883782291199479, 'accuracy': 0.9711428571428572}, 'time': 111.18444037437439, 'history': <keras.callbacks.History object at 0x000001A466337DD8>, 'model': <keras.engine.sequential.Sequential object at 0x000001A4662E5828>}\n"
     ]
    }
   ],
   "source": [
    "start_cnn_optim = time.time()\n",
    "counter = 0\n",
    "for bs in batch_size:\n",
    "    for epoch in epochs:\n",
    "        for lr in learning_rate:\n",
    "            optim = Adam(lr=lr)\n",
    "            for pool_s in pool_size:\n",
    "                for activat in activation:\n",
    "                    for drop in dropout:\n",
    "                        start_cnn_optim_each_model = time.time()\n",
    "                        model_cnn_optim = create_cnn_model(optimizer=optim,\n",
    "                                                           activation=activat, \n",
    "                                                           pool_size=pool_s,\n",
    "                                                           dropout=drop)\n",
    "                        history_cnn_optim = model_cnn_optim.fit(X_train_cnn,\n",
    "                                            y_train_cnn,\n",
    "                                            validation_data=(X_val_cnn, y_val_cnn),\n",
    "                                            epochs=epoch,\n",
    "                                            batch_size=bs)\n",
    "                        \n",
    "                        scores_cnn_optim = model_cnn_optim.evaluate(X_test_cnn, y_test_cnn)\n",
    "                        \n",
    "                        end_cnn_optim_each_model = time.time()\n",
    "                        total_cnn_optim_each_model = end_cnn_optim_each_model - start_cnn_optim_each_model\n",
    "                        \n",
    "                        classifier_cnn[counter] = {'parameters':\n",
    "                                               {\n",
    "                                                   'batch_size': bs,\n",
    "                                                   'epochs': epoch,\n",
    "                                                   'learning-rate': lr,\n",
    "                                                   'pool-size': pool_s,\n",
    "                                                   'activation': activat,\n",
    "                                                   'dropout': drop\n",
    "                                               }, \n",
    "                                               'scores': \n",
    "                                               {\n",
    "                                                   'loss': scores_cnn_optim[0],\n",
    "                                                   'accuracy': scores_cnn_optim[1]\n",
    "                                               },\n",
    "                                                   'time': total_cnn_optim_each_model,\n",
    "                                                   'history': history_cnn_optim,\n",
    "                                                   'model': model_cnn_optim\n",
    "                                              }\n",
    "                        print(classifier_cnn[counter])\n",
    "                        counter += 1\n",
    "                    \n",
    "                    \n",
    "end_cnn_optim = time.time()\n",
    "total_cnn_optim = end_cnn_optim - start_cnn_optim\n"
   ]
  },
  {
   "cell_type": "code",
   "execution_count": 53,
   "metadata": {},
   "outputs": [],
   "source": []
  },
  {
   "cell_type": "code",
   "execution_count": 59,
   "metadata": {
    "scrolled": true
   },
   "outputs": [
    {
     "name": "stdout",
     "output_type": "stream",
     "text": [
      "False\n",
      "False\n",
      "False\n",
      "False\n",
      "False\n",
      "True\n",
      "False\n",
      "False\n",
      "False\n",
      "False\n",
      "False\n",
      "False\n",
      "False\n",
      "False\n",
      "False\n",
      "False\n"
     ]
    }
   ],
   "source": [
    "max_acc = max(float(d['scores']['accuracy']) for d in classifier_cnn.values())\n",
    "for key, value in classifier_cnn.items() :\n",
    "    print(value['scores']['accuracy'] == max_acc)"
   ]
  },
  {
   "cell_type": "code",
   "execution_count": 60,
   "metadata": {},
   "outputs": [],
   "source": [
    "optim_classifier = classifier_cnn[5]"
   ]
  },
  {
   "cell_type": "code",
   "execution_count": 94,
   "metadata": {},
   "outputs": [],
   "source": [
    "optim_classifier_time_score = {}\n",
    "optim_classifier_time_score['scores'] = optim_classifier['scores']\n",
    "optim_classifier_time_score['time'] = optim_classifier['time'] "
   ]
  },
  {
   "cell_type": "code",
   "execution_count": 95,
   "metadata": {},
   "outputs": [
    {
     "data": {
      "text/plain": [
       "{'scores': {'loss': 0.038795391272237925, 'accuracy': 0.988},\n",
       " 'time': 131.85629200935364}"
      ]
     },
     "execution_count": 95,
     "metadata": {},
     "output_type": "execute_result"
    }
   ],
   "source": [
    "optim_classifier_time_score"
   ]
  },
  {
   "cell_type": "markdown",
   "metadata": {},
   "source": [
    "> Apperantly there is a limit of some sort to what one can store in files, so store only 'scores'"
   ]
  },
  {
   "cell_type": "code",
   "execution_count": 74,
   "metadata": {},
   "outputs": [],
   "source": [
    "optim_classifier_dict_name = \"optim_classifier_dict\"\n",
    "optim_classifier_dict_f_path = dictionary_path + optim_classifier_dict_name\n",
    "np.save(optim_classifier_dict_f_path, optim_classifier['scores'])"
   ]
  },
  {
   "cell_type": "code",
   "execution_count": 99,
   "metadata": {},
   "outputs": [],
   "source": [
    "optim_classifier_params_to_store = optim_classifier"
   ]
  },
  {
   "cell_type": "code",
   "execution_count": 100,
   "metadata": {
    "scrolled": true
   },
   "outputs": [
    {
     "data": {
      "text/plain": [
       "{'parameters': {'batch_size': 50,\n",
       "  'epochs': 6,\n",
       "  'learning-rate': 0.001,\n",
       "  'pool-size': (3, 3),\n",
       "  'activation': 'relu',\n",
       "  'dropout': 0.4},\n",
       " 'scores': {'loss': 0.038795391272237925, 'accuracy': 0.988},\n",
       " 'time': 131.85629200935364}"
      ]
     },
     "execution_count": 100,
     "metadata": {},
     "output_type": "execute_result"
    }
   ],
   "source": [
    "optim_classifier_params_to_store"
   ]
  },
  {
   "cell_type": "code",
   "execution_count": 101,
   "metadata": {},
   "outputs": [],
   "source": [
    "optim_classifier_params_name = \"optim_classifier_cnn_params\"\n",
    "optim_classifier_params_f_path = dictionary_path + optim_classifier_params_name\n",
    "np.save(optim_classifier_params_f_path, optim_classifier_params_to_store)"
   ]
  },
  {
   "cell_type": "code",
   "execution_count": 98,
   "metadata": {},
   "outputs": [
    {
     "ename": "KeyError",
     "evalue": "'history'",
     "output_type": "error",
     "traceback": [
      "\u001b[1;31m---------------------------------------------------------------------------\u001b[0m",
      "\u001b[1;31mKeyError\u001b[0m                                  Traceback (most recent call last)",
      "\u001b[1;32m<ipython-input-98-c0e5ac1af3bb>\u001b[0m in \u001b[0;36m<module>\u001b[1;34m()\u001b[0m\n\u001b[1;32m----> 1\u001b[1;33m \u001b[0mhistory_optim_cnn_gridsearch\u001b[0m \u001b[1;33m=\u001b[0m \u001b[0moptim_classifier\u001b[0m\u001b[1;33m[\u001b[0m\u001b[1;34m'history'\u001b[0m\u001b[1;33m]\u001b[0m\u001b[1;33m\u001b[0m\u001b[0m\n\u001b[0m\u001b[0;32m      2\u001b[0m \u001b[0mmodel_optim_cnn_gridsearch\u001b[0m \u001b[1;33m=\u001b[0m \u001b[0moptim_classifier\u001b[0m\u001b[1;33m[\u001b[0m\u001b[1;34m'model'\u001b[0m\u001b[1;33m]\u001b[0m\u001b[1;33m\u001b[0m\u001b[0m\n",
      "\u001b[1;31mKeyError\u001b[0m: 'history'"
     ]
    }
   ],
   "source": [
    "history_optim_cnn_gridsearch = optim_classifier['history']\n",
    "model_optim_cnn_gridsearch = optim_classifier['model']"
   ]
  },
  {
   "cell_type": "code",
   "execution_count": 63,
   "metadata": {
    "scrolled": true
   },
   "outputs": [
    {
     "data": {
      "image/png": "[encoded data removed]",
      "text/plain": [
       "<Figure size 432x288 with 1 Axes>"
      ]
     },
     "metadata": {},
     "output_type": "display_data"
    },
    {
     "data": {
      "image/png": "[encoded data removed]",
      "text/plain": [
       "<Figure size 432x288 with 1 Axes>"
      ]
     },
     "metadata": {},
     "output_type": "display_data"
    }
   ],
   "source": [
    "plt.plot(history_optim_cnn_gridsearch.history['acc'])\n",
    "plt.plot(history_optim_cnn_gridsearch.history['val_acc'])\n",
    "plt.title('Convolutional Neural Network model accuracy')\n",
    "plt.ylabel('accuracy')\n",
    "plt.xlabel('epoch')\n",
    "plt.legend(['train', 'test'], loc='lower right')\n",
    "plt.show()\n",
    "\n",
    "plt.plot(history_optim_cnn_gridsearch.history['loss'])\n",
    "plt.plot(history_optim_cnn_gridsearch.history['val_loss'])\n",
    "plt.title('Convolutional Neural Network model loss')\n",
    "plt.ylabel('loss')\n",
    "plt.xlabel('epoch')\n",
    "plt.legend(['train', 'test'], loc='upper right')\n",
    "plt.show()"
   ]
  },
  {
   "cell_type": "code",
   "execution_count": 88,
   "metadata": {},
   "outputs": [],
   "source": [
    "from sklearn.metrics import confusion_matrix\n",
    "import itertools\n",
    "def plot_confusion_matrix(conf_mat):\n",
    "    #The confusion matrix\n",
    "    \n",
    "    plt.figure()\n",
    "    plt.imshow(conf_mat, interpolation='nearest', cmap=plt.cm.Blues)\n",
    "    plt.title('Confusion matrix')\n",
    "    plt.colorbar()\n",
    "    class_names = [0,1,2,3,4,5,6,7,8,9]\n",
    "    tick_marks = np.arange(len(class_names))\n",
    "    plt.xticks(tick_marks, class_names, rotation=45)\n",
    "    plt.yticks(tick_marks, class_names)\n",
    "\n",
    "    thresh = conf_mat.max() / 2.\n",
    "    for i, j in itertools.product(range(conf_mat.shape[0]), range(conf_mat.shape[1])):\n",
    "        plt.text(j, i, format(conf_mat[i, j], 'd'),\n",
    "                 horizontalalignment=\"center\",\n",
    "                 color=\"white\" if conf_mat[i, j] > thresh else \"black\")\n",
    "\n",
    "    plt.ylabel('True label')\n",
    "    plt.xlabel('Predicted label')\n",
    "    plt.tight_layout()\n",
    "    plt.show()"
   ]
  },
  {
   "cell_type": "code",
   "execution_count": 90,
   "metadata": {},
   "outputs": [
    {
     "data": {
      "image/png": "[encoded data removed]",
      "text/plain": [
       "<Figure size 432x288 with 2 Axes>"
      ]
     },
     "metadata": {},
     "output_type": "display_data"
    },
    {
     "ename": "NameError",
     "evalue": "name 'classification_report' is not defined",
     "output_type": "error",
     "traceback": [
      "\u001b[1;31m---------------------------------------------------------------------------\u001b[0m",
      "\u001b[1;31mNameError\u001b[0m                                 Traceback (most recent call last)",
      "\u001b[1;32m<ipython-input-90-1c561b516a68>\u001b[0m in \u001b[0;36m<module>\u001b[1;34m()\u001b[0m\n\u001b[0;32m      3\u001b[0m \u001b[0mplot_confusion_matrix\u001b[0m\u001b[1;33m(\u001b[0m\u001b[0mconf_mat_optim_cnn\u001b[0m\u001b[1;33m)\u001b[0m\u001b[1;33m\u001b[0m\u001b[0m\n\u001b[0;32m      4\u001b[0m \u001b[0mtarget_names\u001b[0m \u001b[1;33m=\u001b[0m \u001b[1;33m[\u001b[0m\u001b[1;34m'0'\u001b[0m\u001b[1;33m,\u001b[0m\u001b[1;34m'1'\u001b[0m\u001b[1;33m,\u001b[0m \u001b[1;34m'2'\u001b[0m\u001b[1;33m,\u001b[0m\u001b[1;34m'3'\u001b[0m\u001b[1;33m,\u001b[0m\u001b[1;34m'4'\u001b[0m\u001b[1;33m,\u001b[0m\u001b[1;34m'5'\u001b[0m\u001b[1;33m,\u001b[0m\u001b[1;34m'6'\u001b[0m\u001b[1;33m,\u001b[0m\u001b[1;34m'7'\u001b[0m\u001b[1;33m,\u001b[0m\u001b[1;34m'8'\u001b[0m\u001b[1;33m,\u001b[0m\u001b[1;34m'9'\u001b[0m\u001b[1;33m]\u001b[0m\u001b[1;33m\u001b[0m\u001b[0m\n\u001b[1;32m----> 5\u001b[1;33m \u001b[0mprint\u001b[0m\u001b[1;33m(\u001b[0m\u001b[0mclassification_report\u001b[0m\u001b[1;33m(\u001b[0m\u001b[0my_test_cnn\u001b[0m\u001b[1;33m,\u001b[0m \u001b[0my_pred_optim_cnn_gridsearch\u001b[0m\u001b[1;33m,\u001b[0m \u001b[0mtarget_names\u001b[0m\u001b[1;33m=\u001b[0m\u001b[0mtarget_names\u001b[0m\u001b[1;33m)\u001b[0m\u001b[1;33m)\u001b[0m\u001b[1;33m\u001b[0m\u001b[0m\n\u001b[0m",
      "\u001b[1;31mNameError\u001b[0m: name 'classification_report' is not defined"
     ]
    }
   ],
   "source": [
    "y_pred_optim_cnn_gridsearch = model_optim_cnn_gridsearch.predict_classes(X_test_cnn)\n",
    "conf_mat_optim_cnn = confusion_matrix(y_test_cnn, y_pred_optim_cnn_gridsearch)\n",
    "plot_confusion_matrix(conf_mat_optim_cnn)\n",
    "target_names = ['0','1', '2','3','4','5','6','7','8','9']  \n",
    "print(classification_report(y_test_cnn, y_pred_optim_cnn_gridsearch, target_names=target_names))"
   ]
  },
  {
   "cell_type": "code",
   "execution_count": 64,
   "metadata": {},
   "outputs": [],
   "source": [
    "model_name_cnn_optim = \"MNIST_cnn_optim\"\n",
    "model_name_ext_cnn_optim = \".hdf5\"\n",
    "full_path_cnn_optim = model_folder_path + model_name_cnn_optim + model_name_ext_cnn_optim"
   ]
  },
  {
   "cell_type": "code",
   "execution_count": 65,
   "metadata": {},
   "outputs": [],
   "source": [
    "keras.models.save_model(model_optim_cnn_gridsearch, full_path_cnn_optim)"
   ]
  },
  {
   "cell_type": "code",
   "execution_count": 102,
   "metadata": {},
   "outputs": [],
   "source": [
    "foo = keras.models.load_model(full_path_cnn_optim)"
   ]
  }
 ],
 "metadata": {
  "kernelspec": {
   "display_name": "DAT158",
   "language": "python",
   "name": "dat158"
  },
  "language_info": {
   "codemirror_mode": {
    "name": "ipython",
    "version": 3
   },
   "file_extension": ".py",
   "mimetype": "text/x-python",
   "name": "python",
   "nbconvert_exporter": "python",
   "pygments_lexer": "ipython3",
   "version": "3.6.6"
  }
 },
 "nbformat": 4,
 "nbformat_minor": 2
}
