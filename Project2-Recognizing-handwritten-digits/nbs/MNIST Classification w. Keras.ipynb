{
 "cells": [
  {
   "cell_type": "code",
   "execution_count": 1,
   "metadata": {},
   "outputs": [],
   "source": [
    "import pandas as pd\n",
    "import numpy as np\n",
    "import os\n",
    "import sys\n",
    "from sklearn.model_selection import train_test_split\n",
    "from sklearn.preprocessing import OneHotEncoder"
   ]
  },
  {
   "cell_type": "markdown",
   "metadata": {},
   "source": [
    "# Data"
   ]
  },
  {
   "cell_type": "code",
   "execution_count": 2,
   "metadata": {},
   "outputs": [],
   "source": [
    "DATA_PATH = (\"../data/\")"
   ]
  },
  {
   "cell_type": "code",
   "execution_count": 3,
   "metadata": {},
   "outputs": [],
   "source": [
    "# Alternative way of downloading the dataset\n",
    "#from keras.datasets import mnist\n",
    "#(X_train, y_train), (X_test, y_test) = mnist.load_data()"
   ]
  },
  {
   "cell_type": "code",
   "execution_count": 45,
   "metadata": {},
   "outputs": [],
   "source": [
    "# Reproducible results\n",
    "random_state = 42"
   ]
  },
  {
   "cell_type": "code",
   "execution_count": 46,
   "metadata": {},
   "outputs": [],
   "source": [
    "# Reshape does not currently work\n",
    "def get_data(one_hot_enc=True, reshape=False):\n",
    "    file_list = os.listdir(DATA_PATH)\n",
    "    images_path = file_list[0]\n",
    "    labels_path = file_list[1]\n",
    "    images_path_full = os.path.join(DATA_PATH + images_path)\n",
    "    labels_path_full = os.path.join(DATA_PATH + labels_path)\n",
    "    X = pd.read_csv(images_path_full)\n",
    "    y = pd.read_csv(labels_path_full)\n",
    "    # Normalize data\n",
    "    X = X / 255\n",
    "    # Encode labels\n",
    "    if reshape:\n",
    "        X = X.reshape(X.shape[0], 28, 28, 1)\n",
    "        y = y.reshape(X.shape[0], 28, 28, 1)\n",
    "    if one_hot_enc:\n",
    "        encoder = OneHotEncoder(sparse=False, categories='auto')\n",
    "        y = encoder.fit_transform(y)\n",
    "    # Divide into train and test set \n",
    "    X_train, X_test, y_train, y_test = train_test_split(X, y, test_size=0.2, random_state=random_state)\n",
    "    return X_train, X_test, y_train, y_test"
   ]
  },
  {
   "cell_type": "code",
   "execution_count": 47,
   "metadata": {},
   "outputs": [],
   "source": [
    "# Divide into train and test set\n",
    "X_train, X_test, y_train, y_test = get_data()"
   ]
  },
  {
   "cell_type": "code",
   "execution_count": 48,
   "metadata": {},
   "outputs": [],
   "source": [
    "# Divide further into train and validation\n",
    "X_train, X_val, y_train, y_val = train_test_split(X_train, y_train, test_size=0.3, random_state=random_state)"
   ]
  },
  {
   "cell_type": "code",
   "execution_count": 49,
   "metadata": {},
   "outputs": [
    {
     "name": "stdout",
     "output_type": "stream",
     "text": [
      "(39199, 784)\n",
      "(39199, 10)\n"
     ]
    }
   ],
   "source": [
    "print(X_train.shape)\n",
    "print(y_train.shape)"
   ]
  },
  {
   "cell_type": "code",
   "execution_count": 50,
   "metadata": {},
   "outputs": [
    {
     "name": "stdout",
     "output_type": "stream",
     "text": [
      "(16800, 784)\n",
      "(16800, 10)\n"
     ]
    }
   ],
   "source": [
    "print(X_val.shape)\n",
    "print(y_val.shape)"
   ]
  },
  {
   "cell_type": "code",
   "execution_count": 51,
   "metadata": {},
   "outputs": [
    {
     "name": "stdout",
     "output_type": "stream",
     "text": [
      "(14000, 784)\n",
      "(14000, 10)\n"
     ]
    }
   ],
   "source": [
    "print(X_test.shape)\n",
    "print(y_test.shape)"
   ]
  },
  {
   "cell_type": "markdown",
   "metadata": {},
   "source": [
    "# Classifiers"
   ]
  },
  {
   "cell_type": "markdown",
   "metadata": {},
   "source": [
    "### Feed Forward Neural Net"
   ]
  },
  {
   "cell_type": "code",
   "execution_count": 52,
   "metadata": {},
   "outputs": [],
   "source": [
    "from keras.models import Sequential\n",
    "from keras.layers.core import Dense\n",
    "from keras.optimizers import Adam\n",
    "from keras import regularizers"
   ]
  },
  {
   "cell_type": "code",
   "execution_count": 53,
   "metadata": {},
   "outputs": [],
   "source": [
    "regularizer_l2 = regularizers.l2(0.01)"
   ]
  },
  {
   "cell_type": "code",
   "execution_count": 54,
   "metadata": {},
   "outputs": [],
   "source": [
    "model = Sequential()\n",
    "model.add(Dense(256, input_dim=784, activation='relu', kernel_regularizer=regularizer_l2))\n",
    "model.add(Dense(128, activation='relu'))\n",
    "model.add(Dense(64, activation='relu'))\n",
    "model.add(Dense(32, activation='relu'))\n",
    "model.add(Dense(16, activation='relu'))\n",
    "model.add(Dense(8, activation='relu', kernel_regularizer=regularizer_l2))\n",
    "model.add(Dense(10, activation='softmax'))"
   ]
  },
  {
   "cell_type": "code",
   "execution_count": 55,
   "metadata": {},
   "outputs": [],
   "source": [
    "adam = Adam(lr=1e-3)"
   ]
  },
  {
   "cell_type": "code",
   "execution_count": 56,
   "metadata": {},
   "outputs": [],
   "source": [
    "model.compile(loss='categorical_crossentropy', optimizer=adam, metrics=['accuracy'])"
   ]
  },
  {
   "cell_type": "code",
   "execution_count": 57,
   "metadata": {
    "scrolled": true
   },
   "outputs": [
    {
     "name": "stdout",
     "output_type": "stream",
     "text": [
      "Train on 39199 samples, validate on 16800 samples\n",
      "Epoch 1/12\n",
      "39199/39199 [==============================] - 8s 200us/step - loss: 1.1869 - acc: 0.7209 - val_loss: 0.4923 - val_acc: 0.9221\n",
      "Epoch 2/12\n",
      "39199/39199 [==============================] - 7s 169us/step - loss: 0.4246 - acc: 0.9336 - val_loss: 0.4050 - val_acc: 0.9336\n",
      "Epoch 3/12\n",
      "39199/39199 [==============================] - 7s 186us/step - loss: 0.3657 - acc: 0.9455 - val_loss: 0.3436 - val_acc: 0.9490\n",
      "Epoch 4/12\n",
      "39199/39199 [==============================] - 7s 190us/step - loss: 0.3237 - acc: 0.9513 - val_loss: 0.3326 - val_acc: 0.9507\n",
      "Epoch 5/12\n",
      "39199/39199 [==============================] - 8s 193us/step - loss: 0.2985 - acc: 0.9552 - val_loss: 0.3209 - val_acc: 0.9468\n",
      "Epoch 6/12\n",
      "39199/39199 [==============================] - 8s 194us/step - loss: 0.2799 - acc: 0.9585 - val_loss: 0.2706 - val_acc: 0.9568\n",
      "Epoch 7/12\n",
      "39199/39199 [==============================] - 8s 192us/step - loss: 0.2672 - acc: 0.9602 - val_loss: 0.2872 - val_acc: 0.9557\n",
      "Epoch 8/12\n",
      "39199/39199 [==============================] - 8s 194us/step - loss: 0.2463 - acc: 0.9629 - val_loss: 0.3773 - val_acc: 0.9257\n",
      "Epoch 9/12\n",
      "39199/39199 [==============================] - 8s 194us/step - loss: 0.2491 - acc: 0.9615 - val_loss: 0.2645 - val_acc: 0.9603\n",
      "Epoch 10/12\n",
      "39199/39199 [==============================] - 8s 194us/step - loss: 0.2353 - acc: 0.9650 - val_loss: 0.2530 - val_acc: 0.9586\n",
      "Epoch 11/12\n",
      "39199/39199 [==============================] - 8s 194us/step - loss: 0.2302 - acc: 0.9635 - val_loss: 0.2480 - val_acc: 0.9597\n",
      "Epoch 12/12\n",
      "39199/39199 [==============================] - 8s 201us/step - loss: 0.2276 - acc: 0.9643 - val_loss: 0.2580 - val_acc: 0.9591\n",
      "14000/14000 [==============================] - 1s 99us/step\n"
     ]
    }
   ],
   "source": [
    "model.fit(X_train, y_train,validation_data=(X_val, y_val), epochs=12, batch_size=64)\n",
    "scores = model.evaluate(X_test, y_test)"
   ]
  },
  {
   "cell_type": "code",
   "execution_count": 58,
   "metadata": {},
   "outputs": [
    {
     "name": "stdout",
     "output_type": "stream",
     "text": [
      "[0.2572172294003623, 0.9576428571428571]\n"
     ]
    }
   ],
   "source": [
    "print(scores)"
   ]
  },
  {
   "cell_type": "markdown",
   "metadata": {},
   "source": [
    "> Can see that the model is somewhat overfitting - Will try to implement *Regularizer*\n",
    "<br>\n",
    "This resulted in a loss in accuracy, but there is a trade off between accuracy and overfitting"
   ]
  },
  {
   "cell_type": "markdown",
   "metadata": {},
   "source": [
    "### CNN"
   ]
  },
  {
   "cell_type": "code",
   "execution_count": 59,
   "metadata": {},
   "outputs": [],
   "source": [
    "from keras.layers import Dropout\n",
    "from keras.layers import Flatten\n",
    "from keras.layers.convolutional import Conv2D\n",
    "from keras.layers.convolutional import MaxPooling2D\n",
    "from keras.datasets import mnist\n",
    "from keras.utils import np_utils"
   ]
  },
  {
   "cell_type": "code",
   "execution_count": 62,
   "metadata": {},
   "outputs": [],
   "source": [
    "(X_train_cnn, y_train_cnn), (X_test_cnn, y_test_cnn) = mnist.load_data()"
   ]
  },
  {
   "cell_type": "code",
   "execution_count": 73,
   "metadata": {},
   "outputs": [],
   "source": [
    "# Currently not working\n",
    "#X_train_cnn, y_train_cnn, X_test_cnn, y_test_cnn = get_data(one_hot_enc=False, reshape=True)"
   ]
  },
  {
   "cell_type": "code",
   "execution_count": 63,
   "metadata": {},
   "outputs": [],
   "source": [
    "# Reshape for CNN \n",
    "X_train_cnn = X_train_cnn.reshape(X_train_cnn.shape[0], 28, 28, 1).astype('float32')\n",
    "X_test_cnn = X_test_cnn.reshape(X_test_cnn.shape[0], 28, 28, 1).astype('float32')"
   ]
  },
  {
   "cell_type": "code",
   "execution_count": 64,
   "metadata": {},
   "outputs": [],
   "source": [
    "# Reproducible results\n",
    "np.random.seed(random_state)"
   ]
  },
  {
   "cell_type": "code",
   "execution_count": 65,
   "metadata": {},
   "outputs": [],
   "source": [
    "# Normalize inputs from 0-255 to 0-1\n",
    "X_train_cnn = X_train_cnn / 255\n",
    "X_test_cnn = X_test_cnn / 255\n",
    "# one hot encode outputs\n",
    "y_train_cnn = np_utils.to_categorical(y_train_cnn)\n",
    "y_test_cnn = np_utils.to_categorical(y_test_cnn)"
   ]
  },
  {
   "cell_type": "code",
   "execution_count": 66,
   "metadata": {},
   "outputs": [
    {
     "data": {
      "text/plain": [
       "(60000, 28, 28, 1)"
      ]
     },
     "execution_count": 66,
     "metadata": {},
     "output_type": "execute_result"
    }
   ],
   "source": [
    "X_train_cnn.shape"
   ]
  },
  {
   "cell_type": "code",
   "execution_count": 67,
   "metadata": {},
   "outputs": [
    {
     "data": {
      "text/plain": [
       "(10000, 28, 28, 1)"
      ]
     },
     "execution_count": 67,
     "metadata": {},
     "output_type": "execute_result"
    }
   ],
   "source": [
    "X_test_cnn.shape"
   ]
  },
  {
   "cell_type": "code",
   "execution_count": 68,
   "metadata": {},
   "outputs": [],
   "source": [
    "X_train_cnn, X_val_cnn, y_train_cnn, y_val_cnn = train_test_split(X_train_cnn, y_train_cnn, test_size=0.3, random_state=random_state)"
   ]
  },
  {
   "cell_type": "code",
   "execution_count": 69,
   "metadata": {},
   "outputs": [],
   "source": [
    "model = Sequential()\n",
    "model.add(Conv2D(32, (5, 5), input_shape=(28, 28, 1), activation='relu'))\n",
    "model.add(MaxPooling2D(pool_size=(2, 2)))\n",
    "model.add(Dropout(0.4))\n",
    "model.add(Flatten())\n",
    "model.add(Dense(128, activation='relu'))\n",
    "model.add(Dense(10, activation='softmax'))"
   ]
  },
  {
   "cell_type": "code",
   "execution_count": 70,
   "metadata": {},
   "outputs": [],
   "source": [
    "model.compile(loss='categorical_crossentropy', optimizer=adam, metrics=['accuracy'])"
   ]
  },
  {
   "cell_type": "code",
   "execution_count": 71,
   "metadata": {},
   "outputs": [
    {
     "name": "stdout",
     "output_type": "stream",
     "text": [
      "Train on 42000 samples, validate on 18000 samples\n",
      "Epoch 1/4\n",
      "42000/42000 [==============================] - 40s 959us/step - loss: 0.1987 - acc: 0.9386 - val_loss: 0.0736 - val_acc: 0.9781\n",
      "Epoch 2/4\n",
      "42000/42000 [==============================] - 42s 1000us/step - loss: 0.0641 - acc: 0.9798 - val_loss: 0.0563 - val_acc: 0.9837\n",
      "Epoch 3/4\n",
      "42000/42000 [==============================] - 41s 967us/step - loss: 0.0468 - acc: 0.9856 - val_loss: 0.0514 - val_acc: 0.9842\n",
      "Epoch 4/4\n",
      "42000/42000 [==============================] - 41s 982us/step - loss: 0.0369 - acc: 0.9884 - val_loss: 0.0450 - val_acc: 0.9867\n",
      "10000/10000 [==============================] - 5s 492us/step\n"
     ]
    }
   ],
   "source": [
    "model.fit(X_train_cnn, y_train_cnn, validation_data=(X_val_cnn, y_val_cnn), epochs=4, batch_size=200)\n",
    "scores = model.evaluate(X_test_cnn, y_test_cnn)"
   ]
  },
  {
   "cell_type": "code",
   "execution_count": 72,
   "metadata": {},
   "outputs": [
    {
     "name": "stdout",
     "output_type": "stream",
     "text": [
      "[0.037081126303761265, 0.9874]\n"
     ]
    }
   ],
   "source": [
    "print(scores)"
   ]
  },
  {
   "cell_type": "markdown",
   "metadata": {},
   "source": [
    "### Random Forest"
   ]
  },
  {
   "cell_type": "code",
   "execution_count": 30,
   "metadata": {},
   "outputs": [],
   "source": [
    "from sklearn.ensemble import RandomForestClassifier\n",
    "from sklearn.metrics import accuracy_score"
   ]
  },
  {
   "cell_type": "code",
   "execution_count": 31,
   "metadata": {},
   "outputs": [],
   "source": [
    "X_train_rf, X_test_rf, y_train_rf, y_test_rf = get_data()"
   ]
  },
  {
   "cell_type": "code",
   "execution_count": 32,
   "metadata": {},
   "outputs": [
    {
     "name": "stdout",
     "output_type": "stream",
     "text": [
      "(55999, 784)\n",
      "(14000, 784)\n"
     ]
    }
   ],
   "source": [
    "print(X_train_rf.shape)\n",
    "print(X_test_rf.shape)"
   ]
  },
  {
   "cell_type": "code",
   "execution_count": 33,
   "metadata": {},
   "outputs": [
    {
     "name": "stdout",
     "output_type": "stream",
     "text": [
      "(55999, 10)\n",
      "(14000, 10)\n"
     ]
    }
   ],
   "source": [
    "print(y_train_rf.shape)\n",
    "print(y_test_rf.shape)"
   ]
  },
  {
   "cell_type": "code",
   "execution_count": 34,
   "metadata": {},
   "outputs": [
    {
     "name": "stdout",
     "output_type": "stream",
     "text": [
      "0.8957857142857143\n"
     ]
    }
   ],
   "source": [
    "random_f_clf = RandomForestClassifier(n_estimators=50,\n",
    "                                     n_jobs = 2,\n",
    "                                     random_state=random_state)\n",
    "random_f_clf.fit(X_train_rf, y_train_rf)\n",
    "y_pred_rf = random_f_clf.predict(X_test_rf)\n",
    "print(accuracy_score(y_test_rf, y_pred_rf))"
   ]
  },
  {
   "cell_type": "markdown",
   "metadata": {},
   "source": [
    "### XGBoost"
   ]
  },
  {
   "cell_type": "code",
   "execution_count": 35,
   "metadata": {},
   "outputs": [],
   "source": [
    "# If needing to install xgboost (using conda)\n",
    "# ! conda install py-xgboost"
   ]
  },
  {
   "cell_type": "code",
   "execution_count": 74,
   "metadata": {},
   "outputs": [],
   "source": [
    "from xgboost import XGBClassifier\n",
    "from sklearn.model_selection import GridSearchCV"
   ]
  },
  {
   "cell_type": "code",
   "execution_count": 75,
   "metadata": {},
   "outputs": [],
   "source": [
    "# Divide into train and test set \n",
    "X_train_xg, X_test_xg, y_train_xg, y_test_xg = get_data(one_hot_enc=False)"
   ]
  },
  {
   "cell_type": "code",
   "execution_count": 76,
   "metadata": {},
   "outputs": [],
   "source": [
    "params = {\n",
    "        'gamma': [0.5, 2],\n",
    "        'subsample': [0.6, 1.0],\n",
    "        'colsample_bytree': [0.6, 1.0],\n",
    "        'max_depth': [3, 5],\n",
    "        'n_estimators': [10]\n",
    "        }"
   ]
  },
  {
   "cell_type": "markdown",
   "metadata": {},
   "source": [
    "Fun to try with more parameters, but my poor CPU cannot take any more.."
   ]
  },
  {
   "cell_type": "markdown",
   "metadata": {},
   "source": [
    "## Disclaimer: This takes a lot of time"
   ]
  },
  {
   "cell_type": "code",
   "execution_count": 79,
   "metadata": {},
   "outputs": [],
   "source": [
    "%%capture \n",
    "xgb_clf = XGBClassifier()\n",
    "rs = GridSearchCV(xgb_clf,\n",
    "                  params,\n",
    "                  cv=2,\n",
    "                  scoring=\"accuracy\",\n",
    "                  n_jobs=1,\n",
    "                  verbose=2)\n",
    "\n",
    "rs.fit(X_train_xg, y_train_xg.values.ravel())"
   ]
  },
  {
   "cell_type": "code",
   "execution_count": 80,
   "metadata": {},
   "outputs": [
    {
     "name": "stdout",
     "output_type": "stream",
     "text": [
      "XGBClassifier(base_score=0.5, booster='gbtree', colsample_bylevel=1,\n",
      "       colsample_bytree=0.6, gamma=0.5, learning_rate=0.1,\n",
      "       max_delta_step=0, max_depth=5, min_child_weight=1, missing=None,\n",
      "       n_estimators=10, n_jobs=1, nthread=None, objective='multi:softprob',\n",
      "       random_state=0, reg_alpha=0, reg_lambda=1, scale_pos_weight=1,\n",
      "       seed=None, silent=True, subsample=1.0)\n"
     ]
    }
   ],
   "source": [
    "optim_est_xg = rs.best_estimator_\n",
    "print(optim_est_xg)"
   ]
  },
  {
   "cell_type": "code",
   "execution_count": 81,
   "metadata": {},
   "outputs": [
    {
     "name": "stdout",
     "output_type": "stream",
     "text": [
      "0.9046428571428572\n"
     ]
    }
   ],
   "source": [
    "y_pred_xg = optim_est_xg.predict(X_test_xg)\n",
    "print(accuracy_score(y_test_xg, y_pred_xg))"
   ]
  }
 ],
 "metadata": {
  "kernelspec": {
   "display_name": "DAT158",
   "language": "python",
   "name": "dat158"
  },
  "language_info": {
   "codemirror_mode": {
    "name": "ipython",
    "version": 3
   },
   "file_extension": ".py",
   "mimetype": "text/x-python",
   "name": "python",
   "nbconvert_exporter": "python",
   "pygments_lexer": "ipython3",
   "version": "3.6.6"
  }
 },
 "nbformat": 4,
 "nbformat_minor": 2
}
