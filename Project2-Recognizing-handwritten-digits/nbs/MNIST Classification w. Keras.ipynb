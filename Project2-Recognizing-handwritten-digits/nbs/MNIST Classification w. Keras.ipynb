{
 "cells": [
  {
   "cell_type": "code",
   "execution_count": 128,
   "metadata": {},
   "outputs": [],
   "source": [
    "import pandas as pd\n",
    "import numpy as np\n",
    "import os\n",
    "import sys\n",
    "from sklearn.model_selection import train_test_split\n",
    "from sklearn.preprocessing import OneHotEncoder"
   ]
  },
  {
   "cell_type": "code",
   "execution_count": 129,
   "metadata": {},
   "outputs": [],
   "source": [
    "# Reproducible results\n",
    "random_state = 42\n",
    "np.random.seed(random_state)"
   ]
  },
  {
   "cell_type": "markdown",
   "metadata": {},
   "source": [
    "# Data"
   ]
  },
  {
   "cell_type": "code",
   "execution_count": 130,
   "metadata": {},
   "outputs": [],
   "source": [
    "def get_data(one_hot_enc=True, reshape=False, train_val_test=False):\n",
    "    file_list = os.listdir(DATA_PATH)\n",
    "    images_path = file_list[0]\n",
    "    labels_path = file_list[1]\n",
    "    images_path_full = os.path.join(DATA_PATH + images_path)\n",
    "    labels_path_full = os.path.join(DATA_PATH + labels_path)\n",
    "    X = pd.read_csv(images_path_full)\n",
    "    if reshape:\n",
    "        X = X.values.astype('float32')\n",
    "        # Normalize data\n",
    "        X = X / 255\n",
    "        # Reshape for cnn \n",
    "        X = X.reshape([-1, 28, 28, 1]).astype('float32')\n",
    "    else:\n",
    "        # Normalize data\n",
    "        X = X / 255\n",
    "    y = pd.read_csv(labels_path_full)\n",
    "    # Encode labels\n",
    "    if one_hot_enc:\n",
    "        encoder = OneHotEncoder(sparse=False, categories='auto')\n",
    "        y = encoder.fit_transform(y)\n",
    "    # Divide into train and test set \n",
    "    X_train, X_test, y_train, y_test = train_test_split(X, y, test_size=0.2, random_state=random_state)\n",
    "    if train_val_test:\n",
    "        X_train, X_val, y_train, y_val = train_test_split(X_train, y_train, test_size=0.3, random_state=random_state)\n",
    "        return X_train, X_val, X_test, y_train, y_val, y_test\n",
    "    else:\n",
    "        return X_train, X_test, y_train, y_test"
   ]
  },
  {
   "cell_type": "code",
   "execution_count": 178,
   "metadata": {},
   "outputs": [],
   "source": [
    "def print_data_shapes_val(X_train, X_val, X_test, y_train, y_val, y_test):\n",
    "    print(\"X_train_nn: \", X_train.shape)\n",
    "    print(\"X_val_nn: \", X_val.shape)\n",
    "    print(\"X_test_nn: \", X_test.shape)\n",
    "    print(\"y_train_nn: \", y_train.shape)\n",
    "    print(\"y_val_nn: \", y_val.shape)\n",
    "    print(\"y_test_nn: \", y_test.shape)"
   ]
  },
  {
   "cell_type": "code",
   "execution_count": 179,
   "metadata": {},
   "outputs": [],
   "source": [
    "def print_data_shapes_nval(X_train, X_test, y_train, y_test):\n",
    "    print(\"X_train_nn: \", X_train.shape)\n",
    "    print(\"X_test_nn: \", X_test.shape)\n",
    "    print(\"y_train_nn: \", y_train.shape)\n",
    "    print(\"y_test_nn: \", y_test.shape)"
   ]
  },
  {
   "cell_type": "markdown",
   "metadata": {},
   "source": [
    "# Classifiers"
   ]
  },
  {
   "cell_type": "markdown",
   "metadata": {},
   "source": [
    "### Feed Forward Neural Net"
   ]
  },
  {
   "cell_type": "code",
   "execution_count": 131,
   "metadata": {},
   "outputs": [],
   "source": [
    "from keras.models import Sequential\n",
    "from keras.layers.core import Dense\n",
    "from keras.optimizers import Adam\n",
    "from keras import regularizers"
   ]
  },
  {
   "cell_type": "code",
   "execution_count": 140,
   "metadata": {},
   "outputs": [],
   "source": [
    "X_train_nn, X_val_nn, X_test_nn, y_train_nn, y_val_nn, y_test_nn = get_data(train_val_test=True)"
   ]
  },
  {
   "cell_type": "code",
   "execution_count": 144,
   "metadata": {},
   "outputs": [],
   "source": [
    "# Params\n",
    "\n",
    "# Model compile\n",
    "adam = Adam(lr=1e-3)\n",
    "metrics = ['accuracy']\n",
    "loss = 'categorical_crossentropy'\n",
    "\n",
    "# Model architecture\n",
    "regularizer_l2 = regularizers.l2(0.01)\n",
    "\n",
    "# Model fit\n",
    "epochs = 12\n",
    "batch_size = 64"
   ]
  },
  {
   "cell_type": "code",
   "execution_count": 180,
   "metadata": {},
   "outputs": [
    {
     "name": "stdout",
     "output_type": "stream",
     "text": [
      "X_train_nn:  (39199, 784)\n",
      "X_val_nn:  (16800, 784)\n",
      "X_test_nn:  (14000, 784)\n",
      "y_train_nn:  (39199, 10)\n",
      "y_val_nn:  (16800, 10)\n",
      "y_test_nn:  (14000, 10)\n"
     ]
    }
   ],
   "source": [
    "print_data_shapes_val(X_train_nn, X_val_nn, X_test_nn, y_train_nn, y_val_nn, y_test_nn)"
   ]
  },
  {
   "cell_type": "code",
   "execution_count": 146,
   "metadata": {},
   "outputs": [],
   "source": [
    "model = Sequential()\n",
    "model.add(Dense(256, input_dim=784, activation='relu', kernel_regularizer=regularizer_l2))\n",
    "model.add(Dense(128, activation='relu'))\n",
    "model.add(Dense(64, activation='relu'))\n",
    "model.add(Dense(32, activation='relu'))\n",
    "model.add(Dense(16, activation='relu'))\n",
    "model.add(Dense(8, activation='relu', kernel_regularizer=regularizer_l2))\n",
    "model.add(Dense(10, activation='softmax'))"
   ]
  },
  {
   "cell_type": "code",
   "execution_count": 147,
   "metadata": {},
   "outputs": [],
   "source": [
    "model.compile(loss=loss, optimizer=adam, metrics=metrics)"
   ]
  },
  {
   "cell_type": "code",
   "execution_count": 148,
   "metadata": {
    "scrolled": true
   },
   "outputs": [
    {
     "name": "stdout",
     "output_type": "stream",
     "text": [
      "Train on 39199 samples, validate on 16800 samples\n",
      "Epoch 1/12\n",
      "39199/39199 [==============================] - 7s 171us/step - loss: 1.0897 - acc: 0.7616 - val_loss: 0.5245 - val_acc: 0.9099\n",
      "Epoch 2/12\n",
      "39199/39199 [==============================] - 6s 149us/step - loss: 0.4286 - acc: 0.9320 - val_loss: 0.4009 - val_acc: 0.9348\n",
      "Epoch 3/12\n",
      "39199/39199 [==============================] - 7s 191us/step - loss: 0.3719 - acc: 0.9433 - val_loss: 0.3558 - val_acc: 0.9484\n",
      "Epoch 4/12\n",
      "39199/39199 [==============================] - 8s 197us/step - loss: 0.3382 - acc: 0.9499 - val_loss: 0.3548 - val_acc: 0.9448\n",
      "Epoch 5/12\n",
      "39199/39199 [==============================] - 8s 194us/step - loss: 0.3137 - acc: 0.9541 - val_loss: 0.3261 - val_acc: 0.9509\n",
      "Epoch 6/12\n",
      "39199/39199 [==============================] - 8s 192us/step - loss: 0.2997 - acc: 0.9551 - val_loss: 0.3045 - val_acc: 0.9545\n",
      "Epoch 7/12\n",
      "39199/39199 [==============================] - 7s 189us/step - loss: 0.2809 - acc: 0.9578 - val_loss: 0.2781 - val_acc: 0.9595\n",
      "Epoch 8/12\n",
      "39199/39199 [==============================] - 8s 200us/step - loss: 0.2681 - acc: 0.9594 - val_loss: 0.2923 - val_acc: 0.9546\n",
      "Epoch 9/12\n",
      "39199/39199 [==============================] - 8s 198us/step - loss: 0.2603 - acc: 0.9594 - val_loss: 0.3172 - val_acc: 0.9460\n",
      "Epoch 10/12\n",
      "39199/39199 [==============================] - 9s 218us/step - loss: 0.2503 - acc: 0.9621 - val_loss: 0.2827 - val_acc: 0.9545\n",
      "Epoch 11/12\n",
      "39199/39199 [==============================] - 8s 195us/step - loss: 0.2328 - acc: 0.9651 - val_loss: 0.2807 - val_acc: 0.9554\n",
      "Epoch 12/12\n",
      "39199/39199 [==============================] - 7s 177us/step - loss: 0.2352 - acc: 0.9638 - val_loss: 0.2552 - val_acc: 0.9583\n",
      "14000/14000 [==============================] - 1s 69us/step\n"
     ]
    }
   ],
   "source": [
    "model.fit(X_train_nn, y_train_nn, validation_data=(X_val_nn, y_val_nn), epochs=epochs, batch_size=batch_size)\n",
    "scores = model.evaluate(X_test_nn, y_test_nn)"
   ]
  },
  {
   "cell_type": "code",
   "execution_count": 149,
   "metadata": {},
   "outputs": [
    {
     "name": "stdout",
     "output_type": "stream",
     "text": [
      "[0.25609567366327557, 0.9591428571428572]\n"
     ]
    }
   ],
   "source": [
    "print(scores)"
   ]
  },
  {
   "cell_type": "markdown",
   "metadata": {},
   "source": [
    "> Can see that the model is somewhat overfitting - Will try to implement *Regularizer*\n",
    "<br>\n",
    "This resulted in a loss in accuracy, but there is a trade off between accuracy and overfitting"
   ]
  },
  {
   "cell_type": "markdown",
   "metadata": {},
   "source": [
    "### CNN"
   ]
  },
  {
   "cell_type": "code",
   "execution_count": 150,
   "metadata": {},
   "outputs": [],
   "source": [
    "from keras.layers import Dropout\n",
    "from keras.layers import Flatten\n",
    "from keras.layers.convolutional import Conv2D\n",
    "from keras.layers.convolutional import MaxPooling2D\n",
    "from keras.datasets import mnist\n",
    "from keras.utils import np_utils"
   ]
  },
  {
   "cell_type": "code",
   "execution_count": 169,
   "metadata": {},
   "outputs": [],
   "source": [
    "X_train_cnn, X_val_cnn, X_test_cnn, y_train_cnn, y_val_cnn, y_test_cnn = get_data(one_hot_enc=False, reshape=True, train_val_test=True)"
   ]
  },
  {
   "cell_type": "code",
   "execution_count": 170,
   "metadata": {},
   "outputs": [],
   "source": [
    "y_train_cnn = np_utils.to_categorical(y_train_cnn)\n",
    "y_val_cnn = np_utils.to_categorical(y_val_cnn)\n",
    "y_test_cnn = np_utils.to_categorical(y_test_cnn)"
   ]
  },
  {
   "cell_type": "code",
   "execution_count": 181,
   "metadata": {},
   "outputs": [
    {
     "name": "stdout",
     "output_type": "stream",
     "text": [
      "X_train_nn:  (39199, 28, 28, 1)\n",
      "X_val_nn:  (16800, 28, 28, 1)\n",
      "X_test_nn:  (14000, 28, 28, 1)\n",
      "y_train_nn:  (39199, 10)\n",
      "y_val_nn:  (16800, 10)\n",
      "y_test_nn:  (14000, 10)\n"
     ]
    }
   ],
   "source": [
    "print_data_shapes_val(X_train_cnn, X_val_cnn, X_test_cnn, y_train_cnn, y_val_cnn, y_test_cnn)"
   ]
  },
  {
   "cell_type": "code",
   "execution_count": 172,
   "metadata": {},
   "outputs": [],
   "source": [
    "model = Sequential()\n",
    "model.add(Conv2D(32, (5, 5), input_shape=(28, 28, 1), activation='relu'))\n",
    "model.add(MaxPooling2D(pool_size=(2, 2)))\n",
    "model.add(Dropout(0.4))\n",
    "model.add(Flatten())\n",
    "model.add(Dense(128, activation='relu'))\n",
    "model.add(Dense(10, activation='softmax'))"
   ]
  },
  {
   "cell_type": "code",
   "execution_count": 173,
   "metadata": {},
   "outputs": [],
   "source": [
    "model.compile(loss='categorical_crossentropy', optimizer=adam, metrics=['accuracy'])"
   ]
  },
  {
   "cell_type": "code",
   "execution_count": 174,
   "metadata": {},
   "outputs": [
    {
     "name": "stdout",
     "output_type": "stream",
     "text": [
      "Train on 39199 samples, validate on 16800 samples\n",
      "Epoch 1/4\n",
      "39199/39199 [==============================] - 37s 955us/step - loss: 0.1811 - acc: 0.9437 - val_loss: 0.0731 - val_acc: 0.9781\n",
      "Epoch 2/4\n",
      "39199/39199 [==============================] - 37s 938us/step - loss: 0.0577 - acc: 0.9820 - val_loss: 0.0552 - val_acc: 0.9835\n",
      "Epoch 3/4\n",
      "39199/39199 [==============================] - 32s 817us/step - loss: 0.0401 - acc: 0.9869 - val_loss: 0.0548 - val_acc: 0.9842\n",
      "Epoch 4/4\n",
      "39199/39199 [==============================] - 31s 780us/step - loss: 0.0307 - acc: 0.9894 - val_loss: 0.0496 - val_acc: 0.9856\n",
      "14000/14000 [==============================] - 6s 398us/step\n"
     ]
    }
   ],
   "source": [
    "model.fit(X_train_cnn, y_train_cnn, validation_data=(X_val_cnn, y_val_cnn), epochs=4, batch_size=200)\n",
    "scores = model.evaluate(X_test_cnn, y_test_cnn)"
   ]
  },
  {
   "cell_type": "code",
   "execution_count": 175,
   "metadata": {},
   "outputs": [
    {
     "name": "stdout",
     "output_type": "stream",
     "text": [
      "[0.04667685281179313, 0.9867857142857143]\n"
     ]
    }
   ],
   "source": [
    "print(scores)"
   ]
  },
  {
   "cell_type": "markdown",
   "metadata": {},
   "source": [
    "### Random Forest"
   ]
  },
  {
   "cell_type": "code",
   "execution_count": 182,
   "metadata": {},
   "outputs": [],
   "source": [
    "from sklearn.ensemble import RandomForestClassifier\n",
    "from sklearn.metrics import accuracy_score"
   ]
  },
  {
   "cell_type": "code",
   "execution_count": 183,
   "metadata": {},
   "outputs": [],
   "source": [
    "X_train_rf, X_test_rf, y_train_rf, y_test_rf = get_data()"
   ]
  },
  {
   "cell_type": "code",
   "execution_count": 184,
   "metadata": {},
   "outputs": [
    {
     "name": "stdout",
     "output_type": "stream",
     "text": [
      "X_train_nn:  (55999, 784)\n",
      "X_test_nn:  (14000, 784)\n",
      "y_train_nn:  (55999, 10)\n",
      "y_test_nn:  (14000, 10)\n"
     ]
    }
   ],
   "source": [
    "print_data_shapes_nval(X_train_rf, X_test_rf, y_train_rf, y_test_rf)"
   ]
  },
  {
   "cell_type": "code",
   "execution_count": 185,
   "metadata": {},
   "outputs": [
    {
     "name": "stdout",
     "output_type": "stream",
     "text": [
      "0.8957857142857143\n"
     ]
    }
   ],
   "source": [
    "random_f_clf = RandomForestClassifier(n_estimators=50,\n",
    "                                     n_jobs = 2,\n",
    "                                     random_state=random_state)\n",
    "random_f_clf.fit(X_train_rf, y_train_rf)\n",
    "y_pred_rf = random_f_clf.predict(X_test_rf)\n",
    "print(accuracy_score(y_test_rf, y_pred_rf))"
   ]
  },
  {
   "cell_type": "markdown",
   "metadata": {},
   "source": [
    "### XGBoost"
   ]
  },
  {
   "cell_type": "code",
   "execution_count": 35,
   "metadata": {},
   "outputs": [],
   "source": [
    "# If needing to install xgboost (using conda)\n",
    "# ! conda install py-xgboost"
   ]
  },
  {
   "cell_type": "code",
   "execution_count": 186,
   "metadata": {},
   "outputs": [],
   "source": [
    "from xgboost import XGBClassifier\n",
    "from sklearn.model_selection import GridSearchCV"
   ]
  },
  {
   "cell_type": "code",
   "execution_count": 187,
   "metadata": {},
   "outputs": [],
   "source": [
    "X_train_xg, X_test_xg, y_train_xg, y_test_xg = get_data(one_hot_enc=False)"
   ]
  },
  {
   "cell_type": "code",
   "execution_count": 188,
   "metadata": {},
   "outputs": [
    {
     "name": "stdout",
     "output_type": "stream",
     "text": [
      "X_train_nn:  (55999, 784)\n",
      "X_test_nn:  (14000, 784)\n",
      "y_train_nn:  (55999, 1)\n",
      "y_test_nn:  (14000, 1)\n"
     ]
    }
   ],
   "source": [
    "print_data_shapes_nval(X_train_xg, X_test_xg, y_train_xg, y_test_xg)"
   ]
  },
  {
   "cell_type": "code",
   "execution_count": 190,
   "metadata": {},
   "outputs": [],
   "source": [
    "params = {\n",
    "        'gamma': [0.5, 2],\n",
    "        'subsample': [0.6, 1.0],\n",
    "        'colsample_bytree': [0.6, 1.0],\n",
    "        'max_depth': [3, 5],\n",
    "        'n_estimators': [5, 10]\n",
    "        }"
   ]
  },
  {
   "cell_type": "markdown",
   "metadata": {},
   "source": [
    "Fun to try with more parameters, but my poor CPU cannot take any more.."
   ]
  },
  {
   "cell_type": "markdown",
   "metadata": {},
   "source": [
    "## Disclaimer: This takes a lot of time"
   ]
  },
  {
   "cell_type": "code",
   "execution_count": 191,
   "metadata": {},
   "outputs": [],
   "source": [
    "%%capture \n",
    "xgb_clf = XGBClassifier()\n",
    "rs = GridSearchCV(xgb_clf,\n",
    "                  params,\n",
    "                  cv=2,\n",
    "                  scoring=\"accuracy\",\n",
    "                  n_jobs=1,\n",
    "                  verbose=2)\n",
    "\n",
    "rs.fit(X_train_xg, y_train_xg.values.ravel())"
   ]
  },
  {
   "cell_type": "code",
   "execution_count": 192,
   "metadata": {},
   "outputs": [
    {
     "name": "stdout",
     "output_type": "stream",
     "text": [
      "XGBClassifier(base_score=0.5, booster='gbtree', colsample_bylevel=1,\n",
      "       colsample_bytree=0.6, gamma=0.5, learning_rate=0.1,\n",
      "       max_delta_step=0, max_depth=5, min_child_weight=1, missing=None,\n",
      "       n_estimators=10, n_jobs=1, nthread=None, objective='multi:softprob',\n",
      "       random_state=0, reg_alpha=0, reg_lambda=1, scale_pos_weight=1,\n",
      "       seed=None, silent=True, subsample=1.0)\n"
     ]
    }
   ],
   "source": [
    "optim_est_xg = rs.best_estimator_\n",
    "print(optim_est_xg)"
   ]
  },
  {
   "cell_type": "code",
   "execution_count": 193,
   "metadata": {},
   "outputs": [
    {
     "name": "stdout",
     "output_type": "stream",
     "text": [
      "0.9046428571428572\n"
     ]
    }
   ],
   "source": [
    "y_pred_xg = optim_est_xg.predict(X_test_xg)\n",
    "print(accuracy_score(y_test_xg, y_pred_xg))"
   ]
  },
  {
   "cell_type": "code",
   "execution_count": null,
   "metadata": {},
   "outputs": [],
   "source": []
  }
 ],
 "metadata": {
  "kernelspec": {
   "display_name": "DAT158",
   "language": "python",
   "name": "dat158"
  },
  "language_info": {
   "codemirror_mode": {
    "name": "ipython",
    "version": 3
   },
   "file_extension": ".py",
   "mimetype": "text/x-python",
   "name": "python",
   "nbconvert_exporter": "python",
   "pygments_lexer": "ipython3",
   "version": "3.6.6"
  }
 },
 "nbformat": 4,
 "nbformat_minor": 2
}
