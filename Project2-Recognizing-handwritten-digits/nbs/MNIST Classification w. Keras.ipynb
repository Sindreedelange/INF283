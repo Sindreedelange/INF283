{
 "cells": [
  {
   "cell_type": "code",
   "execution_count": 46,
   "metadata": {},
   "outputs": [],
   "source": [
    "import pandas as pd\n",
    "import numpy as np\n",
    "import os\n",
    "import sys\n",
    "import time\n",
    "from sklearn.model_selection import train_test_split\n",
    "from sklearn.preprocessing import OneHotEncoder\n",
    "import matplotlib.pyplot as plt\n",
    "import pickle\n",
    "from sklearn.model_selection import GridSearchCV\n",
    "import matplotlib.patches as npatches"
   ]
  },
  {
   "cell_type": "code",
   "execution_count": 2,
   "metadata": {},
   "outputs": [],
   "source": [
    "# Reproducible results\n",
    "random_state = 42\n",
    "np.random.seed(random_state)"
   ]
  },
  {
   "cell_type": "markdown",
   "metadata": {},
   "source": [
    "# Data"
   ]
  },
  {
   "cell_type": "code",
   "execution_count": 3,
   "metadata": {},
   "outputs": [],
   "source": [
    "def get_data(one_hot_enc=True, reshape=False, train_val_test=False):\n",
    "    DATA_PATH = \"../data/\"\n",
    "    file_list = os.listdir(DATA_PATH)\n",
    "    images_path = file_list[0]\n",
    "    labels_path = file_list[1]\n",
    "    images_path_full = os.path.join(DATA_PATH + images_path)\n",
    "    labels_path_full = os.path.join(DATA_PATH + labels_path)\n",
    "    X = pd.read_csv(images_path_full)\n",
    "    if reshape:\n",
    "        X = X.values.astype('float32')\n",
    "        # Normalize data\n",
    "        X = X / 255\n",
    "        # Reshape for cnn \n",
    "        X = X.reshape([-1, 28, 28, 1]).astype('float32')\n",
    "    else:\n",
    "        # Normalize data\n",
    "        X = X / 255\n",
    "    y = pd.read_csv(labels_path_full)\n",
    "    # Encode labels\n",
    "    if one_hot_enc:\n",
    "        encoder = OneHotEncoder(sparse=False, categories='auto')\n",
    "        y = encoder.fit_transform(y)\n",
    "    # Divide into train and test set \n",
    "    X_train, X_test, y_train, y_test = train_test_split(X, y, test_size=0.2, random_state=random_state)\n",
    "    if train_val_test:\n",
    "        X_train, X_val, y_train, y_val = train_test_split(X_train, y_train, test_size=0.3, random_state=random_state)\n",
    "        return X_train, X_val, X_test, y_train, y_val, y_test\n",
    "    else:\n",
    "        return X_train, X_test, y_train, y_test"
   ]
  },
  {
   "cell_type": "code",
   "execution_count": 4,
   "metadata": {},
   "outputs": [],
   "source": [
    "def print_data_shapes_val(X_train, X_val, X_test, y_train, y_val, y_test):\n",
    "    print(\"X_train_nn: \", X_train.shape)\n",
    "    print(\"X_val_nn: \", X_val.shape)\n",
    "    print(\"X_test_nn: \", X_test.shape)\n",
    "    print(\"y_train_nn: \", y_train.shape)\n",
    "    print(\"y_val_nn: \", y_val.shape)\n",
    "    print(\"y_test_nn: \", y_test.shape)"
   ]
  },
  {
   "cell_type": "code",
   "execution_count": 5,
   "metadata": {},
   "outputs": [],
   "source": [
    "def print_data_shapes_nval(X_train, X_test, y_train, y_test):\n",
    "    print(\"X_train_nn: \", X_train.shape)\n",
    "    print(\"X_test_nn: \", X_test.shape)\n",
    "    print(\"y_train_nn: \", y_train.shape)\n",
    "    print(\"y_test_nn: \", y_test.shape)"
   ]
  },
  {
   "cell_type": "markdown",
   "metadata": {},
   "source": [
    "# Classifiers"
   ]
  },
  {
   "cell_type": "code",
   "execution_count": 6,
   "metadata": {},
   "outputs": [],
   "source": [
    "classifiers_dict = {}"
   ]
  },
  {
   "cell_type": "code",
   "execution_count": 7,
   "metadata": {},
   "outputs": [],
   "source": [
    "model_folder_path = \"../models/\""
   ]
  },
  {
   "cell_type": "code",
   "execution_count": 65,
   "metadata": {},
   "outputs": [],
   "source": [
    "learning_rate = 1e-3\n",
    "optimizer = Adam(lr=learning_rate)"
   ]
  },
  {
   "cell_type": "markdown",
   "metadata": {},
   "source": [
    "### Feed Forward Neural Net"
   ]
  },
  {
   "cell_type": "code",
   "execution_count": 66,
   "metadata": {},
   "outputs": [],
   "source": [
    "from keras.models import Sequential\n",
    "from keras.layers.core import Dense\n",
    "from keras.optimizers import Adam\n",
    "from keras import regularizers\n",
    "import keras"
   ]
  },
  {
   "cell_type": "code",
   "execution_count": 67,
   "metadata": {},
   "outputs": [],
   "source": [
    "X_train_nn, X_val_nn, X_test_nn, y_train_nn, y_val_nn, y_test_nn = get_data(train_val_test=True)"
   ]
  },
  {
   "cell_type": "code",
   "execution_count": 68,
   "metadata": {},
   "outputs": [],
   "source": [
    "model_name_nn = \"MNIST_nn\"\n",
    "model_name_ext_nn = \".hdf5\"\n",
    "full_path_nn = model_folder_path + model_name_nn + model_name_ext_nn"
   ]
  },
  {
   "cell_type": "code",
   "execution_count": 69,
   "metadata": {},
   "outputs": [],
   "source": [
    "# Load the model\n",
    "model_nn = keras.models.load_model(full_path_nn)"
   ]
  },
  {
   "cell_type": "code",
   "execution_count": 70,
   "metadata": {},
   "outputs": [],
   "source": [
    "# Params\n",
    "\n",
    "# Model compile\n",
    "metrics = ['accuracy']\n",
    "loss = 'categorical_crossentropy'\n",
    "\n",
    "# Model architecture\n",
    "regularizer_l2 = regularizers.l2(0.01)\n",
    "\n",
    "# Model fit\n",
    "epochs = 12\n",
    "batch_size = 64"
   ]
  },
  {
   "cell_type": "code",
   "execution_count": 71,
   "metadata": {},
   "outputs": [
    {
     "name": "stdout",
     "output_type": "stream",
     "text": [
      "X_train_nn:  (39199, 784)\n",
      "X_val_nn:  (16800, 784)\n",
      "X_test_nn:  (14000, 784)\n",
      "y_train_nn:  (39199, 10)\n",
      "y_val_nn:  (16800, 10)\n",
      "y_test_nn:  (14000, 10)\n"
     ]
    }
   ],
   "source": [
    "print_data_shapes_val(X_train_nn, X_val_nn, X_test_nn, y_train_nn, y_val_nn, y_test_nn)"
   ]
  },
  {
   "cell_type": "code",
   "execution_count": 72,
   "metadata": {},
   "outputs": [],
   "source": [
    "model_nn = Sequential()\n",
    "model_nn.add(Dense(256, input_dim=784, activation='relu', kernel_regularizer=regularizer_l2))\n",
    "model_nn.add(Dense(128, activation='relu'))\n",
    "model_nn.add(Dense(64, activation='relu'))\n",
    "model_nn.add(Dense(32, activation='relu'))\n",
    "model_nn.add(Dense(16, activation='relu'))\n",
    "model_nn.add(Dense(8, activation='relu', kernel_regularizer=regularizer_l2))\n",
    "model_nn.add(Dense(10, activation='softmax'))"
   ]
  },
  {
   "cell_type": "code",
   "execution_count": 73,
   "metadata": {},
   "outputs": [],
   "source": [
    "model_nn.compile(loss=loss, optimizer=optimizer, metrics=metrics)"
   ]
  },
  {
   "cell_type": "code",
   "execution_count": 74,
   "metadata": {
    "scrolled": true
   },
   "outputs": [
    {
     "name": "stdout",
     "output_type": "stream",
     "text": [
      "Train on 39199 samples, validate on 16800 samples\n",
      "Epoch 1/12\n",
      "39199/39199 [==============================] - 7s 170us/step - loss: 1.0281 - acc: 0.8103 - val_loss: 0.5010 - val_acc: 0.9202\n",
      "Epoch 2/12\n",
      "39199/39199 [==============================] - 6s 153us/step - loss: 0.4349 - acc: 0.9339 - val_loss: 0.4002 - val_acc: 0.9427\n",
      "Epoch 3/12\n",
      "39199/39199 [==============================] - 6s 154us/step - loss: 0.3735 - acc: 0.9457 - val_loss: 0.3541 - val_acc: 0.9493\n",
      "Epoch 4/12\n",
      "39199/39199 [==============================] - 6s 157us/step - loss: 0.3264 - acc: 0.9522 - val_loss: 0.3210 - val_acc: 0.9526\n",
      "Epoch 5/12\n",
      "39199/39199 [==============================] - 6s 156us/step - loss: 0.2979 - acc: 0.9563 - val_loss: 0.3142 - val_acc: 0.9529\n",
      "Epoch 6/12\n",
      "39199/39199 [==============================] - 6s 156us/step - loss: 0.2799 - acc: 0.9604 - val_loss: 0.2657 - val_acc: 0.9620\n",
      "Epoch 7/12\n",
      "39199/39199 [==============================] - 6s 156us/step - loss: 0.2662 - acc: 0.9608 - val_loss: 0.2968 - val_acc: 0.9516\n",
      "Epoch 8/12\n",
      "39199/39199 [==============================] - 6s 156us/step - loss: 0.2513 - acc: 0.9618 - val_loss: 0.2484 - val_acc: 0.9638\n",
      "Epoch 9/12\n",
      "39199/39199 [==============================] - 6s 163us/step - loss: 0.2420 - acc: 0.9640 - val_loss: 0.2485 - val_acc: 0.9624\n",
      "Epoch 10/12\n",
      "39199/39199 [==============================] - 6s 157us/step - loss: 0.2332 - acc: 0.9653 - val_loss: 0.2508 - val_acc: 0.9607\n",
      "Epoch 11/12\n",
      "39199/39199 [==============================] - 6s 161us/step - loss: 0.2292 - acc: 0.9656 - val_loss: 0.2605 - val_acc: 0.9586\n",
      "Epoch 12/12\n",
      "39199/39199 [==============================] - 6s 161us/step - loss: 0.2260 - acc: 0.9653 - val_loss: 0.2413 - val_acc: 0.9620\n",
      "14000/14000 [==============================] - 1s 69us/step\n"
     ]
    }
   ],
   "source": [
    "start_nn = time.time()\n",
    "history_nn = model_nn.fit(X_train_nn, y_train_nn, validation_data=(X_val_nn, y_val_nn), epochs=epochs, batch_size=batch_size)\n",
    "end_nn = time.time()\n",
    "scores_nn = model_nn.evaluate(X_test_nn, y_test_nn)"
   ]
  },
  {
   "cell_type": "code",
   "execution_count": 75,
   "metadata": {},
   "outputs": [],
   "source": [
    "tot_nn = round(end_nn - start_nn, 2)"
   ]
  },
  {
   "cell_type": "code",
   "execution_count": 76,
   "metadata": {
    "scrolled": true
   },
   "outputs": [
    {
     "name": "stdout",
     "output_type": "stream",
     "text": [
      "Scores:  [0.2433919607741492, 0.9611428571428572] \n",
      " Training time:  75.03  seconds\n"
     ]
    }
   ],
   "source": [
    "print(\"Scores: \", scores_nn, \"\\n Training time: \", tot_nn, \" seconds\")"
   ]
  },
  {
   "cell_type": "markdown",
   "metadata": {},
   "source": [
    "> Can see that the model is somewhat overfitting - Will try to implement *Regularizer*\n",
    "<br>\n",
    "This resulted in a loss in accuracy, but there is a trade off between accuracy and overfitting"
   ]
  },
  {
   "cell_type": "code",
   "execution_count": 77,
   "metadata": {},
   "outputs": [],
   "source": [
    "classifiers_dict['NN'] = {'accuracy': scores_nn[1], 'time': tot_nn}"
   ]
  },
  {
   "cell_type": "code",
   "execution_count": 78,
   "metadata": {},
   "outputs": [],
   "source": [
    "keras.models.save_model(model_nn, full_path_nn)"
   ]
  },
  {
   "cell_type": "markdown",
   "metadata": {},
   "source": [
    "### CNN"
   ]
  },
  {
   "cell_type": "code",
   "execution_count": 9,
   "metadata": {},
   "outputs": [],
   "source": [
    "from keras.layers import Dropout\n",
    "from keras.layers import Flatten\n",
    "from keras.layers.convolutional import Conv2D\n",
    "from keras.layers.convolutional import MaxPooling2D\n",
    "from keras.datasets import mnist\n",
    "from keras.utils import np_utils\n",
    "from keras.wrappers.scikit_learn import KerasClassifier"
   ]
  },
  {
   "cell_type": "code",
   "execution_count": 10,
   "metadata": {},
   "outputs": [],
   "source": [
    "X_train_cnn, X_val_cnn, X_test_cnn, y_train_cnn, y_val_cnn, y_test_cnn = get_data(one_hot_enc=False, reshape=True, train_val_test=True)"
   ]
  },
  {
   "cell_type": "code",
   "execution_count": 11,
   "metadata": {},
   "outputs": [],
   "source": [
    "y_train_cnn = np_utils.to_categorical(y_train_cnn)\n",
    "y_val_cnn = np_utils.to_categorical(y_val_cnn)\n",
    "y_test_cnn = np_utils.to_categorical(y_test_cnn)"
   ]
  },
  {
   "cell_type": "code",
   "execution_count": 12,
   "metadata": {},
   "outputs": [
    {
     "name": "stdout",
     "output_type": "stream",
     "text": [
      "X_train_nn:  (39199, 28, 28, 1)\n",
      "X_val_nn:  (16800, 28, 28, 1)\n",
      "X_test_nn:  (14000, 28, 28, 1)\n",
      "y_train_nn:  (39199, 10)\n",
      "y_val_nn:  (16800, 10)\n",
      "y_test_nn:  (14000, 10)\n"
     ]
    }
   ],
   "source": [
    "print_data_shapes_val(X_train_cnn, X_val_cnn, X_test_cnn, y_train_cnn, y_val_cnn, y_test_cnn)"
   ]
  },
  {
   "cell_type": "code",
   "execution_count": 13,
   "metadata": {},
   "outputs": [],
   "source": [
    "model_name_cnn = \"MNIST_cnn\"\n",
    "model_name_ext_cnn = \".hdf5\"\n",
    "full_path_cnn = model_folder_path + model_name_cnn + model_name_ext_cnn"
   ]
  },
  {
   "cell_type": "code",
   "execution_count": 45,
   "metadata": {},
   "outputs": [],
   "source": [
    "# Load the model\n",
    "# model_cnn = keras.models.load_model(full_path_cnn)"
   ]
  },
  {
   "cell_type": "code",
   "execution_count": 14,
   "metadata": {},
   "outputs": [],
   "source": [
    "model_cnn = Sequential()\n",
    "model_cnn.add(Conv2D(32, (5, 5), input_shape=(28, 28, 1), activation='relu'))\n",
    "model_cnn.add(MaxPooling2D(pool_size=(2, 2)))\n",
    "model_cnn.add(Dropout(0.4))\n",
    "model_cnn.add(Flatten())\n",
    "model_cnn.add(Dense(128, activation='relu'))\n",
    "model_cnn.add(Dense(10, activation='softmax'))"
   ]
  },
  {
   "cell_type": "markdown",
   "metadata": {},
   "source": [
    "> Tried implementing with GridSearchCV, but it seems there is a problem with combining Keras Classifier and GridSearchCV\n",
    "\n",
    "https://stackoverflow.com/questions/48717451/keras-kerasclassifier-gridsearch-typeerror-cant-pickle-thread-lock-objects"
   ]
  },
  {
   "cell_type": "code",
   "execution_count": 39,
   "metadata": {},
   "outputs": [
    {
     "name": "stdout",
     "output_type": "stream",
     "text": [
      "Train on 39199 samples, validate on 16800 samples\n",
      "Epoch 1/4\n",
      "39199/39199 [==============================] - 20s 515us/step - loss: 0.1929 - acc: 0.9382 - val_loss: 0.0729 - val_acc: 0.9785\n",
      "Epoch 2/4\n",
      "39199/39199 [==============================] - 21s 543us/step - loss: 0.0611 - acc: 0.9799 - val_loss: 0.0652 - val_acc: 0.9789\n",
      "Epoch 3/4\n",
      "39199/39199 [==============================] - 25s 642us/step - loss: 0.0438 - acc: 0.9863 - val_loss: 0.0514 - val_acc: 0.9842\n",
      "Epoch 4/4\n",
      "39199/39199 [==============================] - 24s 607us/step - loss: 0.0347 - acc: 0.9888 - val_loss: 0.0468 - val_acc: 0.9864\n",
      "14000/14000 [==============================] - 4s 306us/step\n"
     ]
    }
   ],
   "source": [
    "start_cnn = time.time()\n",
    "history_cnn = model_cnn.fit(X_train_cnn, y_train_cnn, validation_data=(X_val_cnn, y_val_cnn), epochs=4, batch_size=200)\n",
    "end_cnn = time.time()\n",
    "scores_cnn = model_cnn.evaluate(X_test_cnn, y_test_cnn)"
   ]
  },
  {
   "cell_type": "code",
   "execution_count": 44,
   "metadata": {},
   "outputs": [],
   "source": [
    "tot_cnn = round(end_cnn - start_cnn, 2)"
   ]
  },
  {
   "cell_type": "code",
   "execution_count": 41,
   "metadata": {
    "scrolled": true
   },
   "outputs": [
    {
     "name": "stdout",
     "output_type": "stream",
     "text": [
      "Scores:  [0.04565956243426938, 0.9862142857142857] \n",
      " Training time:  90.88  seconds\n"
     ]
    }
   ],
   "source": [
    "print(\"Scores: \", scores_cnn, \"\\n Training time: \", tot_cnn, \" seconds\")"
   ]
  },
  {
   "cell_type": "code",
   "execution_count": 140,
   "metadata": {},
   "outputs": [],
   "source": [
    "classifiers_dict['CNN'] = {'accuracy': scores_cnn[1], 'time': tot_cnn}"
   ]
  },
  {
   "cell_type": "code",
   "execution_count": 43,
   "metadata": {},
   "outputs": [],
   "source": [
    "# Save the model\n",
    "keras.models.save_model(model_cnn, full_path_cnn)"
   ]
  },
  {
   "cell_type": "markdown",
   "metadata": {},
   "source": [
    "### Random Forest"
   ]
  },
  {
   "cell_type": "code",
   "execution_count": 49,
   "metadata": {},
   "outputs": [],
   "source": [
    "from sklearn.ensemble import RandomForestClassifier\n",
    "from sklearn.metrics import accuracy_score"
   ]
  },
  {
   "cell_type": "code",
   "execution_count": 50,
   "metadata": {},
   "outputs": [],
   "source": [
    "X_train_rf, X_test_rf, y_train_rf, y_test_rf = get_data()"
   ]
  },
  {
   "cell_type": "code",
   "execution_count": 51,
   "metadata": {},
   "outputs": [
    {
     "name": "stdout",
     "output_type": "stream",
     "text": [
      "X_train_nn:  (55999, 784)\n",
      "X_test_nn:  (14000, 784)\n",
      "y_train_nn:  (55999, 10)\n",
      "y_test_nn:  (14000, 10)\n"
     ]
    }
   ],
   "source": [
    "print_data_shapes_nval(X_train_rf, X_test_rf, y_train_rf, y_test_rf)"
   ]
  },
  {
   "cell_type": "code",
   "execution_count": 52,
   "metadata": {},
   "outputs": [],
   "source": [
    "model_name_rf = \"MNIST_Random_Forest\"\n",
    "model_name_ext_rf = \".pickle.dat\"\n",
    "full_path_rf = model_folder_path + model_name_rf + model_name_ext_rf"
   ]
  },
  {
   "cell_type": "code",
   "execution_count": 53,
   "metadata": {},
   "outputs": [],
   "source": [
    "# Load model\n",
    "random_f_clf = pickle.load(open(full_path_rf, \"rb\"))"
   ]
  },
  {
   "cell_type": "code",
   "execution_count": 54,
   "metadata": {},
   "outputs": [],
   "source": [
    "random_f_clf = RandomForestClassifier(n_estimators=50,\n",
    "                                     n_jobs = 2,\n",
    "                                     random_state=random_state)\n",
    "start_rf = time.time()\n",
    "random_f_clf.fit(X_train_rf, y_train_rf)\n",
    "end_rf = time.time()"
   ]
  },
  {
   "cell_type": "code",
   "execution_count": 55,
   "metadata": {},
   "outputs": [],
   "source": [
    "tot_rf = round(end_rf - start_rf, 2)"
   ]
  },
  {
   "cell_type": "code",
   "execution_count": 56,
   "metadata": {},
   "outputs": [],
   "source": [
    "y_pred_rf = random_f_clf.predict(X_test_rf)\n",
    "scores_rf = accuracy_score(y_test_rf, y_pred_rf)"
   ]
  },
  {
   "cell_type": "code",
   "execution_count": 57,
   "metadata": {
    "scrolled": false
   },
   "outputs": [
    {
     "name": "stdout",
     "output_type": "stream",
     "text": [
      "Scores:  0.8957857142857143 \n",
      " Training time:  15.95  seconds\n"
     ]
    }
   ],
   "source": [
    "print(\"Scores: \", scores_rf, \"\\n Training time: \", tot_rf, \" seconds\")"
   ]
  },
  {
   "cell_type": "code",
   "execution_count": 58,
   "metadata": {},
   "outputs": [],
   "source": [
    "classifiers_dict['RF'] = {'accuracy': scores_rf, 'time': tot_rf}"
   ]
  },
  {
   "cell_type": "code",
   "execution_count": 133,
   "metadata": {},
   "outputs": [],
   "source": [
    "# Save the model\n",
    "pickle.dump(random_f_clf, open(full_path_rf, \"wb\"))"
   ]
  },
  {
   "cell_type": "markdown",
   "metadata": {},
   "source": [
    "### XGBoost"
   ]
  },
  {
   "cell_type": "code",
   "execution_count": 34,
   "metadata": {},
   "outputs": [],
   "source": [
    "# If needing to install xgboost (using conda)\n",
    "# ! conda install py-xgboost"
   ]
  },
  {
   "cell_type": "code",
   "execution_count": 153,
   "metadata": {},
   "outputs": [],
   "source": [
    "from xgboost import XGBClassifier"
   ]
  },
  {
   "cell_type": "code",
   "execution_count": 154,
   "metadata": {},
   "outputs": [],
   "source": [
    "X_train_xgb, X_test_xgb, y_train_xgb, y_test_xgb = get_data(one_hot_enc=False)"
   ]
  },
  {
   "cell_type": "code",
   "execution_count": 155,
   "metadata": {
    "scrolled": true
   },
   "outputs": [
    {
     "name": "stdout",
     "output_type": "stream",
     "text": [
      "X_train_nn:  (55999, 784)\n",
      "X_test_nn:  (14000, 784)\n",
      "y_train_nn:  (55999, 1)\n",
      "y_test_nn:  (14000, 1)\n"
     ]
    }
   ],
   "source": [
    "print_data_shapes_nval(X_train_xgb, X_test_xgb, y_train_xgb, y_test_xgb)"
   ]
  },
  {
   "cell_type": "code",
   "execution_count": 156,
   "metadata": {},
   "outputs": [],
   "source": [
    "model_name_xgb = \"MNIST_XGBoost\"\n",
    "model_name_ext_xgb = \".pickle.dat\"\n",
    "full_path_xgb = model_folder_path + model_name_xgb + model_name_ext_xgb"
   ]
  },
  {
   "cell_type": "markdown",
   "metadata": {},
   "source": [
    "### NOTE: If you want to save time - load the model. "
   ]
  },
  {
   "cell_type": "code",
   "execution_count": 157,
   "metadata": {},
   "outputs": [],
   "source": [
    "# Load the model\n",
    "# optim_est_xgb = pickle.load(open(full_path_xgb), \"rb\")"
   ]
  },
  {
   "cell_type": "code",
   "execution_count": 158,
   "metadata": {},
   "outputs": [],
   "source": [
    "params = {\n",
    "        'gamma': [0.5, 2],\n",
    "        'subsample': [0.6, 1.0],\n",
    "        'colsample_bytree': [0.6, 1.0],\n",
    "        'max_depth': [3, 5],\n",
    "        'n_estimators': [5, 10]\n",
    "        }"
   ]
  },
  {
   "cell_type": "markdown",
   "metadata": {},
   "source": [
    "Fun to try with more parameters, but my poor CPU cannot take any more.."
   ]
  },
  {
   "cell_type": "markdown",
   "metadata": {},
   "source": [
    "## Disclaimer: This takes a lot of time"
   ]
  },
  {
   "cell_type": "code",
   "execution_count": 159,
   "metadata": {},
   "outputs": [],
   "source": [
    "%%capture \n",
    "xgb_clf = XGBClassifier()\n",
    "rs = GridSearchCV(xgb_clf,\n",
    "                  params,\n",
    "                  cv=2,\n",
    "                  scoring=\"accuracy\",\n",
    "                  n_jobs=1,\n",
    "                  verbose=2)\n",
    "start_xgb = time.time()\n",
    "rs.fit(X_train_xgb, y_train_xgb.values.ravel())\n",
    "end_xgb = time.time()"
   ]
  },
  {
   "cell_type": "code",
   "execution_count": 160,
   "metadata": {},
   "outputs": [
    {
     "name": "stdout",
     "output_type": "stream",
     "text": [
      "XGBClassifier(base_score=0.5, booster='gbtree', colsample_bylevel=1,\n",
      "       colsample_bytree=0.6, gamma=0.5, learning_rate=0.1,\n",
      "       max_delta_step=0, max_depth=5, min_child_weight=1, missing=None,\n",
      "       n_estimators=10, n_jobs=1, nthread=None, objective='multi:softprob',\n",
      "       random_state=0, reg_alpha=0, reg_lambda=1, scale_pos_weight=1,\n",
      "       seed=None, silent=True, subsample=1.0)\n"
     ]
    }
   ],
   "source": [
    "optim_est_xgb = rs.best_estimator_\n",
    "print(optim_est_xgb)"
   ]
  },
  {
   "cell_type": "code",
   "execution_count": 161,
   "metadata": {},
   "outputs": [],
   "source": [
    "tot_xgb = round(end_xgb - start_xgb, 2)"
   ]
  },
  {
   "cell_type": "code",
   "execution_count": 162,
   "metadata": {},
   "outputs": [],
   "source": [
    "y_pred_xgb = optim_est_xgb.predict(X_test_xgb)\n",
    "scores_xgb = accuracy_score(y_test_xgb, y_pred_xgb)"
   ]
  },
  {
   "cell_type": "code",
   "execution_count": 163,
   "metadata": {},
   "outputs": [
    {
     "name": "stdout",
     "output_type": "stream",
     "text": [
      "Scores:  0.9046428571428572 \n",
      " Training time:  2489.19  seconds\n"
     ]
    }
   ],
   "source": [
    "print(\"Scores: \", scores_xgb, \"\\n Training time: \", tot_xgb, \" seconds\")"
   ]
  },
  {
   "cell_type": "code",
   "execution_count": 164,
   "metadata": {},
   "outputs": [],
   "source": [
    "classifiers_dict['XGB'] = {'accuracy': scores_xgb, 'time': tot_xgb}"
   ]
  },
  {
   "cell_type": "code",
   "execution_count": 165,
   "metadata": {},
   "outputs": [],
   "source": [
    "pickle.dump(optim_est_xgb, open(full_path_xgb, \"wb\"))"
   ]
  },
  {
   "cell_type": "markdown",
   "metadata": {},
   "source": [
    "> Saving the dictionary to file"
   ]
  },
  {
   "cell_type": "code",
   "execution_count": 31,
   "metadata": {},
   "outputs": [],
   "source": [
    "dictionary_path = \"../dictionaries/\"\n",
    "classifiers_dict_f_name = \"classifiers_dict.npy\"\n",
    "classifiers_dict_f_path = dictionary_path + classifiers_dict_f_name"
   ]
  },
  {
   "cell_type": "code",
   "execution_count": 167,
   "metadata": {},
   "outputs": [],
   "source": [
    "np.save(classifiers_dict_f_path, classifiers_dict)"
   ]
  },
  {
   "cell_type": "markdown",
   "metadata": {},
   "source": [
    "## Evaluating"
   ]
  },
  {
   "cell_type": "code",
   "execution_count": 47,
   "metadata": {},
   "outputs": [],
   "source": [
    "# To load the classifiers dict:\n",
    "classifiers_dict = np.load(classifiers_dict_f_path).item()"
   ]
  },
  {
   "cell_type": "code",
   "execution_count": 48,
   "metadata": {},
   "outputs": [
    {
     "data": {
      "text/plain": [
       "{'NN': {'accuracy': 0.9642142857142857, 'time': 94.46},\n",
       " 'CNN': {'accuracy': 0.9862142857142857, 'time': 90.88},\n",
       " 'RF': {'accuracy': 0.8957857142857143, 'time': 16.93},\n",
       " 'XGB': {'accuracy': 0.9046428571428572, 'time': 2489.19}}"
      ]
     },
     "execution_count": 48,
     "metadata": {},
     "output_type": "execute_result"
    }
   ],
   "source": [
    "classifiers_dict"
   ]
  },
  {
   "cell_type": "code",
   "execution_count": 36,
   "metadata": {
    "scrolled": true
   },
   "outputs": [],
   "source": [
    "accuracy_list = []\n",
    "time_list = []\n",
    "classifiers_list = []\n",
    "for k, v in classifiers_dict.items():\n",
    "    classifiers_list.append(k)\n",
    "    accuracy_list.append(classifiers_dict[k]['accuracy'])\n",
    "    time_list.append(classifiers_dict[k]['time'])"
   ]
  },
  {
   "cell_type": "markdown",
   "metadata": {},
   "source": [
    "> I want to plot both time and accuracy in the same plot, for the different classifiers, but accuracy ranges from 0-1, while time ranges from approximately 16 seconds to 2500 seconds. This means I have to normalize the time values, so that they are between 0 and 1."
   ]
  },
  {
   "cell_type": "code",
   "execution_count": 42,
   "metadata": {},
   "outputs": [
    {
     "name": "stdout",
     "output_type": "stream",
     "text": [
      "0.0379480875304818\n",
      "0.036509868672138325\n",
      "0.006801409293786332\n",
      "1.0\n"
     ]
    }
   ],
   "source": [
    "# normalize time list\n",
    "normalizing_constant = max(time_list)\n",
    "for i in range(len(time_list)):\n",
    "    time_list[i] = time_list[i]/normalizing_constant\n",
    "    print(time_list[i])"
   ]
  },
  {
   "cell_type": "code",
   "execution_count": 63,
   "metadata": {},
   "outputs": [
    {
     "data": {
      "image/png": "[encoded data removed]",
      "text/plain": [
       "<Figure size 432x288 with 1 Axes>"
      ]
     },
     "metadata": {},
     "output_type": "display_data"
    }
   ],
   "source": [
    "y_pos = np.arange(len(classifiers_list))\n",
    "bar_width = 0.3\n",
    "plt.bar(y_pos, accuracy_list, width=bar_width, color='b', align='center')\n",
    "plt.bar(y_pos + bar_width, time_list, width=bar_width, color='r', align='center')\n",
    "plt.xticks(y_pos, classifiers_list)\n",
    "plt.title('Accuracy & training time for each classifier')\n",
    "\n",
    "blue = npatches.Patch(color='blue', label='accuracy')\n",
    "red = npatches.Patch(color='red', label='time')\n",
    "\n",
    "plt.legend(handles=[blue, red])\n",
    "plt.tight_layout()\n",
    "plt.show()"
   ]
  },
  {
   "cell_type": "markdown",
   "metadata": {},
   "source": [
    "> Pretty simple to see that XGBoost is poluting the plot - remove it, and try again, to get a better look at the actually successfull models"
   ]
  },
  {
   "cell_type": "code",
   "execution_count": 103,
   "metadata": {},
   "outputs": [
    {
     "data": {
      "text/plain": [
       "'XGB'"
      ]
     },
     "execution_count": 103,
     "metadata": {},
     "output_type": "execute_result"
    }
   ],
   "source": [
    "xgb_index = classifiers_list.index('XGB')\n",
    "accuracy_list.pop(xgb_index)\n",
    "time_list.pop(xgb_index)\n",
    "classifiers_list.pop(xgb_index)"
   ]
  },
  {
   "cell_type": "markdown",
   "metadata": {},
   "source": [
    "> Still have to normalize time values "
   ]
  },
  {
   "cell_type": "code",
   "execution_count": 104,
   "metadata": {},
   "outputs": [
    {
     "name": "stdout",
     "output_type": "stream",
     "text": [
      "1.0\n",
      "0.9621003599407156\n",
      "0.1792293034088503\n"
     ]
    }
   ],
   "source": [
    "normalizing_constant = max(time_list)\n",
    "for i in range(len(time_list)):\n",
    "    time_list[i] = time_list[i]/normalizing_constant\n",
    "    print(time_list[i])"
   ]
  },
  {
   "cell_type": "code",
   "execution_count": 105,
   "metadata": {
    "scrolled": true
   },
   "outputs": [
    {
     "data": {
      "image/png": "[encoded data removed]",
      "text/plain": [
       "<Figure size 432x288 with 1 Axes>"
      ]
     },
     "metadata": {},
     "output_type": "display_data"
    }
   ],
   "source": [
    "y_pos = np.arange(len(classifiers_list))\n",
    "bar_width = 0.3\n",
    "plt.bar(y_pos, accuracy_list, width=bar_width, color='b', align='center')\n",
    "plt.bar(y_pos + bar_width, time_list, width=bar_width, color='r', align='center')\n",
    "plt.xticks(y_pos, classifiers_list)\n",
    "plt.title('Accuracy & training time for each classifier')\n",
    "\n",
    "blue = npatches.Patch(color='blue', label='accuracy')\n",
    "red = npatches.Patch(color='red', label='time')\n",
    "\n",
    "plt.legend(handles=[blue, red])\n",
    "plt.tight_layout()\n",
    "plt.show()"
   ]
  },
  {
   "cell_type": "markdown",
   "metadata": {},
   "source": [
    "Can see that NN and CNN are relatively equal, and far superior to Random Forest - accuracy-wise. Random Forest on the other hand is much better time-wise. If the data set would've required computation time equal to many hours, then Random Forest would probably be the most relevant model, at least for a starter model. However, the difference in time is approximately 1 minute, while the accuracy difference is ~ 10%.  "
   ]
  },
  {
   "cell_type": "markdown",
   "metadata": {},
   "source": [
    "## Looking at the data"
   ]
  },
  {
   "cell_type": "code",
   "execution_count": 87,
   "metadata": {},
   "outputs": [
    {
     "data": {
      "text/plain": [
       "<matplotlib.image.AxesImage at 0x21d920f79e8>"
      ]
     },
     "execution_count": 87,
     "metadata": {},
     "output_type": "execute_result"
    },
    {
     "data": {
      "image/png": "[encoded data removed]",
      "text/plain": [
       "<Figure size 432x288 with 1 Axes>"
      ]
     },
     "metadata": {},
     "output_type": "display_data"
    }
   ],
   "source": [
    "plt.imshow(X_train_cnn[3].reshape(28, 28), cmap='gray')"
   ]
  },
  {
   "cell_type": "code",
   "execution_count": 88,
   "metadata": {},
   "outputs": [
    {
     "data": {
      "text/plain": [
       "<matplotlib.image.AxesImage at 0x21d9213c9b0>"
      ]
     },
     "execution_count": 88,
     "metadata": {},
     "output_type": "execute_result"
    },
    {
     "data": {
      "image/png": "[encoded data removed]",
      "text/plain": [
       "<Figure size 432x288 with 1 Axes>"
      ]
     },
     "metadata": {},
     "output_type": "display_data"
    }
   ],
   "source": [
    "plt.imshow(X_train_cnn[0].reshape(28, 28), cmap='gray')"
   ]
  },
  {
   "cell_type": "markdown",
   "metadata": {},
   "source": [
    "### Plots"
   ]
  },
  {
   "cell_type": "code",
   "execution_count": 53,
   "metadata": {},
   "outputs": [
    {
     "data": {
      "image/png": "[encoded data removed]",
      "text/plain": [
       "<Figure size 432x288 with 1 Axes>"
      ]
     },
     "metadata": {},
     "output_type": "display_data"
    },
    {
     "data": {
      "image/png": "[encoded data removed]",
      "text/plain": [
       "<Figure size 432x288 with 1 Axes>"
      ]
     },
     "metadata": {},
     "output_type": "display_data"
    }
   ],
   "source": [
    "plt.plot(history_nn.history['acc'])\n",
    "plt.plot(history_nn.history['val_acc'])\n",
    "plt.title('Neural Network model accuracy')\n",
    "plt.ylabel('accuracy')\n",
    "plt.xlabel('epoch')\n",
    "plt.legend(['train', 'test'], loc='lower right')\n",
    "plt.show()\n",
    "\n",
    "plt.plot(history_nn.history['loss'])\n",
    "plt.plot(history_nn.history['val_loss'])\n",
    "plt.title('Neural Network model loss')\n",
    "plt.ylabel('loss')\n",
    "plt.xlabel('epoch')\n",
    "plt.legend(['train', 'test'], loc='upper right')\n",
    "plt.show()"
   ]
  },
  {
   "cell_type": "code",
   "execution_count": 54,
   "metadata": {},
   "outputs": [
    {
     "data": {
      "image/png": "[encoded data removed]",
      "text/plain": [
       "<Figure size 432x288 with 1 Axes>"
      ]
     },
     "metadata": {},
     "output_type": "display_data"
    },
    {
     "data": {
      "image/png": "[encoded data removed]",
      "text/plain": [
       "<Figure size 432x288 with 1 Axes>"
      ]
     },
     "metadata": {},
     "output_type": "display_data"
    }
   ],
   "source": [
    "plt.plot(history_cnn.history['acc'])\n",
    "plt.plot(history_cnn.history['val_acc'])\n",
    "plt.title('Convolutional Neural Network model accuracy')\n",
    "plt.ylabel('accuracy')\n",
    "plt.xlabel('epoch')\n",
    "plt.legend(['train', 'test'], loc='lower right')\n",
    "plt.show()\n",
    "\n",
    "plt.plot(history_cnn.history['loss'])\n",
    "plt.plot(history_cnn.history['val_loss'])\n",
    "plt.title('Convolutional Neural Network model loss')\n",
    "plt.ylabel('loss')\n",
    "plt.xlabel('epoch')\n",
    "plt.legend(['train', 'test'], loc='upper right')\n",
    "plt.show()"
   ]
  },
  {
   "cell_type": "markdown",
   "metadata": {},
   "source": [
    "> Looks like the CNN is overfitting - should probably implement some regularization techniques to combat this. Will do this in the next section when tuning hyperparameters. "
   ]
  },
  {
   "cell_type": "markdown",
   "metadata": {},
   "source": [
    "# Conclusion"
   ]
  },
  {
   "cell_type": "markdown",
   "metadata": {},
   "source": [
    "It is pretty clear that neural networks are the way to go, more specifically that convolutional neural networks are superior at recognizing images (confirming every experiment made since cnn's were invented). \n",
    "\n",
    "With this in mind it seems only necessary to do hyperparameter tuning for the aformentioned cnn. "
   ]
  },
  {
   "cell_type": "code",
   "execution_count": 81,
   "metadata": {},
   "outputs": [],
   "source": [
    "def create_cnn_model(optimizer, activation='relu', pool_size=(2, 2)):\n",
    "    model_cnn = Sequential()\n",
    "    model_cnn.add(Conv2D(32, (5, 5), input_shape=(28, 28, 1), activation=activation))\n",
    "    model_cnn.add(MaxPooling2D(pool_size=(pool_size)))\n",
    "    model_cnn.add(Dropout(0.4))\n",
    "    model_cnn.add(Flatten())\n",
    "    model_cnn.add(Dense(128, activation=activation))\n",
    "    model_cnn.add(Dense(10, activation='softmax'))\n",
    "    model_cnn.compile(loss='categorical_crossentropy', optimizer=optimizer, metrics=['accuracy'])\n",
    "    return model_cnn"
   ]
  },
  {
   "cell_type": "code",
   "execution_count": 96,
   "metadata": {},
   "outputs": [],
   "source": [
    "batch_size = [20, 80, 160]\n",
    "epochs = [5, 10, 20]\n",
    "learning_rate = [1e-1, 1e-2, 1e-3]\n",
    "pool_size = [(1, 1), (2, 2), (3, 3)]\n",
    "activation = ['relu', 'tanh']\n",
    "classifier_cnn = {}"
   ]
  },
  {
   "cell_type": "markdown",
   "metadata": {},
   "source": [
    "> **NOTE** <br>\n",
    "Do not find it necessary to test other optimizers other than Adam, seeing as this combines the best of two worlds: Momentum with RMSprop"
   ]
  },
  {
   "cell_type": "code",
   "execution_count": 97,
   "metadata": {},
   "outputs": [],
   "source": [
    "X_train_cnn, X_val_cnn, X_test_cnn, y_train_cnn, y_val_cnn, y_test_cnn = get_data(one_hot_enc=False, reshape=True, train_val_test=True)"
   ]
  },
  {
   "cell_type": "code",
   "execution_count": 98,
   "metadata": {},
   "outputs": [],
   "source": [
    "y_train_cnn = np_utils.to_categorical(y_train_cnn)\n",
    "y_val_cnn = np_utils.to_categorical(y_val_cnn)\n",
    "y_test_cnn = np_utils.to_categorical(y_test_cnn)"
   ]
  },
  {
   "cell_type": "code",
   "execution_count": 99,
   "metadata": {},
   "outputs": [
    {
     "name": "stdout",
     "output_type": "stream",
     "text": [
      "X_train_nn:  (39199, 28, 28, 1)\n",
      "X_test_nn:  (14000, 28, 28, 1)\n",
      "y_train_nn:  (39199, 10)\n",
      "y_test_nn:  (14000, 10)\n"
     ]
    }
   ],
   "source": [
    "print_data_shapes_nval(X_train_cnn, X_test_cnn, y_train_cnn, y_test_cnn)"
   ]
  },
  {
   "cell_type": "code",
   "execution_count": 100,
   "metadata": {},
   "outputs": [
    {
     "name": "stdout",
     "output_type": "stream",
     "text": [
      "Train on 39199 samples, validate on 16800 samples\n",
      "Epoch 1/5\n",
      " 9600/39199 [======>.......................] - ETA: 1:05 - loss: 14.6686 - acc: 0.0881"
     ]
    },
    {
     "ename": "KeyboardInterrupt",
     "evalue": "",
     "output_type": "error",
     "traceback": [
      "\u001b[1;31m---------------------------------------------------------------------------\u001b[0m",
      "\u001b[1;31mKeyboardInterrupt\u001b[0m                         Traceback (most recent call last)",
      "\u001b[1;32m<ipython-input-100-57fbd16e6cec>\u001b[0m in \u001b[0;36m<module>\u001b[1;34m()\u001b[0m\n\u001b[0;32m     15\u001b[0m                               \u001b[0mvalidation_data\u001b[0m\u001b[1;33m=\u001b[0m\u001b[1;33m(\u001b[0m\u001b[0mX_val_cnn\u001b[0m\u001b[1;33m,\u001b[0m \u001b[0my_val_cnn\u001b[0m\u001b[1;33m)\u001b[0m\u001b[1;33m,\u001b[0m\u001b[1;33m\u001b[0m\u001b[0m\n\u001b[0;32m     16\u001b[0m                               \u001b[0mepochs\u001b[0m\u001b[1;33m=\u001b[0m\u001b[0mepochs\u001b[0m\u001b[1;33m,\u001b[0m\u001b[1;33m\u001b[0m\u001b[0m\n\u001b[1;32m---> 17\u001b[1;33m                               batch_size=batch_size)\n\u001b[0m\u001b[0;32m     18\u001b[0m \u001b[1;33m\u001b[0m\u001b[0m\n\u001b[0;32m     19\u001b[0m                     \u001b[0mscores_cnn_optim\u001b[0m \u001b[1;33m=\u001b[0m \u001b[0mmodel_cnn_optim\u001b[0m\u001b[1;33m.\u001b[0m\u001b[0mevaluate\u001b[0m\u001b[1;33m(\u001b[0m\u001b[0mX_test_cnn\u001b[0m\u001b[1;33m,\u001b[0m \u001b[0my_test_cnn\u001b[0m\u001b[1;33m)\u001b[0m\u001b[1;33m\u001b[0m\u001b[0m\n",
      "\u001b[1;32m~\\Anaconda3\\envs\\dat158\\lib\\site-packages\\keras\\engine\\training.py\u001b[0m in \u001b[0;36mfit\u001b[1;34m(self, x, y, batch_size, epochs, verbose, callbacks, validation_split, validation_data, shuffle, class_weight, sample_weight, initial_epoch, steps_per_epoch, validation_steps, **kwargs)\u001b[0m\n\u001b[0;32m   1035\u001b[0m                                         \u001b[0minitial_epoch\u001b[0m\u001b[1;33m=\u001b[0m\u001b[0minitial_epoch\u001b[0m\u001b[1;33m,\u001b[0m\u001b[1;33m\u001b[0m\u001b[0m\n\u001b[0;32m   1036\u001b[0m                                         \u001b[0msteps_per_epoch\u001b[0m\u001b[1;33m=\u001b[0m\u001b[0msteps_per_epoch\u001b[0m\u001b[1;33m,\u001b[0m\u001b[1;33m\u001b[0m\u001b[0m\n\u001b[1;32m-> 1037\u001b[1;33m                                         validation_steps=validation_steps)\n\u001b[0m\u001b[0;32m   1038\u001b[0m \u001b[1;33m\u001b[0m\u001b[0m\n\u001b[0;32m   1039\u001b[0m     def evaluate(self, x=None, y=None,\n",
      "\u001b[1;32m~\\Anaconda3\\envs\\dat158\\lib\\site-packages\\keras\\engine\\training_arrays.py\u001b[0m in \u001b[0;36mfit_loop\u001b[1;34m(model, f, ins, out_labels, batch_size, epochs, verbose, callbacks, val_f, val_ins, shuffle, callback_metrics, initial_epoch, steps_per_epoch, validation_steps)\u001b[0m\n\u001b[0;32m    197\u001b[0m                     \u001b[0mins_batch\u001b[0m\u001b[1;33m[\u001b[0m\u001b[0mi\u001b[0m\u001b[1;33m]\u001b[0m \u001b[1;33m=\u001b[0m \u001b[0mins_batch\u001b[0m\u001b[1;33m[\u001b[0m\u001b[0mi\u001b[0m\u001b[1;33m]\u001b[0m\u001b[1;33m.\u001b[0m\u001b[0mtoarray\u001b[0m\u001b[1;33m(\u001b[0m\u001b[1;33m)\u001b[0m\u001b[1;33m\u001b[0m\u001b[0m\n\u001b[0;32m    198\u001b[0m \u001b[1;33m\u001b[0m\u001b[0m\n\u001b[1;32m--> 199\u001b[1;33m                 \u001b[0mouts\u001b[0m \u001b[1;33m=\u001b[0m \u001b[0mf\u001b[0m\u001b[1;33m(\u001b[0m\u001b[0mins_batch\u001b[0m\u001b[1;33m)\u001b[0m\u001b[1;33m\u001b[0m\u001b[0m\n\u001b[0m\u001b[0;32m    200\u001b[0m                 \u001b[0mouts\u001b[0m \u001b[1;33m=\u001b[0m \u001b[0mto_list\u001b[0m\u001b[1;33m(\u001b[0m\u001b[0mouts\u001b[0m\u001b[1;33m)\u001b[0m\u001b[1;33m\u001b[0m\u001b[0m\n\u001b[0;32m    201\u001b[0m                 \u001b[1;32mfor\u001b[0m \u001b[0ml\u001b[0m\u001b[1;33m,\u001b[0m \u001b[0mo\u001b[0m \u001b[1;32min\u001b[0m \u001b[0mzip\u001b[0m\u001b[1;33m(\u001b[0m\u001b[0mout_labels\u001b[0m\u001b[1;33m,\u001b[0m \u001b[0mouts\u001b[0m\u001b[1;33m)\u001b[0m\u001b[1;33m:\u001b[0m\u001b[1;33m\u001b[0m\u001b[0m\n",
      "\u001b[1;32m~\\Anaconda3\\envs\\dat158\\lib\\site-packages\\keras\\backend\\tensorflow_backend.py\u001b[0m in \u001b[0;36m__call__\u001b[1;34m(self, inputs)\u001b[0m\n\u001b[0;32m   2664\u001b[0m                 \u001b[1;32mreturn\u001b[0m \u001b[0mself\u001b[0m\u001b[1;33m.\u001b[0m\u001b[0m_legacy_call\u001b[0m\u001b[1;33m(\u001b[0m\u001b[0minputs\u001b[0m\u001b[1;33m)\u001b[0m\u001b[1;33m\u001b[0m\u001b[0m\n\u001b[0;32m   2665\u001b[0m \u001b[1;33m\u001b[0m\u001b[0m\n\u001b[1;32m-> 2666\u001b[1;33m             \u001b[1;32mreturn\u001b[0m \u001b[0mself\u001b[0m\u001b[1;33m.\u001b[0m\u001b[0m_call\u001b[0m\u001b[1;33m(\u001b[0m\u001b[0minputs\u001b[0m\u001b[1;33m)\u001b[0m\u001b[1;33m\u001b[0m\u001b[0m\n\u001b[0m\u001b[0;32m   2667\u001b[0m         \u001b[1;32melse\u001b[0m\u001b[1;33m:\u001b[0m\u001b[1;33m\u001b[0m\u001b[0m\n\u001b[0;32m   2668\u001b[0m             \u001b[1;32mif\u001b[0m \u001b[0mpy_any\u001b[0m\u001b[1;33m(\u001b[0m\u001b[0mis_tensor\u001b[0m\u001b[1;33m(\u001b[0m\u001b[0mx\u001b[0m\u001b[1;33m)\u001b[0m \u001b[1;32mfor\u001b[0m \u001b[0mx\u001b[0m \u001b[1;32min\u001b[0m \u001b[0minputs\u001b[0m\u001b[1;33m)\u001b[0m\u001b[1;33m:\u001b[0m\u001b[1;33m\u001b[0m\u001b[0m\n",
      "\u001b[1;32m~\\Anaconda3\\envs\\dat158\\lib\\site-packages\\keras\\backend\\tensorflow_backend.py\u001b[0m in \u001b[0;36m_call\u001b[1;34m(self, inputs)\u001b[0m\n\u001b[0;32m   2634\u001b[0m                                 \u001b[0msymbol_vals\u001b[0m\u001b[1;33m,\u001b[0m\u001b[1;33m\u001b[0m\u001b[0m\n\u001b[0;32m   2635\u001b[0m                                 session)\n\u001b[1;32m-> 2636\u001b[1;33m         \u001b[0mfetched\u001b[0m \u001b[1;33m=\u001b[0m \u001b[0mself\u001b[0m\u001b[1;33m.\u001b[0m\u001b[0m_callable_fn\u001b[0m\u001b[1;33m(\u001b[0m\u001b[1;33m*\u001b[0m\u001b[0marray_vals\u001b[0m\u001b[1;33m)\u001b[0m\u001b[1;33m\u001b[0m\u001b[0m\n\u001b[0m\u001b[0;32m   2637\u001b[0m         \u001b[1;32mreturn\u001b[0m \u001b[0mfetched\u001b[0m\u001b[1;33m[\u001b[0m\u001b[1;33m:\u001b[0m\u001b[0mlen\u001b[0m\u001b[1;33m(\u001b[0m\u001b[0mself\u001b[0m\u001b[1;33m.\u001b[0m\u001b[0moutputs\u001b[0m\u001b[1;33m)\u001b[0m\u001b[1;33m]\u001b[0m\u001b[1;33m\u001b[0m\u001b[0m\n\u001b[0;32m   2638\u001b[0m \u001b[1;33m\u001b[0m\u001b[0m\n",
      "\u001b[1;32m~\\Anaconda3\\envs\\dat158\\lib\\site-packages\\tensorflow\\python\\client\\session.py\u001b[0m in \u001b[0;36m__call__\u001b[1;34m(self, *args, **kwargs)\u001b[0m\n\u001b[0;32m   1380\u001b[0m           ret = tf_session.TF_SessionRunCallable(\n\u001b[0;32m   1381\u001b[0m               \u001b[0mself\u001b[0m\u001b[1;33m.\u001b[0m\u001b[0m_session\u001b[0m\u001b[1;33m.\u001b[0m\u001b[0m_session\u001b[0m\u001b[1;33m,\u001b[0m \u001b[0mself\u001b[0m\u001b[1;33m.\u001b[0m\u001b[0m_handle\u001b[0m\u001b[1;33m,\u001b[0m \u001b[0margs\u001b[0m\u001b[1;33m,\u001b[0m \u001b[0mstatus\u001b[0m\u001b[1;33m,\u001b[0m\u001b[1;33m\u001b[0m\u001b[0m\n\u001b[1;32m-> 1382\u001b[1;33m               run_metadata_ptr)\n\u001b[0m\u001b[0;32m   1383\u001b[0m         \u001b[1;32mif\u001b[0m \u001b[0mrun_metadata\u001b[0m\u001b[1;33m:\u001b[0m\u001b[1;33m\u001b[0m\u001b[0m\n\u001b[0;32m   1384\u001b[0m           \u001b[0mproto_data\u001b[0m \u001b[1;33m=\u001b[0m \u001b[0mtf_session\u001b[0m\u001b[1;33m.\u001b[0m\u001b[0mTF_GetBuffer\u001b[0m\u001b[1;33m(\u001b[0m\u001b[0mrun_metadata_ptr\u001b[0m\u001b[1;33m)\u001b[0m\u001b[1;33m\u001b[0m\u001b[0m\n",
      "\u001b[1;31mKeyboardInterrupt\u001b[0m: "
     ]
    }
   ],
   "source": [
    "start_cnn_optim = time.time()\n",
    "counter = 0\n",
    "for batch_size in batch_size:\n",
    "    for epochs in epochs:\n",
    "        for lr in learning_rate:\n",
    "            optim = Adam(lr=lr)\n",
    "            for pool_size in pool_size:\n",
    "                for activation in activation:\n",
    "                    start_cnn_optim_each_model = time.time()\n",
    "                    model_cnn_optim = create_cnn_model(optimizer=optim, \n",
    "                                             activation=activation, \n",
    "                                             pool_size=pool_size)\n",
    "                    model_cnn_optim.fit(X_train_cnn, \n",
    "                              y_train_cnn, \n",
    "                              validation_data=(X_val_cnn, y_val_cnn), \n",
    "                              epochs=epochs, \n",
    "                              batch_size=batch_size)\n",
    "                    \n",
    "                    scores_cnn_optim = model_cnn_optim.evaluate(X_test_cnn, y_test_cnn)\n",
    "                    \n",
    "                    end_cnn_optim_each_model = time.time()\n",
    "                    total_cnn_optim_each_model = end_cnn_optim_each_model - start_cnn_optim_each_model\n",
    "                    classifier_cnn[counter] = {'parameters':\n",
    "                                               {\n",
    "                                                   'batch_size': batch_size,\n",
    "                                                   'epochs': epochs,\n",
    "                                                   'learning-rate': lr,\n",
    "                                                   'pool-size': pool_size,\n",
    "                                                   'activation': activation\n",
    "                                               }, \n",
    "                                               'scores': \n",
    "                                               {\n",
    "                                                   'loss': scores_cnn_optim[0],\n",
    "                                                   'accuracy': scores_cnn_optim[1]\n",
    "                                               },\n",
    "                                               'time': total_cnn_optim_each_model\n",
    "                                              }\n",
    "                    counter += 1\n",
    "                    \n",
    "                    \n",
    "end_cnn_optim = time.time()\n",
    "total_cnn_optim = end_cnn_optim - start_cnn_optim\n"
   ]
  },
  {
   "cell_type": "code",
   "execution_count": null,
   "metadata": {},
   "outputs": [],
   "source": []
  }
 ],
 "metadata": {
  "kernelspec": {
   "display_name": "DAT158",
   "language": "python",
   "name": "dat158"
  },
  "language_info": {
   "codemirror_mode": {
    "name": "ipython",
    "version": 3
   },
   "file_extension": ".py",
   "mimetype": "text/x-python",
   "name": "python",
   "nbconvert_exporter": "python",
   "pygments_lexer": "ipython3",
   "version": "3.6.6"
  }
 },
 "nbformat": 4,
 "nbformat_minor": 2
}
