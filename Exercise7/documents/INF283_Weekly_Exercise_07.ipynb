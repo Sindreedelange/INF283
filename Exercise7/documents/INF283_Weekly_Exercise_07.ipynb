{
 "cells": [
  {
   "cell_type": "markdown",
   "metadata": {
    "colab_type": "text",
    "id": "xnJWXMBauufz"
   },
   "source": [
    "# INF283 | Weekly Exercise 07 | Dimensionality Reduction\n",
    "​\n",
    "#### Deadline\n",
    "November 9, 2018 | 23:59\n",
    "​\n",
    "#### What to deliver \n",
    "You can try out your Python code within this notebook. But you should <font color=\"#b51555\">make a PDF file of answers for each of the tasks, and then submit this PDF file </font>on Mitt UiB.  <font color=\"#b51555\">**Do not submit the complete notebook; it makes it difficult for the graders to locate your answers in the lengthy Jupyter notebook. **</font>\n",
    "​\n",
    "#### Where to deliver\n",
    "On [Mitt UiB](https://mitt.uib.no/courses/12791/assignments) in the assignments section.\n",
    "​"
   ]
  },
  {
   "cell_type": "markdown",
   "metadata": {
    "colab_type": "text",
    "id": "AhyxcuJiwGmg"
   },
   "source": [
    "# 1. Principal Component Analysis from scratch\n",
    "### Introduction\n",
    "The sheer size of data in the modern age is not only a challenge for computer hardware but also a main bottleneck for the performance of many machine learning algorithms. Often, the desired goal is to reduce the dimensions of a $d$-dimensional dataset by projecting it onto a $(k)$-dimensional subspace (where $k\\;<\\;d$) in order to increase the computational efficiency while retaining most of the information.\n",
    "\n",
    "PCA aims to detect the correlation between variables. If a strong correlation between variables exists, then an attempt to reduce the dimensionality only makes sense. In a nutshell, this is what PCA is all about: Finding the directions of maximum variance in high-dimensional data and projecting it onto a smaller dimensional subspace while retaining most of the information.\n",
    "\n",
    "In PCA, we compute eigenvectors (the principal components) of a dataset and collect them in a projection matrix. Each of those eigenvectors is associated with an eigenvalue which can be interpreted as the \"length\" or \"magnitude\" of the corresponding eigenvector. If some eigenvalues have a significantly larger magnitude than others, then the reduction of the dataset via PCA onto a smaller dimensional subspace by dropping the *less informative* eigenpairs is reasonable.\n",
    "\n",
    "Summary of PCA algorithm\n",
    "*  Standardize the data.\n",
    "*  Obtain the Eigenvectors and Eigenvalues from the covariance matrix or correlation matrix, or perform Singular Vector Decomposition.\n",
    "*  Sort eigenvalues in descending order and choose the  𝑘  eigenvectors that correspond to the  𝑘  largest eigenvalues where  𝑘  is the number of dimensions of the new feature subspace ( 𝑘 < 𝑑 ).\n",
    "*  Construct the projection matrix  𝐖  from the selected  𝑘  eigenvectors.\n",
    "*  Transform the original dataset  𝐗  via  𝐖  to obtain a  𝑘 -dimensional feature subspace  𝐘 .\n",
    "\n",
    "\n",
    "\n"
   ]
  },
  {
   "cell_type": "markdown",
   "metadata": {
    "colab_type": "text",
    "id": "5Lyl9psD3bCn"
   },
   "source": [
    "### Iris Dataset\n",
    "We will use the Iris dataset for explaining PCA. We used this dataset in exercise 02 as well. \n",
    "\n",
    "As you may know, Iris dataset is already available in sklearn and Pandas, but let us show how you can download and use it from the UCI repository. Any other dataset from UCI repository can be read in the same way. Datasets in UCI are present in .data file, which is nothing but a comma-separated file (csv)."
   ]
  },
  {
   "cell_type": "code",
   "execution_count": 1,
   "metadata": {
    "colab": {
     "base_uri": "https://localhost:8080/",
     "height": 197
    },
    "colab_type": "code",
    "id": "fJPw1i5mukW1",
    "outputId": "75afffc6-8453-4e4f-e9e6-b5494f66fdc7"
   },
   "outputs": [
    {
     "data": {
      "text/html": [
       "<div>\n",
       "<style scoped>\n",
       "    .dataframe tbody tr th:only-of-type {\n",
       "        vertical-align: middle;\n",
       "    }\n",
       "\n",
       "    .dataframe tbody tr th {\n",
       "        vertical-align: top;\n",
       "    }\n",
       "\n",
       "    .dataframe thead th {\n",
       "        text-align: right;\n",
       "    }\n",
       "</style>\n",
       "<table border=\"1\" class=\"dataframe\">\n",
       "  <thead>\n",
       "    <tr style=\"text-align: right;\">\n",
       "      <th></th>\n",
       "      <th>sepal_len</th>\n",
       "      <th>sepal_wid</th>\n",
       "      <th>petal_len</th>\n",
       "      <th>petal_wid</th>\n",
       "      <th>class</th>\n",
       "    </tr>\n",
       "  </thead>\n",
       "  <tbody>\n",
       "    <tr>\n",
       "      <th>145</th>\n",
       "      <td>6.7</td>\n",
       "      <td>3.0</td>\n",
       "      <td>5.2</td>\n",
       "      <td>2.3</td>\n",
       "      <td>Iris-virginica</td>\n",
       "    </tr>\n",
       "    <tr>\n",
       "      <th>146</th>\n",
       "      <td>6.3</td>\n",
       "      <td>2.5</td>\n",
       "      <td>5.0</td>\n",
       "      <td>1.9</td>\n",
       "      <td>Iris-virginica</td>\n",
       "    </tr>\n",
       "    <tr>\n",
       "      <th>147</th>\n",
       "      <td>6.5</td>\n",
       "      <td>3.0</td>\n",
       "      <td>5.2</td>\n",
       "      <td>2.0</td>\n",
       "      <td>Iris-virginica</td>\n",
       "    </tr>\n",
       "    <tr>\n",
       "      <th>148</th>\n",
       "      <td>6.2</td>\n",
       "      <td>3.4</td>\n",
       "      <td>5.4</td>\n",
       "      <td>2.3</td>\n",
       "      <td>Iris-virginica</td>\n",
       "    </tr>\n",
       "    <tr>\n",
       "      <th>149</th>\n",
       "      <td>5.9</td>\n",
       "      <td>3.0</td>\n",
       "      <td>5.1</td>\n",
       "      <td>1.8</td>\n",
       "      <td>Iris-virginica</td>\n",
       "    </tr>\n",
       "  </tbody>\n",
       "</table>\n",
       "</div>"
      ],
      "text/plain": [
       "     sepal_len  sepal_wid  petal_len  petal_wid           class\n",
       "145        6.7        3.0        5.2        2.3  Iris-virginica\n",
       "146        6.3        2.5        5.0        1.9  Iris-virginica\n",
       "147        6.5        3.0        5.2        2.0  Iris-virginica\n",
       "148        6.2        3.4        5.4        2.3  Iris-virginica\n",
       "149        5.9        3.0        5.1        1.8  Iris-virginica"
      ]
     },
     "execution_count": 1,
     "metadata": {},
     "output_type": "execute_result"
    }
   ],
   "source": [
    "import pandas as pd\n",
    "\n",
    "df = pd.read_csv(\n",
    "    filepath_or_buffer='https://archive.ics.uci.edu/ml/machine-learning-databases/iris/iris.data', \n",
    "    header=None, \n",
    "    sep=',')\n",
    "\n",
    "df.columns=['sepal_len', 'sepal_wid', 'petal_len', 'petal_wid', 'class']\n",
    "df.dropna(how=\"all\", inplace=True) # drops the empty line at file-end\n",
    "\n",
    "df.tail()"
   ]
  },
  {
   "cell_type": "markdown",
   "metadata": {
    "colab_type": "text",
    "id": "njxr0r6Y45-0"
   },
   "source": [
    "Now we split the data table into data X and class labels y:\n"
   ]
  },
  {
   "cell_type": "code",
   "execution_count": 2,
   "metadata": {
    "colab": {
     "base_uri": "https://localhost:8080/",
     "height": 301
    },
    "colab_type": "code",
    "id": "ENesIcMp441y",
    "outputId": "f55f7855-08b7-4041-8790-0c9d68712bfb"
   },
   "outputs": [
    {
     "name": "stderr",
     "output_type": "stream",
     "text": [
      "/home/stian/anaconda3/envs/fastai/lib/python3.6/site-packages/ipykernel_launcher.py:1: DeprecationWarning: \n",
      ".ix is deprecated. Please use\n",
      ".loc for label based indexing or\n",
      ".iloc for positional indexing\n",
      "\n",
      "See the documentation here:\n",
      "http://pandas.pydata.org/pandas-docs/stable/indexing.html#ix-indexer-is-deprecated\n",
      "  \"\"\"Entry point for launching an IPython kernel.\n"
     ]
    }
   ],
   "source": [
    "X = df.ix[:,0:4].values;\n",
    "y = df.ix[:,4].values;"
   ]
  },
  {
   "cell_type": "markdown",
   "metadata": {
    "colab_type": "text",
    "id": "9FFCzUte5Bpi"
   },
   "source": [
    "Our iris dataset is now stored in form of a  $150 \\times 4$ matrix where the columns are the different features, and every row represents a separate flower sample.\n",
    "Each sample row $\\mathbf{x}$ can be pictured as a 4-dimensional vector   \n",
    "\n",
    "\n",
    "$\\mathbf{x^T} = \\begin{pmatrix} x_1 \\\\ x_2 \\\\ x_3 \\\\ x_4 \\end{pmatrix} \n",
    "= \\begin{pmatrix} \\text{sepal length} \\\\ \\text{sepal width} \\\\\\text{petal length} \\\\ \\text{petal width} \\end{pmatrix}$"
   ]
  },
  {
   "cell_type": "markdown",
   "metadata": {
    "colab_type": "text",
    "id": "Sm1ib4YB5YPn"
   },
   "source": [
    "### Exploratory Visualization\n",
    "To get a feeling for how the 3 different flower classes are distributes along the 4 different features, let us visualize them via histograms.\n"
   ]
  },
  {
   "cell_type": "code",
   "execution_count": 3,
   "metadata": {
    "colab": {
     "base_uri": "https://localhost:8080/",
     "height": 436
    },
    "colab_type": "code",
    "id": "l0vfjqfx6005",
    "outputId": "78321b3f-ba81-49ee-a141-caa9314eb688"
   },
   "outputs": [
    {
     "data": {
      "text/plain": [
       "<Figure size 1400x600 with 4 Axes>"
      ]
     },
     "metadata": {},
     "output_type": "display_data"
    }
   ],
   "source": [
    "from matplotlib import pyplot as plt\n",
    "import numpy as np\n",
    "import math\n",
    "\n",
    "def plot_histograms(X, y):\n",
    "  label_dict = {1: 'Iris-Setosa',\n",
    "                2: 'Iris-Versicolor',\n",
    "                3: 'Iris-Virgnica'}\n",
    "\n",
    "  feature_dict = {0: 'Sepal length [cm]',\n",
    "                  1: 'Sepal width [cm]',\n",
    "                  2: 'Petal length [cm]',\n",
    "                  3: 'Petal width [cm]'}\n",
    "\n",
    "  with plt.style.context('seaborn-whitegrid'):\n",
    "      plt.figure(figsize=(14, 6))\n",
    "      for cnt in range(4):\n",
    "          plt.subplot(2, 2, cnt+1)\n",
    "          for lab in ('Iris-setosa', 'Iris-versicolor', 'Iris-virginica'):\n",
    "              plt.hist(X[y==lab, cnt],\n",
    "                       label=lab,\n",
    "                       bins=10,\n",
    "                       alpha=0.3,)\n",
    "          plt.xlabel(feature_dict[cnt])\n",
    "      plt.legend(loc='upper right', fancybox=True, fontsize=8)\n",
    "\n",
    "      plt.tight_layout()\n",
    "\n",
    "plot_histograms(X, y)\n",
    "plt.show()"
   ]
  },
  {
   "cell_type": "markdown",
   "metadata": {
    "colab_type": "text",
    "id": "_W26Q0jq8jXk"
   },
   "source": [
    "### Standardizing\n",
    "Whether to standardize the data prior to a PCA on the covariance matrix depends on the measurement scales of the original features. Since PCA yields a feature subspace that maximizes the variance along the axes, it makes sense to standardize the data, especially, if it was measured on different scales. Although, all features in the Iris dataset were measured in centimeters, let us continue with the transformation of the data onto unit scale (mean=0 and variance=1), which is a requirement for the optimal performance of many machine learning algorithms.\n",
    "\n",
    "Below we will standarize the data, and then plot the histograms again to see the effect of standardization:"
   ]
  },
  {
   "cell_type": "code",
   "execution_count": 4,
   "metadata": {
    "colab": {
     "base_uri": "https://localhost:8080/",
     "height": 436
    },
    "colab_type": "code",
    "id": "dEUwDHRQ9RcK",
    "outputId": "7caff55b-1b55-4412-9102-afa7d5837fa5"
   },
   "outputs": [
    {
     "data": {
      "image/png": "[encoded data removed]",
      "text/plain": [
       "<Figure size 1008x432 with 4 Axes>"
      ]
     },
     "metadata": {},
     "output_type": "display_data"
    }
   ],
   "source": [
    "from sklearn.preprocessing import StandardScaler\n",
    "X_std = StandardScaler().fit_transform(X)\n",
    "plot_histograms(X_std, y)"
   ]
  },
  {
   "cell_type": "markdown",
   "metadata": {
    "colab_type": "text",
    "id": "uBcjwDZ0-TVM"
   },
   "source": [
    "### Eigendecomposition - Computing Eigenvectors and Eigenvalues\n",
    "The eigenvectors and eigenvalues of a covariance (or correlation) matrix represent the \"core\" of a PCA: The eigenvectors (principal components) determine the directions of the new feature space, and the eigenvalues determine their magnitude. In other words, the eigenvalues explain the variance of the data along the new feature axes.\n",
    "\n",
    "The classic approach to PCA is to perform the eigendecomposition on the covariance matrix $\\Sigma$, which is a $d \\times d$ matrix where each element represents the covariance between two features. The covariance between two features is calculated as follows:\n",
    "\n",
    "$\\sigma_{jk} = \\frac{1}{n-1}\\sum_{i=1}^{N}\\left(  x_{ij}-\\bar{x}_j \\right)  \\left( x_{ik}-\\bar{x}_k \\right).$\n",
    "\n",
    "We can summarize the calculation of the covariance matrix via the following matrix equation:   \n",
    "$\\Sigma = \\frac{1}{n-1} \\left( (\\mathbf{X} - \\mathbf{\\bar{x}})^T\\;(\\mathbf{X} - \\mathbf{\\bar{x}}) \\right)$  \n",
    "where $\\mathbf{\\bar{x}}$ is the mean vector \n",
    "$\\mathbf{\\bar{x}} = \\sum\\limits_{i=1}^n x_{i}.$  \n",
    "The mean vector is a $d$-dimensional vector where each value in this vector represents the sample mean of a feature column in the dataset."
   ]
  },
  {
   "cell_type": "code",
   "execution_count": 5,
   "metadata": {
    "colab": {
     "base_uri": "https://localhost:8080/",
     "height": 105
    },
    "colab_type": "code",
    "id": "3k5FthLo-8Qc",
    "outputId": "c2b1e8e3-780d-440e-d48e-d425f29eba91"
   },
   "outputs": [
    {
     "name": "stdout",
     "output_type": "stream",
     "text": [
      "Covariance matrix: \n",
      "[[ 1.00671141 -0.11010327  0.87760486  0.82344326]\n",
      " [-0.11010327  1.00671141 -0.42333835 -0.358937  ]\n",
      " [ 0.87760486 -0.42333835  1.00671141  0.96921855]\n",
      " [ 0.82344326 -0.358937    0.96921855  1.00671141]]\n"
     ]
    }
   ],
   "source": [
    "import numpy as np\n",
    "mean_vec = np.mean(X_std, axis=0)\n",
    "cov_mat = (X_std - mean_vec).T.dot((X_std - mean_vec)) / (X_std.shape[0]-1)\n",
    "print(\"Covariance matrix: \\n%s\" %cov_mat )"
   ]
  },
  {
   "cell_type": "markdown",
   "metadata": {
    "colab_type": "text",
    "id": "AIPQVqZOCDmn"
   },
   "source": [
    "The more verbose way above was simply used for demonstration purposes; equivalently, we could have used the numpy  to get the same result in just a single line of code."
   ]
  },
  {
   "cell_type": "markdown",
   "metadata": {
    "colab_type": "text",
    "id": "-wmF2rdRjHXn"
   },
   "source": [
    "---\n",
    "\n",
    "\n",
    "## <font color=\"#b51555\">Exercise 1.1\n",
    "Using numpy, calculate the covariance of `X_std`.\n",
    "<font>\n",
    "\n",
    "---"
   ]
  },
  {
   "cell_type": "code",
   "execution_count": 6,
   "metadata": {},
   "outputs": [
    {
     "name": "stdout",
     "output_type": "stream",
     "text": [
      "[[ 1.00671141 -0.11010327  0.87760486  0.82344326]\n",
      " [-0.11010327  1.00671141 -0.42333835 -0.358937  ]\n",
      " [ 0.87760486 -0.42333835  1.00671141  0.96921855]\n",
      " [ 0.82344326 -0.358937    0.96921855  1.00671141]]\n"
     ]
    }
   ],
   "source": [
    "X_std_cov = np.cov(X_std.T)\n",
    "print(X_std_cov)"
   ]
  },
  {
   "cell_type": "markdown",
   "metadata": {
    "colab_type": "text",
    "id": "uwX1IKyrCo6m"
   },
   "source": [
    "Next, we perform an eigendecomposition on the covariance matrix:\n"
   ]
  },
  {
   "cell_type": "code",
   "execution_count": 7,
   "metadata": {
    "colab": {
     "base_uri": "https://localhost:8080/",
     "height": 158
    },
    "colab_type": "code",
    "id": "0-g2VJzR-8cm",
    "outputId": "975c5fbb-40c6-470b-da7f-322ef6d36d14"
   },
   "outputs": [
    {
     "name": "stdout",
     "output_type": "stream",
     "text": [
      "Eigenvectors \n",
      "[[ 0.52237162 -0.37231836 -0.72101681  0.26199559]\n",
      " [-0.26335492 -0.92555649  0.24203288 -0.12413481]\n",
      " [ 0.58125401 -0.02109478  0.14089226 -0.80115427]\n",
      " [ 0.56561105 -0.06541577  0.6338014   0.52354627]]\n",
      "\n",
      "Eigenvalues \n",
      "[2.93035378 0.92740362 0.14834223 0.02074601]\n"
     ]
    }
   ],
   "source": [
    "eig_vals, eig_vecs = np.linalg.eig(cov_mat)\n",
    "\n",
    "print('Eigenvectors \\n%s' %eig_vecs)\n",
    "print('\\nEigenvalues \\n%s' %eig_vals)"
   ]
  },
  {
   "cell_type": "markdown",
   "metadata": {
    "colab_type": "text",
    "id": "0uPZJJ9dEARm"
   },
   "source": [
    "### Selecting Principal Components\n",
    "\n",
    "The typical goal of a PCA is to reduce the dimensionality of the original feature space by projecting it onto a smaller subspace, where the eigenvectors will form the axes. However, the eigenvectors only define the directions of the new axis, since they have all the same unit length 1, which can confirmed by the following two lines of code:"
   ]
  },
  {
   "cell_type": "code",
   "execution_count": 8,
   "metadata": {
    "colab": {
     "base_uri": "https://localhost:8080/",
     "height": 34
    },
    "colab_type": "code",
    "id": "DcnVHQn9EduW",
    "outputId": "e736f0e6-e3af-41c8-8092-d671f62fd1ed"
   },
   "outputs": [
    {
     "name": "stdout",
     "output_type": "stream",
     "text": [
      "Everything ok!\n"
     ]
    }
   ],
   "source": [
    "for ev in eig_vecs.T:\n",
    "    np.testing.assert_array_almost_equal(1.0, np.linalg.norm(ev))\n",
    "print('Everything ok!')"
   ]
  },
  {
   "cell_type": "markdown",
   "metadata": {
    "colab_type": "text",
    "id": "bo33lbqREgnT"
   },
   "source": [
    "#### Sorting the eigen values\n",
    "In order to decide which eigenvector(s) can dropped without losing too much information\n",
    "for the construction of lower-dimensional subspace, we need to inspect the corresponding eigenvalues: The eigenvectors with the lowest eigenvalues bear the least information about the distribution of the data; those are the ones can be dropped.  \n",
    "In order to do so, the common approach is to rank the eigenvalues from highest to lowest in order choose the top $k$ eigenvectors."
   ]
  },
  {
   "cell_type": "code",
   "execution_count": 9,
   "metadata": {
    "colab": {
     "base_uri": "https://localhost:8080/",
     "height": 105
    },
    "colab_type": "code",
    "id": "uL5TdE9nEjqh",
    "outputId": "e2c4a3c7-2816-4709-9253-ec9b300026d1"
   },
   "outputs": [
    {
     "name": "stdout",
     "output_type": "stream",
     "text": [
      "Eigenvalues in descending order:\n",
      "2.9303537755893156\n",
      "0.9274036215173417\n",
      "0.14834222648163986\n",
      "0.02074601399559581\n"
     ]
    }
   ],
   "source": [
    "# Make a list of (eigenvalue, eigenvector) tuples\n",
    "eig_pairs = [(np.abs(eig_vals[i]), eig_vecs[:,i]) for i in range(len(eig_vals))]\n",
    "\n",
    "# Sort the (eigenvalue, eigenvector) tuples from high to low\n",
    "eig_pairs.sort(key=lambda x: x[0], reverse=True)\n",
    "\n",
    "# Visually confirm that the list is correctly sorted by decreasing eigenvalues\n",
    "print('Eigenvalues in descending order:')\n",
    "for i in eig_pairs:\n",
    "    print(i[0])"
   ]
  },
  {
   "cell_type": "markdown",
   "metadata": {
    "colab_type": "text",
    "id": "DQtRAx6YE7_U"
   },
   "source": [
    "#### Explained variance\n",
    "After sorting the eigenpairs, the next question is \"how many principal components are we going to choose for our new feature subspace?\" A useful measure is the so-called \"explained variance,\" which can be calculated from the eigenvalues. The explained variance tells us how much information (variance) can be attributed to each of the principal components."
   ]
  },
  {
   "cell_type": "code",
   "execution_count": 10,
   "metadata": {
    "colab": {
     "base_uri": "https://localhost:8080/",
     "height": 292
    },
    "colab_type": "code",
    "id": "IxEdw_2zFVKW",
    "outputId": "d792f602-98d4-465e-9835-ea73f7f5f52d"
   },
   "outputs": [
    {
     "data": {
      "image/png": "[encoded data removed]",
      "text/plain": [
       "<Figure size 432x288 with 1 Axes>"
      ]
     },
     "metadata": {},
     "output_type": "display_data"
    }
   ],
   "source": [
    "tot = sum(eig_vals)\n",
    "var_exp = [(i / tot)*100 for i in sorted(eig_vals, reverse=True)]\n",
    "cum_var_exp = np.cumsum(var_exp)\n",
    "\n",
    "with plt.style.context('seaborn-whitegrid'):\n",
    "    plt.figure(figsize=(6, 4))\n",
    "\n",
    "    plt.bar(range(4), var_exp, alpha=0.5, align='center',\n",
    "            label='individual explained variance')\n",
    "    plt.step(range(4), cum_var_exp, where='mid',\n",
    "             label='cumulative explained variance')\n",
    "    plt.ylabel('Explained variance ratio')\n",
    "    plt.xlabel('Principal components')\n",
    "    plt.legend(loc='best')\n",
    "    plt.tight_layout()\n"
   ]
  },
  {
   "cell_type": "markdown",
   "metadata": {
    "colab_type": "text",
    "id": "0oL_2A91FUtl"
   },
   "source": [
    "The plot above clearly shows that most of the variance (72.77% of the variance to be precise) can be explained by the first principal component alone. The second principal component still bears some information (23.03%) while the third and fourth principal components can safely be dropped without losing to much information. Together, the first two principal components contain 95.8% of the information."
   ]
  },
  {
   "cell_type": "markdown",
   "metadata": {
    "colab_type": "text",
    "id": "9wcCptu1FwRU"
   },
   "source": [
    "#### Making a projection matrix\n",
    "The projection matrix that will be used to transform the Iris data onto the new feature subspace. Although, the name \"projection matrix\" sounds fancy, it is basically just a matrix of our concatenated top k eigenvectors.\n",
    "\n",
    "Here, we are reducing the 4-dimensional feature space to a 2-dimensional feature subspace, by choosing the \"top 2\" eigenvectors with the highest eigenvalues to construct our  𝑑×𝑘 -dimensional eigenvector matrix  𝐖 ."
   ]
  },
  {
   "cell_type": "code",
   "execution_count": 11,
   "metadata": {
    "colab": {
     "base_uri": "https://localhost:8080/",
     "height": 105
    },
    "colab_type": "code",
    "id": "tnx359LJGDcH",
    "outputId": "d4ef120a-d7b1-49f7-9a0c-54cdf1a072aa"
   },
   "outputs": [
    {
     "name": "stdout",
     "output_type": "stream",
     "text": [
      "Matrix W:\n",
      " [[ 0.52237162 -0.37231836]\n",
      " [-0.26335492 -0.92555649]\n",
      " [ 0.58125401 -0.02109478]\n",
      " [ 0.56561105 -0.06541577]]\n"
     ]
    }
   ],
   "source": [
    "matrix_w = np.hstack((eig_pairs[0][1].reshape(4,1), \n",
    "                      eig_pairs[1][1].reshape(4,1)))\n",
    "\n",
    "print('Matrix W:\\n %s' %matrix_w)"
   ]
  },
  {
   "cell_type": "markdown",
   "metadata": {
    "colab_type": "text",
    "id": "4Z6O3KmUHKsD"
   },
   "source": [
    "### Projection Onto the New Feature Space\n",
    "In this last step we will use the $4 \\times 2$-dimensional projection matrix $\\mathbf{W}$ to transform our samples onto the new subspace via the equation:\n",
    "\n",
    "$\\mathbf{Y} = \\mathbf{X} \\times  \\mathbf{W}$\n",
    "\n",
    "where $\\mathbf{Y}$ is a $150\\times 2$ matrix of our transformed samples."
   ]
  },
  {
   "cell_type": "code",
   "execution_count": 12,
   "metadata": {
    "colab": {
     "base_uri": "https://localhost:8080/",
     "height": 364
    },
    "colab_type": "code",
    "id": "Yc88rDW-HT3A",
    "outputId": "b93ab152-9a14-4b49-ef50-0be83c132d45"
   },
   "outputs": [
    {
     "data": {
      "image/png": "[encoded data removed]",
      "text/plain": [
       "<Figure size 720x360 with 1 Axes>"
      ]
     },
     "metadata": {},
     "output_type": "display_data"
    }
   ],
   "source": [
    "Y = X_std.dot(matrix_w)\n",
    "\n",
    "with plt.style.context('seaborn-whitegrid'):\n",
    "    plt.figure(figsize=(10, 5))\n",
    "    for lab, col in zip(('Iris-setosa', 'Iris-versicolor', 'Iris-virginica'), \n",
    "                        ('blue', 'red', 'green')):\n",
    "        plt.scatter(Y[y==lab, 0],\n",
    "                    Y[y==lab, 1],\n",
    "                    label=lab,\n",
    "                    c=col)\n",
    "    plt.xlabel('Principal Component 1')\n",
    "    plt.ylabel('Principal Component 2')\n",
    "    plt.legend(loc='lower center')\n",
    "    plt.tight_layout()\n",
    "\n"
   ]
  },
  {
   "cell_type": "markdown",
   "metadata": {
    "colab_type": "text",
    "id": "bGhJ48-eHolN"
   },
   "source": [
    "## PCA using scikit-learn"
   ]
  },
  {
   "cell_type": "code",
   "execution_count": 13,
   "metadata": {
    "colab": {},
    "colab_type": "code",
    "id": "4GMhdT7JHtTe"
   },
   "outputs": [],
   "source": [
    "from sklearn.decomposition import PCA as sklearnPCA\n",
    "sklearn_pca = sklearnPCA(n_components=2)\n",
    "Y_sklearn = sklearn_pca.fit_transform(X_std)"
   ]
  },
  {
   "cell_type": "code",
   "execution_count": 14,
   "metadata": {
    "colab": {
     "base_uri": "https://localhost:8080/",
     "height": 364
    },
    "colab_type": "code",
    "id": "reRIyt9UHvwl",
    "outputId": "57e59f0c-64c2-4427-b1bf-c7b1434921bb"
   },
   "outputs": [
    {
     "data": {
      "image/png": "[encoded data removed]",
      "text/plain": [
       "<Figure size 720x360 with 1 Axes>"
      ]
     },
     "metadata": {},
     "output_type": "display_data"
    }
   ],
   "source": [
    "with plt.style.context('seaborn-whitegrid'):\n",
    "    plt.figure(figsize=(10, 5))\n",
    "    for lab, col in zip(('Iris-setosa', 'Iris-versicolor', 'Iris-virginica'), \n",
    "                        ('blue', 'red', 'green')):\n",
    "        plt.scatter(Y_sklearn[y==lab, 0],\n",
    "                    Y_sklearn[y==lab, 1],\n",
    "                    label=lab,\n",
    "                    c=col)\n",
    "    plt.xlabel('Principal Component 1')\n",
    "    plt.ylabel('Principal Component 2')\n",
    "    plt.legend(loc='lower center')\n",
    "    plt.tight_layout()\n",
    "    plt.show()"
   ]
  },
  {
   "cell_type": "markdown",
   "metadata": {
    "colab_type": "text",
    "id": "Uyk0Vvxv2Zvs"
   },
   "source": [
    "---\n",
    "\n",
    "\n",
    "## <font color=\"#b51555\">Exercise 1.2\n",
    "We saw previously that the first principal component explains about 72% of the variance, whereas the second principal component explains 23% of the variance. Write sklearn code to extract these percentages.\n",
    "<font>\n",
    "\n"
   ]
  },
  {
   "cell_type": "code",
   "execution_count": 15,
   "metadata": {},
   "outputs": [
    {
     "name": "stdout",
     "output_type": "stream",
     "text": [
      "[0.72770452 0.23030523]\n"
     ]
    }
   ],
   "source": [
    "k = 2\n",
    "pca = sklearnPCA(n_components=k)\n",
    "top_exp = pca.fit(X_std)\n",
    "print(top_exp.explained_variance_ratio_)"
   ]
  },
  {
   "cell_type": "markdown",
   "metadata": {
    "colab_type": "text",
    "id": "zk-UO6OIB59e"
   },
   "source": [
    "\n",
    "\n",
    "## <font color=\"#b51555\">Exercise 1.3\n",
    "If you observe closely, you will notice that the plot of principal component 1 vs. principal component 2 obtained using sklearn is different than that obtained by the PCA that we did manually. More specifically, you will observer that the principal component 2 obtained with sklearn is a flipped version of principal component 2 obtained with manual PCA. Can you think of a a reason why this is happening?\n",
    "\n",
    "<font>\n",
    "\n",
    "---"
   ]
  },
  {
   "cell_type": "markdown",
   "metadata": {},
   "source": [
    "I am not sure why this is happening, but online sources(https://stats.stackexchange.com/questions/30348/is-it-acceptable-to-reverse-a-sign-of-a-principal-component-score) states that the direction of components are arbitrary, aka. one can easily 'flip' the values without loosing or editing the information obtained from **PCA**"
   ]
  },
  {
   "cell_type": "markdown",
   "metadata": {
    "colab_type": "text",
    "id": "KrV0aBt9MKUU"
   },
   "source": [
    "# 2. Kernel PCA\n",
    "The “classic” PCA approach described above is a linear projection technique that works well if the data is linearly separable. However, in the case of linearly inseparable data, a nonlinear technique is required if the task is to reduce the dimensionality of a dataset.\n",
    "![alt text](https://sebastianraschka.com/images/blog/2014/kernel_pca/linear_vs_nonlinear.png)\n",
    "\n",
    "\n",
    "The basic idea to deal with linearly inseparable data is to project it onto a higher dimensional space where it becomes linearly separable. Let us call this nonlinear mapping function ϕ so that the mapping of a sample x can be written as x→ϕ(x), which is called “kernel function.”\n",
    "\n",
    "We will start with a simple example of 2 half-moon shapes generated by the make_moons function from scikit-learn.\n",
    "\n",
    "\n"
   ]
  },
  {
   "cell_type": "code",
   "execution_count": 16,
   "metadata": {
    "colab": {
     "base_uri": "https://localhost:8080/",
     "height": 402
    },
    "colab_type": "code",
    "id": "rRF5CUJJOi_2",
    "outputId": "f4d2b3af-c2f6-469b-f55f-dcddde87bf16"
   },
   "outputs": [
    {
     "data": {
      "image/png": "[encoded data removed]",
      "text/plain": [
       "<Figure size 576x432 with 1 Axes>"
      ]
     },
     "metadata": {},
     "output_type": "display_data"
    }
   ],
   "source": [
    "import matplotlib.pyplot as plt\n",
    "\n",
    "from sklearn.datasets import make_moons\n",
    "X, y = make_moons(n_samples=100, random_state=123)\n",
    "\n",
    "plt.figure(figsize=(8,6))\n",
    "\n",
    "plt.scatter(X[y==0, 0], X[y==0, 1], color='red', alpha=0.5)\n",
    "plt.scatter(X[y==1, 0], X[y==1, 1], color='blue', alpha=0.5)\n",
    "\n",
    "plt.title('A nonlinear 2Ddataset')\n",
    "plt.ylabel('y coordinate')\n",
    "plt.xlabel('x coordinate')\n",
    "\n",
    "plt.show()"
   ]
  },
  {
   "cell_type": "markdown",
   "metadata": {
    "colab_type": "text",
    "id": "AwZta_2mOvu0"
   },
   "source": [
    "#### Linear PCA\n",
    "\n",
    "Since the two half-moon shapes are linearly inseparable, we expect that the “classic” PCA will fail to give us a “good” representation of the data in 1D space. Here, we will use the PCA class that is implemented in scikit-learn to perform the dimensionality reduction."
   ]
  },
  {
   "cell_type": "code",
   "execution_count": 17,
   "metadata": {
    "colab": {
     "base_uri": "https://localhost:8080/",
     "height": 402
    },
    "colab_type": "code",
    "id": "mVvhxASvOuWz",
    "outputId": "e9c58a01-03e6-4bf7-b38f-ddb86b40fcc4"
   },
   "outputs": [
    {
     "data": {
      "image/png": "[encoded data removed]",
      "text/plain": [
       "<Figure size 576x432 with 1 Axes>"
      ]
     },
     "metadata": {},
     "output_type": "display_data"
    }
   ],
   "source": [
    "from sklearn.decomposition import PCA\n",
    "\n",
    "scikit_pca = PCA(n_components=2)\n",
    "X_spca = scikit_pca.fit_transform(X)\n",
    "\n",
    "plt.figure(figsize=(8,6))\n",
    "plt.scatter(X_spca[y==0, 0], X_spca[y==0, 1], color='red', alpha=0.5)\n",
    "plt.scatter(X_spca[y==1, 0], X_spca[y==1, 1], color='blue', alpha=0.5)\n",
    "\n",
    "plt.title('First 2 principal components after Linear PCA')\n",
    "plt.xlabel('PC1')\n",
    "plt.ylabel('PC2')\n",
    "plt.show()"
   ]
  },
  {
   "cell_type": "code",
   "execution_count": 18,
   "metadata": {
    "colab": {
     "base_uri": "https://localhost:8080/",
     "height": 402
    },
    "colab_type": "code",
    "id": "vWAZ_xVMOveq",
    "outputId": "e7cb18cb-fc33-4112-fe91-83ec800ed032"
   },
   "outputs": [
    {
     "data": {
      "image/png": "[encoded data removed]",
      "text/plain": [
       "<Figure size 576x432 with 1 Axes>"
      ]
     },
     "metadata": {},
     "output_type": "display_data"
    }
   ],
   "source": [
    "import numpy as np\n",
    "scikit_pca = PCA(n_components=1)\n",
    "X_spca = scikit_pca.fit_transform(X)\n",
    "\n",
    "plt.figure(figsize=(8,6))\n",
    "plt.scatter(X_spca[y==0, 0], np.zeros((50,1)), color='red', alpha=0.5)\n",
    "plt.scatter(X_spca[y==1, 0], np.zeros((50,1)), color='blue', alpha=0.5)\n",
    "\n",
    "plt.title('First principal component after Linear PCA')\n",
    "plt.xlabel('PC1')\n",
    "\n",
    "plt.show()"
   ]
  },
  {
   "cell_type": "markdown",
   "metadata": {
    "colab_type": "text",
    "id": "u4KL68skPDa6"
   },
   "source": [
    "As we can see, the resulting principal components do not yield a subspace where the data is linearly separated well. Note that PCA is a unsupervised method and does not “consider” class labels in order to maximize the variance. Here, the colors blue and red are just added for visualization purposes to indicate the degree of separation."
   ]
  },
  {
   "cell_type": "markdown",
   "metadata": {
    "colab_type": "text",
    "id": "mba-eeQoPNjR"
   },
   "source": [
    "#### Gaussian RBF kernel PCA\n",
    "\n",
    "Next, we will perform dimensionality reduction via RBF kernel PCA on our half-moon data. "
   ]
  },
  {
   "cell_type": "code",
   "execution_count": 19,
   "metadata": {
    "colab": {
     "base_uri": "https://localhost:8080/",
     "height": 402
    },
    "colab_type": "code",
    "id": "I46OiYWrO_T9",
    "outputId": "6572d1ec-5e2e-4452-8317-a190f24c31bd"
   },
   "outputs": [
    {
     "data": {
      "image/png": "[encoded data removed]",
      "text/plain": [
       "<Figure size 576x432 with 1 Axes>"
      ]
     },
     "metadata": {},
     "output_type": "display_data"
    }
   ],
   "source": [
    "from sklearn.decomposition import KernelPCA\n",
    "\n",
    "scikit_kpca = KernelPCA(n_components=2, kernel='rbf', gamma=15)\n",
    "X_skernpca = scikit_kpca.fit_transform(X)\n",
    "\n",
    "plt.figure(figsize=(8,6))\n",
    "plt.scatter(X_skernpca[y==0, 0], X_skernpca[y==0, 1], color='red', alpha=0.5)\n",
    "plt.scatter(X_skernpca[y==1, 0], X_skernpca[y==1, 1], color='blue', alpha=0.5)\n",
    "\n",
    "plt.title('First 2 principal components after RBF Kernel PCA via scikit-learn')\n",
    "plt.xlabel('PC1')\n",
    "plt.ylabel('PC2')\n",
    "plt.show()"
   ]
  },
  {
   "cell_type": "code",
   "execution_count": 20,
   "metadata": {
    "colab": {
     "base_uri": "https://localhost:8080/",
     "height": 402
    },
    "colab_type": "code",
    "id": "eqRHN5MIO_67",
    "outputId": "0c773248-bb05-4b2e-94a8-2dbc9f483aec"
   },
   "outputs": [
    {
     "data": {
      "image/png": "[encoded data removed]",
      "text/plain": [
       "<Figure size 576x432 with 1 Axes>"
      ]
     },
     "metadata": {},
     "output_type": "display_data"
    }
   ],
   "source": [
    "scikit_kpca = KernelPCA(n_components=1, kernel='rbf', gamma=15)\n",
    "X_skernpca = scikit_kpca.fit_transform(X)\n",
    "\n",
    "plt.figure(figsize=(8,6))\n",
    "plt.scatter(X_skernpca[y==0, 0], np.zeros((50,1)), color='red', alpha=0.5)\n",
    "plt.scatter(X_skernpca[y==1, 0], np.zeros((50,1)), color='blue', alpha=0.5)\n",
    "plt.title('First principal component after RBF Kernel PCA')\n",
    "plt.xlabel('PC1')\n",
    "plt.show()"
   ]
  },
  {
   "cell_type": "markdown",
   "metadata": {
    "colab_type": "text",
    "id": "8rtLim1BBJsG"
   },
   "source": [
    "---\n",
    "\n",
    "\n",
    "## <font color=\"#b51555\">Exercise 1.4\n",
    "The code below generates a two-class data containing two concentric circles, i.e., a small circle inside a larger circle. Your task is to extend this code to and do the following:\n",
    "  1. Plot the data such that plot shows the two concentric circles in two distinct colors\n",
    "  2. Perform kernel PCA to find a 2-dimensional projection of this data such the projected data is linearly separable. \n",
    "  3. Plot the projected data in 2D.\n",
    "<font>\n",
    "\n",
    "---"
   ]
  },
  {
   "cell_type": "code",
   "execution_count": 24,
   "metadata": {
    "colab": {},
    "colab_type": "code",
    "id": "aBQROoPJhLCC"
   },
   "outputs": [
    {
     "data": {
      "text/plain": [
       "[]"
      ]
     },
     "execution_count": 24,
     "metadata": {},
     "output_type": "execute_result"
    },
    {
     "data": {
      "image/png": "[encoded data removed]",
      "text/plain": [
       "<Figure size 432x288 with 1 Axes>"
      ]
     },
     "metadata": {},
     "output_type": "display_data"
    }
   ],
   "source": [
    "import numpy as np\n",
    "import matplotlib.pyplot as plt\n",
    "\n",
    "from sklearn.decomposition import PCA, KernelPCA\n",
    "from sklearn.datasets import make_circles\n",
    "\n",
    "np.random.seed(0)\n",
    "\n",
    "X, y = make_circles(n_samples=400, factor=.3, noise=.05)\n",
    "\n",
    "plt.scatter(X[y==0, 0], X[y==0, 1], color='red', alpha=0.5)\n",
    "plt.scatter(X[y==1, 0], X[y==1, 1], color='blue', alpha=0.5)\n",
    "plt.plot()"
   ]
  },
  {
   "cell_type": "code",
   "execution_count": 23,
   "metadata": {},
   "outputs": [
    {
     "data": {
      "text/plain": [
       "[]"
      ]
     },
     "execution_count": 23,
     "metadata": {},
     "output_type": "execute_result"
    },
    {
     "data": {
      "image/png": "[encoded data removed]",
      "text/plain": [
       "<Figure size 432x288 with 1 Axes>"
      ]
     },
     "metadata": {},
     "output_type": "display_data"
    }
   ],
   "source": [
    "kern_pca = KernelPCA(n_components=2, kernel='rbf', gamma=10)\n",
    "X_proj = kern_pca.fit_transform(X)\n",
    "plt.scatter(X_proj[y==0, 0], X_proj[y==0, 1], color='red', alpha=0.5)\n",
    "plt.scatter(X_proj[y==1, 0], X_proj[y==1, 1], color='blue', alpha=0.5)\n",
    "plt.plot()"
   ]
  },
  {
   "cell_type": "markdown",
   "metadata": {
    "colab_type": "text",
    "id": "3OrcbMF60t2Q"
   },
   "source": [
    "# 3. Movie recommendation system based on matrix factorization"
   ]
  },
  {
   "cell_type": "markdown",
   "metadata": {
    "colab_type": "text",
    "id": "O-eXWS1bG7eE"
   },
   "source": [
    "Just as its name suggests, matrix factorization is to, obviously, factorize a matrix, i.e. to find out two (or more) matrices such that when you multiply them you will get back the original matrix.\n",
    "\n",
    "As mentioned above, from an application point of view, matrix factorization can be used to discover latent features underlying the interactions between two different kinds of entities. (Of course, you can consider more than two kinds of entities and you will be dealing with tensor factorization, which would be more complicated.) And one obvious application is to predict ratings in collaborative filtering.\n",
    "\n",
    "In a recommendation system such as Netflix or MovieLens, there is a group of users and a set of items (movies for the above two systems). Given that each users have rated some items in the system, we would like to predict how the users would rate the items that they have not yet rated, such that we can make recommendations to the users. In this case, all the information we have about the existing ratings can be represented in a matrix. Assume now we have 5 users and 4 items, and ratings are integers ranging from 1 to 5, the matrix may look something like this (a hyphen means that the user has not yet rated the movie):\n",
    "\n",
    "|  | D1 | D2 | D3 | D4 |\n",
    "|----|----|----|----|----|\n",
    "| U1 | 5 | 3 | - | 1 |\n",
    "| U2 | 4 | - | - | 1 |\n",
    "| U3 | 1 | 1 | - | 5 |\n",
    "| U4 | 1 | - | - | 4 |\n",
    "| U5 | - | 1 | 5 | 4 |\n",
    "\n",
    "\n",
    "Hence, the task of predicting the missing ratings can be considered as filling in the blanks (the hyphens in the matrix) such that the values would be consistent with the existing ratings in the matrix.\n",
    "\n",
    "The intuition behind using matrix factorization to solve this problem is that there should be some latent features that determine how a user rates an item. For example, two users would give high ratings to a certain movie if they both like the actors/actresses of the movie, or if the movie is an action movie, which is a genre preferred by both users. Hence, if we can discover these latent features, we should be able to predict a rating with respect to a certain user and a certain item, because the features associated with the user should match with the features associated with the item.\n",
    "\n",
    "In trying to discover the different features, we also make the assumption that the number of features would be smaller than the number of users and the number of items. It should not be difficult to understand this assumption because clearly it would not be reasonable to assume that each user is associated with a unique feature (although this is not impossible). And anyway if this is the case there would be no point in making recommendations, because each of these users would not be interested in the items rated by other users. Similarly, the same argument applies to the items.\n",
    "\n",
    "#### The Maths of Matrix Factorization\n",
    "\n",
    "Having discussed the intuition behind matrix factorization, we can now go on to work on the mathematics. Firstly, we have a set $U$ of users, and a set $D$ of items. Let $R$ of size $|U| \\times |D|$ be the matrix that contains all the ratings that the users have assigned to the items. Also, we assume that we would like to discover $K$ latent features. Our task, then, is to find two matrics matrices $P$ (of size $|U| \\times |K|$) and $Q$ (of size $|D| \\times |K|$) such that their product apprioximates |R|:\n",
    "\n",
    "$$\\mathbf{R} \\approx \\mathbf{P} \\times \\mathbf{Q}^T = \\hat{\\mathbf{R}}$$\n",
    "\n",
    "In this way, each row of $\\mathbf{P}$ would represent the strength of the associations between a user and the features. Similarly, each row of $\\mathbf{Q}$ would represent the strength of the associations between an item and the features. To get the prediction of a rating of an item $d_j$ by $u_i$, we can calculate the dot product of their vectors:\n",
    "\n",
    "$$\\hat{r}_{ij} = p_i^T q_j = \\sum_{k=1}^k{p_{ik} q_{kj}}$$\n",
    "\n",
    "Now, we have to find a way to obtain $\\mathbf{P}$ and $\\mathbf{Q}$. One way to approach this problem is the first intialize the two matrices with some values, calculate how different their product is to $\\mathbf{M}$, and then try to minimize this difference iteratively. Such a method is called gradient descent, aiming at finding a local minimum of the difference.\n",
    "\n",
    "The difference here, usually called the error between the estimated rating and the real rating, can be calculated by the following equation for each user-item pair:\n",
    "\n",
    "$$e_{ij}^2 = (r_{ij} - \\hat{r}_{ij})^2 = (r_{ij} - \\sum_{k=1}^K{p_{ik}q_{kj}})^2$$\n",
    "\n",
    "Here we consider the squared error because the estimated rating can be either higher or lower than the real rating.\n",
    "\n",
    "To minimize the error, we have to know in which direction we have to modify the values of $p_{ik}$ and $q_{kj}$. In other words, we need to know the gradient at the current values, and therefore we differentiate the above equation with respect to these two variables separately:\n",
    "\n",
    "$$\\frac{\\partial}{\\partial p_{ik}}e_{ij}^2 = -2(r_{ij} - \\hat{r}_{ij})(q_{kj}) = -2 e_{ij} q_{kj}$$\n",
    "$$ \\frac{\\partial}{\\partial q_{ik}}e_{ij}^2 = -2(r_{ij} - \\hat{r}_{ij})(p_{ik}) = -2 e_{ij} p_{ik}$$\n",
    "\n",
    "Having obtained the gradient, we can now formulate the update rules for both $p_{ik}$ and $q_{kj}$:\n",
    "\n",
    "$$p’_{ik} = p_{ik} + \\alpha \\frac{\\partial}{\\partial p_{ik}}e_{ij}^2 = p_{ik} + 2\\alpha e_{ij} q_{kj}$$\n",
    "$$q’_{kj} = q_{kj} + \\alpha \\frac{\\partial}{\\partial q_{kj}}e_{ij}^2 = q_{kj} + 2\\alpha e_{ij} p_{ik}$$\n",
    "\n",
    "Here, $\\alpha$ is a constant whose value determines the rate of approaching the minimum. Usually we will choose a small value for $\\alpha$, say 0.1. This is because if we make too large a step towards the minimum we may run into the risk of missing the minimum and end up oscillating around the minimum.\n",
    "\n",
    "A question might have come to your mind by now: if we find two matrices $\\mathbf{P}$ and $\\mathbf{Q}$ such that $\\mathbf{P} \\times \\mathbf{Q}$ approximates $\\mathbf{R}$, isn’t that our predictions of all the unseen ratings will be zeros? In fact, we are not really trying to come up with $\\mathbf{P}$ and $\\mathbf{Q}$ such that we can reproduce $\\mathbf{R}$ exactly. Instead, we will only try to minimise the errors of the observed user-item pairs. In other words, if we let $T$ be a set of tuples, each of which is in the form of $(u_i, d_j, r_{ij})$, such that $T$ contains all the **observed** user-item pairs together with the associated ratings, we are only trying to minimise every $e_{ij}$ for $(u_i, d_j, r_{ij}) \\in T$. (In other words, $T$ is our set of training data.) As for the rest of the unknowns, we will be able to determine their values once the associations between the users, items and features have been learnt.\n",
    "\n",
    "Using the above update rules, we can then iteratively perform the operation until the error converges to its minimum. We can check the overall error as calculated using the following equation and determine when we should stop the process.\n",
    "\n",
    "$$E = \\sum_{(u_i, d_j, r_{ij}) \\in T}{e_{ij}} = \\sum_{(u_i,d_j,r_{ij}) \\in T}{(r_{ij} - \\sum_{k=1}^K{p_{ik}q_{kj}})^2}$$\n",
    "\n",
    "#### Regularization\n",
    "\n",
    "The above algorithm is a very basic algorithm for factorizing a matrix. There are a lot of methods to make things look more complicated. A common extension to this basic algorithm is to introduce regularization to avoid overfitting. This is done by adding a parameter $\\beta$ and modify the squared error as follows:\n",
    "\n",
    "$$e_{ij}^2 = (r_{ij} - \\sum_{k=1}^K{p_{ik}q_{kj}})^2 + \\frac{\\beta}{2} \\sum_{k=1}^K{(||P||^2 + ||Q||^2)}$$\n",
    "\n",
    "In other words, the new parameter $\\beta$ is used to control the magnitudes of the user-feature and item-feature vectors such that $P$ and $Q$ would give a good approximation of $R$ without having to contain large numbers. In practice, $\\beta$ is set to some values in the order of 0.01. The new update rules for this squared error can be obtained by a procedure similar to the one described above. The new update rules are as follows:\n",
    "\n",
    "$$p’_{ik} = p_{ik} + \\alpha \\frac{\\partial}{\\partial p_{ik}}e_{ij}^2 = p_{ik} + \\alpha(2 e_{ij} q_{kj} - \\beta p_{ik} )$$\n",
    "$$q’_{kj} = q_{kj} + \\alpha \\frac{\\partial}{\\partial q_{kj}}e_{ij}^2 = q_{kj} + \\alpha(2 e_{ij} p_{ik} - \\beta q_{kj} )$$\n",
    "\n",
    "#### Adding Biases\n",
    "\n",
    "When predicting the ratings of users given to items, it is useful to consider how ratings are generated. In the above discussion, we have assumed that ratings are generated based on matching the users preferences on some latent factors and the items’ characteristics on the latent factors. Actually, it may also be helpful to consider additional factors here.\n",
    "\n",
    "For example, we can assume that when a rating is generated, some biases may also contribute to the ratings. In particular, every user may have his or her own bias, meaning that he or she may tend to rate items higher or lower than the others. In movie ratings, if a user is a serious movie watcher, he or she may tend to give lower ratings, when compared to another user who generally enjoys movies as long as they are not too boring. A similar idea can also be applied to the items being rated.\n",
    "\n",
    "Hence, in the equal of predicting a rating, we can also add these biases in order to better model how a rating is generated:\n",
    "\n",
    "$$\\hat{r}_{ij} = b + bu_i + bd_j + \\sum_{k=1}^k{p_{ik} q_{kj}}$$\n",
    "where $b$ is the global bias (which can be easily estimated by using the mean of all ratings), $bu_i$ is the bias of user $i$, and $bd_j$ is te bias of item $j$.\n",
    "\n",
    "Using the same steps mentioned above, we can derive the update rules for the user biases and item biases easily:\n",
    "\n",
    "$$bu’_i = bu_i + \\alpha \\times (e_{ij} - \\beta bu_i)$$\n",
    "$$bd’_j = bd_j + \\alpha \\times (e_{ij} - \\beta bd_j)$$\n",
    "\n",
    "In practice, the process of factorization will converge faster if biases are included in the model.\n",
    "\n",
    "#### Python Implementation\n",
    "Once we have derived the update rules as described above, it actually becomes very straightforward to implement the algorithm. The following is a classs that implements the algorithm in Python using the stochastic gradient descent algorithm. "
   ]
  },
  {
   "cell_type": "code",
   "execution_count": 25,
   "metadata": {
    "colab": {},
    "colab_type": "code",
    "id": "KNLJFRQ91A0f"
   },
   "outputs": [],
   "source": [
    "import numpy as np\n",
    "\n",
    "class MF():\n",
    "\n",
    "    def __init__(self, R, K, alpha, beta, iterations):\n",
    "        \"\"\"\n",
    "        Perform matrix factorization to predict empty\n",
    "        entries in a matrix.\n",
    "\n",
    "        Arguments\n",
    "        - R (ndarray)   : user-item rating matrix\n",
    "        - K (int)       : number of latent dimensions\n",
    "        - alpha (float) : learning rate\n",
    "        - beta (float)  : regularization parameter\n",
    "        \"\"\"\n",
    "\n",
    "        self.R = R\n",
    "        self.num_users, self.num_items = R.shape\n",
    "        self.K = K\n",
    "        self.alpha = alpha\n",
    "        self.beta = beta\n",
    "        self.iterations = iterations\n",
    "\n",
    "    def train(self):\n",
    "        # Initialize user and item latent feature matrices to random numbers\n",
    "        self.P = np.random.normal(scale=1./self.K, size=(self.num_users, self.K))\n",
    "        self.Q = np.random.normal(scale=1./self.K, size=(self.num_items, self.K))\n",
    "\n",
    "        # Initialize the biases to zeros\n",
    "        self.b_u = np.zeros(self.num_users)\n",
    "        self.b_i = np.zeros(self.num_items)\n",
    "        self.b = np.mean(self.R[np.where(self.R != 0)])\n",
    "\n",
    "        # Create a list of training samples\n",
    "        self.samples = [\n",
    "            (i, j, self.R[i, j])\n",
    "            for i in range(self.num_users)\n",
    "            for j in range(self.num_items)\n",
    "            if self.R[i, j] > 0\n",
    "        ]\n",
    "\n",
    "        # Perform stochastic gradient descent for number of iterations\n",
    "        training_process = []\n",
    "        for i in range(self.iterations):\n",
    "            np.random.shuffle(self.samples)\n",
    "            self.sgd()\n",
    "            mse = self.mse()\n",
    "            training_process.append((i, mse))\n",
    "            if (i+1) % 5 == 0:\n",
    "                print(\"Iteration: %d ; error = %.4f\" % (i+1, mse))\n",
    "\n",
    "        return training_process\n",
    "\n",
    "    def mse(self):\n",
    "        \"\"\"\n",
    "        A function to compute the total mean square error\n",
    "        \"\"\"\n",
    "        xs, ys = self.R.nonzero()\n",
    "        predicted = self.full_matrix()\n",
    "        error = 0\n",
    "        for x, y in zip(xs, ys):\n",
    "            error += pow(self.R[x, y] - predicted[x, y], 2)\n",
    "        return np.sqrt(error)\n",
    "\n",
    "    def sgd(self):\n",
    "        \"\"\"\n",
    "        Perform stochastic graident descent\n",
    "        \"\"\"\n",
    "        for i, j, r in self.samples:\n",
    "            # Computer prediction and error\n",
    "            prediction = self.get_rating(i, j)\n",
    "            e = (r - prediction)\n",
    "\n",
    "            # Update biases\n",
    "            self.b_u[i] += self.alpha * (e - self.beta * self.b_u[i])\n",
    "            self.b_i[j] += self.alpha * (e - self.beta * self.b_i[j])\n",
    "\n",
    "            # Update user and item latent feature matrices\n",
    "            self.P[i, :] += self.alpha * (e * self.Q[j, :] - self.beta * self.P[i,:])\n",
    "            self.Q[j, :] += self.alpha * (e * self.P[i, :] - self.beta * self.Q[j,:])\n",
    "\n",
    "    def get_rating(self, i, j):\n",
    "        \"\"\"\n",
    "        Get the predicted rating of user i and item j\n",
    "        \"\"\"\n",
    "        prediction = self.b + self.b_u[i] + self.b_i[j] + self.P[i, :].dot(self.Q[j, :].T)\n",
    "        return prediction\n",
    "\n",
    "    def full_matrix(self):\n",
    "        \"\"\"\n",
    "        Compute the full matrix using the resultant biases, P and Q\n",
    "        \"\"\"\n",
    "        return self.b + self.b_u[:,np.newaxis] + self.b_i[np.newaxis:,] + self.P.dot(self.Q.T)"
   ]
  },
  {
   "cell_type": "markdown",
   "metadata": {
    "colab_type": "text",
    "id": "cgvjJaSFK9T2"
   },
   "source": [
    "Let us apply matrix factorization to our example mentioned above, and see what we would get. Below is a code snippet for running the example. Note that we replace missing ratings by zeros, becuase we cannot have `-` in a numpy numeric array.\n"
   ]
  },
  {
   "cell_type": "code",
   "execution_count": 26,
   "metadata": {
    "colab": {},
    "colab_type": "code",
    "id": "zI8nsRIR-_0l"
   },
   "outputs": [],
   "source": [
    "R = np.array([\n",
    "    [5, 3, 0, 1],\n",
    "    [4, 0, 0, 1],\n",
    "    [1, 1, 0, 5],\n",
    "    [1, 0, 0, 4],\n",
    "    [0, 1, 5, 4],\n",
    "])\n",
    "\n",
    "mf = MF(R, K=2, alpha=0.1, beta=0.01, iterations=35)"
   ]
  },
  {
   "cell_type": "markdown",
   "metadata": {
    "colab_type": "text",
    "id": "DzzMgCHSl7rj"
   },
   "source": [
    "Let us now train to find the factors: "
   ]
  },
  {
   "cell_type": "code",
   "execution_count": 27,
   "metadata": {
    "colab": {
     "base_uri": "https://localhost:8080/",
     "height": 763
    },
    "colab_type": "code",
    "id": "JEpo3oZN_B8m",
    "outputId": "9aa4c003-1c61-4d3a-cbf5-f5936ee851ae"
   },
   "outputs": [
    {
     "name": "stdout",
     "output_type": "stream",
     "text": [
      "Iteration: 5 ; error = 1.5812\n",
      "Iteration: 10 ; error = 0.6592\n",
      "Iteration: 15 ; error = 0.3717\n",
      "Iteration: 20 ; error = 0.2152\n",
      "Iteration: 25 ; error = 0.1303\n",
      "Iteration: 30 ; error = 0.0860\n",
      "Iteration: 35 ; error = 0.0587\n"
     ]
    },
    {
     "data": {
      "text/plain": [
       "[(0, 5.772665155386911),\n",
       " (1, 4.982979263280251),\n",
       " (2, 3.854903033591391),\n",
       " (3, 2.4564861097173942),\n",
       " (4, 1.5812296593883046),\n",
       " (5, 1.1977455897753646),\n",
       " (6, 0.9936478939771822),\n",
       " (7, 0.8531416377906297),\n",
       " (8, 0.7460091749533221),\n",
       " (9, 0.6592162320680869),\n",
       " (10, 0.5784874329930022),\n",
       " (11, 0.516566561776469),\n",
       " (12, 0.463877694870648),\n",
       " (13, 0.4121781523179069),\n",
       " (14, 0.3716700217451044),\n",
       " (15, 0.33158989897847235),\n",
       " (16, 0.2962996722244628),\n",
       " (17, 0.2654102680166536),\n",
       " (18, 0.2386655413663614),\n",
       " (19, 0.21519268363269922),\n",
       " (20, 0.1944180965340491),\n",
       " (21, 0.17708827150967232),\n",
       " (22, 0.15893459075230926),\n",
       " (23, 0.14815818587692514),\n",
       " (24, 0.13031203260058574),\n",
       " (25, 0.11842536232319227),\n",
       " (26, 0.1098045294956138),\n",
       " (27, 0.10378684841790305),\n",
       " (28, 0.09404737992170774),\n",
       " (29, 0.0860200678746406),\n",
       " (30, 0.07709507599701959),\n",
       " (31, 0.0719520177587424),\n",
       " (32, 0.06885534240584777),\n",
       " (33, 0.06678001185849608),\n",
       " (34, 0.05868647678203386)]"
      ]
     },
     "execution_count": 27,
     "metadata": {},
     "output_type": "execute_result"
    }
   ],
   "source": [
    "mf.train()"
   ]
  },
  {
   "cell_type": "markdown",
   "metadata": {
    "colab_type": "text",
    "id": "znU8XqBpLBTp"
   },
   "source": [
    "And the matrix obtained from the above process would look something like this:\n",
    "\n"
   ]
  },
  {
   "cell_type": "code",
   "execution_count": 28,
   "metadata": {
    "colab": {
     "base_uri": "https://localhost:8080/",
     "height": 105
    },
    "colab_type": "code",
    "id": "o816G2UHAvDO",
    "outputId": "9701709f-a901-4293-93b5-214d7fd12072"
   },
   "outputs": [
    {
     "data": {
      "text/plain": [
       "array([[4.99179791, 2.99022747, 4.24533889, 1.00958716],\n",
       "       [3.99355128, 2.29181469, 3.59268253, 1.00786243],\n",
       "       [1.01858707, 0.97673464, 5.13210657, 4.98637396],\n",
       "       [1.00021308, 0.71189157, 4.53799084, 3.98774774],\n",
       "       [1.49073502, 1.03549859, 4.97544281, 4.00046352]])"
      ]
     },
     "execution_count": 28,
     "metadata": {},
     "output_type": "execute_result"
    }
   ],
   "source": [
    "R_hat = mf.full_matrix()\n",
    "R_hat"
   ]
  },
  {
   "cell_type": "markdown",
   "metadata": {
    "colab_type": "text",
    "id": "Xi1e82UVmQ_R"
   },
   "source": [
    "---\n",
    "\n",
    "\n",
    "## <font color=\"#b51555\">Exercise 1.5\n",
    "What would be the rating of item D3 for user U1. Write the code for it.\n",
    "  \n",
    "Hint: There is a built-in method in the MF class for getting rating; use it for this exercise.\n",
    "<font>\n",
    "\n"
   ]
  },
  {
   "cell_type": "code",
   "execution_count": 30,
   "metadata": {},
   "outputs": [
    {
     "data": {
      "text/plain": [
       "1.0078624269329932"
      ]
     },
     "execution_count": 30,
     "metadata": {},
     "output_type": "execute_result"
    }
   ],
   "source": [
    "user = 1\n",
    "item = 3\n",
    "mf.get_rating(user, item)"
   ]
  },
  {
   "cell_type": "code",
   "execution_count": 39,
   "metadata": {},
   "outputs": [],
   "source": [
    "movies_path = \"../data/movies.csv\"\n",
    "ratings_path = \"../data/ratings.csv\"\n",
    "\n",
    "movies = pd.read_csv(movies_path)\n",
    "ratings = pd.read_csv(ratings_path)"
   ]
  },
  {
   "cell_type": "code",
   "execution_count": 40,
   "metadata": {},
   "outputs": [
    {
     "data": {
      "text/html": [
       "<div>\n",
       "<style scoped>\n",
       "    .dataframe tbody tr th:only-of-type {\n",
       "        vertical-align: middle;\n",
       "    }\n",
       "\n",
       "    .dataframe tbody tr th {\n",
       "        vertical-align: top;\n",
       "    }\n",
       "\n",
       "    .dataframe thead th {\n",
       "        text-align: right;\n",
       "    }\n",
       "</style>\n",
       "<table border=\"1\" class=\"dataframe\">\n",
       "  <thead>\n",
       "    <tr style=\"text-align: right;\">\n",
       "      <th></th>\n",
       "      <th>movieId</th>\n",
       "      <th>title</th>\n",
       "      <th>genres</th>\n",
       "    </tr>\n",
       "  </thead>\n",
       "  <tbody>\n",
       "    <tr>\n",
       "      <th>0</th>\n",
       "      <td>1</td>\n",
       "      <td>Toy Story (1995)</td>\n",
       "      <td>Adventure|Animation|Children|Comedy|Fantasy</td>\n",
       "    </tr>\n",
       "    <tr>\n",
       "      <th>1</th>\n",
       "      <td>2</td>\n",
       "      <td>Jumanji (1995)</td>\n",
       "      <td>Adventure|Children|Fantasy</td>\n",
       "    </tr>\n",
       "    <tr>\n",
       "      <th>2</th>\n",
       "      <td>3</td>\n",
       "      <td>Grumpier Old Men (1995)</td>\n",
       "      <td>Comedy|Romance</td>\n",
       "    </tr>\n",
       "    <tr>\n",
       "      <th>3</th>\n",
       "      <td>4</td>\n",
       "      <td>Waiting to Exhale (1995)</td>\n",
       "      <td>Comedy|Drama|Romance</td>\n",
       "    </tr>\n",
       "    <tr>\n",
       "      <th>4</th>\n",
       "      <td>5</td>\n",
       "      <td>Father of the Bride Part II (1995)</td>\n",
       "      <td>Comedy</td>\n",
       "    </tr>\n",
       "  </tbody>\n",
       "</table>\n",
       "</div>"
      ],
      "text/plain": [
       "   movieId                               title  \\\n",
       "0        1                    Toy Story (1995)   \n",
       "1        2                      Jumanji (1995)   \n",
       "2        3             Grumpier Old Men (1995)   \n",
       "3        4            Waiting to Exhale (1995)   \n",
       "4        5  Father of the Bride Part II (1995)   \n",
       "\n",
       "                                        genres  \n",
       "0  Adventure|Animation|Children|Comedy|Fantasy  \n",
       "1                   Adventure|Children|Fantasy  \n",
       "2                               Comedy|Romance  \n",
       "3                         Comedy|Drama|Romance  \n",
       "4                                       Comedy  "
      ]
     },
     "execution_count": 40,
     "metadata": {},
     "output_type": "execute_result"
    }
   ],
   "source": [
    "movies.head()"
   ]
  },
  {
   "cell_type": "code",
   "execution_count": 45,
   "metadata": {},
   "outputs": [
    {
     "data": {
      "text/html": [
       "<div>\n",
       "<style scoped>\n",
       "    .dataframe tbody tr th:only-of-type {\n",
       "        vertical-align: middle;\n",
       "    }\n",
       "\n",
       "    .dataframe tbody tr th {\n",
       "        vertical-align: top;\n",
       "    }\n",
       "\n",
       "    .dataframe thead th {\n",
       "        text-align: right;\n",
       "    }\n",
       "</style>\n",
       "<table border=\"1\" class=\"dataframe\">\n",
       "  <thead>\n",
       "    <tr style=\"text-align: right;\">\n",
       "      <th></th>\n",
       "      <th>userId</th>\n",
       "      <th>movieId</th>\n",
       "      <th>rating</th>\n",
       "      <th>timestamp</th>\n",
       "    </tr>\n",
       "  </thead>\n",
       "  <tbody>\n",
       "    <tr>\n",
       "      <th>0</th>\n",
       "      <td>1</td>\n",
       "      <td>31</td>\n",
       "      <td>2.5</td>\n",
       "      <td>1260759144</td>\n",
       "    </tr>\n",
       "    <tr>\n",
       "      <th>1</th>\n",
       "      <td>1</td>\n",
       "      <td>1029</td>\n",
       "      <td>3.0</td>\n",
       "      <td>1260759179</td>\n",
       "    </tr>\n",
       "    <tr>\n",
       "      <th>2</th>\n",
       "      <td>1</td>\n",
       "      <td>1061</td>\n",
       "      <td>3.0</td>\n",
       "      <td>1260759182</td>\n",
       "    </tr>\n",
       "    <tr>\n",
       "      <th>3</th>\n",
       "      <td>1</td>\n",
       "      <td>1129</td>\n",
       "      <td>2.0</td>\n",
       "      <td>1260759185</td>\n",
       "    </tr>\n",
       "    <tr>\n",
       "      <th>4</th>\n",
       "      <td>1</td>\n",
       "      <td>1172</td>\n",
       "      <td>4.0</td>\n",
       "      <td>1260759205</td>\n",
       "    </tr>\n",
       "  </tbody>\n",
       "</table>\n",
       "</div>"
      ],
      "text/plain": [
       "   userId  movieId  rating   timestamp\n",
       "0       1       31     2.5  1260759144\n",
       "1       1     1029     3.0  1260759179\n",
       "2       1     1061     3.0  1260759182\n",
       "3       1     1129     2.0  1260759185\n",
       "4       1     1172     4.0  1260759205"
      ]
     },
     "execution_count": 45,
     "metadata": {},
     "output_type": "execute_result"
    }
   ],
   "source": [
    "ratings.head()"
   ]
  },
  {
   "cell_type": "code",
   "execution_count": 48,
   "metadata": {},
   "outputs": [],
   "source": [
    "ratings = ratings.drop(columns=['timestamp'])"
   ]
  },
  {
   "cell_type": "code",
   "execution_count": 50,
   "metadata": {},
   "outputs": [
    {
     "name": "stdout",
     "output_type": "stream",
     "text": [
      "        rating                                                                 \\\n",
      "movieId 1      2      3      4      5      6      7      8      9      10       \n",
      "userId                                                                          \n",
      "1          NaN    NaN    NaN    NaN    NaN    NaN    NaN    NaN    NaN    NaN   \n",
      "2          NaN    NaN    NaN    NaN    NaN    NaN    NaN    NaN    NaN    4.0   \n",
      "3          NaN    NaN    NaN    NaN    NaN    NaN    NaN    NaN    NaN    NaN   \n",
      "4          NaN    NaN    NaN    NaN    NaN    NaN    NaN    NaN    NaN    4.0   \n",
      "5          NaN    NaN    4.0    NaN    NaN    NaN    NaN    NaN    NaN    NaN   \n",
      "6          NaN    NaN    NaN    NaN    NaN    NaN    NaN    NaN    NaN    NaN   \n",
      "7          3.0    NaN    NaN    NaN    NaN    NaN    NaN    NaN    NaN    3.0   \n",
      "8          NaN    NaN    NaN    NaN    NaN    NaN    NaN    NaN    NaN    NaN   \n",
      "9          4.0    NaN    NaN    NaN    NaN    NaN    NaN    NaN    NaN    NaN   \n",
      "10         NaN    NaN    NaN    NaN    NaN    NaN    NaN    NaN    NaN    NaN   \n",
      "11         NaN    NaN    NaN    NaN    NaN    NaN    NaN    NaN    NaN    NaN   \n",
      "12         NaN    NaN    NaN    NaN    NaN    NaN    NaN    NaN    NaN    NaN   \n",
      "13         5.0    NaN    NaN    NaN    NaN    NaN    NaN    NaN    NaN    NaN   \n",
      "14         NaN    NaN    NaN    NaN    NaN    NaN    NaN    NaN    NaN    NaN   \n",
      "15         2.0    2.0    NaN    NaN    4.5    4.0    NaN    NaN    NaN    3.0   \n",
      "16         NaN    NaN    NaN    NaN    NaN    NaN    NaN    NaN    NaN    NaN   \n",
      "17         NaN    NaN    NaN    NaN    NaN    4.5    NaN    NaN    NaN    NaN   \n",
      "18         NaN    NaN    NaN    NaN    3.0    4.0    3.0    NaN    3.0    NaN   \n",
      "19         3.0    3.0    3.0    3.0    NaN    3.0    3.0    NaN    3.0    3.0   \n",
      "20         3.5    NaN    NaN    NaN    NaN    NaN    NaN    NaN    NaN    NaN   \n",
      "21         NaN    NaN    NaN    NaN    NaN    NaN    NaN    NaN    NaN    3.0   \n",
      "22         NaN    NaN    NaN    NaN    NaN    NaN    NaN    NaN    NaN    NaN   \n",
      "23         3.0    NaN    NaN    NaN    NaN    3.5    NaN    NaN    NaN    NaN   \n",
      "24         NaN    NaN    NaN    NaN    NaN    5.0    NaN    NaN    NaN    NaN   \n",
      "25         NaN    NaN    3.0    NaN    NaN    NaN    NaN    NaN    NaN    NaN   \n",
      "26         5.0    NaN    NaN    NaN    NaN    NaN    NaN    NaN    NaN    NaN   \n",
      "27         NaN    NaN    NaN    NaN    NaN    NaN    NaN    NaN    NaN    NaN   \n",
      "28         NaN    NaN    NaN    NaN    NaN    NaN    NaN    NaN    NaN    NaN   \n",
      "29         NaN    NaN    NaN    NaN    NaN    NaN    NaN    NaN    NaN    NaN   \n",
      "30         4.0    2.0    NaN    NaN    NaN    4.0    NaN    4.0    NaN    NaN   \n",
      "...        ...    ...    ...    ...    ...    ...    ...    ...    ...    ...   \n",
      "642        NaN    NaN    NaN    NaN    NaN    NaN    NaN    NaN    NaN    NaN   \n",
      "643        NaN    NaN    NaN    NaN    NaN    NaN    NaN    NaN    NaN    NaN   \n",
      "644        NaN    NaN    NaN    1.0    NaN    NaN    NaN    NaN    NaN    NaN   \n",
      "645        NaN    NaN    NaN    NaN    NaN    NaN    NaN    NaN    NaN    NaN   \n",
      "646        5.0    NaN    5.0    NaN    NaN    NaN    NaN    NaN    NaN    NaN   \n",
      "647        4.0    NaN    NaN    NaN    NaN    4.0    NaN    NaN    NaN    NaN   \n",
      "648        NaN    NaN    NaN    NaN    NaN    4.0    NaN    NaN    NaN    NaN   \n",
      "649        4.0    NaN    NaN    3.0    NaN    NaN    NaN    NaN    NaN    5.0   \n",
      "650        NaN    NaN    3.0    1.0    3.0    NaN    NaN    NaN    NaN    4.0   \n",
      "651        NaN    NaN    NaN    NaN    NaN    NaN    NaN    NaN    NaN    NaN   \n",
      "652        NaN    NaN    NaN    NaN    NaN    NaN    NaN    NaN    NaN    NaN   \n",
      "653        4.0    NaN    NaN    NaN    NaN    NaN    NaN    NaN    NaN    NaN   \n",
      "654        5.0    3.0    NaN    NaN    4.0    NaN    NaN    NaN    NaN    4.0   \n",
      "655        NaN    4.0    NaN    NaN    NaN    NaN    NaN    NaN    NaN    NaN   \n",
      "656        NaN    NaN    NaN    NaN    NaN    NaN    NaN    NaN    NaN    NaN   \n",
      "657        NaN    NaN    NaN    NaN    NaN    NaN    NaN    NaN    NaN    NaN   \n",
      "658        NaN    NaN    NaN    NaN    NaN    NaN    NaN    NaN    NaN    NaN   \n",
      "659        NaN    NaN    NaN    NaN    NaN    3.0    NaN    NaN    NaN    NaN   \n",
      "660        2.5    NaN    NaN    NaN    NaN    NaN    NaN    NaN    NaN    NaN   \n",
      "661        NaN    NaN    NaN    NaN    NaN    NaN    NaN    NaN    NaN    NaN   \n",
      "662        NaN    5.0    NaN    NaN    NaN    NaN    NaN    NaN    NaN    3.0   \n",
      "663        4.0    NaN    NaN    NaN    NaN    NaN    NaN    NaN    NaN    NaN   \n",
      "664        3.5    NaN    NaN    NaN    NaN    4.0    NaN    NaN    NaN    NaN   \n",
      "665        NaN    3.0    3.0    NaN    3.0    NaN    NaN    NaN    NaN    NaN   \n",
      "666        NaN    NaN    NaN    NaN    NaN    5.0    NaN    NaN    NaN    3.0   \n",
      "667        NaN    NaN    NaN    NaN    NaN    4.0    NaN    NaN    NaN    NaN   \n",
      "668        NaN    NaN    NaN    NaN    NaN    NaN    NaN    NaN    NaN    NaN   \n",
      "669        NaN    NaN    NaN    NaN    NaN    NaN    NaN    NaN    NaN    NaN   \n",
      "670        4.0    NaN    NaN    NaN    NaN    NaN    NaN    NaN    NaN    NaN   \n",
      "671        5.0    NaN    NaN    NaN    NaN    NaN    NaN    NaN    NaN    NaN   \n",
      "\n",
      "         ...                                                                   \\\n",
      "movieId  ...   161084 161155 161594 161830 161918 161944 162376 162542 162672   \n",
      "userId   ...                                                                    \n",
      "1        ...      NaN    NaN    NaN    NaN    NaN    NaN    NaN    NaN    NaN   \n",
      "2        ...      NaN    NaN    NaN    NaN    NaN    NaN    NaN    NaN    NaN   \n",
      "3        ...      NaN    NaN    NaN    NaN    NaN    NaN    NaN    NaN    NaN   \n",
      "4        ...      NaN    NaN    NaN    NaN    NaN    NaN    NaN    NaN    NaN   \n",
      "5        ...      NaN    NaN    NaN    NaN    NaN    NaN    NaN    NaN    NaN   \n",
      "6        ...      NaN    NaN    NaN    NaN    NaN    NaN    NaN    NaN    NaN   \n",
      "7        ...      NaN    NaN    NaN    NaN    NaN    NaN    NaN    NaN    NaN   \n",
      "8        ...      NaN    NaN    NaN    NaN    NaN    NaN    NaN    NaN    NaN   \n",
      "9        ...      NaN    NaN    NaN    NaN    NaN    NaN    NaN    NaN    NaN   \n",
      "10       ...      NaN    NaN    NaN    NaN    NaN    NaN    NaN    NaN    NaN   \n",
      "11       ...      NaN    NaN    NaN    NaN    NaN    NaN    NaN    NaN    NaN   \n",
      "12       ...      NaN    NaN    NaN    NaN    NaN    NaN    NaN    NaN    NaN   \n",
      "13       ...      NaN    NaN    NaN    NaN    NaN    NaN    NaN    NaN    NaN   \n",
      "14       ...      NaN    NaN    NaN    NaN    NaN    NaN    NaN    NaN    NaN   \n",
      "15       ...      NaN    0.5    NaN    NaN    NaN    NaN    NaN    NaN    NaN   \n",
      "16       ...      NaN    NaN    NaN    NaN    NaN    NaN    NaN    NaN    NaN   \n",
      "17       ...      NaN    NaN    NaN    NaN    NaN    NaN    NaN    NaN    NaN   \n",
      "18       ...      NaN    NaN    NaN    NaN    NaN    NaN    NaN    NaN    NaN   \n",
      "19       ...      NaN    NaN    NaN    NaN    NaN    NaN    NaN    NaN    NaN   \n",
      "20       ...      NaN    NaN    NaN    NaN    NaN    NaN    NaN    NaN    NaN   \n",
      "21       ...      NaN    NaN    NaN    NaN    NaN    NaN    NaN    NaN    NaN   \n",
      "22       ...      NaN    NaN    NaN    NaN    NaN    NaN    NaN    NaN    NaN   \n",
      "23       ...      NaN    NaN    NaN    NaN    NaN    NaN    NaN    NaN    NaN   \n",
      "24       ...      NaN    NaN    NaN    NaN    NaN    NaN    NaN    NaN    NaN   \n",
      "25       ...      NaN    NaN    NaN    NaN    NaN    NaN    NaN    NaN    NaN   \n",
      "26       ...      NaN    NaN    NaN    NaN    NaN    NaN    NaN    NaN    NaN   \n",
      "27       ...      NaN    NaN    NaN    NaN    NaN    NaN    NaN    NaN    NaN   \n",
      "28       ...      NaN    NaN    NaN    NaN    NaN    NaN    NaN    NaN    NaN   \n",
      "29       ...      NaN    NaN    NaN    NaN    NaN    NaN    NaN    NaN    NaN   \n",
      "30       ...      NaN    NaN    NaN    NaN    NaN    NaN    NaN    NaN    NaN   \n",
      "...      ...      ...    ...    ...    ...    ...    ...    ...    ...    ...   \n",
      "642      ...      NaN    NaN    NaN    NaN    NaN    NaN    NaN    NaN    NaN   \n",
      "643      ...      NaN    NaN    NaN    NaN    NaN    NaN    NaN    NaN    NaN   \n",
      "644      ...      NaN    NaN    NaN    NaN    NaN    NaN    NaN    NaN    NaN   \n",
      "645      ...      NaN    NaN    NaN    NaN    NaN    NaN    NaN    NaN    NaN   \n",
      "646      ...      NaN    NaN    NaN    NaN    NaN    NaN    NaN    NaN    NaN   \n",
      "647      ...      NaN    NaN    NaN    NaN    NaN    NaN    NaN    NaN    NaN   \n",
      "648      ...      NaN    NaN    NaN    NaN    NaN    NaN    NaN    NaN    NaN   \n",
      "649      ...      NaN    NaN    NaN    NaN    NaN    NaN    NaN    NaN    NaN   \n",
      "650      ...      NaN    NaN    NaN    NaN    NaN    NaN    NaN    NaN    NaN   \n",
      "651      ...      NaN    NaN    NaN    NaN    NaN    NaN    NaN    NaN    NaN   \n",
      "652      ...      NaN    NaN    NaN    NaN    NaN    NaN    NaN    NaN    NaN   \n",
      "653      ...      NaN    NaN    NaN    NaN    NaN    NaN    NaN    NaN    NaN   \n",
      "654      ...      NaN    NaN    NaN    NaN    NaN    NaN    NaN    NaN    NaN   \n",
      "655      ...      NaN    NaN    NaN    NaN    NaN    NaN    NaN    NaN    NaN   \n",
      "656      ...      NaN    NaN    NaN    NaN    NaN    NaN    NaN    NaN    NaN   \n",
      "657      ...      NaN    NaN    NaN    NaN    NaN    NaN    NaN    NaN    NaN   \n",
      "658      ...      NaN    NaN    NaN    NaN    NaN    NaN    NaN    NaN    NaN   \n",
      "659      ...      NaN    NaN    NaN    NaN    NaN    NaN    NaN    NaN    NaN   \n",
      "660      ...      NaN    NaN    NaN    NaN    NaN    NaN    NaN    NaN    NaN   \n",
      "661      ...      NaN    NaN    NaN    NaN    NaN    NaN    NaN    NaN    NaN   \n",
      "662      ...      NaN    NaN    NaN    NaN    NaN    NaN    NaN    NaN    NaN   \n",
      "663      ...      NaN    NaN    NaN    NaN    NaN    NaN    NaN    NaN    NaN   \n",
      "664      ...      NaN    NaN    NaN    NaN    NaN    NaN    NaN    NaN    NaN   \n",
      "665      ...      NaN    NaN    NaN    NaN    NaN    NaN    NaN    NaN    NaN   \n",
      "666      ...      NaN    NaN    NaN    NaN    NaN    NaN    NaN    NaN    NaN   \n",
      "667      ...      NaN    NaN    NaN    NaN    NaN    NaN    NaN    NaN    NaN   \n",
      "668      ...      NaN    NaN    NaN    NaN    NaN    NaN    NaN    NaN    NaN   \n",
      "669      ...      NaN    NaN    NaN    NaN    NaN    NaN    NaN    NaN    NaN   \n",
      "670      ...      NaN    NaN    NaN    NaN    NaN    NaN    NaN    NaN    NaN   \n",
      "671      ...      NaN    NaN    NaN    NaN    NaN    NaN    NaN    NaN    NaN   \n",
      "\n",
      "                \n",
      "movieId 163949  \n",
      "userId          \n",
      "1          NaN  \n",
      "2          NaN  \n",
      "3          NaN  \n",
      "4          NaN  \n",
      "5          NaN  \n",
      "6          NaN  \n",
      "7          NaN  \n",
      "8          NaN  \n",
      "9          NaN  \n",
      "10         NaN  \n",
      "11         NaN  \n",
      "12         NaN  \n",
      "13         NaN  \n",
      "14         NaN  \n",
      "15         NaN  \n",
      "16         NaN  \n",
      "17         NaN  \n",
      "18         NaN  \n",
      "19         NaN  \n",
      "20         NaN  \n",
      "21         NaN  \n",
      "22         NaN  \n",
      "23         NaN  \n",
      "24         NaN  \n",
      "25         NaN  \n",
      "26         NaN  \n",
      "27         NaN  \n",
      "28         NaN  \n",
      "29         NaN  \n",
      "30         NaN  \n",
      "...        ...  \n",
      "642        NaN  \n",
      "643        NaN  \n",
      "644        NaN  \n",
      "645        NaN  \n",
      "646        NaN  \n",
      "647        NaN  \n",
      "648        NaN  \n",
      "649        NaN  \n",
      "650        NaN  \n",
      "651        NaN  \n",
      "652        NaN  \n",
      "653        NaN  \n",
      "654        NaN  \n",
      "655        NaN  \n",
      "656        NaN  \n",
      "657        NaN  \n",
      "658        NaN  \n",
      "659        NaN  \n",
      "660        NaN  \n",
      "661        NaN  \n",
      "662        NaN  \n",
      "663        NaN  \n",
      "664        NaN  \n",
      "665        NaN  \n",
      "666        NaN  \n",
      "667        NaN  \n",
      "668        NaN  \n",
      "669        NaN  \n",
      "670        NaN  \n",
      "671        NaN  \n",
      "\n",
      "[671 rows x 9066 columns]\n"
     ]
    }
   ],
   "source": [
    "rating_matrix = pd.pivot_table(ratings, index='userId', columns='movieId', aggfunc=np.max)\n",
    "print(rating_matrix)"
   ]
  },
  {
   "cell_type": "code",
   "execution_count": 52,
   "metadata": {},
   "outputs": [
    {
     "name": "stdout",
     "output_type": "stream",
     "text": [
      "        rating                                                                 \\\n",
      "movieId 1      2      3      4      5      6      7      8      9      10       \n",
      "userId                                                                          \n",
      "1          0.0    0.0    0.0    0.0    0.0    0.0    0.0    0.0    0.0    0.0   \n",
      "2          0.0    0.0    0.0    0.0    0.0    0.0    0.0    0.0    0.0    4.0   \n",
      "3          0.0    0.0    0.0    0.0    0.0    0.0    0.0    0.0    0.0    0.0   \n",
      "4          0.0    0.0    0.0    0.0    0.0    0.0    0.0    0.0    0.0    4.0   \n",
      "5          0.0    0.0    4.0    0.0    0.0    0.0    0.0    0.0    0.0    0.0   \n",
      "6          0.0    0.0    0.0    0.0    0.0    0.0    0.0    0.0    0.0    0.0   \n",
      "7          3.0    0.0    0.0    0.0    0.0    0.0    0.0    0.0    0.0    3.0   \n",
      "8          0.0    0.0    0.0    0.0    0.0    0.0    0.0    0.0    0.0    0.0   \n",
      "9          4.0    0.0    0.0    0.0    0.0    0.0    0.0    0.0    0.0    0.0   \n",
      "10         0.0    0.0    0.0    0.0    0.0    0.0    0.0    0.0    0.0    0.0   \n",
      "11         0.0    0.0    0.0    0.0    0.0    0.0    0.0    0.0    0.0    0.0   \n",
      "12         0.0    0.0    0.0    0.0    0.0    0.0    0.0    0.0    0.0    0.0   \n",
      "13         5.0    0.0    0.0    0.0    0.0    0.0    0.0    0.0    0.0    0.0   \n",
      "14         0.0    0.0    0.0    0.0    0.0    0.0    0.0    0.0    0.0    0.0   \n",
      "15         2.0    2.0    0.0    0.0    4.5    4.0    0.0    0.0    0.0    3.0   \n",
      "16         0.0    0.0    0.0    0.0    0.0    0.0    0.0    0.0    0.0    0.0   \n",
      "17         0.0    0.0    0.0    0.0    0.0    4.5    0.0    0.0    0.0    0.0   \n",
      "18         0.0    0.0    0.0    0.0    3.0    4.0    3.0    0.0    3.0    0.0   \n",
      "19         3.0    3.0    3.0    3.0    0.0    3.0    3.0    0.0    3.0    3.0   \n",
      "20         3.5    0.0    0.0    0.0    0.0    0.0    0.0    0.0    0.0    0.0   \n",
      "21         0.0    0.0    0.0    0.0    0.0    0.0    0.0    0.0    0.0    3.0   \n",
      "22         0.0    0.0    0.0    0.0    0.0    0.0    0.0    0.0    0.0    0.0   \n",
      "23         3.0    0.0    0.0    0.0    0.0    3.5    0.0    0.0    0.0    0.0   \n",
      "24         0.0    0.0    0.0    0.0    0.0    5.0    0.0    0.0    0.0    0.0   \n",
      "25         0.0    0.0    3.0    0.0    0.0    0.0    0.0    0.0    0.0    0.0   \n",
      "26         5.0    0.0    0.0    0.0    0.0    0.0    0.0    0.0    0.0    0.0   \n",
      "27         0.0    0.0    0.0    0.0    0.0    0.0    0.0    0.0    0.0    0.0   \n",
      "28         0.0    0.0    0.0    0.0    0.0    0.0    0.0    0.0    0.0    0.0   \n",
      "29         0.0    0.0    0.0    0.0    0.0    0.0    0.0    0.0    0.0    0.0   \n",
      "30         4.0    2.0    0.0    0.0    0.0    4.0    0.0    4.0    0.0    0.0   \n",
      "...        ...    ...    ...    ...    ...    ...    ...    ...    ...    ...   \n",
      "642        0.0    0.0    0.0    0.0    0.0    0.0    0.0    0.0    0.0    0.0   \n",
      "643        0.0    0.0    0.0    0.0    0.0    0.0    0.0    0.0    0.0    0.0   \n",
      "644        0.0    0.0    0.0    1.0    0.0    0.0    0.0    0.0    0.0    0.0   \n",
      "645        0.0    0.0    0.0    0.0    0.0    0.0    0.0    0.0    0.0    0.0   \n",
      "646        5.0    0.0    5.0    0.0    0.0    0.0    0.0    0.0    0.0    0.0   \n",
      "647        4.0    0.0    0.0    0.0    0.0    4.0    0.0    0.0    0.0    0.0   \n",
      "648        0.0    0.0    0.0    0.0    0.0    4.0    0.0    0.0    0.0    0.0   \n",
      "649        4.0    0.0    0.0    3.0    0.0    0.0    0.0    0.0    0.0    5.0   \n",
      "650        0.0    0.0    3.0    1.0    3.0    0.0    0.0    0.0    0.0    4.0   \n",
      "651        0.0    0.0    0.0    0.0    0.0    0.0    0.0    0.0    0.0    0.0   \n",
      "652        0.0    0.0    0.0    0.0    0.0    0.0    0.0    0.0    0.0    0.0   \n",
      "653        4.0    0.0    0.0    0.0    0.0    0.0    0.0    0.0    0.0    0.0   \n",
      "654        5.0    3.0    0.0    0.0    4.0    0.0    0.0    0.0    0.0    4.0   \n",
      "655        0.0    4.0    0.0    0.0    0.0    0.0    0.0    0.0    0.0    0.0   \n",
      "656        0.0    0.0    0.0    0.0    0.0    0.0    0.0    0.0    0.0    0.0   \n",
      "657        0.0    0.0    0.0    0.0    0.0    0.0    0.0    0.0    0.0    0.0   \n",
      "658        0.0    0.0    0.0    0.0    0.0    0.0    0.0    0.0    0.0    0.0   \n",
      "659        0.0    0.0    0.0    0.0    0.0    3.0    0.0    0.0    0.0    0.0   \n",
      "660        2.5    0.0    0.0    0.0    0.0    0.0    0.0    0.0    0.0    0.0   \n",
      "661        0.0    0.0    0.0    0.0    0.0    0.0    0.0    0.0    0.0    0.0   \n",
      "662        0.0    5.0    0.0    0.0    0.0    0.0    0.0    0.0    0.0    3.0   \n",
      "663        4.0    0.0    0.0    0.0    0.0    0.0    0.0    0.0    0.0    0.0   \n",
      "664        3.5    0.0    0.0    0.0    0.0    4.0    0.0    0.0    0.0    0.0   \n",
      "665        0.0    3.0    3.0    0.0    3.0    0.0    0.0    0.0    0.0    0.0   \n",
      "666        0.0    0.0    0.0    0.0    0.0    5.0    0.0    0.0    0.0    3.0   \n",
      "667        0.0    0.0    0.0    0.0    0.0    4.0    0.0    0.0    0.0    0.0   \n",
      "668        0.0    0.0    0.0    0.0    0.0    0.0    0.0    0.0    0.0    0.0   \n",
      "669        0.0    0.0    0.0    0.0    0.0    0.0    0.0    0.0    0.0    0.0   \n",
      "670        4.0    0.0    0.0    0.0    0.0    0.0    0.0    0.0    0.0    0.0   \n",
      "671        5.0    0.0    0.0    0.0    0.0    0.0    0.0    0.0    0.0    0.0   \n",
      "\n",
      "         ...                                                                   \\\n",
      "movieId  ...   161084 161155 161594 161830 161918 161944 162376 162542 162672   \n",
      "userId   ...                                                                    \n",
      "1        ...      0.0    0.0    0.0    0.0    0.0    0.0    0.0    0.0    0.0   \n",
      "2        ...      0.0    0.0    0.0    0.0    0.0    0.0    0.0    0.0    0.0   \n",
      "3        ...      0.0    0.0    0.0    0.0    0.0    0.0    0.0    0.0    0.0   \n",
      "4        ...      0.0    0.0    0.0    0.0    0.0    0.0    0.0    0.0    0.0   \n",
      "5        ...      0.0    0.0    0.0    0.0    0.0    0.0    0.0    0.0    0.0   \n",
      "6        ...      0.0    0.0    0.0    0.0    0.0    0.0    0.0    0.0    0.0   \n",
      "7        ...      0.0    0.0    0.0    0.0    0.0    0.0    0.0    0.0    0.0   \n",
      "8        ...      0.0    0.0    0.0    0.0    0.0    0.0    0.0    0.0    0.0   \n",
      "9        ...      0.0    0.0    0.0    0.0    0.0    0.0    0.0    0.0    0.0   \n",
      "10       ...      0.0    0.0    0.0    0.0    0.0    0.0    0.0    0.0    0.0   \n",
      "11       ...      0.0    0.0    0.0    0.0    0.0    0.0    0.0    0.0    0.0   \n",
      "12       ...      0.0    0.0    0.0    0.0    0.0    0.0    0.0    0.0    0.0   \n",
      "13       ...      0.0    0.0    0.0    0.0    0.0    0.0    0.0    0.0    0.0   \n",
      "14       ...      0.0    0.0    0.0    0.0    0.0    0.0    0.0    0.0    0.0   \n",
      "15       ...      0.0    0.5    0.0    0.0    0.0    0.0    0.0    0.0    0.0   \n",
      "16       ...      0.0    0.0    0.0    0.0    0.0    0.0    0.0    0.0    0.0   \n",
      "17       ...      0.0    0.0    0.0    0.0    0.0    0.0    0.0    0.0    0.0   \n",
      "18       ...      0.0    0.0    0.0    0.0    0.0    0.0    0.0    0.0    0.0   \n",
      "19       ...      0.0    0.0    0.0    0.0    0.0    0.0    0.0    0.0    0.0   \n",
      "20       ...      0.0    0.0    0.0    0.0    0.0    0.0    0.0    0.0    0.0   \n",
      "21       ...      0.0    0.0    0.0    0.0    0.0    0.0    0.0    0.0    0.0   \n",
      "22       ...      0.0    0.0    0.0    0.0    0.0    0.0    0.0    0.0    0.0   \n",
      "23       ...      0.0    0.0    0.0    0.0    0.0    0.0    0.0    0.0    0.0   \n",
      "24       ...      0.0    0.0    0.0    0.0    0.0    0.0    0.0    0.0    0.0   \n",
      "25       ...      0.0    0.0    0.0    0.0    0.0    0.0    0.0    0.0    0.0   \n",
      "26       ...      0.0    0.0    0.0    0.0    0.0    0.0    0.0    0.0    0.0   \n",
      "27       ...      0.0    0.0    0.0    0.0    0.0    0.0    0.0    0.0    0.0   \n",
      "28       ...      0.0    0.0    0.0    0.0    0.0    0.0    0.0    0.0    0.0   \n",
      "29       ...      0.0    0.0    0.0    0.0    0.0    0.0    0.0    0.0    0.0   \n",
      "30       ...      0.0    0.0    0.0    0.0    0.0    0.0    0.0    0.0    0.0   \n",
      "...      ...      ...    ...    ...    ...    ...    ...    ...    ...    ...   \n",
      "642      ...      0.0    0.0    0.0    0.0    0.0    0.0    0.0    0.0    0.0   \n",
      "643      ...      0.0    0.0    0.0    0.0    0.0    0.0    0.0    0.0    0.0   \n",
      "644      ...      0.0    0.0    0.0    0.0    0.0    0.0    0.0    0.0    0.0   \n",
      "645      ...      0.0    0.0    0.0    0.0    0.0    0.0    0.0    0.0    0.0   \n",
      "646      ...      0.0    0.0    0.0    0.0    0.0    0.0    0.0    0.0    0.0   \n",
      "647      ...      0.0    0.0    0.0    0.0    0.0    0.0    0.0    0.0    0.0   \n",
      "648      ...      0.0    0.0    0.0    0.0    0.0    0.0    0.0    0.0    0.0   \n",
      "649      ...      0.0    0.0    0.0    0.0    0.0    0.0    0.0    0.0    0.0   \n",
      "650      ...      0.0    0.0    0.0    0.0    0.0    0.0    0.0    0.0    0.0   \n",
      "651      ...      0.0    0.0    0.0    0.0    0.0    0.0    0.0    0.0    0.0   \n",
      "652      ...      0.0    0.0    0.0    0.0    0.0    0.0    0.0    0.0    0.0   \n",
      "653      ...      0.0    0.0    0.0    0.0    0.0    0.0    0.0    0.0    0.0   \n",
      "654      ...      0.0    0.0    0.0    0.0    0.0    0.0    0.0    0.0    0.0   \n",
      "655      ...      0.0    0.0    0.0    0.0    0.0    0.0    0.0    0.0    0.0   \n",
      "656      ...      0.0    0.0    0.0    0.0    0.0    0.0    0.0    0.0    0.0   \n",
      "657      ...      0.0    0.0    0.0    0.0    0.0    0.0    0.0    0.0    0.0   \n",
      "658      ...      0.0    0.0    0.0    0.0    0.0    0.0    0.0    0.0    0.0   \n",
      "659      ...      0.0    0.0    0.0    0.0    0.0    0.0    0.0    0.0    0.0   \n",
      "660      ...      0.0    0.0    0.0    0.0    0.0    0.0    0.0    0.0    0.0   \n",
      "661      ...      0.0    0.0    0.0    0.0    0.0    0.0    0.0    0.0    0.0   \n",
      "662      ...      0.0    0.0    0.0    0.0    0.0    0.0    0.0    0.0    0.0   \n",
      "663      ...      0.0    0.0    0.0    0.0    0.0    0.0    0.0    0.0    0.0   \n",
      "664      ...      0.0    0.0    0.0    0.0    0.0    0.0    0.0    0.0    0.0   \n",
      "665      ...      0.0    0.0    0.0    0.0    0.0    0.0    0.0    0.0    0.0   \n",
      "666      ...      0.0    0.0    0.0    0.0    0.0    0.0    0.0    0.0    0.0   \n",
      "667      ...      0.0    0.0    0.0    0.0    0.0    0.0    0.0    0.0    0.0   \n",
      "668      ...      0.0    0.0    0.0    0.0    0.0    0.0    0.0    0.0    0.0   \n",
      "669      ...      0.0    0.0    0.0    0.0    0.0    0.0    0.0    0.0    0.0   \n",
      "670      ...      0.0    0.0    0.0    0.0    0.0    0.0    0.0    0.0    0.0   \n",
      "671      ...      0.0    0.0    0.0    0.0    0.0    0.0    0.0    0.0    0.0   \n",
      "\n",
      "                \n",
      "movieId 163949  \n",
      "userId          \n",
      "1          0.0  \n",
      "2          0.0  \n",
      "3          0.0  \n",
      "4          0.0  \n",
      "5          0.0  \n",
      "6          0.0  \n",
      "7          0.0  \n",
      "8          0.0  \n",
      "9          0.0  \n",
      "10         0.0  \n",
      "11         0.0  \n",
      "12         0.0  \n",
      "13         0.0  \n",
      "14         0.0  \n",
      "15         0.0  \n",
      "16         0.0  \n",
      "17         0.0  \n",
      "18         0.0  \n",
      "19         0.0  \n",
      "20         0.0  \n",
      "21         0.0  \n",
      "22         0.0  \n",
      "23         0.0  \n",
      "24         0.0  \n",
      "25         0.0  \n",
      "26         0.0  \n",
      "27         0.0  \n",
      "28         0.0  \n",
      "29         0.0  \n",
      "30         0.0  \n",
      "...        ...  \n",
      "642        0.0  \n",
      "643        0.0  \n",
      "644        0.0  \n",
      "645        0.0  \n",
      "646        0.0  \n",
      "647        0.0  \n",
      "648        0.0  \n",
      "649        0.0  \n",
      "650        0.0  \n",
      "651        0.0  \n",
      "652        0.0  \n",
      "653        0.0  \n",
      "654        0.0  \n",
      "655        0.0  \n",
      "656        0.0  \n",
      "657        0.0  \n",
      "658        0.0  \n",
      "659        0.0  \n",
      "660        0.0  \n",
      "661        0.0  \n",
      "662        0.0  \n",
      "663        0.0  \n",
      "664        0.0  \n",
      "665        0.0  \n",
      "666        0.0  \n",
      "667        0.0  \n",
      "668        0.0  \n",
      "669        0.0  \n",
      "670        0.0  \n",
      "671        0.0  \n",
      "\n",
      "[671 rows x 9066 columns]\n"
     ]
    }
   ],
   "source": [
    "rating_matrix = rating_matrix.fillna(0)\n",
    "print(rating_matrix)"
   ]
  },
  {
   "cell_type": "code",
   "execution_count": 53,
   "metadata": {},
   "outputs": [],
   "source": [
    "val = rating_matrix.values"
   ]
  },
  {
   "cell_type": "code",
   "execution_count": 70,
   "metadata": {},
   "outputs": [
    {
     "data": {
      "text/plain": [
       "array([[0., 0., 0., ..., 0., 0., 0.],\n",
       "       [0., 0., 0., ..., 0., 0., 0.],\n",
       "       [0., 0., 0., ..., 0., 0., 0.],\n",
       "       ...,\n",
       "       [0., 0., 0., ..., 0., 0., 0.],\n",
       "       [4., 0., 0., ..., 0., 0., 0.],\n",
       "       [5., 0., 0., ..., 0., 0., 0.]])"
      ]
     },
     "execution_count": 70,
     "metadata": {},
     "output_type": "execute_result"
    }
   ],
   "source": [
    "val"
   ]
  },
  {
   "cell_type": "code",
   "execution_count": 58,
   "metadata": {},
   "outputs": [],
   "source": [
    "mf_mov = MF(val, alpha=4e-2, beta=0.01, iterations=100, K=100)"
   ]
  },
  {
   "cell_type": "code",
   "execution_count": 59,
   "metadata": {},
   "outputs": [
    {
     "name": "stdout",
     "output_type": "stream",
     "text": [
      "Iteration: 5 ; error = 207.7326\n",
      "Iteration: 10 ; error = 88.1411\n",
      "Iteration: 15 ; error = 46.0312\n",
      "Iteration: 20 ; error = 32.6304\n",
      "Iteration: 25 ; error = 27.4857\n",
      "Iteration: 30 ; error = 25.1592\n",
      "Iteration: 35 ; error = 23.7668\n",
      "Iteration: 40 ; error = 22.8641\n",
      "Iteration: 45 ; error = 22.3812\n",
      "Iteration: 50 ; error = 22.0024\n",
      "Iteration: 55 ; error = 21.6841\n",
      "Iteration: 60 ; error = 21.4917\n",
      "Iteration: 65 ; error = 21.4006\n",
      "Iteration: 70 ; error = 21.3708\n",
      "Iteration: 75 ; error = 21.3523\n",
      "Iteration: 80 ; error = 21.0373\n",
      "Iteration: 85 ; error = 20.9891\n",
      "Iteration: 90 ; error = 20.8033\n",
      "Iteration: 95 ; error = 20.9830\n",
      "Iteration: 100 ; error = 20.7785\n"
     ]
    },
    {
     "data": {
      "text/plain": [
       "[(0, 277.6318659911771),\n",
       " (1, 271.3156167359525),\n",
       " (2, 261.43863219059233),\n",
       " (3, 237.07103176494036),\n",
       " (4, 207.73257367290512),\n",
       " (5, 176.55231789812768),\n",
       " (6, 147.73678363723113),\n",
       " (7, 123.4368189904618),\n",
       " (8, 103.87147372680693),\n",
       " (9, 88.14114462483792),\n",
       " (10, 75.28959652607352),\n",
       " (11, 65.07724835241939),\n",
       " (12, 57.25916542198527),\n",
       " (13, 50.98793848023142),\n",
       " (14, 46.031239621363135),\n",
       " (15, 42.07378407787356),\n",
       " (16, 38.937620904337315),\n",
       " (17, 36.2833112762999),\n",
       " (18, 34.273423449914425),\n",
       " (19, 32.630447570751286),\n",
       " (20, 31.19086621731559),\n",
       " (21, 30.031742619957747),\n",
       " (22, 28.78541721335637),\n",
       " (23, 28.267932853168983),\n",
       " (24, 27.485715791915567),\n",
       " (25, 26.704947771782223),\n",
       " (26, 26.212847878561853),\n",
       " (27, 25.766008579549737),\n",
       " (28, 25.431729014943325),\n",
       " (29, 25.15919203750533),\n",
       " (30, 24.696148234619184),\n",
       " (31, 24.40497025251913),\n",
       " (32, 24.21181570015714),\n",
       " (33, 24.055558820483068),\n",
       " (34, 23.766835124310283),\n",
       " (35, 23.447053144528038),\n",
       " (36, 23.26152195589317),\n",
       " (37, 23.119516513197855),\n",
       " (38, 23.04640716712492),\n",
       " (39, 22.864145031713864),\n",
       " (40, 22.774209289160034),\n",
       " (41, 22.663533292533078),\n",
       " (42, 22.760315550348288),\n",
       " (43, 22.489034986258016),\n",
       " (44, 22.381243744941344),\n",
       " (45, 22.423250126445115),\n",
       " (46, 22.132661150407706),\n",
       " (47, 22.220094103710583),\n",
       " (48, 22.009354832777305),\n",
       " (49, 22.002416238018267),\n",
       " (50, 22.08076999982128),\n",
       " (51, 21.803444955071093),\n",
       " (52, 22.155203611074178),\n",
       " (53, 21.719792761988128),\n",
       " (54, 21.68409327781131),\n",
       " (55, 21.716959094671946),\n",
       " (56, 21.79519534175638),\n",
       " (57, 21.573425442334983),\n",
       " (58, 21.545868420612887),\n",
       " (59, 21.491714222971833),\n",
       " (60, 21.563742423409234),\n",
       " (61, 21.543285086024397),\n",
       " (62, 21.580376274903468),\n",
       " (63, 21.41694624182672),\n",
       " (64, 21.40058369677906),\n",
       " (65, 21.429792810087452),\n",
       " (66, 21.46702775097259),\n",
       " (67, 21.393178660548358),\n",
       " (68, 21.426992622528207),\n",
       " (69, 21.37076285725964),\n",
       " (70, 21.37506127643382),\n",
       " (71, 21.33805303088807),\n",
       " (72, 21.30735384313343),\n",
       " (73, 21.186322419596156),\n",
       " (74, 21.35233457351801),\n",
       " (75, 21.051000544433144),\n",
       " (76, 21.255939227601196),\n",
       " (77, 21.03076589003638),\n",
       " (78, 21.051312130610057),\n",
       " (79, 21.037311347690583),\n",
       " (80, 21.018487071381305),\n",
       " (81, 21.024367895802335),\n",
       " (82, 20.886966359634936),\n",
       " (83, 21.018197437130244),\n",
       " (84, 20.989123300789647),\n",
       " (85, 20.83776547653055),\n",
       " (86, 20.975913514708235),\n",
       " (87, 21.0295659047948),\n",
       " (88, 20.941326004049877),\n",
       " (89, 20.80331187363007),\n",
       " (90, 20.782406536241336),\n",
       " (91, 20.89767030634987),\n",
       " (92, 20.78682888770969),\n",
       " (93, 20.928110356667244),\n",
       " (94, 20.983041336039534),\n",
       " (95, 20.736312842383832),\n",
       " (96, 20.713202292376376),\n",
       " (97, 20.962877445863306),\n",
       " (98, 20.860113688697027),\n",
       " (99, 20.778480786020403)]"
      ]
     },
     "execution_count": 59,
     "metadata": {},
     "output_type": "execute_result"
    }
   ],
   "source": [
    "mf_mov.train()"
   ]
  },
  {
   "cell_type": "code",
   "execution_count": 71,
   "metadata": {},
   "outputs": [
    {
     "name": "stdout",
     "output_type": "stream",
     "text": [
      "4.92   Godfather, The (1972) Crime|Drama\n",
      "5.07   Down with Love (2003) Comedy|Romance\n",
      "4.9   Trailer Park Boys: Live at the North Pole (2014) Comedy\n"
     ]
    }
   ],
   "source": [
    "last_user = mf_mov.full_matrix()[-1]\n",
    "df_highly_rec = pd.DataFrame()\n",
    "r_user = val[-1]\n",
    "num = len(r_user)\n",
    "for i in range(num):\n",
    "    if r_user[i]==0 and last_user[i]>=4.9:\n",
    "        df_highly_rec = movies.iloc[i]\n",
    "        print(round(last_user[i], 2), \" \", df_highly_rec['title'], df_highly_rec['genres'])"
   ]
  },
  {
   "cell_type": "markdown",
   "metadata": {
    "colab_type": "text",
    "id": "sllLGWze5UAM"
   },
   "source": [
    "\n",
    "\n",
    "## <font color=\"#b51555\">Exercise 1.6\n",
    " In the example above, we  used a dummy matrix of users and their movie ratings. Yout task now is to use a real-world dataset called MovieLens. It is a dataset containing 100,003 ratings from 671 users for  9066 movies.\n",
    "\n",
    " Here is the URL for *movies.csv* file containing movie names and associated movieIds:\n",
    "  \n",
    "  https://github.com/alexvlis/movie-recommendation-system/blob/master/data/movies.csv\n",
    "  \n",
    " Here is the URL for *ratings.csv* file containing userId, movieId, rating, and timestamp information:\n",
    "  \n",
    "  https://github.com/alexvlis/movie-recommendation-system/blob/master/data/ratings.csv\n",
    "  \n",
    "Your job is to read the ratings.csv file and somehow convert it to the same format as the rating matrix R above, i.e., a matrix of userIds (in rows) and movieIDs (in columns). Replace any missing movie rating with a 0.\n",
    "  \n",
    "Then train MF on this R matrix. Use alpha=0.04, beta=0.01, iterations=100, and number of latent factors K = 100.\n",
    "  \n",
    "Now tell us a list of **movie names** that you would highly recommend to user 671. These should be the movies that the user 671 hasn't rated. You should highly recommend only those movies to the user that s(he) would rate 4.9 or higher. Can you say something about the movie prefrences of the user 671 in terms of genre of the movies that s(he) is particularly into? \n",
    "  \n",
    "Hints:\n",
    " 1. Use pandas to read the ratings.csv file as a dataframe\n",
    " 2. Remove the timestamp column from the dataframe\n",
    " 3. Use pivot_table command in pandas to convert the dataframe into a rating matrix (userId as rows, columns as movieId as columns, and ratings as values )\n",
    " 4. Convert pandas dataframe to numpy array and use MF class on it to get matrix factorization-based estimation of R. This estimated matrix will have missing ratings filled with estimated values, which is what we want.  Use alpha=0.04, beta=0.01, iterations=100, and number of latent factors K = 100 during training.\n",
    " 5. Extract 671th row form the original ratings matrix (R) and the estimated ratings matrix (R_hat), and then use some programming logic to find the movieIds that wern't rated by this user, but are now predicted with a estimated rating of 4.9 or above. These are the highly recommended movieIds.\n",
    " 6. Read movies.csv file in pandas and now find the names and genres of the movies corresponding to the movieIds  you found in the previous step. This will give you the name of the movies that you should be recommending to user, and would also tell you something about the kind of movies s(he) is into.\n",
    "\n",
    "It is not as easy as it sounds, but give it a try; it is a good learning exercise. Google and stackoverflow are your friends for numpy and pandas data manipulation related questions.\n",
    "  \n",
    "<font>\n",
    "\n",
    "---"
   ]
  },
  {
   "cell_type": "markdown",
   "metadata": {
    "colab_type": "text",
    "id": "142MH-5Nn5KX"
   },
   "source": [
    "\n",
    "\n",
    "---\n",
    "\n",
    "\n",
    "## Sources and Attributions:\n",
    "1. Python Data Science Handbook by Jake VanderPlas\n",
    "2. Python Machine Learning by Sebastian Raschka\n",
    "3. Sklearn documentation\n",
    "4. Notes on machine learning and A.I. by Albert Au Yeung\n",
    "\n",
    "---\n",
    "\n"
   ]
  }
 ],
 "metadata": {
  "colab": {
   "collapsed_sections": [],
   "name": "INF283 Weekly Exercise 07",
   "provenance": [],
   "version": "0.3.2"
  },
  "kernelspec": {
   "display_name": "Python 3",
   "language": "python",
   "name": "python3"
  },
  "language_info": {
   "codemirror_mode": {
    "name": "ipython",
    "version": 3
   },
   "file_extension": ".py",
   "mimetype": "text/x-python",
   "name": "python",
   "nbconvert_exporter": "python",
   "pygments_lexer": "ipython3",
   "version": "3.6.6"
  }
 },
 "nbformat": 4,
 "nbformat_minor": 1
}
