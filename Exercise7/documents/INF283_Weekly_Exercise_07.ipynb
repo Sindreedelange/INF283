{
  "nbformat": 4,
  "nbformat_minor": 0,
  "metadata": {
    "colab": {
      "name": "INF283 Weekly Exercise 07",
      "version": "0.3.2",
      "provenance": [],
      "collapsed_sections": []
    }
  },
  "cells": [
    {
      "metadata": {
        "id": "xnJWXMBauufz",
        "colab_type": "text"
      },
      "cell_type": "markdown",
      "source": [
        "# INF283 | Weekly Exercise 07 | Dimensionality Reduction\n",
        "​\n",
        "#### Deadline\n",
        "November 9, 2018 | 23:59\n",
        "​\n",
        "#### What to deliver \n",
        "You can try out your Python code within this notebook. But you should <font color=\"#b51555\">make a PDF file of answers for each of the tasks, and then submit this PDF file </font>on Mitt UiB.  <font color=\"#b51555\">**Do not submit the complete notebook; it makes it difficult for the graders to locate your answers in the lengthy Jupyter notebook. **</font>\n",
        "​\n",
        "#### Where to deliver\n",
        "On [Mitt UiB](https://mitt.uib.no/courses/12791/assignments) in the assignments section.\n",
        "​"
      ]
    },
    {
      "metadata": {
        "id": "AhyxcuJiwGmg",
        "colab_type": "text"
      },
      "cell_type": "markdown",
      "source": [
        "# 1. Principal Component Analysis from scratch\n",
        "### Introduction\n",
        "The sheer size of data in the modern age is not only a challenge for computer hardware but also a main bottleneck for the performance of many machine learning algorithms. Often, the desired goal is to reduce the dimensions of a $d$-dimensional dataset by projecting it onto a $(k)$-dimensional subspace (where $k\\;<\\;d$) in order to increase the computational efficiency while retaining most of the information.\n",
        "\n",
        "PCA aims to detect the correlation between variables. If a strong correlation between variables exists, then an attempt to reduce the dimensionality only makes sense. In a nutshell, this is what PCA is all about: Finding the directions of maximum variance in high-dimensional data and projecting it onto a smaller dimensional subspace while retaining most of the information.\n",
        "\n",
        "In PCA, we compute eigenvectors (the principal components) of a dataset and collect them in a projection matrix. Each of those eigenvectors is associated with an eigenvalue which can be interpreted as the \"length\" or \"magnitude\" of the corresponding eigenvector. If some eigenvalues have a significantly larger magnitude than others, then the reduction of the dataset via PCA onto a smaller dimensional subspace by dropping the *less informative* eigenpairs is reasonable.\n",
        "\n",
        "Summary of PCA algorithm\n",
        "*  Standardize the data.\n",
        "*  Obtain the Eigenvectors and Eigenvalues from the covariance matrix or correlation matrix, or perform Singular Vector Decomposition.\n",
        "*  Sort eigenvalues in descending order and choose the  𝑘  eigenvectors that correspond to the  𝑘  largest eigenvalues where  𝑘  is the number of dimensions of the new feature subspace ( 𝑘 < 𝑑 ).\n",
        "*  Construct the projection matrix  𝐖  from the selected  𝑘  eigenvectors.\n",
        "*  Transform the original dataset  𝐗  via  𝐖  to obtain a  𝑘 -dimensional feature subspace  𝐘 .\n",
        "\n",
        "\n",
        "\n"
      ]
    },
    {
      "metadata": {
        "id": "5Lyl9psD3bCn",
        "colab_type": "text"
      },
      "cell_type": "markdown",
      "source": [
        "### Iris Dataset\n",
        "We will use the Iris dataset for explaining PCA. We used this dataset in exercise 02 as well. \n",
        "\n",
        "As you may know, Iris dataset is already available in sklearn and Pandas, but let us show how you can download and use it from the UCI repository. Any other dataset from UCI repository can be read in the same way. Datasets in UCI are present in .data file, which is nothing but a comma-separated file (csv)."
      ]
    },
    {
      "metadata": {
        "id": "fJPw1i5mukW1",
        "colab_type": "code",
        "colab": {
          "base_uri": "https://localhost:8080/",
          "height": 197
        },
        "outputId": "75afffc6-8453-4e4f-e9e6-b5494f66fdc7"
      },
      "cell_type": "code",
      "source": [
        "import pandas as pd\n",
        "\n",
        "df = pd.read_csv(\n",
        "    filepath_or_buffer='https://archive.ics.uci.edu/ml/machine-learning-databases/iris/iris.data', \n",
        "    header=None, \n",
        "    sep=',')\n",
        "\n",
        "df.columns=['sepal_len', 'sepal_wid', 'petal_len', 'petal_wid', 'class']\n",
        "df.dropna(how=\"all\", inplace=True) # drops the empty line at file-end\n",
        "\n",
        "df.tail()"
      ],
      "execution_count": 1,
      "outputs": [
        {
          "output_type": "execute_result",
          "data": {
            "text/html": [
              "<div>\n",
              "<style scoped>\n",
              "    .dataframe tbody tr th:only-of-type {\n",
              "        vertical-align: middle;\n",
              "    }\n",
              "\n",
              "    .dataframe tbody tr th {\n",
              "        vertical-align: top;\n",
              "    }\n",
              "\n",
              "    .dataframe thead th {\n",
              "        text-align: right;\n",
              "    }\n",
              "</style>\n",
              "<table border=\"1\" class=\"dataframe\">\n",
              "  <thead>\n",
              "    <tr style=\"text-align: right;\">\n",
              "      <th></th>\n",
              "      <th>sepal_len</th>\n",
              "      <th>sepal_wid</th>\n",
              "      <th>petal_len</th>\n",
              "      <th>petal_wid</th>\n",
              "      <th>class</th>\n",
              "    </tr>\n",
              "  </thead>\n",
              "  <tbody>\n",
              "    <tr>\n",
              "      <th>145</th>\n",
              "      <td>6.7</td>\n",
              "      <td>3.0</td>\n",
              "      <td>5.2</td>\n",
              "      <td>2.3</td>\n",
              "      <td>Iris-virginica</td>\n",
              "    </tr>\n",
              "    <tr>\n",
              "      <th>146</th>\n",
              "      <td>6.3</td>\n",
              "      <td>2.5</td>\n",
              "      <td>5.0</td>\n",
              "      <td>1.9</td>\n",
              "      <td>Iris-virginica</td>\n",
              "    </tr>\n",
              "    <tr>\n",
              "      <th>147</th>\n",
              "      <td>6.5</td>\n",
              "      <td>3.0</td>\n",
              "      <td>5.2</td>\n",
              "      <td>2.0</td>\n",
              "      <td>Iris-virginica</td>\n",
              "    </tr>\n",
              "    <tr>\n",
              "      <th>148</th>\n",
              "      <td>6.2</td>\n",
              "      <td>3.4</td>\n",
              "      <td>5.4</td>\n",
              "      <td>2.3</td>\n",
              "      <td>Iris-virginica</td>\n",
              "    </tr>\n",
              "    <tr>\n",
              "      <th>149</th>\n",
              "      <td>5.9</td>\n",
              "      <td>3.0</td>\n",
              "      <td>5.1</td>\n",
              "      <td>1.8</td>\n",
              "      <td>Iris-virginica</td>\n",
              "    </tr>\n",
              "  </tbody>\n",
              "</table>\n",
              "</div>"
            ],
            "text/plain": [
              "     sepal_len  sepal_wid  petal_len  petal_wid           class\n",
              "145        6.7        3.0        5.2        2.3  Iris-virginica\n",
              "146        6.3        2.5        5.0        1.9  Iris-virginica\n",
              "147        6.5        3.0        5.2        2.0  Iris-virginica\n",
              "148        6.2        3.4        5.4        2.3  Iris-virginica\n",
              "149        5.9        3.0        5.1        1.8  Iris-virginica"
            ]
          },
          "metadata": {
            "tags": []
          },
          "execution_count": 1
        }
      ]
    },
    {
      "metadata": {
        "id": "njxr0r6Y45-0",
        "colab_type": "text"
      },
      "cell_type": "markdown",
      "source": [
        "Now we split the data table into data X and class labels y:\n"
      ]
    },
    {
      "metadata": {
        "id": "ENesIcMp441y",
        "colab_type": "code",
        "colab": {
          "base_uri": "https://localhost:8080/",
          "height": 301
        },
        "outputId": "f55f7855-08b7-4041-8790-0c9d68712bfb"
      },
      "cell_type": "code",
      "source": [
        "X = df.ix[:,0:4].values;\n",
        "y = df.ix[:,4].values;"
      ],
      "execution_count": 2,
      "outputs": [
        {
          "output_type": "stream",
          "text": [
            "/usr/local/lib/python2.7/dist-packages/ipykernel_launcher.py:1: DeprecationWarning: \n",
            ".ix is deprecated. Please use\n",
            ".loc for label based indexing or\n",
            ".iloc for positional indexing\n",
            "\n",
            "See the documentation here:\n",
            "http://pandas.pydata.org/pandas-docs/stable/indexing.html#ix-indexer-is-deprecated\n",
            "  \"\"\"Entry point for launching an IPython kernel.\n",
            "/usr/local/lib/python2.7/dist-packages/ipykernel_launcher.py:2: DeprecationWarning: \n",
            ".ix is deprecated. Please use\n",
            ".loc for label based indexing or\n",
            ".iloc for positional indexing\n",
            "\n",
            "See the documentation here:\n",
            "http://pandas.pydata.org/pandas-docs/stable/indexing.html#ix-indexer-is-deprecated\n",
            "  \n"
          ],
          "name": "stderr"
        }
      ]
    },
    {
      "metadata": {
        "id": "9FFCzUte5Bpi",
        "colab_type": "text"
      },
      "cell_type": "markdown",
      "source": [
        "Our iris dataset is now stored in form of a  $150 \\times 4$ matrix where the columns are the different features, and every row represents a separate flower sample.\n",
        "Each sample row $\\mathbf{x}$ can be pictured as a 4-dimensional vector   \n",
        "\n",
        "\n",
        "$\\mathbf{x^T} = \\begin{pmatrix} x_1 \\\\ x_2 \\\\ x_3 \\\\ x_4 \\end{pmatrix} \n",
        "= \\begin{pmatrix} \\text{sepal length} \\\\ \\text{sepal width} \\\\\\text{petal length} \\\\ \\text{petal width} \\end{pmatrix}$"
      ]
    },
    {
      "metadata": {
        "id": "Sm1ib4YB5YPn",
        "colab_type": "text"
      },
      "cell_type": "markdown",
      "source": [
        "### Exploratory Visualization\n",
        "To get a feeling for how the 3 different flower classes are distributes along the 4 different features, let us visualize them via histograms.\n"
      ]
    },
    {
      "metadata": {
        "id": "l0vfjqfx6005",
        "colab_type": "code",
        "colab": {
          "base_uri": "https://localhost:8080/",
          "height": 436
        },
        "outputId": "78321b3f-ba81-49ee-a141-caa9314eb688"
      },
      "cell_type": "code",
      "source": [
        "from matplotlib import pyplot as plt\n",
        "import numpy as np\n",
        "import math\n",
        "\n",
        "def plot_histograms(X, y):\n",
        "  label_dict = {1: 'Iris-Setosa',\n",
        "                2: 'Iris-Versicolor',\n",
        "                3: 'Iris-Virgnica'}\n",
        "\n",
        "  feature_dict = {0: 'Sepal length [cm]',\n",
        "                  1: 'Sepal width [cm]',\n",
        "                  2: 'Petal length [cm]',\n",
        "                  3: 'Petal width [cm]'}\n",
        "\n",
        "  with plt.style.context('seaborn-whitegrid'):\n",
        "      plt.figure(figsize=(14, 6))\n",
        "      for cnt in range(4):\n",
        "          plt.subplot(2, 2, cnt+1)\n",
        "          for lab in ('Iris-setosa', 'Iris-versicolor', 'Iris-virginica'):\n",
        "              plt.hist(X[y==lab, cnt],\n",
        "                       label=lab,\n",
        "                       bins=10,\n",
        "                       alpha=0.3,)\n",
        "          plt.xlabel(feature_dict[cnt])\n",
        "      plt.legend(loc='upper right', fancybox=True, fontsize=8)\n",
        "\n",
        "      plt.tight_layout()\n",
        "      plt.show()\n",
        "\n",
        "plot_histograms(X, y)"
      ],
      "execution_count": 3,
      "outputs": [
        {
          "output_type": "display_data",
          "data": {
            "image/png": "[encoded data removed]",
            "text/plain": [
              "<matplotlib.figure.Figure at 0x7f314bfd8b50>"
            ]
          },
          "metadata": {
            "tags": []
          }
        }
      ]
    },
    {
      "metadata": {
        "id": "_W26Q0jq8jXk",
        "colab_type": "text"
      },
      "cell_type": "markdown",
      "source": [
        "### Standardizing\n",
        "Whether to standardize the data prior to a PCA on the covariance matrix depends on the measurement scales of the original features. Since PCA yields a feature subspace that maximizes the variance along the axes, it makes sense to standardize the data, especially, if it was measured on different scales. Although, all features in the Iris dataset were measured in centimeters, let us continue with the transformation of the data onto unit scale (mean=0 and variance=1), which is a requirement for the optimal performance of many machine learning algorithms.\n",
        "\n",
        "Below we will standarize the data, and then plot the histograms again to see the effect of standardization:"
      ]
    },
    {
      "metadata": {
        "id": "dEUwDHRQ9RcK",
        "colab_type": "code",
        "colab": {
          "base_uri": "https://localhost:8080/",
          "height": 436
        },
        "outputId": "7caff55b-1b55-4412-9102-afa7d5837fa5"
      },
      "cell_type": "code",
      "source": [
        "from sklearn.preprocessing import StandardScaler\n",
        "X_std = StandardScaler().fit_transform(X)\n",
        "plot_histograms(X_std, y)"
      ],
      "execution_count": 4,
      "outputs": [
        {
          "output_type": "display_data",
          "data": {
            "image/png": "[encoded data removed]",
            "text/plain": [
              "<matplotlib.figure.Figure at 0x7f3148015450>"
            ]
          },
          "metadata": {
            "tags": []
          }
        }
      ]
    },
    {
      "metadata": {
        "id": "uBcjwDZ0-TVM",
        "colab_type": "text"
      },
      "cell_type": "markdown",
      "source": [
        "### Eigendecomposition - Computing Eigenvectors and Eigenvalues\n",
        "The eigenvectors and eigenvalues of a covariance (or correlation) matrix represent the \"core\" of a PCA: The eigenvectors (principal components) determine the directions of the new feature space, and the eigenvalues determine their magnitude. In other words, the eigenvalues explain the variance of the data along the new feature axes.\n",
        "\n",
        "The classic approach to PCA is to perform the eigendecomposition on the covariance matrix $\\Sigma$, which is a $d \\times d$ matrix where each element represents the covariance between two features. The covariance between two features is calculated as follows:\n",
        "\n",
        "$\\sigma_{jk} = \\frac{1}{n-1}\\sum_{i=1}^{N}\\left(  x_{ij}-\\bar{x}_j \\right)  \\left( x_{ik}-\\bar{x}_k \\right).$\n",
        "\n",
        "We can summarize the calculation of the covariance matrix via the following matrix equation:   \n",
        "$\\Sigma = \\frac{1}{n-1} \\left( (\\mathbf{X} - \\mathbf{\\bar{x}})^T\\;(\\mathbf{X} - \\mathbf{\\bar{x}}) \\right)$  \n",
        "where $\\mathbf{\\bar{x}}$ is the mean vector \n",
        "$\\mathbf{\\bar{x}} = \\sum\\limits_{i=1}^n x_{i}.$  \n",
        "The mean vector is a $d$-dimensional vector where each value in this vector represents the sample mean of a feature column in the dataset."
      ]
    },
    {
      "metadata": {
        "id": "3k5FthLo-8Qc",
        "colab_type": "code",
        "colab": {
          "base_uri": "https://localhost:8080/",
          "height": 105
        },
        "outputId": "c2b1e8e3-780d-440e-d48e-d425f29eba91"
      },
      "cell_type": "code",
      "source": [
        "import numpy as np\n",
        "mean_vec = np.mean(X_std, axis=0)\n",
        "cov_mat = (X_std - mean_vec).T.dot((X_std - mean_vec)) / (X_std.shape[0]-1)\n",
        "print(\"Covariance matrix: \\n%s\" %cov_mat )"
      ],
      "execution_count": 5,
      "outputs": [
        {
          "output_type": "stream",
          "text": [
            "Covariance matrix: \n",
            "[[ 1.00671141 -0.11010327  0.87760486  0.82344326]\n",
            " [-0.11010327  1.00671141 -0.42333835 -0.358937  ]\n",
            " [ 0.87760486 -0.42333835  1.00671141  0.96921855]\n",
            " [ 0.82344326 -0.358937    0.96921855  1.00671141]]\n"
          ],
          "name": "stdout"
        }
      ]
    },
    {
      "metadata": {
        "id": "AIPQVqZOCDmn",
        "colab_type": "text"
      },
      "cell_type": "markdown",
      "source": [
        "The more verbose way above was simply used for demonstration purposes; equivalently, we could have used the numpy  to get the same result in just a single line of code."
      ]
    },
    {
      "metadata": {
        "id": "-wmF2rdRjHXn",
        "colab_type": "text"
      },
      "cell_type": "markdown",
      "source": [
        "---\n",
        "\n",
        "\n",
        "## <font color=\"#b51555\">Exercise 1.1\n",
        "Using numpy, calculate the covariance of `X_std`.\n",
        "<font>\n",
        "\n",
        "---"
      ]
    },
    {
      "metadata": {
        "id": "uwX1IKyrCo6m",
        "colab_type": "text"
      },
      "cell_type": "markdown",
      "source": [
        "Next, we perform an eigendecomposition on the covariance matrix:\n"
      ]
    },
    {
      "metadata": {
        "id": "0-g2VJzR-8cm",
        "colab_type": "code",
        "colab": {
          "base_uri": "https://localhost:8080/",
          "height": 158
        },
        "outputId": "975c5fbb-40c6-470b-da7f-322ef6d36d14"
      },
      "cell_type": "code",
      "source": [
        "eig_vals, eig_vecs = np.linalg.eig(cov_mat)\n",
        "\n",
        "print('Eigenvectors \\n%s' %eig_vecs)\n",
        "print('\\nEigenvalues \\n%s' %eig_vals)"
      ],
      "execution_count": 7,
      "outputs": [
        {
          "output_type": "stream",
          "text": [
            "Eigenvectors \n",
            "[[ 0.52237162 -0.37231836 -0.72101681  0.26199559]\n",
            " [-0.26335492 -0.92555649  0.24203288 -0.12413481]\n",
            " [ 0.58125401 -0.02109478  0.14089226 -0.80115427]\n",
            " [ 0.56561105 -0.06541577  0.6338014   0.52354627]]\n",
            "\n",
            "Eigenvalues \n",
            "[2.93035378 0.92740362 0.14834223 0.02074601]\n"
          ],
          "name": "stdout"
        }
      ]
    },
    {
      "metadata": {
        "id": "0uPZJJ9dEARm",
        "colab_type": "text"
      },
      "cell_type": "markdown",
      "source": [
        "### Selecting Principal Components\n",
        "\n",
        "The typical goal of a PCA is to reduce the dimensionality of the original feature space by projecting it onto a smaller subspace, where the eigenvectors will form the axes. However, the eigenvectors only define the directions of the new axis, since they have all the same unit length 1, which can confirmed by the following two lines of code:"
      ]
    },
    {
      "metadata": {
        "id": "DcnVHQn9EduW",
        "colab_type": "code",
        "colab": {
          "base_uri": "https://localhost:8080/",
          "height": 34
        },
        "outputId": "e736f0e6-e3af-41c8-8092-d671f62fd1ed"
      },
      "cell_type": "code",
      "source": [
        "for ev in eig_vecs.T:\n",
        "    np.testing.assert_array_almost_equal(1.0, np.linalg.norm(ev))\n",
        "print('Everything ok!')"
      ],
      "execution_count": 8,
      "outputs": [
        {
          "output_type": "stream",
          "text": [
            "Everything ok!\n"
          ],
          "name": "stdout"
        }
      ]
    },
    {
      "metadata": {
        "id": "bo33lbqREgnT",
        "colab_type": "text"
      },
      "cell_type": "markdown",
      "source": [
        "#### Sorting the eigen values\n",
        "In order to decide which eigenvector(s) can dropped without losing too much information\n",
        "for the construction of lower-dimensional subspace, we need to inspect the corresponding eigenvalues: The eigenvectors with the lowest eigenvalues bear the least information about the distribution of the data; those are the ones can be dropped.  \n",
        "In order to do so, the common approach is to rank the eigenvalues from highest to lowest in order choose the top $k$ eigenvectors."
      ]
    },
    {
      "metadata": {
        "id": "uL5TdE9nEjqh",
        "colab_type": "code",
        "colab": {
          "base_uri": "https://localhost:8080/",
          "height": 105
        },
        "outputId": "e2c4a3c7-2816-4709-9253-ec9b300026d1"
      },
      "cell_type": "code",
      "source": [
        "# Make a list of (eigenvalue, eigenvector) tuples\n",
        "eig_pairs = [(np.abs(eig_vals[i]), eig_vecs[:,i]) for i in range(len(eig_vals))]\n",
        "\n",
        "# Sort the (eigenvalue, eigenvector) tuples from high to low\n",
        "eig_pairs.sort(key=lambda x: x[0], reverse=True)\n",
        "\n",
        "# Visually confirm that the list is correctly sorted by decreasing eigenvalues\n",
        "print('Eigenvalues in descending order:')\n",
        "for i in eig_pairs:\n",
        "    print(i[0])"
      ],
      "execution_count": 9,
      "outputs": [
        {
          "output_type": "stream",
          "text": [
            "Eigenvalues in descending order:\n",
            "2.930353775589317\n",
            "0.9274036215173419\n",
            "0.14834222648163944\n",
            "0.02074601399559593\n"
          ],
          "name": "stdout"
        }
      ]
    },
    {
      "metadata": {
        "id": "DQtRAx6YE7_U",
        "colab_type": "text"
      },
      "cell_type": "markdown",
      "source": [
        "#### Explained variance\n",
        "After sorting the eigenpairs, the next question is \"how many principal components are we going to choose for our new feature subspace?\" A useful measure is the so-called \"explained variance,\" which can be calculated from the eigenvalues. The explained variance tells us how much information (variance) can be attributed to each of the principal components."
      ]
    },
    {
      "metadata": {
        "id": "IxEdw_2zFVKW",
        "colab_type": "code",
        "colab": {
          "base_uri": "https://localhost:8080/",
          "height": 292
        },
        "outputId": "d792f602-98d4-465e-9835-ea73f7f5f52d"
      },
      "cell_type": "code",
      "source": [
        "tot = sum(eig_vals)\n",
        "var_exp = [(i / tot)*100 for i in sorted(eig_vals, reverse=True)]\n",
        "cum_var_exp = np.cumsum(var_exp)\n",
        "\n",
        "with plt.style.context('seaborn-whitegrid'):\n",
        "    plt.figure(figsize=(6, 4))\n",
        "\n",
        "    plt.bar(range(4), var_exp, alpha=0.5, align='center',\n",
        "            label='individual explained variance')\n",
        "    plt.step(range(4), cum_var_exp, where='mid',\n",
        "             label='cumulative explained variance')\n",
        "    plt.ylabel('Explained variance ratio')\n",
        "    plt.xlabel('Principal components')\n",
        "    plt.legend(loc='best')\n",
        "    plt.tight_layout()\n"
      ],
      "execution_count": 10,
      "outputs": [
        {
          "output_type": "display_data",
          "data": {
            "image/png": "[encoded data removed]",
            "text/plain": [
              "<matplotlib.figure.Figure at 0x7f31479e7e50>"
            ]
          },
          "metadata": {
            "tags": []
          }
        }
      ]
    },
    {
      "metadata": {
        "id": "0oL_2A91FUtl",
        "colab_type": "text"
      },
      "cell_type": "markdown",
      "source": [
        "The plot above clearly shows that most of the variance (72.77% of the variance to be precise) can be explained by the first principal component alone. The second principal component still bears some information (23.03%) while the third and fourth principal components can safely be dropped without losing to much information. Together, the first two principal components contain 95.8% of the information."
      ]
    },
    {
      "metadata": {
        "id": "9wcCptu1FwRU",
        "colab_type": "text"
      },
      "cell_type": "markdown",
      "source": [
        "#### Making a projection matrix\n",
        "The projection matrix that will be used to transform the Iris data onto the new feature subspace. Although, the name \"projection matrix\" sounds fancy, it is basically just a matrix of our concatenated top k eigenvectors.\n",
        "\n",
        "Here, we are reducing the 4-dimensional feature space to a 2-dimensional feature subspace, by choosing the \"top 2\" eigenvectors with the highest eigenvalues to construct our  𝑑×𝑘 -dimensional eigenvector matrix  𝐖 ."
      ]
    },
    {
      "metadata": {
        "id": "tnx359LJGDcH",
        "colab_type": "code",
        "colab": {
          "base_uri": "https://localhost:8080/",
          "height": 105
        },
        "outputId": "d4ef120a-d7b1-49f7-9a0c-54cdf1a072aa"
      },
      "cell_type": "code",
      "source": [
        "matrix_w = np.hstack((eig_pairs[0][1].reshape(4,1), \n",
        "                      eig_pairs[1][1].reshape(4,1)))\n",
        "\n",
        "print('Matrix W:\\n %s' %matrix_w)"
      ],
      "execution_count": 11,
      "outputs": [
        {
          "output_type": "stream",
          "text": [
            "Matrix W:\n",
            " [[ 0.52237162 -0.37231836]\n",
            " [-0.26335492 -0.92555649]\n",
            " [ 0.58125401 -0.02109478]\n",
            " [ 0.56561105 -0.06541577]]\n"
          ],
          "name": "stdout"
        }
      ]
    },
    {
      "metadata": {
        "id": "4Z6O3KmUHKsD",
        "colab_type": "text"
      },
      "cell_type": "markdown",
      "source": [
        "### Projection Onto the New Feature Space\n",
        "In this last step we will use the $4 \\times 2$-dimensional projection matrix $\\mathbf{W}$ to transform our samples onto the new subspace via the equation:\n",
        "\n",
        "$\\mathbf{Y} = \\mathbf{X} \\times  \\mathbf{W}$\n",
        "\n",
        "where $\\mathbf{Y}$ is a $150\\times 2$ matrix of our transformed samples."
      ]
    },
    {
      "metadata": {
        "id": "Yc88rDW-HT3A",
        "colab_type": "code",
        "colab": {
          "base_uri": "https://localhost:8080/",
          "height": 364
        },
        "outputId": "b93ab152-9a14-4b49-ef50-0be83c132d45"
      },
      "cell_type": "code",
      "source": [
        "Y = X_std.dot(matrix_w)\n",
        "\n",
        "with plt.style.context('seaborn-whitegrid'):\n",
        "    plt.figure(figsize=(10, 5))\n",
        "    for lab, col in zip(('Iris-setosa', 'Iris-versicolor', 'Iris-virginica'), \n",
        "                        ('blue', 'red', 'green')):\n",
        "        plt.scatter(Y[y==lab, 0],\n",
        "                    Y[y==lab, 1],\n",
        "                    label=lab,\n",
        "                    c=col)\n",
        "    plt.xlabel('Principal Component 1')\n",
        "    plt.ylabel('Principal Component 2')\n",
        "    plt.legend(loc='lower center')\n",
        "    plt.tight_layout()\n",
        "\n"
      ],
      "execution_count": 12,
      "outputs": [
        {
          "output_type": "display_data",
          "data": {
            "image/png": "[encoded data removed]",
            "text/plain": [
              "<matplotlib.figure.Figure at 0x7f31477f9d90>"
            ]
          },
          "metadata": {
            "tags": []
          }
        }
      ]
    },
    {
      "metadata": {
        "id": "bGhJ48-eHolN",
        "colab_type": "text"
      },
      "cell_type": "markdown",
      "source": [
        "## PCA using scikit-learn"
      ]
    },
    {
      "metadata": {
        "id": "4GMhdT7JHtTe",
        "colab_type": "code",
        "colab": {}
      },
      "cell_type": "code",
      "source": [
        "from sklearn.decomposition import PCA as sklearnPCA\n",
        "sklearn_pca = sklearnPCA(n_components=2)\n",
        "Y_sklearn = sklearn_pca.fit_transform(X_std)"
      ],
      "execution_count": 0,
      "outputs": []
    },
    {
      "metadata": {
        "id": "reRIyt9UHvwl",
        "colab_type": "code",
        "colab": {
          "base_uri": "https://localhost:8080/",
          "height": 364
        },
        "outputId": "57e59f0c-64c2-4427-b1bf-c7b1434921bb"
      },
      "cell_type": "code",
      "source": [
        "with plt.style.context('seaborn-whitegrid'):\n",
        "    plt.figure(figsize=(10, 5))\n",
        "    for lab, col in zip(('Iris-setosa', 'Iris-versicolor', 'Iris-virginica'), \n",
        "                        ('blue', 'red', 'green')):\n",
        "        plt.scatter(Y_sklearn[y==lab, 0],\n",
        "                    Y_sklearn[y==lab, 1],\n",
        "                    label=lab,\n",
        "                    c=col)\n",
        "    plt.xlabel('Principal Component 1')\n",
        "    plt.ylabel('Principal Component 2')\n",
        "    plt.legend(loc='lower center')\n",
        "    plt.tight_layout()\n",
        "    plt.show()"
      ],
      "execution_count": 14,
      "outputs": [
        {
          "output_type": "display_data",
          "data": {
            "image/png": "[encoded data removed]",
            "text/plain": [
              "<matplotlib.figure.Figure at 0x7f3144ddaf90>"
            ]
          },
          "metadata": {
            "tags": []
          }
        }
      ]
    },
    {
      "metadata": {
        "id": "Uyk0Vvxv2Zvs",
        "colab_type": "text"
      },
      "cell_type": "markdown",
      "source": [
        "---\n",
        "\n",
        "\n",
        "## <font color=\"#b51555\">Exercise 1.2\n",
        "We saw previously that the first principal component explains about 72% of the variance, whereas the second principal component explains 23% of the variance. Write sklearn code to extract these percentages.\n",
        "<font>\n",
        "\n"
      ]
    },
    {
      "metadata": {
        "id": "zk-UO6OIB59e",
        "colab_type": "text"
      },
      "cell_type": "markdown",
      "source": [
        "\n",
        "\n",
        "## <font color=\"#b51555\">Exercise 1.3\n",
        "If you observe closely, you will notice that the plot of principal component 1 vs. principal component 2 obtained using sklearn is different than that obtained by the PCA that we did manually. More specifically, you will observer that the principal component 2 obtained with sklearn is a flipped version of principal component 2 obtained with manual PCA. Can you think of a a reason why this is happening?\n",
        "\n",
        "<font>\n",
        "\n",
        "---"
      ]
    },
    {
      "metadata": {
        "id": "KrV0aBt9MKUU",
        "colab_type": "text"
      },
      "cell_type": "markdown",
      "source": [
        "# 2. Kernel PCA\n",
        "The “classic” PCA approach described above is a linear projection technique that works well if the data is linearly separable. However, in the case of linearly inseparable data, a nonlinear technique is required if the task is to reduce the dimensionality of a dataset.\n",
        "![alt text](https://sebastianraschka.com/images/blog/2014/kernel_pca/linear_vs_nonlinear.png)\n",
        "\n",
        "\n",
        "The basic idea to deal with linearly inseparable data is to project it onto a higher dimensional space where it becomes linearly separable. Let us call this nonlinear mapping function ϕ so that the mapping of a sample x can be written as x→ϕ(x), which is called “kernel function.”\n",
        "\n",
        "We will start with a simple example of 2 half-moon shapes generated by the make_moons function from scikit-learn.\n",
        "\n",
        "\n"
      ]
    },
    {
      "metadata": {
        "id": "rRF5CUJJOi_2",
        "colab_type": "code",
        "colab": {
          "base_uri": "https://localhost:8080/",
          "height": 402
        },
        "outputId": "f4d2b3af-c2f6-469b-f55f-dcddde87bf16"
      },
      "cell_type": "code",
      "source": [
        "import matplotlib.pyplot as plt\n",
        "\n",
        "from sklearn.datasets import make_moons\n",
        "X, y = make_moons(n_samples=100, random_state=123)\n",
        "\n",
        "plt.figure(figsize=(8,6))\n",
        "\n",
        "plt.scatter(X[y==0, 0], X[y==0, 1], color='red', alpha=0.5)\n",
        "plt.scatter(X[y==1, 0], X[y==1, 1], color='blue', alpha=0.5)\n",
        "\n",
        "plt.title('A nonlinear 2Ddataset')\n",
        "plt.ylabel('y coordinate')\n",
        "plt.xlabel('x coordinate')\n",
        "\n",
        "plt.show()"
      ],
      "execution_count": 16,
      "outputs": [
        {
          "output_type": "display_data",
          "data": {
            "image/png": "[encoded data removed]",
            "text/plain": [
              "<matplotlib.figure.Figure at 0x7f3142b0cdd0>"
            ]
          },
          "metadata": {
            "tags": []
          }
        }
      ]
    },
    {
      "metadata": {
        "id": "AwZta_2mOvu0",
        "colab_type": "text"
      },
      "cell_type": "markdown",
      "source": [
        "#### Linear PCA\n",
        "\n",
        "Since the two half-moon shapes are linearly inseparable, we expect that the “classic” PCA will fail to give us a “good” representation of the data in 1D space. Here, we will use the PCA class that is implemented in scikit-learn to perform the dimensionality reduction."
      ]
    },
    {
      "metadata": {
        "id": "mVvhxASvOuWz",
        "colab_type": "code",
        "colab": {
          "base_uri": "https://localhost:8080/",
          "height": 402
        },
        "outputId": "e9c58a01-03e6-4bf7-b38f-ddb86b40fcc4"
      },
      "cell_type": "code",
      "source": [
        "from sklearn.decomposition import PCA\n",
        "\n",
        "scikit_pca = PCA(n_components=2)\n",
        "X_spca = scikit_pca.fit_transform(X)\n",
        "\n",
        "plt.figure(figsize=(8,6))\n",
        "plt.scatter(X_spca[y==0, 0], X_spca[y==0, 1], color='red', alpha=0.5)\n",
        "plt.scatter(X_spca[y==1, 0], X_spca[y==1, 1], color='blue', alpha=0.5)\n",
        "\n",
        "plt.title('First 2 principal components after Linear PCA')\n",
        "plt.xlabel('PC1')\n",
        "plt.ylabel('PC2')\n",
        "plt.show()"
      ],
      "execution_count": 17,
      "outputs": [
        {
          "output_type": "display_data",
          "data": {
            "image/png": "[encoded data removed]",
            "text/plain": [
              "<matplotlib.figure.Figure at 0x7f3141f88f10>"
            ]
          },
          "metadata": {
            "tags": []
          }
        }
      ]
    },
    {
      "metadata": {
        "id": "vWAZ_xVMOveq",
        "colab_type": "code",
        "colab": {
          "base_uri": "https://localhost:8080/",
          "height": 402
        },
        "outputId": "e7cb18cb-fc33-4112-fe91-83ec800ed032"
      },
      "cell_type": "code",
      "source": [
        "import numpy as np\n",
        "scikit_pca = PCA(n_components=1)\n",
        "X_spca = scikit_pca.fit_transform(X)\n",
        "\n",
        "plt.figure(figsize=(8,6))\n",
        "plt.scatter(X_spca[y==0, 0], np.zeros((50,1)), color='red', alpha=0.5)\n",
        "plt.scatter(X_spca[y==1, 0], np.zeros((50,1)), color='blue', alpha=0.5)\n",
        "\n",
        "plt.title('First principal component after Linear PCA')\n",
        "plt.xlabel('PC1')\n",
        "\n",
        "plt.show()"
      ],
      "execution_count": 18,
      "outputs": [
        {
          "output_type": "display_data",
          "data": {
            "image/png": "[encoded data removed]",
            "text/plain": [
              "<matplotlib.figure.Figure at 0x7f3141f88b90>"
            ]
          },
          "metadata": {
            "tags": []
          }
        }
      ]
    },
    {
      "metadata": {
        "id": "u4KL68skPDa6",
        "colab_type": "text"
      },
      "cell_type": "markdown",
      "source": [
        "As we can see, the resulting principal components do not yield a subspace where the data is linearly separated well. Note that PCA is a unsupervised method and does not “consider” class labels in order to maximize the variance. Here, the colors blue and red are just added for visualization purposes to indicate the degree of separation."
      ]
    },
    {
      "metadata": {
        "id": "mba-eeQoPNjR",
        "colab_type": "text"
      },
      "cell_type": "markdown",
      "source": [
        "#### Gaussian RBF kernel PCA\n",
        "\n",
        "Next, we will perform dimensionality reduction via RBF kernel PCA on our half-moon data. "
      ]
    },
    {
      "metadata": {
        "id": "I46OiYWrO_T9",
        "colab_type": "code",
        "colab": {
          "base_uri": "https://localhost:8080/",
          "height": 402
        },
        "outputId": "6572d1ec-5e2e-4452-8317-a190f24c31bd"
      },
      "cell_type": "code",
      "source": [
        "from sklearn.decomposition import KernelPCA\n",
        "\n",
        "scikit_kpca = KernelPCA(n_components=2, kernel='rbf', gamma=15)\n",
        "X_skernpca = scikit_kpca.fit_transform(X)\n",
        "\n",
        "plt.figure(figsize=(8,6))\n",
        "plt.scatter(X_skernpca[y==0, 0], X_skernpca[y==0, 1], color='red', alpha=0.5)\n",
        "plt.scatter(X_skernpca[y==1, 0], X_skernpca[y==1, 1], color='blue', alpha=0.5)\n",
        "\n",
        "plt.title('First 2 principal components after RBF Kernel PCA via scikit-learn')\n",
        "plt.xlabel('PC1')\n",
        "plt.ylabel('PC2')\n",
        "plt.show()"
      ],
      "execution_count": 19,
      "outputs": [
        {
          "output_type": "display_data",
          "data": {
            "image/png": "[encoded data removed]",
            "text/plain": [
              "<matplotlib.figure.Figure at 0x7f3141fd6e90>"
            ]
          },
          "metadata": {
            "tags": []
          }
        }
      ]
    },
    {
      "metadata": {
        "id": "eqRHN5MIO_67",
        "colab_type": "code",
        "colab": {
          "base_uri": "https://localhost:8080/",
          "height": 402
        },
        "outputId": "0c773248-bb05-4b2e-94a8-2dbc9f483aec"
      },
      "cell_type": "code",
      "source": [
        "scikit_kpca = KernelPCA(n_components=1, kernel='rbf', gamma=15)\n",
        "X_skernpca = scikit_kpca.fit_transform(X)\n",
        "\n",
        "plt.figure(figsize=(8,6))\n",
        "plt.scatter(X_skernpca[y==0, 0], np.zeros((50,1)), color='red', alpha=0.5)\n",
        "plt.scatter(X_skernpca[y==1, 0], np.zeros((50,1)), color='blue', alpha=0.5)\n",
        "plt.title('First principal component after RBF Kernel PCA')\n",
        "plt.xlabel('PC1')\n",
        "plt.show()"
      ],
      "execution_count": 20,
      "outputs": [
        {
          "output_type": "display_data",
          "data": {
            "image/png": "[encoded data removed]",
            "text/plain": [
              "<matplotlib.figure.Figure at 0x7f317522a450>"
            ]
          },
          "metadata": {
            "tags": []
          }
        }
      ]
    },
    {
      "metadata": {
        "colab_type": "text",
        "id": "8rtLim1BBJsG"
      },
      "cell_type": "markdown",
      "source": [
        "---\n",
        "\n",
        "\n",
        "## <font color=\"#b51555\">Exercise 1.4\n",
        "The code below generates a two-class data containing two concentric circles, i.e., a small circle inside a larger circle. Your task is to extend this code to and do the following:\n",
        "  1. Plot the data such that plot shows the two concentric circles in two distinct colors\n",
        "  2. Perform kernel PCA to find a 2-dimensional projection of this data such the projected data is linearly separable. \n",
        "  3. Plot the projected data in 2D.\n",
        "<font>\n",
        "\n",
        "---"
      ]
    },
    {
      "metadata": {
        "id": "aBQROoPJhLCC",
        "colab_type": "code",
        "colab": {}
      },
      "cell_type": "code",
      "source": [
        "import numpy as np\n",
        "import matplotlib.pyplot as plt\n",
        "\n",
        "from sklearn.decomposition import PCA, KernelPCA\n",
        "from sklearn.datasets import make_circles\n",
        "\n",
        "np.random.seed(0)\n",
        "\n",
        "X, y = make_circles(n_samples=400, factor=.3, noise=.05)\n",
        "# TODO"
      ],
      "execution_count": 0,
      "outputs": []
    },
    {
      "metadata": {
        "id": "3OrcbMF60t2Q",
        "colab_type": "text"
      },
      "cell_type": "markdown",
      "source": [
        "# 3. Movie recommendation system based on matrix factorization"
      ]
    },
    {
      "metadata": {
        "id": "O-eXWS1bG7eE",
        "colab_type": "text"
      },
      "cell_type": "markdown",
      "source": [
        "Just as its name suggests, matrix factorization is to, obviously, factorize a matrix, i.e. to find out two (or more) matrices such that when you multiply them you will get back the original matrix.\n",
        "\n",
        "As mentioned above, from an application point of view, matrix factorization can be used to discover latent features underlying the interactions between two different kinds of entities. (Of course, you can consider more than two kinds of entities and you will be dealing with tensor factorization, which would be more complicated.) And one obvious application is to predict ratings in collaborative filtering.\n",
        "\n",
        "In a recommendation system such as Netflix or MovieLens, there is a group of users and a set of items (movies for the above two systems). Given that each users have rated some items in the system, we would like to predict how the users would rate the items that they have not yet rated, such that we can make recommendations to the users. In this case, all the information we have about the existing ratings can be represented in a matrix. Assume now we have 5 users and 4 items, and ratings are integers ranging from 1 to 5, the matrix may look something like this (a hyphen means that the user has not yet rated the movie):\n",
        "\n",
        "|  | D1 | D2 | D3 | D4 |\n",
        "|----|----|----|----|----|\n",
        "| U1 | 5 | 3 | - | 1 |\n",
        "| U2 | 4 | - | - | 1 |\n",
        "| U3 | 1 | 1 | - | 5 |\n",
        "| U4 | 1 | - | - | 4 |\n",
        "| U5 | - | 1 | 5 | 4 |\n",
        "\n",
        "\n",
        "Hence, the task of predicting the missing ratings can be considered as filling in the blanks (the hyphens in the matrix) such that the values would be consistent with the existing ratings in the matrix.\n",
        "\n",
        "The intuition behind using matrix factorization to solve this problem is that there should be some latent features that determine how a user rates an item. For example, two users would give high ratings to a certain movie if they both like the actors/actresses of the movie, or if the movie is an action movie, which is a genre preferred by both users. Hence, if we can discover these latent features, we should be able to predict a rating with respect to a certain user and a certain item, because the features associated with the user should match with the features associated with the item.\n",
        "\n",
        "In trying to discover the different features, we also make the assumption that the number of features would be smaller than the number of users and the number of items. It should not be difficult to understand this assumption because clearly it would not be reasonable to assume that each user is associated with a unique feature (although this is not impossible). And anyway if this is the case there would be no point in making recommendations, because each of these users would not be interested in the items rated by other users. Similarly, the same argument applies to the items.\n",
        "\n",
        "#### The Maths of Matrix Factorization\n",
        "\n",
        "Having discussed the intuition behind matrix factorization, we can now go on to work on the mathematics. Firstly, we have a set $U$ of users, and a set $D$ of items. Let $R$ of size $|U| \\times |D|$ be the matrix that contains all the ratings that the users have assigned to the items. Also, we assume that we would like to discover $K$ latent features. Our task, then, is to find two matrics matrices $P$ (of size $|U| \\times |K|$) and $Q$ (of size $|D| \\times |K|$) such that their product apprioximates |R|:\n",
        "\n",
        "$$\\mathbf{R} \\approx \\mathbf{P} \\times \\mathbf{Q}^T = \\hat{\\mathbf{R}}$$\n",
        "\n",
        "In this way, each row of $\\mathbf{P}$ would represent the strength of the associations between a user and the features. Similarly, each row of $\\mathbf{Q}$ would represent the strength of the associations between an item and the features. To get the prediction of a rating of an item $d_j$ by $u_i$, we can calculate the dot product of their vectors:\n",
        "\n",
        "$$\\hat{r}_{ij} = p_i^T q_j = \\sum_{k=1}^k{p_{ik} q_{kj}}$$\n",
        "\n",
        "Now, we have to find a way to obtain $\\mathbf{P}$ and $\\mathbf{Q}$. One way to approach this problem is the first intialize the two matrices with some values, calculate how different their product is to $\\mathbf{M}$, and then try to minimize this difference iteratively. Such a method is called gradient descent, aiming at finding a local minimum of the difference.\n",
        "\n",
        "The difference here, usually called the error between the estimated rating and the real rating, can be calculated by the following equation for each user-item pair:\n",
        "\n",
        "$$e_{ij}^2 = (r_{ij} - \\hat{r}_{ij})^2 = (r_{ij} - \\sum_{k=1}^K{p_{ik}q_{kj}})^2$$\n",
        "\n",
        "Here we consider the squared error because the estimated rating can be either higher or lower than the real rating.\n",
        "\n",
        "To minimize the error, we have to know in which direction we have to modify the values of $p_{ik}$ and $q_{kj}$. In other words, we need to know the gradient at the current values, and therefore we differentiate the above equation with respect to these two variables separately:\n",
        "\n",
        "$$\\frac{\\partial}{\\partial p_{ik}}e_{ij}^2 = -2(r_{ij} - \\hat{r}_{ij})(q_{kj}) = -2 e_{ij} q_{kj}$$\n",
        "$$ \\frac{\\partial}{\\partial q_{ik}}e_{ij}^2 = -2(r_{ij} - \\hat{r}_{ij})(p_{ik}) = -2 e_{ij} p_{ik}$$\n",
        "\n",
        "Having obtained the gradient, we can now formulate the update rules for both $p_{ik}$ and $q_{kj}$:\n",
        "\n",
        "$$p’_{ik} = p_{ik} + \\alpha \\frac{\\partial}{\\partial p_{ik}}e_{ij}^2 = p_{ik} + 2\\alpha e_{ij} q_{kj}$$\n",
        "$$q’_{kj} = q_{kj} + \\alpha \\frac{\\partial}{\\partial q_{kj}}e_{ij}^2 = q_{kj} + 2\\alpha e_{ij} p_{ik}$$\n",
        "\n",
        "Here, $\\alpha$ is a constant whose value determines the rate of approaching the minimum. Usually we will choose a small value for $\\alpha$, say 0.1. This is because if we make too large a step towards the minimum we may run into the risk of missing the minimum and end up oscillating around the minimum.\n",
        "\n",
        "A question might have come to your mind by now: if we find two matrices $\\mathbf{P}$ and $\\mathbf{Q}$ such that $\\mathbf{P} \\times \\mathbf{Q}$ approximates $\\mathbf{R}$, isn’t that our predictions of all the unseen ratings will be zeros? In fact, we are not really trying to come up with $\\mathbf{P}$ and $\\mathbf{Q}$ such that we can reproduce $\\mathbf{R}$ exactly. Instead, we will only try to minimise the errors of the observed user-item pairs. In other words, if we let $T$ be a set of tuples, each of which is in the form of $(u_i, d_j, r_{ij})$, such that $T$ contains all the **observed** user-item pairs together with the associated ratings, we are only trying to minimise every $e_{ij}$ for $(u_i, d_j, r_{ij}) \\in T$. (In other words, $T$ is our set of training data.) As for the rest of the unknowns, we will be able to determine their values once the associations between the users, items and features have been learnt.\n",
        "\n",
        "Using the above update rules, we can then iteratively perform the operation until the error converges to its minimum. We can check the overall error as calculated using the following equation and determine when we should stop the process.\n",
        "\n",
        "$$E = \\sum_{(u_i, d_j, r_{ij}) \\in T}{e_{ij}} = \\sum_{(u_i,d_j,r_{ij}) \\in T}{(r_{ij} - \\sum_{k=1}^K{p_{ik}q_{kj}})^2}$$\n",
        "\n",
        "#### Regularization\n",
        "\n",
        "The above algorithm is a very basic algorithm for factorizing a matrix. There are a lot of methods to make things look more complicated. A common extension to this basic algorithm is to introduce regularization to avoid overfitting. This is done by adding a parameter $\\beta$ and modify the squared error as follows:\n",
        "\n",
        "$$e_{ij}^2 = (r_{ij} - \\sum_{k=1}^K{p_{ik}q_{kj}})^2 + \\frac{\\beta}{2} \\sum_{k=1}^K{(||P||^2 + ||Q||^2)}$$\n",
        "\n",
        "In other words, the new parameter $\\beta$ is used to control the magnitudes of the user-feature and item-feature vectors such that $P$ and $Q$ would give a good approximation of $R$ without having to contain large numbers. In practice, $\\beta$ is set to some values in the order of 0.01. The new update rules for this squared error can be obtained by a procedure similar to the one described above. The new update rules are as follows:\n",
        "\n",
        "$$p’_{ik} = p_{ik} + \\alpha \\frac{\\partial}{\\partial p_{ik}}e_{ij}^2 = p_{ik} + \\alpha(2 e_{ij} q_{kj} - \\beta p_{ik} )$$\n",
        "$$q’_{kj} = q_{kj} + \\alpha \\frac{\\partial}{\\partial q_{kj}}e_{ij}^2 = q_{kj} + \\alpha(2 e_{ij} p_{ik} - \\beta q_{kj} )$$\n",
        "\n",
        "#### Adding Biases\n",
        "\n",
        "When predicting the ratings of users given to items, it is useful to consider how ratings are generated. In the above discussion, we have assumed that ratings are generated based on matching the users preferences on some latent factors and the items’ characteristics on the latent factors. Actually, it may also be helpful to consider additional factors here.\n",
        "\n",
        "For example, we can assume that when a rating is generated, some biases may also contribute to the ratings. In particular, every user may have his or her own bias, meaning that he or she may tend to rate items higher or lower than the others. In movie ratings, if a user is a serious movie watcher, he or she may tend to give lower ratings, when compared to another user who generally enjoys movies as long as they are not too boring. A similar idea can also be applied to the items being rated.\n",
        "\n",
        "Hence, in the equal of predicting a rating, we can also add these biases in order to better model how a rating is generated:\n",
        "\n",
        "$$\\hat{r}_{ij} = b + bu_i + bd_j + \\sum_{k=1}^k{p_{ik} q_{kj}}$$\n",
        "where $b$ is the global bias (which can be easily estimated by using the mean of all ratings), $bu_i$ is the bias of user $i$, and $bd_j$ is te bias of item $j$.\n",
        "\n",
        "Using the same steps mentioned above, we can derive the update rules for the user biases and item biases easily:\n",
        "\n",
        "$$bu’_i = bu_i + \\alpha \\times (e_{ij} - \\beta bu_i)$$\n",
        "$$bd’_j = bd_j + \\alpha \\times (e_{ij} - \\beta bd_j)$$\n",
        "\n",
        "In practice, the process of factorization will converge faster if biases are included in the model.\n",
        "\n",
        "#### Python Implementation\n",
        "Once we have derived the update rules as described above, it actually becomes very straightforward to implement the algorithm. The following is a classs that implements the algorithm in Python using the stochastic gradient descent algorithm. "
      ]
    },
    {
      "metadata": {
        "id": "KNLJFRQ91A0f",
        "colab_type": "code",
        "colab": {}
      },
      "cell_type": "code",
      "source": [
        "import numpy as np\n",
        "\n",
        "class MF():\n",
        "\n",
        "    def __init__(self, R, K, alpha, beta, iterations):\n",
        "        \"\"\"\n",
        "        Perform matrix factorization to predict empty\n",
        "        entries in a matrix.\n",
        "\n",
        "        Arguments\n",
        "        - R (ndarray)   : user-item rating matrix\n",
        "        - K (int)       : number of latent dimensions\n",
        "        - alpha (float) : learning rate\n",
        "        - beta (float)  : regularization parameter\n",
        "        \"\"\"\n",
        "\n",
        "        self.R = R\n",
        "        self.num_users, self.num_items = R.shape\n",
        "        self.K = K\n",
        "        self.alpha = alpha\n",
        "        self.beta = beta\n",
        "        self.iterations = iterations\n",
        "\n",
        "    def train(self):\n",
        "        # Initialize user and item latent feature matrices to random numbers\n",
        "        self.P = np.random.normal(scale=1./self.K, size=(self.num_users, self.K))\n",
        "        self.Q = np.random.normal(scale=1./self.K, size=(self.num_items, self.K))\n",
        "\n",
        "        # Initialize the biases to zeros\n",
        "        self.b_u = np.zeros(self.num_users)\n",
        "        self.b_i = np.zeros(self.num_items)\n",
        "        self.b = np.mean(self.R[np.where(self.R != 0)])\n",
        "\n",
        "        # Create a list of training samples\n",
        "        self.samples = [\n",
        "            (i, j, self.R[i, j])\n",
        "            for i in range(self.num_users)\n",
        "            for j in range(self.num_items)\n",
        "            if self.R[i, j] > 0\n",
        "        ]\n",
        "\n",
        "        # Perform stochastic gradient descent for number of iterations\n",
        "        training_process = []\n",
        "        for i in range(self.iterations):\n",
        "            np.random.shuffle(self.samples)\n",
        "            self.sgd()\n",
        "            mse = self.mse()\n",
        "            training_process.append((i, mse))\n",
        "            if (i+1) % 5 == 0:\n",
        "                print(\"Iteration: %d ; error = %.4f\" % (i+1, mse))\n",
        "\n",
        "        return training_process\n",
        "\n",
        "    def mse(self):\n",
        "        \"\"\"\n",
        "        A function to compute the total mean square error\n",
        "        \"\"\"\n",
        "        xs, ys = self.R.nonzero()\n",
        "        predicted = self.full_matrix()\n",
        "        error = 0\n",
        "        for x, y in zip(xs, ys):\n",
        "            error += pow(self.R[x, y] - predicted[x, y], 2)\n",
        "        return np.sqrt(error)\n",
        "\n",
        "    def sgd(self):\n",
        "        \"\"\"\n",
        "        Perform stochastic graident descent\n",
        "        \"\"\"\n",
        "        for i, j, r in self.samples:\n",
        "            # Computer prediction and error\n",
        "            prediction = self.get_rating(i, j)\n",
        "            e = (r - prediction)\n",
        "\n",
        "            # Update biases\n",
        "            self.b_u[i] += self.alpha * (e - self.beta * self.b_u[i])\n",
        "            self.b_i[j] += self.alpha * (e - self.beta * self.b_i[j])\n",
        "\n",
        "            # Update user and item latent feature matrices\n",
        "            self.P[i, :] += self.alpha * (e * self.Q[j, :] - self.beta * self.P[i,:])\n",
        "            self.Q[j, :] += self.alpha * (e * self.P[i, :] - self.beta * self.Q[j,:])\n",
        "\n",
        "    def get_rating(self, i, j):\n",
        "        \"\"\"\n",
        "        Get the predicted rating of user i and item j\n",
        "        \"\"\"\n",
        "        prediction = self.b + self.b_u[i] + self.b_i[j] + self.P[i, :].dot(self.Q[j, :].T)\n",
        "        return prediction\n",
        "\n",
        "    def full_matrix(self):\n",
        "        \"\"\"\n",
        "        Compute the full matrix using the resultant biases, P and Q\n",
        "        \"\"\"\n",
        "        return self.b + self.b_u[:,np.newaxis] + self.b_i[np.newaxis:,] + self.P.dot(self.Q.T)"
      ],
      "execution_count": 0,
      "outputs": []
    },
    {
      "metadata": {
        "id": "cgvjJaSFK9T2",
        "colab_type": "text"
      },
      "cell_type": "markdown",
      "source": [
        "Let us apply matrix factorization to our example mentioned above, and see what we would get. Below is a code snippet for running the example. Note that we replace missing ratings by zeros, becuase we cannot have `-` in a numpy numeric array.\n"
      ]
    },
    {
      "metadata": {
        "id": "zI8nsRIR-_0l",
        "colab_type": "code",
        "colab": {}
      },
      "cell_type": "code",
      "source": [
        "R = np.array([\n",
        "    [5, 3, 0, 1],\n",
        "    [4, 0, 0, 1],\n",
        "    [1, 1, 0, 5],\n",
        "    [1, 0, 0, 4],\n",
        "    [0, 1, 5, 4],\n",
        "])\n",
        "\n",
        "mf = MF(R, K=2, alpha=0.1, beta=0.01, iterations=35)"
      ],
      "execution_count": 0,
      "outputs": []
    },
    {
      "metadata": {
        "id": "DzzMgCHSl7rj",
        "colab_type": "text"
      },
      "cell_type": "markdown",
      "source": [
        "Let us now train to find the factors: "
      ]
    },
    {
      "metadata": {
        "id": "JEpo3oZN_B8m",
        "colab_type": "code",
        "colab": {
          "base_uri": "https://localhost:8080/",
          "height": 763
        },
        "outputId": "9aa4c003-1c61-4d3a-cbf5-f5936ee851ae"
      },
      "cell_type": "code",
      "source": [
        "mf.train()"
      ],
      "execution_count": 25,
      "outputs": [
        {
          "output_type": "stream",
          "text": [
            "Iteration: 5 ; error = 2.7999\n",
            "Iteration: 10 ; error = 0.2940\n",
            "Iteration: 15 ; error = 0.0560\n",
            "Iteration: 20 ; error = 0.0387\n",
            "Iteration: 25 ; error = 0.0389\n",
            "Iteration: 30 ; error = 0.0352\n",
            "Iteration: 35 ; error = 0.0382\n"
          ],
          "name": "stdout"
        },
        {
          "output_type": "execute_result",
          "data": {
            "text/plain": [
              "[(0, 5.752642896650235),\n",
              " (1, 5.229199500994099),\n",
              " (2, 4.641248110682202),\n",
              " (3, 3.808584963032192),\n",
              " (4, 2.799856854890366),\n",
              " (5, 1.9913787537196368),\n",
              " (6, 1.3025908595648872),\n",
              " (7, 0.8047023941205268),\n",
              " (8, 0.4839456204816969),\n",
              " (9, 0.2940425447291868),\n",
              " (10, 0.18749160668868325),\n",
              " (11, 0.12392128463715044),\n",
              " (12, 0.09190724752003421),\n",
              " (13, 0.06996260711484156),\n",
              " (14, 0.05599918788460633),\n",
              " (15, 0.04761998864118554),\n",
              " (16, 0.047190336917315154),\n",
              " (17, 0.04458374651623183),\n",
              " (18, 0.04163697392855308),\n",
              " (19, 0.038661973440210565),\n",
              " (20, 0.037475495036616166),\n",
              " (21, 0.04055050083475808),\n",
              " (22, 0.037575410580458705),\n",
              " (23, 0.037519512490771935),\n",
              " (24, 0.038876403451248785),\n",
              " (25, 0.03820656548731219),\n",
              " (26, 0.03459050610870689),\n",
              " (27, 0.03685386966673779),\n",
              " (28, 0.03825145491430218),\n",
              " (29, 0.0352293867698961),\n",
              " (30, 0.036228214449895206),\n",
              " (31, 0.034879795043571096),\n",
              " (32, 0.035951108096798544),\n",
              " (33, 0.036422158425615386),\n",
              " (34, 0.038192110066077326)]"
            ]
          },
          "metadata": {
            "tags": []
          },
          "execution_count": 25
        }
      ]
    },
    {
      "metadata": {
        "id": "znU8XqBpLBTp",
        "colab_type": "text"
      },
      "cell_type": "markdown",
      "source": [
        "And the matrix obtained from the above process would look something like this:\n",
        "\n"
      ]
    },
    {
      "metadata": {
        "id": "o816G2UHAvDO",
        "colab_type": "code",
        "colab": {
          "base_uri": "https://localhost:8080/",
          "height": 105
        },
        "outputId": "9701709f-a901-4293-93b5-214d7fd12072"
      },
      "cell_type": "code",
      "source": [
        "R_hat = mf.full_matrix()\n",
        "R_hat"
      ],
      "execution_count": 26,
      "outputs": [
        {
          "output_type": "execute_result",
          "data": {
            "text/plain": [
              "array([[4.99033689, 2.99552486, 4.29397838, 1.01378873],\n",
              "       [3.99370445, 1.81504496, 3.6410049 , 1.0095104 ],\n",
              "       [1.00821378, 1.00778679, 3.35267309, 4.98441118],\n",
              "       [1.01152164, 1.48680938, 3.03539437, 3.99243241],\n",
              "       [4.59224043, 1.0167107 , 4.98729209, 3.99518779]])"
            ]
          },
          "metadata": {
            "tags": []
          },
          "execution_count": 26
        }
      ]
    },
    {
      "metadata": {
        "id": "Xi1e82UVmQ_R",
        "colab_type": "text"
      },
      "cell_type": "markdown",
      "source": [
        "---\n",
        "\n",
        "\n",
        "## <font color=\"#b51555\">Exercise 1.5\n",
        "What would be the rating of item D3 for user U1. Write the code for it.\n",
        "  \n",
        "Hint: There is a built-in method in the MF class for getting rating; use it for this exercise.\n",
        "<font>\n",
        "\n"
      ]
    },
    {
      "metadata": {
        "id": "sllLGWze5UAM",
        "colab_type": "text"
      },
      "cell_type": "markdown",
      "source": [
        "\n",
        "\n",
        "## <font color=\"#b51555\">Exercise 1.6\n",
        " In the example above, we  used a dummy matrix of users and their movie ratings. Yout task now is to use a real-world dataset called MovieLens. It is a dataset containing 100,003 ratings from 671 users for  9066 movies.\n",
        "\n",
        " Here is the URL for *movies.csv* file containing movie names and associated movieIds:\n",
        "  \n",
        "  https://github.com/alexvlis/movie-recommendation-system/blob/master/data/movies.csv\n",
        "  \n",
        " Here is the URL for *ratings.csv* file containing userId, movieId, rating, and timestamp information:\n",
        "  \n",
        "  https://github.com/alexvlis/movie-recommendation-system/blob/master/data/ratings.csv\n",
        "  \n",
        "Your job is to read the ratings.csv file and somehow convert it to the same format as the rating matrix R above, i.e., a matrix of userIds (in rows) and movieIDs (in columns). Replace any missing movie rating with a 0.\n",
        "  \n",
        "Then train MF on this R matrix. Use alpha=0.04, beta=0.01, iterations=100, and number of latent factors K = 100.\n",
        "  \n",
        "Now tell us a list of **movie names** that you would highly recommend to user 671. These should be the movies that the user 671 hasn't rated. You should highly recommend only those movies to the user that s(he) would rate 4.9 or higher. Can you say something about the movie prefrences of the user 671 in terms of genre of the movies that s(he) is particularly into? \n",
        "  \n",
        "Hints:\n",
        " 1. Use pandas to read the ratings.csv file as a dataframe\n",
        " 2. Remove the timestamp column from the dataframe\n",
        " 3. Use pivot_table command in pandas to convert the dataframe into a rating matrix (userId as rows, columns as movieId as columns, and ratings as values )\n",
        " 4. Convert pandas dataframe to numpy array and use MF class on it to get matrix factorization-based estimation of R. This estimated matrix will have missing ratings filled with estimated values, which is what we want.  Use alpha=0.04, beta=0.01, iterations=100, and number of latent factors K = 100 during training.\n",
        " 5. Extract 671th row form the original ratings matrix (R) and the estimated ratings matrix (R_hat), and then use some programming logic to find the movieIds that wern't rated by this user, but are now predicted with a estimated rating of 4.9 or above. These are the highly recommended movieIds.\n",
        " 6. Read movies.csv file in pandas and now find the names and genres of the movies corresponding to the movieIds  you found in the previous step. This will give you the name of the movies that you should be recommending to user, and would also tell you something about the kind of movies s(he) is into.\n",
        "\n",
        "It is not as easy as it sounds, but give it a try; it is a good learning exercise. Google and stackoverflow are your friends for numpy and pandas data manipulation related questions.\n",
        "  \n",
        "<font>\n",
        "\n",
        "---"
      ]
    },
    {
      "metadata": {
        "id": "142MH-5Nn5KX",
        "colab_type": "text"
      },
      "cell_type": "markdown",
      "source": [
        "\n",
        "\n",
        "---\n",
        "\n",
        "\n",
        "## Sources and Attributions:\n",
        "1. Python Data Science Handbook by Jake VanderPlas\n",
        "2. Python Machine Learning by Sebastian Raschka\n",
        "3. Sklearn documentation\n",
        "4. Notes on machine learning and A.I. by Albert Au Yeung\n",
        "\n",
        "---\n",
        "\n"
      ]
    }
  ]
}