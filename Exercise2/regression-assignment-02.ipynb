{
 "cells": [
  {
   "cell_type": "markdown",
   "metadata": {},
   "source": [
    "# INF283 | Weekly Exercise 02 | Regression\n",
    "\n",
    "#### Deadline\n",
    "Sep 07, 2018 | 23:59\n",
    "\n",
    "#### What to deliver \n",
    "You can try out your Python code within this notebook. But you should make a PDF file of answers for each of the tasks, and then submit this PDF file on Mitt UiB.\n",
    "\n",
    "#### Where to deliver\n",
    "On [Mitt UiB](https://mitt.uib.no/courses/12791/assignments) in the assignments section.\n",
    "\n",
    "#### Note to students\n",
    "This is a Python notebook and all the examples are in Python. You are free to use any programming language you want to do the exercise questions in; we will grade your submissions. But, if you got stuck somewhere, we can provide help for Python only. Moreover, the solution provided after the deadline will also in be in Python.\n",
    "\n",
    "In case you want to learn Python, you can quickly learn it using these [set of short videos](https://www.youtube.com/watch?v=oVp1vrfL_w4&list=PLQVvvaa0QuDe8XSftW-RAxdo6OmaeL85M)."
   ]
  },
  {
   "cell_type": "markdown",
   "metadata": {},
   "source": [
    "## Table of Contents:\n",
    "[1. Univariate Linear Regression](#univariate)\n",
    "  * [Exercise 1.1](#exercise1_1)\n",
    "\n",
    "  * [Exercise 1.2](#exercise1_2)\n",
    "\n",
    "  * [Exercise 1.3](#exercise1_3)\n",
    "\n",
    "  * [Exercise 1.4](#exercise1_4)\n",
    "\n",
    "  * [Exercise 1.5](#exercise1_5)\n",
    "\n",
    "[2. Multivariate Linear Regression](#multivariate)\n",
    "  \n",
    "  * [Exercise 2.1](#exercise2_1)\n",
    "  \n",
    "  * [Exercise 2.2](#exercise2_2)\n",
    "  \n",
    "  * [Exercise 2.3](#exercise2_3)\n",
    "\n",
    "[3. Logistic Regression](#logistic)\n",
    "\n",
    "  * [Exercise 3.1](#exercise3_1)\n"
   ]
  },
  {
   "cell_type": "markdown",
   "metadata": {},
   "source": [
    "# 1. Univariate Linear Regression <a class=\"anchor\" id=\"univariate\"></a> \n",
    "In univariate regression, the response variable is modeled in terms of just one predictor variable. In this section, we will experiment with various ways in which we can perform linear regression."
   ]
  },
  {
   "cell_type": "markdown",
   "metadata": {},
   "source": [
    "# Linear Regression with Gradient Descent\n",
    "\n",
    "In the lecture, you saw the closed-form solution \n",
    "$$\\hat{w} = (X^TX)^{-1}X^Ty$$\n",
    "to find the best values of linear regression parameters.\n",
    "This closed-form solution exists only when the matrix X is invertible. Even if the matrix X is invertible, but is very large in its dimensions, it might not be possible to invert it with the compute resources that you might have at your disposal. In these scenarios, we can use gradient descent to find the best value of parameter estimates.\n",
    "\n",
    "Gradient descent attempts to find the *best* values for these parameters so that the value of some error function is minimized. We will be using Mean Squared Error (MSE) as our error function, which is the mean of the sum of squared error (SSE). Error functions are also called the loss functions.\n",
    "\n",
    "This code demonstrates how a gradient descent search may be used to solve the linear regression problem of fitting a line through a set of points. The goal is to model a set of points with a straight line. A straight line is defined by two parameters: the line's slope $w_0$ , and its y-intercept $w_1$ (some texts may denote $w_0$ and $w_1$ as $b$ and $m$, respectively, so don't get confused by the notation). \n",
    "\n",
    "$w_0$ and $w_1$ can take on any value, but only certain specific values of $w_0$ and $w_1$ will yield a line that minimizes the sum of squares error between the original points and the line that tries to model these points (refer to this [interactive demo](http://www.dangoldstein.com/regression.html) to get a better understanding of this concept).\n",
    "\n"
   ]
  },
  {
   "cell_type": "code",
   "execution_count": null,
   "metadata": {},
   "outputs": [],
   "source": [
    "# install numpy first. If you have it installed already then pip won't install it\n",
    "# and you will get requirement already satisfied message. That's normal.\n",
    "# !pip install numpy"
   ]
  },
  {
   "cell_type": "code",
   "execution_count": 1,
   "metadata": {},
   "outputs": [],
   "source": [
    "import numpy as np\n",
    "import matplotlib.pyplot as plt\n",
    "%matplotlib inline\n",
    "import pandas as pd"
   ]
  },
  {
   "cell_type": "markdown",
   "metadata": {},
   "source": [
    "### Finding the mean squared error (MSE)\n",
    "Now we define a function called `compute_error_for_line_given_points` to find the mean squared error between a line (modeled by parameters `w0` and `w1`) and a set of points to which it tries to model. Mathematically, it is given as:\n",
    "$$\n",
    "MSE = \\dfrac{1}{n} \\sum_{i=1}^{n} [y_i - (w_0 x_i + w_1)]^2 \n",
    "$$\n",
    "where `n` is the number of data points."
   ]
  },
  {
   "cell_type": "code",
   "execution_count": 26,
   "metadata": {},
   "outputs": [],
   "source": [
    "# We are now going to define a function which takes the parameters (w0 and w1) of \n",
    "# a line and then finds the mean-squared error between the user-specified points \n",
    "# and the line. \n",
    "def compute_error_for_line_given_points(w0, w1, points):\n",
    "    totalError = 0\n",
    "    for i in range(0, len(points)):\n",
    "        x = points[i, 0]\n",
    "        y = points[i, 1]\n",
    "        # accumulate 'sum of square' errors in totalError variable\n",
    "        totalError += (y - (w1 * x + w0)) ** 2\n",
    "    # find mean of sum of squared errors    \n",
    "    mse = totalError/len(points)\n",
    "    return mse\n",
    "\n",
    "# N.B.: Students who wish to do this excercise in R should implement this function in R themselves"
   ]
  },
  {
   "cell_type": "markdown",
   "metadata": {},
   "source": [
    "### Gradient Descent\n",
    "In gradient descent, we start with some initial values of $w_0$ and $w_1$ and then  refine these crude estimate until we can no longer see an appreciable decrease in the mean squared error. To refine the $w_0$ and $w_1$ estimates, we need to update them (make their values higher or lower) so that the mean squared error gets reduced. Taking partial derivative of MSE with respect to $w_0$ and $w_1$, can tells us whether to increase or decrease the values of these parameter to get an improved fit.\n",
    "\n",
    "\n",
    "If we take the partial derivative of the MSE function with respect of $w_0$, we get:\n",
    "$$\n",
    "\\frac{\\partial MSE}{\\partial w_0} =\\frac{\\partial}{\\partial w_0} \\left(\\dfrac{1}{n} \\sum_{i=1}^{n} [y_i - (w_1 x_i + w_0)]^2\\right)\n",
    "=-\\dfrac{2}{n}\\left( \\sum_{i=1}^{n} y_i - (w_1 x_i + w_0)\\right)\n",
    "$$\n",
    "\n",
    "If we take the partial derivative of the MSE function with respect of $w_1$, we get:\n",
    "$$\n",
    "\\frac{\\partial MSE}{\\partial w_1} =\\frac{\\partial}{\\partial w_1} \\left(\\dfrac{1}{n} \\sum_{i=1}^{n} [y_i - (w_1 x_i + w_0)]^2\\right) \n",
    "=-\\dfrac{2}{n}\\left( \\sum_{i=1}^{n} x_i[y_i - (w_1 x_i + w_0)]\\right)\n",
    "$$\n",
    "\n",
    "The gradient $\\nabla$ of MSE is just as a vector of these partial derivatives of MSE with respect to $w_0$ and $w_0$:\n",
    "$$\n",
    "\\nabla MSE(w_0, w_1) = \\left(\\frac{\\partial MSE}{\\partial w_0}, \\frac{\\partial MSE}{\\partial w_1}\\right)\n",
    "$$\n",
    "\n",
    "\n",
    "We can now define the update rule for $w_0$ and $w_1$. Update rule modify the current value of the parameter such that the updated parameter values cause a decrease in the MSE.\n",
    "\n",
    "Update rule for the weight vector of $w_0$ and $w_1$:\n",
    "$$\n",
    "(w_0, w_1)_{t+1} =(w_0, w_1)_{t} - \\eta \\left(\\frac{\\partial MSE}{\\partial w_0}, \\frac{\\partial MSE}{\\partial w_1}\\right)\n",
    "$$\n",
    "\n",
    "\n",
    "where $\\eta$ is the learning rate.\n",
    "\n",
    "The `step_gradient` function below shows you how to implement the gradient descent."
   ]
  },
  {
   "cell_type": "code",
   "execution_count": 27,
   "metadata": {},
   "outputs": [],
   "source": [
    "def step_gradient(w0_current, w1_current, points, learningRate):\n",
    "    #initialize the partial derivatives for the cummlative sum\n",
    "    w0_par_der = 0\n",
    "    w1_par_der = 0\n",
    "    \n",
    "    n = len(points)\n",
    "    \n",
    "    # computation for the summation\n",
    "    for i in range(0, len(points)):\n",
    "        x = points[i, 0]\n",
    "        y = points[i, 1]\n",
    "        # partial derivative (of MSE) with respect to w0\n",
    "        w0_par_der += (y - ((w1_current * x) + w0_current))\n",
    "        # partial derivative (of MSE) with respect to w1\n",
    "        w1_par_der += x * (y - ((w1_current * x) + w0_current))\n",
    "        \n",
    "    # multiplcation of summation results with -2/n\n",
    "    w0_par_der = -(2/n) * w0_par_der\n",
    "        # partial derivative (of MSE) with respect to w1\n",
    "    w1_par_der = -(2/n) * w1_par_der\n",
    "         \n",
    "    # make a gradient vector from the partial derivatives    \n",
    "    gradient_mse = np.array([w0_par_der, w1_par_der])\n",
    "    \n",
    "    # make a vector of weights\n",
    "    weight_vector = np.array([w0_current, w1_current])\n",
    "    \n",
    "    # update rule for weights\n",
    "    updated_weight_vector = weight_vector - (learningRate * gradient_mse)\n",
    "    \n",
    "    # return the updated weight vector as a list\n",
    "    return np.ndarray.tolist(updated_weight_vector)\n",
    "\n",
    "# N.B. Students who wish to do this excercise in R should implement this function in R themselves"
   ]
  },
  {
   "cell_type": "markdown",
   "metadata": {},
   "source": [
    "### Running Gradient Descent Iteratively\n",
    "Gradient descent is an iterative method of improving the parameter estimates. Therefore, we run `step_gradient` function until we reach the absolute minimum of error, or until we have executed the `gradient_step` function a certain number of times, or if the error is small. Here we implement a function called `gradient_descent_runner` that runs the gradient_step function for `num_iterations` times. In the exercise later on, we will ask you to make some changes in this function."
   ]
  },
  {
   "cell_type": "code",
   "execution_count": 28,
   "metadata": {},
   "outputs": [],
   "source": [
    "def gradient_descent_runner(points, starting_w0, starting_w1, learning_rate, num_iterations):\n",
    "    w0 = starting_w0\n",
    "    w1 = starting_w1\n",
    "    for i in range(num_iterations):\n",
    "        w0, w1 = step_gradient(w0, w1, points, learning_rate)\n",
    "        mse = compute_error_for_line_given_points(w0, w1, points)\n",
    "        print(f'Iteration {i+1}: w0={w0:0.5f}, w1={w1:0.5f}, mse={mse:0.5f}')\n",
    "    return [w0, w1, mse]\n",
    "# N.B.: Students who wish to do this exercise in R should implement this function in R themselves"
   ]
  },
  {
   "cell_type": "markdown",
   "metadata": {},
   "source": [
    "### Bringing it all together\n",
    "All the functions we have define above won't do anything unless we call them. But we first need the data. We will generate the data points from a straight line and then add noise to it: \n",
    "$$\n",
    "y = 4 + 3x + noise\n",
    "$$\n",
    "The the slope ($w_0$) of the line is 3, and y-intercept ($w_1$) of the line of the line is 4.\n",
    "\n",
    "We will then use gradient descent to estimate the parameters of the line that generated this noisy linear data. If everything works correctly, then the parameters estimates should be close to the actual values of $w_0$ and $w_1$ used to generate the original data.\n",
    "\n",
    "The first column is the x values, and the second column contains the y-values."
   ]
  },
  {
   "cell_type": "code",
   "execution_count": 29,
   "metadata": {},
   "outputs": [
    {
     "data": {
      "text/plain": [
       "<matplotlib.collections.PathCollection at 0x2a4d1242390>"
      ]
     },
     "execution_count": 29,
     "metadata": {},
     "output_type": "execute_result"
    },
    {
     "data": {
      "image/png": "[encoded data removed]",
      "text/plain": [
       "<Figure size 432x288 with 1 Axes>"
      ]
     },
     "metadata": {},
     "output_type": "display_data"
    }
   ],
   "source": [
    "np.random.seed(2)\n",
    "\n",
    "# generate 100 x values from 0 to 2 randomly, then sort them in ascending order\n",
    "X = 2 * np.random.rand(100, 1)\n",
    "X.sort(axis=0)\n",
    "\n",
    "# generate y values and add noise to it\n",
    "y = 4 + 3 * X + np.random.rand(100, 1)\n",
    "\n",
    "# let us plot the data\n",
    "plt.scatter(X, y)"
   ]
  },
  {
   "cell_type": "code",
   "execution_count": 30,
   "metadata": {},
   "outputs": [
    {
     "name": "stdout",
     "output_type": "stream",
     "text": [
      "Iteration 1: w0=1.44691, w1=1.50194, mse=20.14308\n",
      "Iteration 2: w0=2.32806, w1=2.39849, mse=7.47831\n",
      "Iteration 3: w0=2.86801, w1=2.93046, mse=2.87255\n",
      "Iteration 4: w0=3.20208, w1=3.24295, mse=1.19394\n",
      "Iteration 5: w0=3.41183, w1=3.42341, mse=0.57873\n",
      "Iteration 6: w0=3.54643, w1=3.52453, mse=0.35003\n",
      "Iteration 7: w0=3.63550, w1=3.57805, mse=0.26199\n",
      "Iteration 8: w0=3.69691, w1=3.60309, mse=0.22532\n",
      "Iteration 9: w0=3.74143, w1=3.61118, mse=0.20757\n",
      "Iteration 10: w0=3.77555, w1=3.60925, mse=0.19693\n",
      "Iteration 11: w0=3.80321, w1=3.60148, mse=0.18912\n",
      "Iteration 12: w0=3.82676, w1=3.59037, mse=0.18255\n",
      "Iteration 13: w0=3.84765, w1=3.57743, mse=0.17664\n",
      "Iteration 14: w0=3.86674, w1=3.56358, mse=0.17117\n",
      "Iteration 15: w0=3.88456, w1=3.54934, mse=0.16604\n",
      "Iteration 16: w0=3.90144, w1=3.53503, mse=0.16122\n",
      "Iteration 17: w0=3.91758, w1=3.52085, mse=0.15667\n",
      "Iteration 18: w0=3.93309, w1=3.50690, mse=0.15238\n",
      "Iteration 19: w0=3.94807, w1=3.49325, mse=0.14833\n",
      "Iteration 20: w0=3.96257, w1=3.47992, mse=0.14451\n",
      "Iteration 21: w0=3.97662, w1=3.46694, mse=0.14090\n",
      "Iteration 22: w0=3.99025, w1=3.45430, mse=0.13750\n",
      "Iteration 23: w0=4.00348, w1=3.44201, mse=0.13428\n",
      "Iteration 24: w0=4.01632, w1=3.43005, mse=0.13125\n",
      "Iteration 25: w0=4.02880, w1=3.41844, mse=0.12838\n",
      "Iteration 26: w0=4.04092, w1=3.40715, mse=0.12568\n",
      "Iteration 27: w0=4.05269, w1=3.39618, mse=0.12313\n",
      "Iteration 28: w0=4.06412, w1=3.38552, mse=0.12072\n",
      "Iteration 29: w0=4.07523, w1=3.37516, mse=0.11844\n",
      "Iteration 30: w0=4.08603, w1=3.36510, mse=0.11630\n",
      "Iteration 31: w0=4.09651, w1=3.35533, mse=0.11427\n",
      "Iteration 32: w0=4.10670, w1=3.34583, mse=0.11236\n",
      "Iteration 33: w0=4.11660, w1=3.33660, mse=0.11055\n",
      "Iteration 34: w0=4.12622, w1=3.32763, mse=0.10885\n",
      "Iteration 35: w0=4.13556, w1=3.31892, mse=0.10724\n",
      "Iteration 36: w0=4.14464, w1=3.31046, mse=0.10572\n",
      "Iteration 37: w0=4.15346, w1=3.30223, mse=0.10429\n",
      "Iteration 38: w0=4.16203, w1=3.29424, mse=0.10293\n",
      "Iteration 39: w0=4.17035, w1=3.28648, mse=0.10166\n",
      "Iteration 40: w0=4.17844, w1=3.27894, mse=0.10045\n",
      "Iteration 41: w0=4.18630, w1=3.27162, mse=0.09931\n",
      "Iteration 42: w0=4.19393, w1=3.26450, mse=0.09824\n",
      "Iteration 43: w0=4.20135, w1=3.25758, mse=0.09722\n",
      "Iteration 44: w0=4.20856, w1=3.25086, mse=0.09627\n",
      "Iteration 45: w0=4.21556, w1=3.24433, mse=0.09536\n",
      "Iteration 46: w0=4.22236, w1=3.23799, mse=0.09451\n",
      "Iteration 47: w0=4.22897, w1=3.23183, mse=0.09371\n",
      "Iteration 48: w0=4.23539, w1=3.22584, mse=0.09295\n",
      "Iteration 49: w0=4.24163, w1=3.22002, mse=0.09223\n",
      "Iteration 50: w0=4.24769, w1=3.21437, mse=0.09155\n"
     ]
    }
   ],
   "source": [
    "# combine the x and y values into a single array called points\n",
    "points = np.column_stack((X, y))\n",
    "\n",
    "num_iterations = 100\n",
    "learning_rate = 0.1\n",
    "initial_w0 = 0 # initial y-intercept guess\n",
    "initial_w1 = 0 # initial slope guess\n",
    "early_stop = 0.00064\n",
    "[w0, w1, mse] = gradient_descent_runner_early_stop(points, initial_w0, initial_w1, learning_rate, num_iterations, early_stop)"
   ]
  },
  {
   "cell_type": "markdown",
   "metadata": {},
   "source": [
    "## Exercise 1.1 <a class=\"anchor\" id=\"exercise1_1\"></a> \n",
    "As you can see, the mean squared error decreases every iteration of gradient descent. Currently the gradient descent runs for 20 iterations. Making changes in the above code so that it now runs for 100 iterations. Observing the mean squared error now. You will see that the mean squared error stops decreasing any further by an appreciable amount after 50 iterations. But since you have specified that the gradient descent should run for 100 iterations, therefore, the program will run for 100 iterations, although the last 50 iterations would be pretty much useless and a waste of your compute resources. In our case, we have a very small dataset, and each iteration takes a very small amount of time, but real-world datasets can be huge, and each iteration of gradient descent will take a considerable amount of time. So you can't afford to run gradient descent if it no longer yields a decrease in the loss.\n",
    "\n",
    "Your task is to now modify `gradient_descent_runner` function to implement an early stop such that if the improvement in error loss between two consecutive iterations of gradient descent steps is less than a certain user-specified threshold then the algorithm stops, otherwise the algorithm runs for a maximum of `num_iterations`. Name your function as `gradient_descent_runner_early_stop`\n",
    "\n",
    "Paste the code for modified `gradient_descent_runner_early_stop` function in the block provided below (the code can be Python or R):"
   ]
  },
  {
   "cell_type": "code",
   "execution_count": 31,
   "metadata": {},
   "outputs": [],
   "source": [
    "# TODO:\n",
    "# Paste your code below for the modified gradient_descent_runner_early_stop function\n",
    "def gradient_descent_runner_early_stop(points, starting_w0, starting_w1, learning_rate, num_iterations, early_stop):\n",
    "    w0 = starting_w0\n",
    "    w1 = starting_w1\n",
    "    mse_t0 = 1e4 # Set to a high number for case 0\n",
    "    for i in range(num_iterations):\n",
    "        w0, w1 = step_gradient(w0, w1, points, learning_rate)\n",
    "        mse_t1 = compute_error_for_line_given_points(w0, w1, points)\n",
    "        if(mse_t0 - mse_t1 < early_stop):\n",
    "            break;\n",
    "        else:\n",
    "            print(f'Iteration {i+1}: w0={w0:0.5f}, w1={w1:0.5f}, mse={mse_t1:0.5f}')\n",
    "            mse_t0 = mse_t1\n",
    "    return [w0, w1, mse_t0]\n",
    "# N.B.: Students who wish to do this exercise in R should implement this function in R themselves"
   ]
  },
  {
   "cell_type": "markdown",
   "metadata": {},
   "source": [
    "## Exercise 1.2<a class=\"anchor\" id=\"exercise1_2\"></a> \n",
    "In the program above we had set the learning rate to 0.1. Using the original `gradient_descent_runner` function, first set the number of iterations to 100. Then try to run the code with two different values of learning rates:\n",
    "1. a learning rate of 0.001\n",
    "2. a learning rate of 1\n",
    "\n",
    "Explain what you observe."
   ]
  },
  {
   "cell_type": "code",
   "execution_count": 32,
   "metadata": {},
   "outputs": [
    {
     "name": "stdout",
     "output_type": "stream",
     "text": [
      "---------------------\n",
      "Learning rate: 1\n",
      "Iteration 1: w0=14.46909, w1=15.01936, mse=483.98307\n",
      "Iteration 2: w0=-27.63731, w1=-30.49961, mse=4278.09221\n",
      "Iteration 3: w0=98.22913, w1=104.24335, mse=37827.69970\n",
      "Iteration 4: w0=-275.57959, w1=-296.87049, mse=334488.31203\n",
      "Iteration 5: w0=836.32392, w1=895.57718, mse=2957692.12000\n",
      "Iteration 6: w0=-2469.81803, w1=-2650.53870, mse=26153214.73718\n",
      "Iteration 7: w0=7361.57780, w1=7894.11599, mse=231258234.25651\n",
      "Iteration 8: w0=-21873.17401, w1=-23461.83812, mse=2044887084.99066\n",
      "Iteration 9: w0=65060.07599, w1=69778.89935, mse=18081791573.71681\n",
      "Iteration 10: w0=-193446.66542, w1=-207484.06081, mse=159887159014.96710\n",
      "Iteration 11: w0=575255.24824, w1=616991.70891, mse=1413792627447.72021\n",
      "Iteration 12: w0=-1710575.23215, w1=-1834689.31487, mse=12501376631748.20508\n",
      "Iteration 13: w0=5086625.32639, w1=5455688.36666, mse=110542674119727.78125\n",
      "Iteration 14: w0=-15125693.84330, w1=-16223154.19855, mse=977466975157565.87500\n",
      "Iteration 15: w0=44978144.95253, w1=48241573.84178, mse=8643193184279693.00000\n",
      "Iteration 16: w0=-133748076.75330, w1=-143452293.10243, mse=76426918064149024.00000\n",
      "Iteration 17: w0=397716517.97302, w1=426573203.61809, mse=675800445535331328.00000\n",
      "Iteration 18: w0=-1182659393.00270, w1=-1268468333.67868, mse=5975724963846049792.00000\n",
      "Iteration 19: w0=3516784454.77990, w1=3771947980.47366, mse=52839990087970406400.00000\n",
      "Iteration 20: w0=-10457594884.37900, w1=-11216355291.73292, mse=467234447600781295616.00000\n",
      "Iteration 21: w0=31096955875.25883, w1=33353224079.88281, mse=4131492618779039891456.00000\n",
      "Iteration 22: w0=-92470656462.01787, w1=-99179949908.28885, mse=36532476033552508518400.00000\n",
      "Iteration 23: w0=274972969798.20129, w1=294923886273.86646, mse=323036231282558565875712.00000\n",
      "Iteration 24: w0=-817666241443.79883, w1=-876992766890.67065, mse=2856428527466854475628544.00000\n",
      "Iteration 25: w0=2431432016415.39111, w1=2607846800439.97363, mse=25257798173696697995100160.00000\n",
      "Iteration 26: w0=-7230164767415.85742, w1=-7754756015417.61426, mse=223340567582466410811490304.00000\n",
      "Iteration 27: w0=21499791979058.07812, w1=23059729140774.07422, mse=1974875592283573006056292352.00000\n",
      "Iteration 28: w0=-63932298918752.21875, w1=-68570965609787.70312, mse=17462719143298099615167938560.00000\n",
      "Iteration 29: w0=190110622885071.78125, w1=203904273808046.31250, mse=154413048127804340884759117824.00000\n",
      "Iteration 30: w0=-565317524083972.75000, w1=-606334656475201.50000, mse=1365388129790218217853185687552.00000\n",
      "Iteration 31: w0=1681041796542035.50000, w1=1803011328683601.00000, mse=12073362760308960054034821021696.00000\n",
      "Iteration 32: w0=-4998786348079800.00000, w1=-5361477884605017.00000, mse=106757987096615000594771899056128.00000\n",
      "Iteration 33: w0=14864511403077568.00000, w1=15943019685903008.00000, mse=944001106832421675571884142362624.00000\n",
      "Iteration 34: w0=-44201468889963352.00000, w1=-47408547078958272.00000, mse=8347273247990020007291641114132480.00000\n",
      "Iteration 35: w0=131438551799683552.00000, w1=140975196695336864.00000, mse=73810263751077128144318538417438720.00000\n",
      "Iteration 36: w0=-390848841295428480.00000, w1=-419207238099683328.00000, mse=652662836491594575934357806744862720.00000\n",
      "Iteration 37: w0=1162237522023175168.00000, w1=1246564733333531392.00000, mse=5771132041660505993278291015708442624.00000\n",
      "Iteration 38: w0=-3456057469996573696.00000, w1=-3706814895265212416.00000, mse=51030889427254011544005774131561758720.00000\n",
      "Iteration 39: w0=10277015678453497856.00000, w1=11022673993845168128.00000, mse=451237583361087579455046851961502564352.00000\n",
      "Iteration 40: w0=-30559981184364912640.00000, w1=-32777288698657177600.00000, mse=3990041304841726917243677067779583770624.00000\n",
      "Iteration 41: w0=90873895614147133440.00000, w1=97467334608191717376.00000, mse=35281701262022953199434757190323458277376.00000\n",
      "Iteration 42: w0=-270224803289993510912.00000, w1=-289831212183648305152.00000, mse=311976330278117040116721539261662576508928.00000\n",
      "Iteration 43: w0=803546979246565752832.00000, w1=861849068649743384576.00000, mse=2758632015247104779556976841012464333094912.00000\n",
      "Iteration 44: w0=-2389446638484020264960.00000, w1=-2562815134837079277568.00000, mse=24393038371732209780361586873318785501102080.00000\n",
      "Iteration 45: w0=7105316037048609538048.00000, w1=7620848770701920829440.00000, mse=215693980826761637884735389238744033477525504.00000\n",
      "Iteration 46: w0=-21128538789370314883072.00000, w1=-22661539334791335247872.00000, mse=1907261106874226489114903490506882505349529600.00000\n",
      "Iteration 47: w0=62828331498025426878464.00000, w1=67386898818488688705536.00000, mse=16864842105708712739711165366048617210115522560.00000\n",
      "Iteration 48: w0=-186827838790806020292608.00000, w1=-200383304297499108311040.00000, mse=149126356231643938261551691917602954545528307712.00000\n",
      "Iteration 49: w0=555555758286219063066624.00000, w1=595864616790576022421504.00000, mse=1318640873334915051842443554696386119946685382656.00000\n",
      "Iteration 50: w0=-1652013974804723664945152.00000, w1=-1771877366668474309410816.00000, mse=11660002944942192203113746899168229287494959497216.00000\n",
      "Iteration 51: w0=4912468518675780716199936.00000, w1=5268897185777084987867136.00000, mse=103102877686645173842567246792470233789410303803392.00000\n",
      "Iteration 52: w0=-14607834627932368389799936.00000, w1=-15667719491494545545232384.00000, mse=911681020790687006525494654614755034375591668219904.00000\n",
      "Iteration 53: w0=43438208653302789820121088.00000, w1=46589907794519582543183872.00000, mse=8061484822916908200737727233861485309732380420866048.00000\n",
      "Iteration 54: w0=-129168902788636191102074880.00000, w1=-138540871214868894857560064.00000, mse=71283196719129907183119554986741687305746551937171456.00000\n",
      "Iteration 55: w0=384099758366797593449594880.00000, w1=411968469257898883547136000.00000, mse=630317397615541306417489204923377845798106838981410816.00000\n",
      "Iteration 56: w0=-1142168286579359359952748544.00000, w1=-1225039356071851362149728256.00000, mse=5573543836737152609823174573091584356095308478296358912.00000\n",
      "Iteration 57: w0=3396379108423821020629041152.00000, w1=3642806515334215211702812672.00000, mse=49283727559394247434516007898837238646847281382620659712.00000\n",
      "Iteration 58: w0=-10099554666050775603411419136.00000, w1=-10832337134630864381504651264.00000, mse=435788409187520490428162182095132556608201019125273722880.00000\n",
      "Iteration 59: w0=30032278846481371231888080896.00000, w1=32211298432779203032867930112.00000, mse=3853432907511270220361190834184050088547874980135404830720.00000\n",
      "Iteration 60: w0=-89304707240670524802705915904.00000, w1=-95784292330458461581602717696.00000, mse=34073749690532111940667211104400615502597305230921039872000.00000\n",
      "Iteration 61: w0=265558626973000207057415045120.00000, w1=284826477156547651947057905664.00000, mse=301295090855203036249609395694965927170408637555319297277952.00000\n",
      "Iteration 62: w0=-789671525037693513313755856896.00000, w1=-846966868111548457562834731008.00000, mse=2664183795382791572931672553194884232068056180272467827228672.00000\n",
      "Iteration 63: w0=2348186253872888295693007978496.00000, w1=2518561065109161754053750816768.00000, mse=23557885644381030726539050674610621314427974129046484475183104.00000\n",
      "Iteration 64: w0=-6982623164250967163832618713088.00000, w1=-7489253803784422328528116121600.00000, mse=208309192855065064947028634602912421745250874469166078528323584.00000\n",
      "Iteration 65: w0=20763696309659724232710741295104.00000, w1=22270225373736721344467606437888.00000, mse=1841961561532522476831107804379992869084720630097411651722543104.00000\n",
      "Iteration 66: w0=-61743427118771761941526809149440.00000, w1=-66223278205154421749547479859200.00000, mse=16287434787018486650977586300644854780074782160751690660947427328.00000\n",
      "Iteration 67: w0=183601741015521157820071649738752.00000, w1=196923134033889442017187492528128.00000, mse=144020666598853990250914334254486203411231173749519539955786842112.00000\n",
      "Iteration 68: w0=-545962556290981348904441237995520.00000, w1=-585575371210041818387875887054848.00000, mse=1273494118552673455077107524897891565401166887522069481143077437440.00000\n",
      "Iteration 69: w0=1623487398447840795783195541897216.00000, w1=1741281018352914056177197391020032.00000, mse=11260795469760408384623206608830265277837470997865325589865774972928.00000\n",
      "Iteration 70: w0=-4827641204599728969524468856651776.00000, w1=-5177915147986273575495390206099456.00000, mse=99572909497133192570033089533811624648063390943004518831843014868992.00000\n",
      "Iteration 71: w0=14355590085042411592695539019284480.00000, w1=15397173114025081183807555988619264.00000, mse=880467488495750081567187020626454533612530541660269073983520093765632.00000\n",
      "Iteration 72: w0=-42688128209158138889040242619187200.00000, w1=-45785404574552828940679790926495744.00000, mse=7785481033074900999288024921775242600792891169751720456789496002772992.00000\n",
      "Iteration 73: w0=126938445525845471052227808346505216.00000, w1=136148581075962961826456111314632704.00000, mse=68842649738181218533584181044008979133013763682734410216261928339111936.00000\n",
      "Iteration 74: w0=-377467216964110262335345386827284480.00000, w1=-404854697719553774449005302822993920.00000, mse=608737007108486612795773084061540387004468353540123052277587788722864128.00000\n",
      "Iteration 75: w0=1122445601822186206968016250557431808.00000, w1=1203885673800306984933711245190627328.00000, mse=5382720526195531702561829509472065230284562213438392075446532468585267200.00000\n",
      "Iteration 76: w0=-3337731258314180793361471344958504960.00000, w1=-3579903416572400869471482656787005440.00000, mse=47596383864934143513298404876713260929699419436370212879973230884736204800.00000\n",
      "Iteration 77: w0=9925158007338687326677383318253600768.00000, w1=10645286966104852017096262958624800768.00000, mse=420868173629543369185923125322353881928864810372146107034292713060460134400.00000\n",
      "Iteration 78: w0=-29513688744489849159455774932669038592.00000, w1=-31655081549440997161993221534665146368.00000, mse=3721501618209380260108234567994578190509296341295883965373466255756944736256.00000\n",
      "Iteration 79: w0=87762615231169619650215142124419022848.00000, w1=94130312418286196410991191490796978176.00000, mse=32907155166657270641074492464965857891098258905433395411300945094356542423040.00000\n",
      "Iteration 80: w0=-260973025056121685005178944705401978880.00000, w1=-279908162679196575954074590267800813568.00000, mse=290979548648830703285534725720587796918255626150557628785683345512559049441280.00000\n",
      "Iteration 81: w0=776035668804390658836947263705453690880.00000, w1=832341649800189021732498188851654688768.00000, mse=2572969231252996251284896963237534779044264223591455070621863157514006654091264.00000\n",
      "Iteration 82: w0=-2307638343568915312550838407775861604352.00000, w1=-2475071163916402514857348543648188334080.00000, mse=22751326324188509146961656019772499095661281879923023643051829954111662985314304.00000\n",
      "Iteration 83: w0=6862048922202014860208986241966020755456.00000, w1=7359931186816243184071927398203907899392.00000, mse=201177240373620364786729227970216193922724317113347331128856826793513583019819008.00000\n",
      "Iteration 84: w0=-20405153841337885728554183747108012556288.00000, w1=-21885668527185808389575824383745904869376.00000, mse=1778897698870264418982915717649507503413267290233914529407852322216781660983132160.00000\n",
      "Iteration 85: w0=60677256605021953611926392030190322581504.00000, w1=65079750710148908547623744916423192870912.00000, mse=15729796358519241803249112912736978046888009183417527021380088906986155274485628928.00000\n",
      "Iteration 86: w0=-180431350713613976291966542397146373554176.00000, w1=-193522713150574094828435633377734970834944.00000, mse=139089782193557214171927236669006749485832775503971717786891989438259497043327188992.00000\n",
      "Iteration 87: w0=536535007379431814320424037277263286239232.00000, w1=575463797824890356492338182906794454548480.00000, mse=1229893068524910216309425181431671369776117097016098839832140481521185865462408282112.00000\n",
      "Iteration 88: w0=-1595453412087806251855701199253433026084864.00000, w1=-1711213000354029319541744900561577114075136.00000, mse=10875255796293025285295928496194230999169425574770498560340837785070741908995912499200.00000\n",
      "Iteration 89: w0=4744278667994713598651003712535234040823808.00000, w1=5088504165941790430329543143454988138708992.00000, mse=96163798025673345738404138366693885055497582427390938104284534213158417744665050611712.00000\n",
      "Iteration 90: w0=-14107701239696825391296737384445637071732736.00000, w1=-15131298465737488701811936234413488229842944.00000, mse=850322624491703831331366411981192672048541533448139108085233072488065918743388220293120.00000\n",
      "Iteration 91: w0=41950999972071069686670805760857262998421504.00000, w1=44994793320927529114291981318353321010921472.00000, mse=7518926878589209890182192910785831296898199205898777852674795438531594733872808653225984.00000\n",
      "Iteration 92: w0=-124746503257714722814426188512112520917417984.00000, w1=-133797600422543194761130508521173045429141504.00000, mse=66485660591902634795055666766229797885092329928934835952822650371861751685666357320351744.00000\n",
      "Iteration 93: w0=370949204676580590032388661388534181514969088.00000, w1=397863765061550408529674735174725777913544704.00000, mse=587895471749961696544752334695828512195281708012997560995003178178814853013901715481559040.00000\n",
      "Iteration 94: w0=-1103063483598510878170775201472932406062219264.00000, w1=-1183097268180019533078331315254312887765696512.00000, mse=5198430498052447539221801357635157012912247466598805013449631315651389393941683404151980032.00000\n",
      "Iteration 95: w0=3280096125045826087020508383840831635399376896.00000, w1=3518086513252807664630488747670772987690221568.00000, mse=45966810328784589339026911796602611803666177101956093127489373582305028142955470413197475840.00000\n",
      "Iteration 96: w0=-9753772787801452863977600772209793625673957376.00000, w1=-10461466734490026920215571725562178770231623680.00000, mse=406458767236390762407179613716751529508205356316450557064611935829813463947660987619155640320.00000\n",
      "Iteration 97: w0=29004053530512613963247408318721787108066852864.00000, w1=31108469284244979842034019313427171449856065536.00000, mse=3594087305202300763901003531279963428169800230256805679564164627480215162348447341707148656640.00000\n",
      "Iteration 98: w0=-86247151692207955587412332563630536384827097088.00000, w1=-92504893029800104724501530693616613812103806976.00000, mse=31780501735133472093173500347123796494660214212198951120927688346242647052865432552506348535808.00000\n",
      "Iteration 99: w0=256466606200173426436794775495214249501752557568.00000, w1=275074776462517091059026990066518490072643272704.00000, mse=281017183159375571197311461778383885470349428665723465788910567716191712425222793954238465572864.00000\n",
      "Iteration 100: w0=-762635273226968246567423500685033147792715939840.00000, w1=-817968976208946848237177385412072321149126574080.00000, mse=2484877611089682799838510328000979603230359258918849193376657384284373755208576534866792783282176.00000\n",
      "---------------------\n",
      "Learning rate: 0.001\n",
      "Iteration 1: w0=0.01447, w1=0.01502, mse=54.56336\n",
      "Iteration 2: w0=0.02888, w1=0.02998, mse=54.13273\n",
      "Iteration 3: w0=0.04324, w1=0.04488, mse=53.70551\n",
      "Iteration 4: w0=0.05754, w1=0.05972, mse=53.28169\n",
      "Iteration 5: w0=0.07178, w1=0.07449, mse=52.86122\n",
      "Iteration 6: w0=0.08597, w1=0.08921, mse=52.44409\n",
      "Iteration 7: w0=0.10010, w1=0.10387, mse=52.03026\n",
      "Iteration 8: w0=0.11418, w1=0.11847, mse=51.61972\n",
      "Iteration 9: w0=0.12820, w1=0.13301, mse=51.21243\n",
      "Iteration 10: w0=0.14217, w1=0.14750, mse=50.80837\n",
      "Iteration 11: w0=0.15609, w1=0.16192, mse=50.40752\n",
      "Iteration 12: w0=0.16994, w1=0.17629, mse=50.00984\n",
      "Iteration 13: w0=0.18375, w1=0.19060, mse=49.61532\n",
      "Iteration 14: w0=0.19750, w1=0.20485, mse=49.22392\n",
      "Iteration 15: w0=0.21120, w1=0.21904, mse=48.83563\n",
      "Iteration 16: w0=0.22484, w1=0.23318, mse=48.45042\n",
      "Iteration 17: w0=0.23843, w1=0.24726, mse=48.06826\n",
      "Iteration 18: w0=0.25197, w1=0.26128, mse=47.68913\n",
      "Iteration 19: w0=0.26545, w1=0.27525, mse=47.31301\n",
      "Iteration 20: w0=0.27888, w1=0.28915, mse=46.93987\n",
      "Iteration 21: w0=0.29226, w1=0.30301, mse=46.56969\n",
      "Iteration 22: w0=0.30559, w1=0.31681, mse=46.20245\n",
      "Iteration 23: w0=0.31887, w1=0.33055, mse=45.83811\n",
      "Iteration 24: w0=0.33209, w1=0.34423, mse=45.47667\n",
      "Iteration 25: w0=0.34526, w1=0.35786, mse=45.11809\n",
      "Iteration 26: w0=0.35838, w1=0.37144, mse=44.76235\n",
      "Iteration 27: w0=0.37145, w1=0.38496, mse=44.40944\n",
      "Iteration 28: w0=0.38447, w1=0.39843, mse=44.05932\n",
      "Iteration 29: w0=0.39743, w1=0.41184, mse=43.71198\n",
      "Iteration 30: w0=0.41035, w1=0.42520, mse=43.36740\n",
      "Iteration 31: w0=0.42322, w1=0.43850, mse=43.02554\n",
      "Iteration 32: w0=0.43603, w1=0.45175, mse=42.68640\n",
      "Iteration 33: w0=0.44880, w1=0.46495, mse=42.34994\n",
      "Iteration 34: w0=0.46151, w1=0.47809, mse=42.01616\n",
      "Iteration 35: w0=0.47418, w1=0.49118, mse=41.68502\n",
      "Iteration 36: w0=0.48680, w1=0.50422, mse=41.35650\n",
      "Iteration 37: w0=0.49936, w1=0.51721, mse=41.03059\n",
      "Iteration 38: w0=0.51188, w1=0.53014, mse=40.70727\n",
      "Iteration 39: w0=0.52435, w1=0.54302, mse=40.38651\n",
      "Iteration 40: w0=0.53677, w1=0.55585, mse=40.06829\n",
      "Iteration 41: w0=0.54915, w1=0.56862, mse=39.75259\n",
      "Iteration 42: w0=0.56147, w1=0.58135, mse=39.43940\n",
      "Iteration 43: w0=0.57375, w1=0.59402, mse=39.12869\n",
      "Iteration 44: w0=0.58598, w1=0.60665, mse=38.82044\n",
      "Iteration 45: w0=0.59816, w1=0.61922, mse=38.51464\n",
      "Iteration 46: w0=0.61029, w1=0.63174, mse=38.21127\n",
      "Iteration 47: w0=0.62238, w1=0.64421, mse=37.91029\n",
      "Iteration 48: w0=0.63442, w1=0.65663, mse=37.61171\n",
      "Iteration 49: w0=0.64641, w1=0.66900, mse=37.31549\n",
      "Iteration 50: w0=0.65835, w1=0.68132, mse=37.02162\n",
      "Iteration 51: w0=0.67025, w1=0.69359, mse=36.73008\n",
      "Iteration 52: w0=0.68210, w1=0.70580, mse=36.44085\n",
      "Iteration 53: w0=0.69391, w1=0.71798, mse=36.15392\n",
      "Iteration 54: w0=0.70567, w1=0.73010, mse=35.86926\n",
      "Iteration 55: w0=0.71738, w1=0.74217, mse=35.58686\n",
      "Iteration 56: w0=0.72905, w1=0.75419, mse=35.30669\n",
      "Iteration 57: w0=0.74068, w1=0.76617, mse=35.02875\n",
      "Iteration 58: w0=0.75225, w1=0.77809, mse=34.75301\n",
      "Iteration 59: w0=0.76379, w1=0.78997, mse=34.47946\n",
      "Iteration 60: w0=0.77527, w1=0.80180, mse=34.20807\n",
      "Iteration 61: w0=0.78672, w1=0.81358, mse=33.93884\n",
      "Iteration 62: w0=0.79812, w1=0.82532, mse=33.67174\n",
      "Iteration 63: w0=0.80947, w1=0.83701, mse=33.40676\n",
      "Iteration 64: w0=0.82078, w1=0.84865, mse=33.14388\n",
      "Iteration 65: w0=0.83205, w1=0.86024, mse=32.88309\n",
      "Iteration 66: w0=0.84327, w1=0.87178, mse=32.62436\n",
      "Iteration 67: w0=0.85445, w1=0.88328, mse=32.36769\n",
      "Iteration 68: w0=0.86558, w1=0.89474, mse=32.11305\n",
      "Iteration 69: w0=0.87667, w1=0.90614, mse=31.86042\n",
      "Iteration 70: w0=0.88772, w1=0.91750, mse=31.60980\n",
      "Iteration 71: w0=0.89873, w1=0.92882, mse=31.36117\n",
      "Iteration 72: w0=0.90969, w1=0.94009, mse=31.11451\n",
      "Iteration 73: w0=0.92061, w1=0.95131, mse=30.86981\n",
      "Iteration 74: w0=0.93149, w1=0.96249, mse=30.62704\n",
      "Iteration 75: w0=0.94232, w1=0.97362, mse=30.38620\n",
      "Iteration 76: w0=0.95311, w1=0.98470, mse=30.14727\n",
      "Iteration 77: w0=0.96387, w1=0.99575, mse=29.91023\n",
      "Iteration 78: w0=0.97457, w1=1.00674, mse=29.67507\n",
      "Iteration 79: w0=0.98524, w1=1.01770, mse=29.44178\n",
      "Iteration 80: w0=0.99587, w1=1.02861, mse=29.21033\n",
      "Iteration 81: w0=1.00645, w1=1.03947, mse=28.98072\n",
      "Iteration 82: w0=1.01700, w1=1.05029, mse=28.75294\n",
      "Iteration 83: w0=1.02750, w1=1.06107, mse=28.52695\n",
      "Iteration 84: w0=1.03796, w1=1.07180, mse=28.30276\n",
      "Iteration 85: w0=1.04838, w1=1.08249, mse=28.08035\n",
      "Iteration 86: w0=1.05876, w1=1.09313, mse=27.85970\n",
      "Iteration 87: w0=1.06910, w1=1.10374, mse=27.64079\n",
      "Iteration 88: w0=1.07940, w1=1.11430, mse=27.42363\n",
      "Iteration 89: w0=1.08966, w1=1.12481, mse=27.20818\n",
      "Iteration 90: w0=1.09988, w1=1.13529, mse=26.99445\n",
      "Iteration 91: w0=1.11006, w1=1.14572, mse=26.78240\n",
      "Iteration 92: w0=1.12020, w1=1.15611, mse=26.57204\n",
      "Iteration 93: w0=1.13030, w1=1.16646, mse=26.36335\n",
      "Iteration 94: w0=1.14037, w1=1.17676, mse=26.15631\n",
      "Iteration 95: w0=1.15039, w1=1.18703, mse=25.95091\n",
      "Iteration 96: w0=1.16037, w1=1.19725, mse=25.74714\n",
      "Iteration 97: w0=1.17032, w1=1.20743, mse=25.54499\n",
      "Iteration 98: w0=1.18022, w1=1.21757, mse=25.34444\n",
      "Iteration 99: w0=1.19009, w1=1.22767, mse=25.14548\n",
      "Iteration 100: w0=1.19992, w1=1.23773, mse=24.94809\n"
     ]
    }
   ],
   "source": [
    "num_iterations = 100\n",
    "learning_rate = [1, 1e-3]\n",
    "initial_w0 = 0 # initial y-intercept guess\n",
    "initial_w1 = 0 # initial slope guess\n",
    "for lr in learning_rate:\n",
    "    print(\"---------------------\" + \"\\n\" + \"Learning rate: \" + str(lr))\n",
    "    [w0, w1, mse] = gradient_descent_runner(points, initial_w0, initial_w1, lr, num_iterations)"
   ]
  },
  {
   "cell_type": "markdown",
   "metadata": {},
   "source": [
    "##### TODO\n",
    "> When learning rate is set to 1 the mse increases. </br>\n",
    "When learning rate is set to 0.001 the mse decreases, however it decreases slowly. </br>\n",
    "Conclusion: Learning rate = 1 is too high, while learning rate = 0.001 is too low. "
   ]
  },
  {
   "cell_type": "markdown",
   "metadata": {},
   "source": [
    "## Exercise 1.3<a class=\"anchor\" id=\"exercise1_3\"></a> \n",
    "Earlier in the document, you learned about the closed-form solution of linear regression:\n",
    "$$\n",
    "\\hat{w} = (X^TX)^{-1}X^Ty\n",
    "$$\n",
    "where y is a vector of output values, and X is matrix of input vectors. It is important to note that the y-intercept ($w_0$) is represented by a column of 1's in the X matrix. \n",
    "\n",
    "This equation is called the Normal equation, and it can work only if the columns of the matrix X are linear independent, or in other words, the matrix X is invertible.\n",
    "\n",
    "Once you solve the normal equation, the vector $\\bar{w}$ will contain the parameter estimates ($w_0$ and $w_1$) of the line.\n",
    "\n",
    "Your task is to implement the normal equation, and give it the same values of `X` and `y` as we have used above,\n",
    "and see what the matrix $\\bar{w}$ contains. It should contain the parameter estimates of the fit.\n",
    "\n",
    "How do the parameter estimates obtained by solving the normal equation compare to the ones obtained using the gradient descent algorithm?\n",
    "\n",
    "##### Hints: \n",
    "1. Add a column of 1's to X to using `np.hstack`. This column of 1's models for the y-intercept ($w_0$). \n",
    "2. Use `inv` function in numpy to find the inverse of a matrix. inv is defined in `numpy.linalg` module so will need to import it from it. \n",
    "3. To multiply two matrices `a` and `b`, use the following notation in python `a.dot(b)`\n",
    "4. To transpose a matrix `c` use `c.T`\n",
    "\n",
    "Students who wish to do this in R instead of Python would find [this resource](https://www.statmethods.net/advstats/matrix.html) useful."
   ]
  },
  {
   "cell_type": "code",
   "execution_count": 14,
   "metadata": {},
   "outputs": [],
   "source": [
    "# TODO\n",
    "# Write your solution here\n",
    "shape = X.shape\n",
    "obj_type = X.dtype\n",
    "ones = np.ones((shape), obj_type)\n",
    "X_ones = np.hstack((X, ones))"
   ]
  },
  {
   "cell_type": "code",
   "execution_count": 15,
   "metadata": {},
   "outputs": [],
   "source": [
    "X_trans = X_ones.T"
   ]
  },
  {
   "cell_type": "code",
   "execution_count": 16,
   "metadata": {},
   "outputs": [],
   "source": [
    "X_trans_times_X = X_trans.dot(X_ones)"
   ]
  },
  {
   "cell_type": "code",
   "execution_count": 17,
   "metadata": {},
   "outputs": [],
   "source": [
    "from numpy.linalg import inv"
   ]
  },
  {
   "cell_type": "code",
   "execution_count": 18,
   "metadata": {},
   "outputs": [],
   "source": [
    "X_T_times_X__inv = inv(X_trans_times_X)"
   ]
  },
  {
   "cell_type": "code",
   "execution_count": 19,
   "metadata": {},
   "outputs": [],
   "source": [
    "w_hat = ((X_T_times_X__inv.dot(X_trans)).dot(y))"
   ]
  },
  {
   "cell_type": "code",
   "execution_count": 20,
   "metadata": {},
   "outputs": [
    {
     "data": {
      "text/plain": [
       "array([[3.02129039],\n",
       "       [4.45478709]])"
      ]
     },
     "execution_count": 20,
     "metadata": {},
     "output_type": "execute_result"
    }
   ],
   "source": [
    "w_hat"
   ]
  },
  {
   "cell_type": "markdown",
   "metadata": {},
   "source": [
    "> It seems like the values are more or less the same, so both methods obviously work. "
   ]
  },
  {
   "cell_type": "markdown",
   "metadata": {},
   "source": [
    "## Exercise 1.4<a class=\"anchor\" id=\"exercise1_4\"></a> \n",
    "To brush up your calculus skills, derive the partial derivate of MSE that has *L2* penalty term included in it. In other words, we want you compute the following partial derivatives:\n",
    "$$\n",
    "\\frac{\\partial}{\\partial w_0} \\left(\\dfrac{1}{n} \\sum_{i=1}^{n} [y_i - (w_1 x_i + w_0)]^2 + \\lambda {w_0}^2\\right) \n",
    "$$\n",
    "\n",
    "$$\n",
    "\\frac{\\partial}{\\partial w_1} \\left(\\dfrac{1}{n} \\sum_{i=1}^{n} [y_i - (w_1 x_i + w_0)]^2 + \\lambda {w_1}^2\\right) \n",
    "$$\n",
    "\n",
    "#### What to submit\n",
    "A derivation of both the gradient equations. "
   ]
  },
  {
   "cell_type": "markdown",
   "metadata": {},
   "source": [
    "$$\n",
    "\\frac{\\partial}{\\partial w_0} \\left(\\dfrac{1}{n} \\sum_{i=1}^{n} [y_i - (w_1 x_i + w_0)]^2  + \\lambda \\cdot {w_0}^2 \\right) \n",
    "=\n",
    "\\underline{-\\dfrac{2}{n}\\left( \\sum_{i=1}^{n} y_i - (w_1 x_i + w_0) + 2 \\lambda w_0 \\right)}\n",
    "$$\n",
    "<br>\n",
    "$$\n",
    "\\frac{\\partial}{\\partial w_1} \\left(\\dfrac{1}{n} \\sum_{i=1}^{n} [y_i - (w_1 x_i + w_0)]^2  + \\lambda \\cdot {w_1}^2 \\right) \n",
    "=\n",
    "\\underline{-\\dfrac{2}{n}\\left( \\sum_{i=1}^{n} y_i - (w_1 x_i + w_0) + 2 \\lambda w_1 \\right)}\n",
    "$$"
   ]
  },
  {
   "cell_type": "markdown",
   "metadata": {},
   "source": [
    "# Linear Regression with *sklearn* Machine Learning Library\n",
    "In the section above, we implemented our own linear regression with gradient descent. However, instead of re-inventing the wheel and writing the code for each machine learning algorithm ourselves, we can also follow the easier path of using someone else's code to do machine learning. That's the path that most people follow. Having said that, knowing how a particular algorithm works internally is a very important for understanding its nuances.\n",
    "\n",
    "In this section, we will use a machine learning library called sklearn to perform linear regression on the same dataset and see what kind of results we get this time round."
   ]
  },
  {
   "cell_type": "code",
   "execution_count": null,
   "metadata": {},
   "outputs": [],
   "source": [
    "# install sklearn if it isn't installed already \n",
    "# !pip install sklearn"
   ]
  },
  {
   "cell_type": "code",
   "execution_count": 33,
   "metadata": {},
   "outputs": [
    {
     "data": {
      "text/plain": [
       "LinearRegression(copy_X=True, fit_intercept=True, n_jobs=1, normalize=False)"
      ]
     },
     "execution_count": 33,
     "metadata": {},
     "output_type": "execute_result"
    }
   ],
   "source": [
    "# import LinearRegression class from sklearn.linear_model module\n",
    "from sklearn.linear_model import LinearRegression\n",
    "\n",
    "# make a lin_reg object form the LinearRegression class\n",
    "lin_reg = LinearRegression()\n",
    "\n",
    "# use the fit method of LinearRegression class to fit a straight line through the data\n",
    "lin_reg.fit(X, y)"
   ]
  },
  {
   "cell_type": "code",
   "execution_count": 34,
   "metadata": {},
   "outputs": [
    {
     "name": "stdout",
     "output_type": "stream",
     "text": [
      "slope w1: [[3.02129039]]\n",
      "y-intercept w0: [4.45478709]\n"
     ]
    }
   ],
   "source": [
    "print('slope w1:', lin_reg.coef_)\n",
    "print('y-intercept w0:', lin_reg.intercept_)"
   ]
  },
  {
   "cell_type": "markdown",
   "metadata": {},
   "source": [
    "You can see that the estimates for $w_0$ and $w_1$ are very close to the estimates we obtained by using our gradient descent algorithm. Now lets plot the original data along with the fitted line."
   ]
  },
  {
   "cell_type": "code",
   "execution_count": 35,
   "metadata": {},
   "outputs": [
    {
     "data": {
      "text/plain": [
       "<matplotlib.legend.Legend at 0x2a4cee5e5f8>"
      ]
     },
     "execution_count": 35,
     "metadata": {},
     "output_type": "execute_result"
    },
    {
     "data": {
      "image/png": "[encoded data removed]",
      "text/plain": [
       "<Figure size 432x288 with 1 Axes>"
      ]
     },
     "metadata": {},
     "output_type": "display_data"
    }
   ],
   "source": [
    "# plot the original data points as a scatter plot\n",
    "plt.scatter(X, y, label='original data')\n",
    "\n",
    "# plot the line that fits these points. Use the values of m and b as provided by the fit method\n",
    "y_ = lin_reg.coef_*X + lin_reg.intercept_\n",
    "\n",
    "# you can also get y_ by using the predict method. Uncomment the line below:\n",
    "#y_ = lin_reg.predict(X)\n",
    "\n",
    "plt.plot(X, y_, color='r', label='predicted fit')\n",
    "plt.xlabel('x'); plt.ylabel('y')\n",
    "plt.legend(loc='best')\n"
   ]
  },
  {
   "cell_type": "markdown",
   "metadata": {},
   "source": [
    "## Exercise 1.5<a class=\"anchor\" id=\"exercise1_5\"></a> \n",
    "1. How does fit you got from sklearn library compare to the one you got form your implementation of the Normal equation.\n",
    "\n",
    "2. Suppose you have a new data point `x=3`. \n",
    "Use the `predict` method provided by the `LinearRegression` class to find its corresponding y value. \n",
    "\n",
    "N.B. Student who prefer R can implement linear regression using `lm()` method."
   ]
  },
  {
   "cell_type": "markdown",
   "metadata": {},
   "source": [
    "# TODO\n",
    "# write you solution below\n",
    "1. The _fit_ method from the __sklearn library__ seems to give more or less the same values for _b_ and _m_ as \"my\" implementation of the __Normal Equation__\n"
   ]
  },
  {
   "cell_type": "code",
   "execution_count": 41,
   "metadata": {
    "scrolled": true
   },
   "outputs": [
    {
     "name": "stdout",
     "output_type": "stream",
     "text": [
      "Predicted value: 13.518658256328946\n",
      "Actual value: 13\n"
     ]
    }
   ],
   "source": [
    "# Answer to 2. \n",
    "test_data_point = 3\n",
    "pred_value = float(lin_reg.predict(test_data_point))\n",
    "actual_value = 4 + 3*test_data_point\n",
    "print(\"Predicted value: \" + str(pred_value) + '\\n' + \"Actual value: \" + str(actual_value))"
   ]
  },
  {
   "cell_type": "markdown",
   "metadata": {},
   "source": [
    "> Pretty fair prediction"
   ]
  },
  {
   "cell_type": "markdown",
   "metadata": {},
   "source": [
    "# 2. Multivariate Linear Regression <a class=\"anchor\" id=\"multivariate\"></a> \n",
    "\n",
    "So far we we were using univariate linear regression. Let us now discuss multivariate linear regression. In multivariate regression, the dependent variable is modeled as a linear combination of multiple independent variables. \n",
    "\n",
    "To study multivariate regression, we are going to use the Hollywood movies dataset. This dataset is in `movies.csv` file. It has four columns and their description is as following:\n",
    "\n",
    "- `revenue` = Total revenue obtained in the first year of box office release in millions\n",
    "- `production_cost` = Total cost in million in producing the movie\n",
    "- `promotional_cost` = Total cost in millions in promoting the movies\t\n",
    "- `book_sales` = Total sales in millions of the movie's book\n",
    "\n",
    "We will now try to model the revenue as a linear combination of the production_cost, promotional_cost, and book_sales using Multivariate Linear Regression."
   ]
  },
  {
   "cell_type": "code",
   "execution_count": 42,
   "metadata": {},
   "outputs": [
    {
     "data": {
      "text/html": [
       "<div>\n",
       "<style scoped>\n",
       "    .dataframe tbody tr th:only-of-type {\n",
       "        vertical-align: middle;\n",
       "    }\n",
       "\n",
       "    .dataframe tbody tr th {\n",
       "        vertical-align: top;\n",
       "    }\n",
       "\n",
       "    .dataframe thead th {\n",
       "        text-align: right;\n",
       "    }\n",
       "</style>\n",
       "<table border=\"1\" class=\"dataframe\">\n",
       "  <thead>\n",
       "    <tr style=\"text-align: right;\">\n",
       "      <th></th>\n",
       "      <th>revenue</th>\n",
       "      <th>production_cost</th>\n",
       "      <th>promotional_cost</th>\n",
       "      <th>book_sales</th>\n",
       "    </tr>\n",
       "  </thead>\n",
       "  <tbody>\n",
       "    <tr>\n",
       "      <th>0</th>\n",
       "      <td>85.099998</td>\n",
       "      <td>8.5</td>\n",
       "      <td>5.100000</td>\n",
       "      <td>4.7</td>\n",
       "    </tr>\n",
       "    <tr>\n",
       "      <th>1</th>\n",
       "      <td>106.300003</td>\n",
       "      <td>12.9</td>\n",
       "      <td>5.800000</td>\n",
       "      <td>8.8</td>\n",
       "    </tr>\n",
       "    <tr>\n",
       "      <th>2</th>\n",
       "      <td>50.200001</td>\n",
       "      <td>5.2</td>\n",
       "      <td>2.100000</td>\n",
       "      <td>15.1</td>\n",
       "    </tr>\n",
       "    <tr>\n",
       "      <th>3</th>\n",
       "      <td>130.600006</td>\n",
       "      <td>10.7</td>\n",
       "      <td>8.399999</td>\n",
       "      <td>12.2</td>\n",
       "    </tr>\n",
       "    <tr>\n",
       "      <th>4</th>\n",
       "      <td>54.799999</td>\n",
       "      <td>3.1</td>\n",
       "      <td>2.900000</td>\n",
       "      <td>10.6</td>\n",
       "    </tr>\n",
       "  </tbody>\n",
       "</table>\n",
       "</div>"
      ],
      "text/plain": [
       "      revenue  production_cost  promotional_cost  book_sales\n",
       "0   85.099998              8.5          5.100000         4.7\n",
       "1  106.300003             12.9          5.800000         8.8\n",
       "2   50.200001              5.2          2.100000        15.1\n",
       "3  130.600006             10.7          8.399999        12.2\n",
       "4   54.799999              3.1          2.900000        10.6"
      ]
     },
     "execution_count": 42,
     "metadata": {},
     "output_type": "execute_result"
    }
   ],
   "source": [
    "# make a dataframe of the data\n",
    "df = pd.read_csv('movies.csv')\n",
    "\n",
    "# show first five rows of df\n",
    "df.head(n=5)"
   ]
  },
  {
   "cell_type": "code",
   "execution_count": 43,
   "metadata": {},
   "outputs": [
    {
     "data": {
      "text/html": [
       "<div>\n",
       "<style scoped>\n",
       "    .dataframe tbody tr th:only-of-type {\n",
       "        vertical-align: middle;\n",
       "    }\n",
       "\n",
       "    .dataframe tbody tr th {\n",
       "        vertical-align: top;\n",
       "    }\n",
       "\n",
       "    .dataframe thead th {\n",
       "        text-align: right;\n",
       "    }\n",
       "</style>\n",
       "<table border=\"1\" class=\"dataframe\">\n",
       "  <thead>\n",
       "    <tr style=\"text-align: right;\">\n",
       "      <th></th>\n",
       "      <th>production_cost</th>\n",
       "      <th>promotional_cost</th>\n",
       "      <th>book_sales</th>\n",
       "    </tr>\n",
       "  </thead>\n",
       "  <tbody>\n",
       "    <tr>\n",
       "      <th>0</th>\n",
       "      <td>8.5</td>\n",
       "      <td>5.100000</td>\n",
       "      <td>4.7</td>\n",
       "    </tr>\n",
       "    <tr>\n",
       "      <th>1</th>\n",
       "      <td>12.9</td>\n",
       "      <td>5.800000</td>\n",
       "      <td>8.8</td>\n",
       "    </tr>\n",
       "    <tr>\n",
       "      <th>2</th>\n",
       "      <td>5.2</td>\n",
       "      <td>2.100000</td>\n",
       "      <td>15.1</td>\n",
       "    </tr>\n",
       "    <tr>\n",
       "      <th>3</th>\n",
       "      <td>10.7</td>\n",
       "      <td>8.399999</td>\n",
       "      <td>12.2</td>\n",
       "    </tr>\n",
       "    <tr>\n",
       "      <th>4</th>\n",
       "      <td>3.1</td>\n",
       "      <td>2.900000</td>\n",
       "      <td>10.6</td>\n",
       "    </tr>\n",
       "  </tbody>\n",
       "</table>\n",
       "</div>"
      ],
      "text/plain": [
       "   production_cost  promotional_cost  book_sales\n",
       "0              8.5          5.100000         4.7\n",
       "1             12.9          5.800000         8.8\n",
       "2              5.2          2.100000        15.1\n",
       "3             10.7          8.399999        12.2\n",
       "4              3.1          2.900000        10.6"
      ]
     },
     "execution_count": 43,
     "metadata": {},
     "output_type": "execute_result"
    }
   ],
   "source": [
    "# Extract the first column and set it to the output or dependent varaible y\n",
    "y = df[['revenue']]\n",
    "\n",
    "# Remove the first column and set the rest of the dataframe to X. This is the set of indepedent variables\n",
    "X = df.drop(columns=['revenue'])\n",
    "\n",
    "# show first five rows of X\n",
    "X.head(n=5)"
   ]
  },
  {
   "cell_type": "code",
   "execution_count": 44,
   "metadata": {},
   "outputs": [
    {
     "data": {
      "text/html": [
       "<div>\n",
       "<style scoped>\n",
       "    .dataframe tbody tr th:only-of-type {\n",
       "        vertical-align: middle;\n",
       "    }\n",
       "\n",
       "    .dataframe tbody tr th {\n",
       "        vertical-align: top;\n",
       "    }\n",
       "\n",
       "    .dataframe thead th {\n",
       "        text-align: right;\n",
       "    }\n",
       "</style>\n",
       "<table border=\"1\" class=\"dataframe\">\n",
       "  <thead>\n",
       "    <tr style=\"text-align: right;\">\n",
       "      <th></th>\n",
       "      <th>revenue</th>\n",
       "    </tr>\n",
       "  </thead>\n",
       "  <tbody>\n",
       "    <tr>\n",
       "      <th>0</th>\n",
       "      <td>85.099998</td>\n",
       "    </tr>\n",
       "    <tr>\n",
       "      <th>1</th>\n",
       "      <td>106.300003</td>\n",
       "    </tr>\n",
       "    <tr>\n",
       "      <th>2</th>\n",
       "      <td>50.200001</td>\n",
       "    </tr>\n",
       "    <tr>\n",
       "      <th>3</th>\n",
       "      <td>130.600006</td>\n",
       "    </tr>\n",
       "    <tr>\n",
       "      <th>4</th>\n",
       "      <td>54.799999</td>\n",
       "    </tr>\n",
       "  </tbody>\n",
       "</table>\n",
       "</div>"
      ],
      "text/plain": [
       "      revenue\n",
       "0   85.099998\n",
       "1  106.300003\n",
       "2   50.200001\n",
       "3  130.600006\n",
       "4   54.799999"
      ]
     },
     "execution_count": 44,
     "metadata": {},
     "output_type": "execute_result"
    }
   ],
   "source": [
    "# show first five rows of y\n",
    "y.head(n=5)"
   ]
  },
  {
   "cell_type": "markdown",
   "metadata": {},
   "source": [
    "Now we will fit a Multivariate Linear Regression model to it:"
   ]
  },
  {
   "cell_type": "code",
   "execution_count": 45,
   "metadata": {},
   "outputs": [
    {
     "data": {
      "text/plain": [
       "(array([7.67602854]), array([[3.66160401, 7.62105126, 0.82846807]]))"
      ]
     },
     "execution_count": 45,
     "metadata": {},
     "output_type": "execute_result"
    }
   ],
   "source": [
    "from sklearn.linear_model import LinearRegression\n",
    "\n",
    "# make a lin_reg object form the LinearRegression class\n",
    "lin_reg = LinearRegression()\n",
    "\n",
    "# use the fit method of LinearRegression class to fit a straight line through the data\n",
    "lin_reg.fit(X, y)\n",
    "\n",
    "# Display the learned parameters\n",
    "lin_reg.intercept_, lin_reg.coef_"
   ]
  },
  {
   "cell_type": "markdown",
   "metadata": {},
   "source": [
    "## Exercise 2.1<a class=\"anchor\" id=\"exercise2_1\"></a> \n",
    "What would be the first year box office revenue of a movie which costed 23 million dollars to make, 12 million dollars to promote, and had total book sales of 10 million dollars.\n",
    "\n",
    "N.B: Students you want to attempt this exercise in R can use `lm()` function to do multiple linear regression."
   ]
  },
  {
   "cell_type": "code",
   "execution_count": 46,
   "metadata": {},
   "outputs": [
    {
     "data": {
      "text/plain": [
       "array([[191.6302165]])"
      ]
     },
     "execution_count": 46,
     "metadata": {},
     "output_type": "execute_result"
    }
   ],
   "source": [
    "## TODO\n",
    "## Write your code here\n",
    "prod_c = 23\n",
    "prom_c = 12\n",
    "book_s = 10\n",
    "X_test = np.array([prod_c, prom_c, book_s]).reshape(1, -1)\n",
    "lin_reg.predict(X_test)"
   ]
  },
  {
   "cell_type": "markdown",
   "metadata": {},
   "source": [
    "# Multivariate Regression with Polynomial basis\n",
    "What if your data is actually more complex than a simple straight line, or a plane? Surprisingly, you can actually use a linear model to fit nonlinear data as well. A simple way to do this is to add powers of each feature as new\n",
    "features, and then train a linear model on this extended set of features. This technique is called Polynomial\n",
    "Regression. Because we are modeling the response variable as linear combination of the polynomial features, therefore this regression is classed as multivariate regression.\n",
    "\n",
    "Lets look at an example. First, lets generate some nonlinear data, based on a simple quadratic equation (plus some noise).\n",
    "$$\n",
    "y = 0.5X^2 + X + 2 + noise\n",
    "$$"
   ]
  },
  {
   "cell_type": "code",
   "execution_count": 47,
   "metadata": {},
   "outputs": [],
   "source": [
    "# define the number of points to generate as k\n",
    "k = 100\n",
    "\n",
    "# define a seed value. It is important to define the seed value\n",
    "# so that the random numbers generated are the same every time\n",
    "# this code is executed.\n",
    "np.random.seed(10)\n",
    "\n",
    "# generate k x-axis values from -3 to +3\n",
    "X = 6 * np.random.rand(k, 1) - 3\n",
    "\n",
    "# sort the numbers in ascending order. This helps when we are plotting the data. \n",
    "# Without this line, your plots will be all jumbled up\n",
    "X.sort(axis=0)\n",
    "\n",
    "# generate k y-axis values\n",
    "y = 0.5 * X**2 + X + 2 + np.random.rand(k, 1)"
   ]
  },
  {
   "cell_type": "markdown",
   "metadata": {},
   "source": [
    "Let us now plot the data:"
   ]
  },
  {
   "cell_type": "code",
   "execution_count": 48,
   "metadata": {},
   "outputs": [
    {
     "data": {
      "text/plain": [
       "Text(0,0.5,'y')"
      ]
     },
     "execution_count": 48,
     "metadata": {},
     "output_type": "execute_result"
    },
    {
     "data": {
      "image/png": "[encoded data removed]",
      "text/plain": [
       "<Figure size 432x288 with 1 Axes>"
      ]
     },
     "metadata": {},
     "output_type": "display_data"
    }
   ],
   "source": [
    "plt.scatter(X, y)\n",
    "plt.xlabel('x'); plt.ylabel('y')"
   ]
  },
  {
   "cell_type": "markdown",
   "metadata": {},
   "source": [
    "Clearly, a straight line will never fit this data properly. So lets use Scikit-Learn’s `PolynomialFeatures`\n",
    "class to transform our training data by adding the square of X in the training set as new feature."
   ]
  },
  {
   "cell_type": "code",
   "execution_count": 49,
   "metadata": {},
   "outputs": [],
   "source": [
    "from sklearn.preprocessing import PolynomialFeatures\n",
    "\n",
    "poly_features = PolynomialFeatures(degree=15, include_bias=False)\n",
    "\n",
    "# generate polyonimal features upto degree 2 from the vector X\n",
    "X_poly = poly_features.fit_transform(X)"
   ]
  },
  {
   "cell_type": "code",
   "execution_count": 50,
   "metadata": {},
   "outputs": [
    {
     "data": {
      "text/plain": [
       "array([[-2.8754883 ],\n",
       "       [-2.84760131],\n",
       "       [-2.7643094 ],\n",
       "       [-2.76024475]])"
      ]
     },
     "execution_count": 50,
     "metadata": {},
     "output_type": "execute_result"
    }
   ],
   "source": [
    "# display 4 original data points \n",
    "X[1:5]"
   ]
  },
  {
   "cell_type": "code",
   "execution_count": 51,
   "metadata": {},
   "outputs": [
    {
     "data": {
      "text/plain": [
       "array([[-2.87548830e+00,  8.26843299e+00, -2.37757823e+01,\n",
       "         6.83669840e+01, -1.96588463e+02,  5.65287826e+02,\n",
       "        -1.62547853e+03,  4.67404451e+03, -1.34401603e+04,\n",
       "         3.86470238e+04, -1.11129065e+05,  3.19550326e+05,\n",
       "        -9.18863225e+05,  2.64218046e+06, -7.59755900e+06],\n",
       "       [-2.84760131e+00,  8.10883321e+00, -2.30907240e+01,\n",
       "         6.57531760e+01, -1.87238830e+02,  5.33181537e+02,\n",
       "        -1.51828844e+03,  4.32348015e+03, -1.23115477e+04,\n",
       "         3.50583794e+04, -9.98322871e+04,  2.84282551e+05,\n",
       "        -8.09523365e+05,  2.30519979e+06, -6.56428994e+06],\n",
       "       [-2.76430940e+00,  7.64140644e+00, -2.11232116e+01,\n",
       "         5.83910924e+01, -1.61411045e+02,  4.46190069e+02,\n",
       "        -1.23340740e+03,  3.40951967e+03, -9.42496726e+03,\n",
       "         2.60535256e+04, -7.20200055e+04,  1.99085578e+05,\n",
       "        -5.50334134e+05,  1.52129382e+06, -4.20532680e+06],\n",
       "       [-2.76024475e+00,  7.61895107e+00, -2.10301697e+01,\n",
       "         5.80484154e+01, -1.60227834e+02,  4.42268036e+02,\n",
       "        -1.22076802e+03,  3.36961853e+03, -9.30097184e+03,\n",
       "         2.56729587e+04, -7.08636494e+04,  1.95601016e+05,\n",
       "        -5.39906677e+05,  1.49027457e+06, -4.11352255e+06]])"
      ]
     },
     "execution_count": 51,
     "metadata": {},
     "output_type": "execute_result"
    }
   ],
   "source": [
    "# Display the transformed data.\n",
    "# You will now see the original X data alongside its corresponding 2nd-degree polynomial feature\n",
    "X_poly[1:5]"
   ]
  },
  {
   "cell_type": "markdown",
   "metadata": {},
   "source": [
    "Now we fit a linear regression model to the transformed data:"
   ]
  },
  {
   "cell_type": "code",
   "execution_count": 52,
   "metadata": {},
   "outputs": [
    {
     "data": {
      "text/plain": [
       "(array([2.43771889]),\n",
       " array([[ 4.70240062e-01,  9.81483416e-01,  1.45901724e+00,\n",
       "         -5.43920910e-01, -1.30913386e+00,  2.30186856e-01,\n",
       "          5.62777734e-01, -4.49943278e-02, -1.28760085e-01,\n",
       "          3.53201168e-03,  1.58848833e-02,  1.15315775e-05,\n",
       "         -9.84782281e-04, -1.01041607e-05,  2.36325364e-05]]))"
      ]
     },
     "execution_count": 52,
     "metadata": {},
     "output_type": "execute_result"
    }
   ],
   "source": [
    "lin_reg = LinearRegression()\n",
    "\n",
    "# Now we fit a linear model to the X_poly (the transformed features set) and y\n",
    "lin_reg.fit(X_poly, y)\n",
    "\n",
    "# show the values of intercept and learned co-efficients\n",
    "lin_reg.intercept_, lin_reg.coef_"
   ]
  },
  {
   "cell_type": "markdown",
   "metadata": {},
   "source": [
    "So the fit estimated by polynomial regression has the following form:\n",
    "\n",
    "$$\n",
    "\\bar{y} = 0.49X^2 + 0.99X + 2.48\n",
    "$$\n",
    "\n",
    "which is pretty close the function we used to generate the original the original data:\n",
    "$$\n",
    "y = 0.5X^2 + X + 2 + noise\n",
    "$$\n",
    "\n",
    "(N.B.: The values that you might get for `lin_reg.intercept_` and `lin_reg.coef_` may be a bit different. This is because you might be using a different computer with a different operating system, different precision etc. All this might lead a slightly different values of intercept and co-efficients.)\n",
    "\n",
    "Let's now plot the original data (in blue) and the predicted fit (in red):"
   ]
  },
  {
   "cell_type": "code",
   "execution_count": 53,
   "metadata": {
    "scrolled": true
   },
   "outputs": [
    {
     "data": {
      "text/plain": [
       "Text(0,0.5,'y')"
      ]
     },
     "execution_count": 53,
     "metadata": {},
     "output_type": "execute_result"
    },
    {
     "data": {
      "image/png": "[encoded data removed]",
      "text/plain": [
       "<Figure size 432x288 with 1 Axes>"
      ]
     },
     "metadata": {},
     "output_type": "display_data"
    }
   ],
   "source": [
    "y_ = lin_reg.predict(X_poly)\n",
    "    \n",
    "plt.scatter(X, y, label='original data')\n",
    "plt.plot(X, y_, color='r', label='predicted fit')\n",
    "plt.legend(loc='best')\n",
    "\n",
    "plt.xlabel('x')\n",
    "plt.ylabel('y')"
   ]
  },
  {
   "cell_type": "markdown",
   "metadata": {},
   "source": [
    "##### Try it yourself\n",
    "Change the value of polynomial degree, and see what happens to the fitted line.\n",
    "\n",
    "Try values of 5, 10, and 15. You don't need to submit anything for this one."
   ]
  },
  {
   "cell_type": "markdown",
   "metadata": {},
   "source": [
    "### Regularization with Ridge Penalty\n",
    "\n",
    "As you might have noticed from the above task, as the degree of polynomial increases, the model starts to overfit. Model overfitting often happens when you have:\n",
    "- lots of features, and \n",
    "- too little data per feature. \n",
    "\n",
    "The model starts memorizing the data, rather than generalizing.\n",
    "\n",
    "To prevent model from overfitting, we can do regularization. In regularization, we add a penalty term to the loss function. This penalty term prevents the model from overfitting.\n",
    "\n",
    "Here, we will write the code for Ridge regression.\n"
   ]
  },
  {
   "cell_type": "code",
   "execution_count": 54,
   "metadata": {},
   "outputs": [
    {
     "name": "stderr",
     "output_type": "stream",
     "text": [
      "C:\\Users\\Sindr\\Anaconda3\\envs\\dat158\\lib\\site-packages\\sklearn\\linear_model\\ridge.py:112: LinAlgWarning: scipy.linalg.solve\n",
      "Ill-conditioned matrix detected. Result is not guaranteed to be accurate.\n",
      "Reciprocal condition number9.211480e-17\n",
      "  overwrite_a=True).T\n"
     ]
    },
    {
     "data": {
      "text/plain": [
       "<matplotlib.legend.Legend at 0x2a4d186b828>"
      ]
     },
     "execution_count": 54,
     "metadata": {},
     "output_type": "execute_result"
    },
    {
     "data": {
      "image/png": "[encoded data removed]",
      "text/plain": [
       "<Figure size 432x288 with 1 Axes>"
      ]
     },
     "metadata": {},
     "output_type": "display_data"
    }
   ],
   "source": [
    "from sklearn.linear_model import Ridge\n",
    "from sklearn.linear_model import LinearRegression\n",
    "from sklearn.preprocessing import PolynomialFeatures\n",
    "\n",
    "# define the number of points to generate\n",
    "k = 100\n",
    "np.random.seed(10)\n",
    "\n",
    "# generate k x-axis values from -3 to +3\n",
    "X = 6 * np.random.rand(k, 1) - 3\n",
    "X.sort(axis=0)\n",
    "\n",
    "# generate k y-axis values\n",
    "y = 0.5 * X**2 + X + 2 + np.random.randn(k, 1)\n",
    "\n",
    "# Create polynomial feature (degree 15)\n",
    "poly_features = PolynomialFeatures(degree=15, include_bias=False)\n",
    "X_poly = poly_features.fit_transform(X)\n",
    "\n",
    "# Create Ridge regression object from Ridge class\n",
    "ridge_reg = Ridge(alpha=5e-2)\n",
    "# Fit data using Ridge regression\n",
    "ridge_reg.fit(X_poly, y)\n",
    "\n",
    "# Create Linear regression object from LinearRegress class (this is just for comparison)\n",
    "lin_reg = LinearRegression()\n",
    "# Fit data using Linear regression\n",
    "lin_reg.fit(X_poly, y)\n",
    "\n",
    "y_predict_ridge = ridge_reg.predict(X_poly)\n",
    "y_predict_linear = lin_reg.predict(X_poly)\n",
    "\n",
    "plt.scatter(X, y, label='data')\n",
    "plt.plot(X, y_predict_linear, color='b', label='Linear regression fit')\n",
    "plt.plot(X, y_predict_ridge, color='r', label='Ridge regression fit')\n",
    "\n",
    "plt.xlabel('x')\n",
    "plt.ylabel('y')\n",
    "\n",
    "plt.legend(loc='best')"
   ]
  },
  {
   "cell_type": "markdown",
   "metadata": {},
   "source": [
    "As you can see in the plot above, linear regression leads to overfitting (jiggly blue fit in the plot above).\n",
    "\n",
    "Ridge regression with `alpha=5` yields a fit that isn't overfitted (smooth red curve)."
   ]
  },
  {
   "cell_type": "markdown",
   "metadata": {},
   "source": [
    "## Exercise 2.2<a class=\"anchor\" id=\"exercise2_2\"></a> \n",
    "Change the value of regularization parameter to 0.05 and see what happens. Explain what you observe?\n",
    "\n",
    "N.B. Students who wish to do this exercise in R can use the `lm.ridge()` function."
   ]
  },
  {
   "cell_type": "markdown",
   "metadata": {},
   "source": [
    "##### TODO\n",
    "> Observing that when changing(/decreasing) the __regularization parameter__ the model starts overfitting\n"
   ]
  },
  {
   "cell_type": "markdown",
   "metadata": {},
   "source": [
    "# Linear Regression with Radial Basis Functions\n",
    "In the lecture, you learned about the radial basis functions (RBF). A radial basis function is a real-valued function whose value depends only on the distance from some point `c` called a center. We can use each point of our data as center of an RBF and then use a weighted sums of these radial basis functions to approximate the fit for the original data. In this case multivariate linear regression can be used to find the weights (or coefficients) of this weighted sum of `m` radial basis functions, where `m` are the number of data points in the dataset for which we want to find a fit.\n",
    "\n",
    "Here you will see an implementation of multivariate linear regression with radial basis functions."
   ]
  },
  {
   "cell_type": "code",
   "execution_count": 55,
   "metadata": {},
   "outputs": [
    {
     "data": {
      "text/plain": [
       "<matplotlib.collections.PathCollection at 0x2a4d18ccf28>"
      ]
     },
     "execution_count": 55,
     "metadata": {},
     "output_type": "execute_result"
    },
    {
     "data": {
      "image/png": "[encoded data removed]",
      "text/plain": [
       "<Figure size 432x288 with 1 Axes>"
      ]
     },
     "metadata": {},
     "output_type": "display_data"
    }
   ],
   "source": [
    "# Set random seed\n",
    "np.random.seed(0)\n",
    "m = 100\n",
    "\n",
    "# Create random set of m x values between -6 and +6\n",
    "X = np.random.rand(m, 1)*12 - 6\n",
    "X.sort(axis =0)\n",
    "\n",
    "# Create a non-linear dataset with random noise\n",
    "y = 0.5*np.cos(X) + np.sin(X) + 4*np.cos(2*X) + np.exp(np.cos(3*X)) + 3*np.random.rand(m,1) \n",
    "\n",
    "# plot it\n",
    "plt.scatter(X, y)"
   ]
  },
  {
   "cell_type": "code",
   "execution_count": 56,
   "metadata": {},
   "outputs": [
    {
     "data": {
      "text/plain": [
       "<matplotlib.legend.Legend at 0x2a4d1942048>"
      ]
     },
     "execution_count": 56,
     "metadata": {},
     "output_type": "execute_result"
    },
    {
     "data": {
      "image/png": "[encoded data removed]",
      "text/plain": [
       "<Figure size 432x288 with 1 Axes>"
      ]
     },
     "metadata": {},
     "output_type": "display_data"
    }
   ],
   "source": [
    "from sklearn.metrics.pairwise import rbf_kernel \n",
    "from sklearn.linear_model import LinearRegression\n",
    "\n",
    "# find the transformation of X using Radial Basis Functions \n",
    "# Each point in X is now modeled as vector of 100 values. \n",
    "# See the X_RBF.shape and X_RBF to find how rbf_kernel transformed \n",
    "# the original datapoints\n",
    "X_RBF = rbf_kernel(X, X, gamma=0.1) \n",
    "\n",
    "# Fit a linear regression model to the RBF-transformed data\n",
    "clf = LinearRegression()\n",
    "clf.fit(X_RBF, y)\n",
    "\n",
    "# find the predicted values\n",
    "y_= clf.predict(X_RBF)\n",
    "\n",
    "# plot original data and predicted fit\n",
    "plt.scatter(X, y, label='Original data')\n",
    "plt.plot(X, y_, color='r', label='Fit for RBF-transformed data')\n",
    "plt.legend(loc='best')"
   ]
  },
  {
   "cell_type": "markdown",
   "metadata": {},
   "source": [
    "## Exercise 2.3<a class=\"anchor\" id=\"exercise2_3\"></a> \n",
    "Plot the first 0th, 99th, and 49th radial basis of X on the same plot as a line graph.\n",
    "\n",
    "##### HINT:\n",
    "X_RBF contains 100 radial basis functions, corresponding to each of the 100 data points. All you need to do is to index them, and then plot them.\n",
    "\n",
    "N.B.: Students who wish to do this exercise in R should refer to this [resource for RBF](http://www.di.fc.ul.pt/~jpn/r/rbf/rbf.html).\n",
    "\n",
    "Paste your code in the cell below:"
   ]
  },
  {
   "cell_type": "code",
   "execution_count": 60,
   "metadata": {},
   "outputs": [
    {
     "data": {
      "image/png": "[encoded data removed]",
      "text/plain": [
       "<Figure size 432x288 with 1 Axes>"
      ]
     },
     "metadata": {},
     "output_type": "display_data"
    }
   ],
   "source": [
    "# TODO\n",
    "# Paste your solution here\n",
    "X_RBF_0th = X_RBF[0]\n",
    "X_RBF_49th = X_RBF[49]\n",
    "X_RBF_99th = X_RBF[99]\n",
    "ans = np.array([X_RBF_0th, X_RBF_49th, X_RBF_99th])\n",
    "\n",
    "plt.plot(X, ans.T)\n",
    "plt.show()"
   ]
  },
  {
   "cell_type": "markdown",
   "metadata": {},
   "source": [
    "# 3. Logistic Regression <a class=\"anchor\" id=\"logistic\"></a> "
   ]
  },
  {
   "cell_type": "markdown",
   "metadata": {},
   "source": [
    "Logistic Regression (also called Logit Regression) is a generalized linear model which is commonly used to estimate the probability that an instance belongs to a particular class (e.g., what is the probability that this email is spam?). If the estimated probability is greater than 0.5, then the model predicts that the instance belongs to that class (called the positive class, labeled “1”), or else it predicts that it does not (i.e., it belongs to the negative class, labeled “0”). This makes it a binary classifier.\n",
    "\n",
    "Let’s use the iris dataset to illustrate Logistic Regression. This is a famous dataset that contains the sepal\n",
    "and petal length and width of 150 iris flowers of three different species: Iris-Setosa, Iris-Versicolor, and\n",
    "Iris-Virginica.\n",
    "![image](https://cdn-images-1.medium.com/max/720/1*7bnLKsChXq94QjtAiRn40w.png)\n",
    "![image](http://www.robosoup.com/wp-content/uploads/2016/02/iris_petal_sepal-278x300.png)\n",
    "\n",
    "Iris data is already present in the sklearn library, and is essentially the same as the one you used during your first weekly exercise. All we need to do is to import it."
   ]
  },
  {
   "cell_type": "code",
   "execution_count": 1,
   "metadata": {},
   "outputs": [
    {
     "data": {
      "text/plain": [
       "['data', 'target', 'target_names', 'DESCR', 'feature_names']"
      ]
     },
     "execution_count": 1,
     "metadata": {},
     "output_type": "execute_result"
    }
   ],
   "source": [
    "from sklearn import datasets\n",
    "iris = datasets.load_iris()\n",
    "\n",
    "# iris is a dictionary of key-value pairs. Each key-value pairs contains some information about the dataset.\n",
    "# Lets display a list of these keys and see what they hold\n",
    "list(iris.keys())"
   ]
  },
  {
   "cell_type": "markdown",
   "metadata": {},
   "source": [
    "- `data`: holds the data of sepal and petal lengths and widths in four columns,\n",
    "- `target`: holds the class of each flower. These class are encoded as 0, 1, and 2,\n",
    "- `target_names`: holds the names of each of the flower classes,\n",
    "- `DESCR`: contains a detailed description of the dataset, and\n",
    "- `feature_names`: contains a list of name of the columns of data"
   ]
  },
  {
   "cell_type": "code",
   "execution_count": 6,
   "metadata": {},
   "outputs": [],
   "source": [
    "# let us get the petal width. It is present in the 4th column of data\n",
    "X = iris[\"data\"][:, 3:] \n",
    "X.sort(axis=0)\n",
    "\n",
    "# lets define a binaray variable that encodes whether a flower is Iris-Virginca or not\n",
    "# Iris_virginca flower is encoded as a 2 in target  \n",
    "y = (iris[\"target\"] == 2).astype(np.int) # 1 if Iris-Virginica, else 0"
   ]
  },
  {
   "cell_type": "code",
   "execution_count": 7,
   "metadata": {},
   "outputs": [
    {
     "data": {
      "text/plain": [
       "Text(0,0.5,'Iris-Virginica(1) \\n Not Iris-Virginica(0)')"
      ]
     },
     "execution_count": 7,
     "metadata": {},
     "output_type": "execute_result"
    },
    {
     "data": {
      "image/png": "[encoded data removed]",
      "text/plain": [
       "<Figure size 432x288 with 1 Axes>"
      ]
     },
     "metadata": {},
     "output_type": "display_data"
    }
   ],
   "source": [
    "plt.scatter(X, y)\n",
    "plt.xlabel('Petal width (cm)')\n",
    "plt.ylabel('Iris-Virginica(1) \\n Not Iris-Virginica(0)')"
   ]
  },
  {
   "cell_type": "markdown",
   "metadata": {},
   "source": [
    "Let us first try the naive thing of fitting a linear model to this data."
   ]
  },
  {
   "cell_type": "code",
   "execution_count": 8,
   "metadata": {},
   "outputs": [
    {
     "data": {
      "text/plain": [
       "<matplotlib.legend.Legend at 0x1cc59d0f518>"
      ]
     },
     "execution_count": 8,
     "metadata": {},
     "output_type": "execute_result"
    },
    {
     "data": {
      "image/png": "[encoded data removed]",
      "text/plain": [
       "<Figure size 432x288 with 1 Axes>"
      ]
     },
     "metadata": {},
     "output_type": "display_data"
    }
   ],
   "source": [
    "from sklearn.linear_model import LinearRegression\n",
    "\n",
    "lin_reg = LinearRegression()\n",
    "lin_reg.fit(X, y)\n",
    "y_ = lin_reg.predict(X)\n",
    "\n",
    "plt.scatter(X, y, label='original data')\n",
    "plt.plot(X, y_, color='r', label='fit from linear regression')\n",
    "plt.legend(loc='best')"
   ]
  },
  {
   "cell_type": "markdown",
   "metadata": {},
   "source": [
    "A linear regression model cannot be an optimal fit for such dichotomous data. Lets try now to fit a logistic regression model to this data."
   ]
  },
  {
   "cell_type": "code",
   "execution_count": 9,
   "metadata": {},
   "outputs": [
    {
     "data": {
      "text/plain": [
       "LogisticRegression(C=1.0, class_weight=None, dual=False, fit_intercept=True,\n",
       "          intercept_scaling=1, max_iter=100, multi_class='ovr', n_jobs=1,\n",
       "          penalty='l2', random_state=None, solver='liblinear', tol=0.0001,\n",
       "          verbose=0, warm_start=False)"
      ]
     },
     "execution_count": 9,
     "metadata": {},
     "output_type": "execute_result"
    }
   ],
   "source": [
    "from sklearn.linear_model import LogisticRegression\n",
    "log_reg = LogisticRegression()\n",
    "log_reg.fit(X, y)"
   ]
  },
  {
   "cell_type": "markdown",
   "metadata": {},
   "source": [
    "Let’s now look at the model’s estimated probabilities for flowers with petal widths varying from 0 to 3 cm"
   ]
  },
  {
   "cell_type": "code",
   "execution_count": 10,
   "metadata": {},
   "outputs": [
    {
     "data": {
      "text/plain": [
       "<matplotlib.legend.Legend at 0x1cc59d90f28>"
      ]
     },
     "execution_count": 10,
     "metadata": {},
     "output_type": "execute_result"
    },
    {
     "data": {
      "image/png": "[encoded data removed]",
      "text/plain": [
       "<Figure size 432x288 with 1 Axes>"
      ]
     },
     "metadata": {},
     "output_type": "display_data"
    }
   ],
   "source": [
    "# we generate X_new which is vector of closely spaced points form 0 to 3\n",
    "# This vector will help us plot the model\n",
    "X_new = np.linspace(0, 3, 1000).reshape(-1, 1)\n",
    "\n",
    "# make a vector of prediction probablity values for all datapoints in X_new\n",
    "y_proba = log_reg.predict_proba(X_new)\n",
    "\n",
    "plt.plot(X_new, y_proba[:, 1], \"g-\", label=\"Iris-Virginica Prob\")\n",
    "plt.plot(X_new, y_proba[:, 0], \"b--\", label=\"Not Iris-Virginica Prob\")\n",
    "plt.scatter(X, y, label='data')\n",
    "\n",
    "plt.xlabel('Petal width (cm)')\n",
    "plt.ylabel('Probability')\n",
    "plt.legend(loc='best')"
   ]
  },
  {
   "cell_type": "markdown",
   "metadata": {},
   "source": [
    "The petal width of Iris-Virginica flowers ranges from 1.4 cm to 2.5 cm, while the other iris flowers generally have a smaller petal width, ranging from 0.1 cm to 1.8 cm. \n",
    "\n",
    "Notice that there is a bit of overlap. Above about 2 cm the classifier is highly confident that the flower is an Iris-Virginica (it outputs a high probability to that class), while below 1 cm it is highly confident that it is not an Iris-Virginica (high probability for the “Not Iris-Virginica” class). In between these extremes, the classifier is unsure. However, if you ask it to predict the class (using the `predict()` method rather than the `predict_proba()` method), it will return whichever class is the most likely. Therefore, there is a decision boundary at around 1.6 cm where both probabilities are equal to 0.5 (or 50%): if the petal width is higher than 1.6 cm, the classifier will predict that the flower is an Iris-Virginica, or else it will predict that it is not (even if it is not very confident).\n",
    "\n",
    "Let's try to predict the class of a flower that has a petal width of 1.7."
   ]
  },
  {
   "cell_type": "code",
   "execution_count": 11,
   "metadata": {},
   "outputs": [
    {
     "data": {
      "text/plain": [
       "array([1])"
      ]
     },
     "execution_count": 11,
     "metadata": {},
     "output_type": "execute_result"
    }
   ],
   "source": [
    "log_reg.predict([[1.7]])"
   ]
  },
  {
   "cell_type": "markdown",
   "metadata": {},
   "source": [
    "So the class predicted is 1 or Iris-Virginica. Let us find out how sure the classifier was while making this decision."
   ]
  },
  {
   "cell_type": "code",
   "execution_count": 12,
   "metadata": {},
   "outputs": [
    {
     "data": {
      "text/plain": [
       "array([[0.43834057, 0.56165943]])"
      ]
     },
     "execution_count": 12,
     "metadata": {},
     "output_type": "execute_result"
    }
   ],
   "source": [
    "log_reg.predict_proba([[1.7]])"
   ]
  },
  {
   "cell_type": "markdown",
   "metadata": {},
   "source": [
    "So the classifier was about 56% sure that the flower is Iris-Virginica."
   ]
  },
  {
   "cell_type": "markdown",
   "metadata": {},
   "source": [
    "## Exercise 3.1<a class=\"anchor\" id=\"exercise3_1\"></a> \n",
    "In the example above, we discussed a two class classification problem i.e, we built a logistic regression classifier that was able to distinguish between Iris-Virginica and non-Iris-Virginica flowers based on just a single feature: the petal width.\n",
    "\n",
    "Your task now is build a multi-class classifier that can distinguish between Iris-Virginca, Iris-Setosa, and Iris-Versicolor. Furthermore, instead of using one feature, now you have to use two features — petal length and petal width — to train your model.\n",
    "\n",
    "Using the model that you trained, predict the most probable class for a flower that has petal length and width of 1 and 0.1 cm, respectively. What is probability value of this most probable class.\n",
    "\n",
    "For those who prefer to work in R, you can use the `glm()` function to perform logistic regression. More on it [here](https://www.datacamp.com/community/tutorials/logistic-regression-R). \n",
    "\n",
    "##### Hint:\n",
    "1. Make an object from LogisticRegression class in sklearn as following: \n",
    "\n",
    "`multiclass_logreg_obj = LogisticRegression(multi_class=\"multinomial\",solver=\"lbfgs\", C=10)`.\n",
    "\n",
    "`multiclass_logreg_obj` is just a name. It could be any (appropriate) name you like.\n",
    "\n",
    "Read more about the Logistic Regression parameters in the [online documentation](http://scikit-learn.org/stable/modules/generated/sklearn.linear_model.LogisticRegression.html). Understanding C, solver, and multi_class is important for this assignment."
   ]
  },
  {
   "cell_type": "code",
   "execution_count": 13,
   "metadata": {},
   "outputs": [],
   "source": [
    "multiclass_logreg_obj = LogisticRegression(multi_class=\"multinomial\", solver=\"lbfgs\", C=10)\n",
    "# let us get the petal width. It is present in the 4th column of data\n",
    "X = iris[\"data\"][:, [2,3]] \n",
    "y = iris[\"target\"]"
   ]
  },
  {
   "cell_type": "code",
   "execution_count": 33,
   "metadata": {},
   "outputs": [
    {
     "name": "stdout",
     "output_type": "stream",
     "text": [
      "(150, 2)\n",
      "(150,)\n"
     ]
    }
   ],
   "source": [
    "print(X.shape)\n",
    "print(y.shape)"
   ]
  },
  {
   "cell_type": "code",
   "execution_count": 23,
   "metadata": {},
   "outputs": [],
   "source": [
    "df = pd.DataFrame(X, columns=[iris.feature_names[2], iris.feature_names[3]])"
   ]
  },
  {
   "cell_type": "code",
   "execution_count": 24,
   "metadata": {},
   "outputs": [
    {
     "name": "stdout",
     "output_type": "stream",
     "text": [
      "   petal length (cm)  petal width (cm)\n",
      "0                1.4               0.1\n",
      "1                1.4               0.1\n",
      "2                1.3               0.1\n",
      "3                1.5               0.1\n",
      "4                1.4               0.1\n"
     ]
    }
   ],
   "source": [
    "print(df.head())"
   ]
  },
  {
   "cell_type": "code",
   "execution_count": 25,
   "metadata": {},
   "outputs": [
    {
     "data": {
      "text/plain": [
       "LogisticRegression(C=10, class_weight=None, dual=False, fit_intercept=True,\n",
       "          intercept_scaling=1, max_iter=100, multi_class='multinomial',\n",
       "          n_jobs=1, penalty='l2', random_state=None, solver='lbfgs',\n",
       "          tol=0.0001, verbose=0, warm_start=False)"
      ]
     },
     "execution_count": 25,
     "metadata": {},
     "output_type": "execute_result"
    }
   ],
   "source": [
    "multiclass_logreg_obj.fit(X, y)"
   ]
  },
  {
   "cell_type": "code",
   "execution_count": 3,
   "metadata": {},
   "outputs": [
    {
     "ename": "NameError",
     "evalue": "name 'np' is not defined",
     "output_type": "error",
     "traceback": [
      "\u001b[1;31m---------------------------------------------------------------------------\u001b[0m",
      "\u001b[1;31mNameError\u001b[0m                                 Traceback (most recent call last)",
      "\u001b[1;32m<ipython-input-3-fcf510dcc572>\u001b[0m in \u001b[0;36m<module>\u001b[1;34m()\u001b[0m\n\u001b[1;32m----> 1\u001b[1;33m \u001b[0mX_new\u001b[0m \u001b[1;33m=\u001b[0m \u001b[0mnp\u001b[0m\u001b[1;33m.\u001b[0m\u001b[0marray\u001b[0m\u001b[1;33m(\u001b[0m\u001b[1;33m[\u001b[0m\u001b[1;36m1\u001b[0m\u001b[1;33m,\u001b[0m \u001b[1;36m0.1\u001b[0m\u001b[1;33m]\u001b[0m\u001b[1;33m,\u001b[0m \u001b[0mndmin\u001b[0m\u001b[1;33m=\u001b[0m\u001b[1;36m2\u001b[0m\u001b[1;33m)\u001b[0m\u001b[1;33m\u001b[0m\u001b[0m\n\u001b[0m\u001b[0;32m      2\u001b[0m \u001b[0mprediction\u001b[0m \u001b[1;33m=\u001b[0m \u001b[0mmulticlass_logreg_obj\u001b[0m\u001b[1;33m.\u001b[0m\u001b[0mpredict\u001b[0m\u001b[1;33m(\u001b[0m\u001b[0mX_new\u001b[0m\u001b[1;33m)\u001b[0m\u001b[1;33m\u001b[0m\u001b[0m\n\u001b[0;32m      3\u001b[0m \u001b[0mpred_prob\u001b[0m \u001b[1;33m=\u001b[0m \u001b[0mmulticlass_logreg_obj\u001b[0m\u001b[1;33m.\u001b[0m\u001b[0mpredict_proba\u001b[0m\u001b[1;33m(\u001b[0m\u001b[0mX_new\u001b[0m\u001b[1;33m)\u001b[0m\u001b[1;33m\u001b[0m\u001b[0m\n\u001b[0;32m      4\u001b[0m \u001b[0mprint\u001b[0m\u001b[1;33m(\u001b[0m\u001b[1;34m'Prediction {}'\u001b[0m\u001b[1;33m.\u001b[0m\u001b[0mformat\u001b[0m\u001b[1;33m(\u001b[0m\u001b[0mprediction\u001b[0m\u001b[1;33m)\u001b[0m\u001b[1;33m)\u001b[0m\u001b[1;33m\u001b[0m\u001b[0m\n\u001b[0;32m      5\u001b[0m \u001b[0mprint\u001b[0m\u001b[1;33m(\u001b[0m\u001b[1;34m'With a probability of: '\u001b[0m \u001b[1;33m+\u001b[0m \u001b[0mstr\u001b[0m\u001b[1;33m(\u001b[0m\u001b[0mpred_prob\u001b[0m \u001b[1;33m)\u001b[0m\u001b[1;33m)\u001b[0m\u001b[1;33m\u001b[0m\u001b[0m\n",
      "\u001b[1;31mNameError\u001b[0m: name 'np' is not defined"
     ]
    }
   ],
   "source": [
    "X_new = np.array([1, 0.1], ndmin=2)\n",
    "prediction = multiclass_logreg_obj.predict(X_new)\n",
    "pred_prob = multiclass_logreg_obj.predict_proba(X_new)\n",
    "print('Prediction {}'.format(prediction))\n",
    "print('With a probability of: ' + str(pred_prob ))"
   ]
  },
  {
   "cell_type": "markdown",
   "metadata": {},
   "source": [
    "### Sources \n",
    "1. https://github.com/mattnedrich/GradientDescentExample/blob/master/gradient_descent_example.py\n",
    "2. Hands-On Machine Learning with Scikit-Learn and TensorFlow by Aurélien Géron\n",
    "\n",
    "For further details on linear regression, we recommend watching the Linear Regression lectures in the Machine Learning Course by Andrew Ng on Coursera."
   ]
  }
 ],
 "metadata": {
  "kernelspec": {
   "display_name": "Python 3",
   "language": "python",
   "name": "python3"
  },
  "language_info": {
   "codemirror_mode": {
    "name": "ipython",
    "version": 3
   },
   "file_extension": ".py",
   "mimetype": "text/x-python",
   "name": "python",
   "nbconvert_exporter": "python",
   "pygments_lexer": "ipython3",
   "version": "3.6.5"
  }
 },
 "nbformat": 4,
 "nbformat_minor": 2
}
