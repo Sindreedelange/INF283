{
 "cells": [
  {
   "cell_type": "markdown",
   "metadata": {},
   "source": [
    "# INF283 | Weekly Exercise 02 | Regression"
   ]
  },
  {
   "cell_type": "markdown",
   "metadata": {},
   "source": [
    "## Table of Contents:\n",
    "[1. Univariate Linear Regression](#univariate)\n",
    "  * [Exercise 1.1](#exercise1_1)\n",
    "\n",
    "  * [Exercise 1.2](#exercise1_2)\n",
    "\n",
    "  * [Exercise 1.3](#exercise1_3)\n",
    "\n",
    "  * [Exercise 1.4](#exercise1_4)\n",
    "\n",
    "  * [Exercise 1.5](#exercise1_5)\n",
    "\n",
    "[2. Multivariate Linear Regression](#multivariate)\n",
    "  \n",
    "  * [Exercise 2.1](#exercise2_1)\n",
    "  \n",
    "  * [Exercise 2.2](#exercise2_2)\n",
    "  \n",
    "  * [Exercise 2.3](#exercise2_3)\n",
    "\n",
    "[3. Logistic Regression](#logistic)\n",
    "\n",
    "  * [Exercise 3.1](#exercise3_1)\n"
   ]
  },
  {
   "cell_type": "markdown",
   "metadata": {},
   "source": [
    "# 1. Univariate Linear Regression <a class=\"anchor\" id=\"univariate\"></a> "
   ]
  },
  {
   "cell_type": "markdown",
   "metadata": {},
   "source": [
    "# Linear Regression with Gradient Descent"
   ]
  },
  {
   "cell_type": "code",
   "execution_count": 1,
   "metadata": {},
   "outputs": [],
   "source": [
    "import numpy as np\n",
    "import matplotlib.pyplot as plt\n",
    "%matplotlib inline\n",
    "import pandas as pd"
   ]
  },
  {
   "cell_type": "markdown",
   "metadata": {},
   "source": [
    "### Finding the mean squared error (MSE)"
   ]
  },
  {
   "cell_type": "code",
   "execution_count": 2,
   "metadata": {},
   "outputs": [],
   "source": [
    "# We are now going to define a function which takes the parameters (w0 and w1) of \n",
    "# a line and then finds the mean-squared error between the user-specified points \n",
    "# and the line. \n",
    "def compute_error_for_line_given_points(w0, w1, points):\n",
    "    totalError = 0\n",
    "    for i in range(0, len(points)):\n",
    "        x = points[i, 0]\n",
    "        y = points[i, 1]\n",
    "        # accumulate 'sum of square' errors in totalError variable\n",
    "        totalError += (y - (w1 * x + w0)) ** 2\n",
    "    # find mean of sum of squared errors    \n",
    "    mse = totalError/len(points)\n",
    "    return mse\n",
    "\n",
    "# N.B.: Students who wish to do this excercise in R should implement this function in R themselves"
   ]
  },
  {
   "cell_type": "markdown",
   "metadata": {},
   "source": [
    "### Gradient Descent"
   ]
  },
  {
   "cell_type": "code",
   "execution_count": 3,
   "metadata": {},
   "outputs": [],
   "source": [
    "def step_gradient(w0_current, w1_current, points, learningRate):\n",
    "    #initialize the partial derivatives for the cummlative sum\n",
    "    w0_par_der = 0\n",
    "    w1_par_der = 0\n",
    "    \n",
    "    n = len(points)\n",
    "    \n",
    "    # computation for the summation\n",
    "    for i in range(0, len(points)):\n",
    "        x = points[i, 0]\n",
    "        y = points[i, 1]\n",
    "        # partial derivative (of MSE) with respect to w0\n",
    "        w0_par_der += (y - ((w1_current * x) + w0_current))\n",
    "        # partial derivative (of MSE) with respect to w1\n",
    "        w1_par_der += x * (y - ((w1_current * x) + w0_current))\n",
    "        \n",
    "    # multiplcation of summation results with -2/n\n",
    "    w0_par_der = -(2/n) * w0_par_der\n",
    "        # partial derivative (of MSE) with respect to w1\n",
    "    w1_par_der = -(2/n) * w1_par_der\n",
    "         \n",
    "    # make a gradient vector from the partial derivatives    \n",
    "    gradient_mse = np.array([w0_par_der, w1_par_der])\n",
    "    \n",
    "    # make a vector of weights\n",
    "    weight_vector = np.array([w0_current, w1_current])\n",
    "    \n",
    "    # update rule for weights\n",
    "    updated_weight_vector = weight_vector - (learningRate * gradient_mse)\n",
    "    \n",
    "    # return the updated weight vector as a list\n",
    "    return np.ndarray.tolist(updated_weight_vector)\n",
    "\n",
    "# N.B. Students who wish to do this excercise in R should implement this function in R themselves"
   ]
  },
  {
   "cell_type": "markdown",
   "metadata": {},
   "source": [
    "### Running Gradient Descent Iteratively"
   ]
  },
  {
   "cell_type": "code",
   "execution_count": 4,
   "metadata": {},
   "outputs": [],
   "source": [
    "def gradient_descent_runner(points, starting_w0, starting_w1, learning_rate, num_iterations):\n",
    "    w0 = starting_w0\n",
    "    w1 = starting_w1\n",
    "    for i in range(num_iterations):\n",
    "        w0, w1 = step_gradient(w0, w1, points, learning_rate)\n",
    "        mse = compute_error_for_line_given_points(w0, w1, points)\n",
    "        print(f'Iteration {i+1}: w0={w0:0.5f}, w1={w1:0.5f}, mse={mse:0.5f}')\n",
    "    return [w0, w1, mse]\n",
    "# N.B.: Students who wish to do this exercise in R should implement this function in R themselves"
   ]
  },
  {
   "cell_type": "markdown",
   "metadata": {},
   "source": [
    "### Bringing it all together"
   ]
  },
  {
   "cell_type": "code",
   "execution_count": 5,
   "metadata": {},
   "outputs": [
    {
     "data": {
      "text/plain": [
       "<matplotlib.collections.PathCollection at 0x269541d7fd0>"
      ]
     },
     "execution_count": 5,
     "metadata": {},
     "output_type": "execute_result"
    },
    {
     "data": {
      "image/png": "[encoded data removed]",
      "text/plain": [
       "<Figure size 432x288 with 1 Axes>"
      ]
     },
     "metadata": {},
     "output_type": "display_data"
    }
   ],
   "source": [
    "np.random.seed(2)\n",
    "\n",
    "# generate 100 x values from 0 to 2 randomly, then sort them in ascending order\n",
    "X = 2 * np.random.rand(100, 1)\n",
    "X.sort(axis=0)\n",
    "\n",
    "# generate y values and add noise to it\n",
    "y = 4 + 3 * X + np.random.rand(100, 1)\n",
    "\n",
    "# let us plot the data\n",
    "plt.scatter(X, y)"
   ]
  },
  {
   "cell_type": "code",
   "execution_count": 8,
   "metadata": {},
   "outputs": [
    {
     "name": "stdout",
     "output_type": "stream",
     "text": [
      "Iteration 1: w0=1.44691, w1=1.50194, mse=20.14308\n",
      "Iteration 2: w0=2.32806, w1=2.39849, mse=7.47831\n",
      "Iteration 3: w0=2.86801, w1=2.93046, mse=2.87255\n",
      "Iteration 4: w0=3.20208, w1=3.24295, mse=1.19394\n",
      "Iteration 5: w0=3.41183, w1=3.42341, mse=0.57873\n",
      "Iteration 6: w0=3.54643, w1=3.52453, mse=0.35003\n",
      "Iteration 7: w0=3.63550, w1=3.57805, mse=0.26199\n",
      "Iteration 8: w0=3.69691, w1=3.60309, mse=0.22532\n",
      "Iteration 9: w0=3.74143, w1=3.61118, mse=0.20757\n",
      "Iteration 10: w0=3.77555, w1=3.60925, mse=0.19693\n",
      "Iteration 11: w0=3.80321, w1=3.60148, mse=0.18912\n",
      "Iteration 12: w0=3.82676, w1=3.59037, mse=0.18255\n",
      "Iteration 13: w0=3.84765, w1=3.57743, mse=0.17664\n",
      "Iteration 14: w0=3.86674, w1=3.56358, mse=0.17117\n",
      "Iteration 15: w0=3.88456, w1=3.54934, mse=0.16604\n",
      "Iteration 16: w0=3.90144, w1=3.53503, mse=0.16122\n",
      "Iteration 17: w0=3.91758, w1=3.52085, mse=0.15667\n",
      "Iteration 18: w0=3.93309, w1=3.50690, mse=0.15238\n",
      "Iteration 19: w0=3.94807, w1=3.49325, mse=0.14833\n",
      "Iteration 20: w0=3.96257, w1=3.47992, mse=0.14451\n",
      "Iteration 21: w0=3.97662, w1=3.46694, mse=0.14090\n",
      "Iteration 22: w0=3.99025, w1=3.45430, mse=0.13750\n",
      "Iteration 23: w0=4.00348, w1=3.44201, mse=0.13428\n",
      "Iteration 24: w0=4.01632, w1=3.43005, mse=0.13125\n",
      "Iteration 25: w0=4.02880, w1=3.41844, mse=0.12838\n",
      "Iteration 26: w0=4.04092, w1=3.40715, mse=0.12568\n",
      "Iteration 27: w0=4.05269, w1=3.39618, mse=0.12313\n",
      "Iteration 28: w0=4.06412, w1=3.38552, mse=0.12072\n",
      "Iteration 29: w0=4.07523, w1=3.37516, mse=0.11844\n",
      "Iteration 30: w0=4.08603, w1=3.36510, mse=0.11630\n",
      "Iteration 31: w0=4.09651, w1=3.35533, mse=0.11427\n",
      "Iteration 32: w0=4.10670, w1=3.34583, mse=0.11236\n",
      "Iteration 33: w0=4.11660, w1=3.33660, mse=0.11055\n",
      "Iteration 34: w0=4.12622, w1=3.32763, mse=0.10885\n",
      "Iteration 35: w0=4.13556, w1=3.31892, mse=0.10724\n",
      "Iteration 36: w0=4.14464, w1=3.31046, mse=0.10572\n",
      "Iteration 37: w0=4.15346, w1=3.30223, mse=0.10429\n",
      "Iteration 38: w0=4.16203, w1=3.29424, mse=0.10293\n",
      "Iteration 39: w0=4.17035, w1=3.28648, mse=0.10166\n",
      "Iteration 40: w0=4.17844, w1=3.27894, mse=0.10045\n",
      "Iteration 41: w0=4.18630, w1=3.27162, mse=0.09931\n",
      "Iteration 42: w0=4.19393, w1=3.26450, mse=0.09824\n",
      "Iteration 43: w0=4.20135, w1=3.25758, mse=0.09722\n",
      "Iteration 44: w0=4.20856, w1=3.25086, mse=0.09627\n",
      "Iteration 45: w0=4.21556, w1=3.24433, mse=0.09536\n",
      "Iteration 46: w0=4.22236, w1=3.23799, mse=0.09451\n",
      "Iteration 47: w0=4.22897, w1=3.23183, mse=0.09371\n",
      "Iteration 48: w0=4.23539, w1=3.22584, mse=0.09295\n",
      "Iteration 49: w0=4.24163, w1=3.22002, mse=0.09223\n",
      "Iteration 50: w0=4.24769, w1=3.21437, mse=0.09155\n"
     ]
    }
   ],
   "source": [
    "# combine the x and y values into a single array called points\n",
    "points = np.column_stack((X, y))\n",
    "\n",
    "num_iterations = 100\n",
    "learning_rate = 0.1\n",
    "initial_w0 = 0 # initial y-intercept guess\n",
    "initial_w1 = 0 # initial slope guess\n",
    "early_stop = 0.00064\n",
    "[w0, w1, mse] = gradient_descent_runner_early_stop(points, initial_w0, initial_w1, learning_rate, num_iterations, early_stop)"
   ]
  },
  {
   "cell_type": "markdown",
   "metadata": {},
   "source": [
    "## Exercise 1.1 <a class=\"anchor\" id=\"exercise1_1\"></a> "
   ]
  },
  {
   "cell_type": "code",
   "execution_count": 7,
   "metadata": {},
   "outputs": [],
   "source": [
    "# TODO:\n",
    "# Paste your code below for the modified gradient_descent_runner_early_stop function\n",
    "def gradient_descent_runner_early_stop(points, starting_w0, starting_w1, learning_rate, num_iterations, early_stop):\n",
    "    w0 = starting_w0\n",
    "    w1 = starting_w1\n",
    "    mse_t0 = 1e4 # Set to a high number for case 0\n",
    "    for i in range(num_iterations):\n",
    "        w0, w1 = step_gradient(w0, w1, points, learning_rate)\n",
    "        mse_t1 = compute_error_for_line_given_points(w0, w1, points)\n",
    "        if(mse_t0 - mse_t1 < early_stop):\n",
    "            break;\n",
    "        else:\n",
    "            print(f'Iteration {i+1}: w0={w0:0.5f}, w1={w1:0.5f}, mse={mse_t1:0.5f}')\n",
    "            mse_t0 = mse_t1\n",
    "    return [w0, w1, mse_t0]\n",
    "# N.B.: Students who wish to do this exercise in R should implement this function in R themselves"
   ]
  },
  {
   "cell_type": "markdown",
   "metadata": {},
   "source": [
    "## Exercise 1.2<a class=\"anchor\" id=\"exercise1_2\"></a> \n",
    "In the program above we had set the learning rate to 0.1. Using the original `gradient_descent_runner` function, first set the number of iterations to 100. Then try to run the code with two different values of learning rates:\n",
    "1. a learning rate of 0.001\n",
    "2. a learning rate of 1\n",
    "\n",
    "Explain what you observe."
   ]
  },
  {
   "cell_type": "code",
   "execution_count": 9,
   "metadata": {},
   "outputs": [],
   "source": [
    "%%capture\n",
    "num_iterations = 100\n",
    "learning_rate = [1, 1e-3]\n",
    "initial_w0 = 0 # initial y-intercept guess\n",
    "initial_w1 = 0 # initial slope guess\n",
    "for lr in learning_rate:\n",
    "    print(\"---------------------\" + \"\\n\" + \"Learning rate: \" + str(lr))\n",
    "    [w0, w1, mse] = gradient_descent_runner(points, initial_w0, initial_w1, lr, num_iterations)"
   ]
  },
  {
   "cell_type": "markdown",
   "metadata": {},
   "source": [
    "##### TODO\n",
    "> When learning rate is set to 1 the mse (drastically) increases. </br>\n",
    "When learning rate is set to 0.001 the mse decreases, however it decreases slowly. </br>\n",
    "Conclusion: Learning rate = 1 is too high, while learning rate = 0.001 is too low. "
   ]
  },
  {
   "cell_type": "markdown",
   "metadata": {},
   "source": [
    "## Exercise 1.3<a class=\"anchor\" id=\"exercise1_3\"></a> "
   ]
  },
  {
   "cell_type": "code",
   "execution_count": 10,
   "metadata": {},
   "outputs": [],
   "source": [
    "# TODO\n",
    "# Write your solution here\n",
    "shape = X.shape\n",
    "obj_type = X.dtype\n",
    "ones = np.ones((shape), obj_type)\n",
    "X_ones = np.hstack((X, ones))"
   ]
  },
  {
   "cell_type": "code",
   "execution_count": 11,
   "metadata": {},
   "outputs": [],
   "source": [
    "X_trans = X_ones.T"
   ]
  },
  {
   "cell_type": "code",
   "execution_count": 12,
   "metadata": {},
   "outputs": [],
   "source": [
    "X_trans_times_X = X_trans.dot(X_ones)"
   ]
  },
  {
   "cell_type": "code",
   "execution_count": 13,
   "metadata": {},
   "outputs": [],
   "source": [
    "from numpy.linalg import inv"
   ]
  },
  {
   "cell_type": "code",
   "execution_count": 14,
   "metadata": {},
   "outputs": [],
   "source": [
    "X_T_times_X__inv = inv(X_trans_times_X)"
   ]
  },
  {
   "cell_type": "code",
   "execution_count": 15,
   "metadata": {},
   "outputs": [],
   "source": [
    "w_hat = ((X_T_times_X__inv.dot(X_trans)).dot(y))"
   ]
  },
  {
   "cell_type": "code",
   "execution_count": 16,
   "metadata": {},
   "outputs": [
    {
     "data": {
      "text/plain": [
       "array([[3.02129039],\n",
       "       [4.45478709]])"
      ]
     },
     "execution_count": 16,
     "metadata": {},
     "output_type": "execute_result"
    }
   ],
   "source": [
    "w_hat"
   ]
  },
  {
   "cell_type": "markdown",
   "metadata": {},
   "source": [
    "> It seems like the values are more or less the same, so both methods obviously work. "
   ]
  },
  {
   "cell_type": "markdown",
   "metadata": {},
   "source": [
    "## Exercise 1.4<a class=\"anchor\" id=\"exercise1_4\"></a> \n",
    "To brush up your calculus skills, derive the partial derivate of MSE that has *L2* penalty term included in it. In other words, we want you compute the following partial derivatives:\n",
    "$$\n",
    "\\frac{\\partial}{\\partial w_0} \\left(\\dfrac{1}{n} \\sum_{i=1}^{n} [y_i - (w_1 x_i + w_0)]^2 + \\lambda {w_0}^2\\right) \n",
    "$$\n",
    "\n",
    "$$\n",
    "\\frac{\\partial}{\\partial w_1} \\left(\\dfrac{1}{n} \\sum_{i=1}^{n} [y_i - (w_1 x_i + w_0)]^2 + \\lambda {w_1}^2\\right) \n",
    "$$\n",
    "\n",
    "#### What to submit\n",
    "A derivation of both the gradient equations. "
   ]
  },
  {
   "cell_type": "markdown",
   "metadata": {},
   "source": [
    "$$\n",
    "\\frac{\\partial}{\\partial w_0} \\left(\\dfrac{1}{n} \\sum_{i=1}^{n} [y_i - (w_1 x_i + w_0)]^2  + \\lambda \\cdot {w_0}^2 \\right) =\n",
    "\\underline{-\\dfrac{2}{n}\\sum_{i=1}^{n} \\left(y_i - (w_1 x_i + w_0) + 2 \\lambda w_0 \\right)}\n",
    "$$\n",
    "\n",
    "$$\n",
    "\\frac{\\partial}{\\partial w_1} \\left(\\dfrac{1}{n} \\sum_{i=1}^{n} [y_i - (w_1 x_i + w_0)]^2  + \\lambda \\cdot {w_1}^2 \\right) =\n",
    "\\underline{-\\dfrac{2}{n} \\sum_{i=1}^{n} x_i\\left (y_i - (w_1 x_i + w_0)\\right) + 2 \\lambda w_1}\n",
    "$$"
   ]
  },
  {
   "cell_type": "markdown",
   "metadata": {},
   "source": [
    "# Linear Regression with *sklearn* Machine Learning Library"
   ]
  },
  {
   "cell_type": "code",
   "execution_count": 17,
   "metadata": {},
   "outputs": [
    {
     "data": {
      "text/plain": [
       "LinearRegression(copy_X=True, fit_intercept=True, n_jobs=1, normalize=False)"
      ]
     },
     "execution_count": 17,
     "metadata": {},
     "output_type": "execute_result"
    }
   ],
   "source": [
    "# import LinearRegression class from sklearn.linear_model module\n",
    "from sklearn.linear_model import LinearRegression\n",
    "\n",
    "# make a lin_reg object form the LinearRegression class\n",
    "lin_reg = LinearRegression()\n",
    "\n",
    "# use the fit method of LinearRegression class to fit a straight line through the data\n",
    "lin_reg.fit(X, y)"
   ]
  },
  {
   "cell_type": "code",
   "execution_count": 18,
   "metadata": {},
   "outputs": [
    {
     "name": "stdout",
     "output_type": "stream",
     "text": [
      "slope w1: [[3.02129039]]\n",
      "y-intercept w0: [4.45478709]\n"
     ]
    }
   ],
   "source": [
    "print('slope w1:', lin_reg.coef_)\n",
    "print('y-intercept w0:', lin_reg.intercept_)"
   ]
  },
  {
   "cell_type": "code",
   "execution_count": 19,
   "metadata": {},
   "outputs": [
    {
     "data": {
      "text/plain": [
       "<matplotlib.legend.Legend at 0x26955ba9630>"
      ]
     },
     "execution_count": 19,
     "metadata": {},
     "output_type": "execute_result"
    },
    {
     "data": {
      "image/png": "[encoded data removed]",
      "text/plain": [
       "<Figure size 432x288 with 1 Axes>"
      ]
     },
     "metadata": {},
     "output_type": "display_data"
    }
   ],
   "source": [
    "# plot the original data points as a scatter plot\n",
    "plt.scatter(X, y, label='original data')\n",
    "\n",
    "# plot the line that fits these points. Use the values of m and b as provided by the fit method\n",
    "y_ = lin_reg.coef_*X + lin_reg.intercept_\n",
    "\n",
    "# you can also get y_ by using the predict method. Uncomment the line below:\n",
    "#y_ = lin_reg.predict(X)\n",
    "\n",
    "plt.plot(X, y_, color='r', label='predicted fit')\n",
    "plt.xlabel('x'); plt.ylabel('y')\n",
    "plt.legend(loc='best')\n"
   ]
  },
  {
   "cell_type": "markdown",
   "metadata": {},
   "source": [
    "## Exercise 1.5<a class=\"anchor\" id=\"exercise1_5\"></a> "
   ]
  },
  {
   "cell_type": "markdown",
   "metadata": {},
   "source": [
    "1. The _fit_ method from the __sklearn library__ seems to give more or less the same values for _b_ and _m_ as \"my\" implementation of the __Normal Equation__\n"
   ]
  },
  {
   "cell_type": "code",
   "execution_count": 20,
   "metadata": {
    "scrolled": true
   },
   "outputs": [
    {
     "name": "stdout",
     "output_type": "stream",
     "text": [
      "Predicted value: 13.518658256328946\n",
      "Actual value: 13\n"
     ]
    }
   ],
   "source": [
    "# Answer to 2. \n",
    "test_data_point = 3\n",
    "pred_value = float(lin_reg.predict(test_data_point))\n",
    "actual_value = 4 + 3*test_data_point\n",
    "print(\"Predicted value: \" + str(pred_value) + '\\n' + \"Actual value: \" + str(actual_value))"
   ]
  },
  {
   "cell_type": "markdown",
   "metadata": {},
   "source": [
    "> Pretty fair prediction"
   ]
  },
  {
   "cell_type": "markdown",
   "metadata": {},
   "source": [
    "# 2. Multivariate Linear Regression <a class=\"anchor\" id=\"multivariate\"></a> "
   ]
  },
  {
   "cell_type": "code",
   "execution_count": 21,
   "metadata": {},
   "outputs": [
    {
     "data": {
      "text/html": [
       "<div>\n",
       "<style scoped>\n",
       "    .dataframe tbody tr th:only-of-type {\n",
       "        vertical-align: middle;\n",
       "    }\n",
       "\n",
       "    .dataframe tbody tr th {\n",
       "        vertical-align: top;\n",
       "    }\n",
       "\n",
       "    .dataframe thead th {\n",
       "        text-align: right;\n",
       "    }\n",
       "</style>\n",
       "<table border=\"1\" class=\"dataframe\">\n",
       "  <thead>\n",
       "    <tr style=\"text-align: right;\">\n",
       "      <th></th>\n",
       "      <th>revenue</th>\n",
       "      <th>production_cost</th>\n",
       "      <th>promotional_cost</th>\n",
       "      <th>book_sales</th>\n",
       "    </tr>\n",
       "  </thead>\n",
       "  <tbody>\n",
       "    <tr>\n",
       "      <th>0</th>\n",
       "      <td>85.099998</td>\n",
       "      <td>8.5</td>\n",
       "      <td>5.100000</td>\n",
       "      <td>4.7</td>\n",
       "    </tr>\n",
       "    <tr>\n",
       "      <th>1</th>\n",
       "      <td>106.300003</td>\n",
       "      <td>12.9</td>\n",
       "      <td>5.800000</td>\n",
       "      <td>8.8</td>\n",
       "    </tr>\n",
       "    <tr>\n",
       "      <th>2</th>\n",
       "      <td>50.200001</td>\n",
       "      <td>5.2</td>\n",
       "      <td>2.100000</td>\n",
       "      <td>15.1</td>\n",
       "    </tr>\n",
       "    <tr>\n",
       "      <th>3</th>\n",
       "      <td>130.600006</td>\n",
       "      <td>10.7</td>\n",
       "      <td>8.399999</td>\n",
       "      <td>12.2</td>\n",
       "    </tr>\n",
       "    <tr>\n",
       "      <th>4</th>\n",
       "      <td>54.799999</td>\n",
       "      <td>3.1</td>\n",
       "      <td>2.900000</td>\n",
       "      <td>10.6</td>\n",
       "    </tr>\n",
       "  </tbody>\n",
       "</table>\n",
       "</div>"
      ],
      "text/plain": [
       "      revenue  production_cost  promotional_cost  book_sales\n",
       "0   85.099998              8.5          5.100000         4.7\n",
       "1  106.300003             12.9          5.800000         8.8\n",
       "2   50.200001              5.2          2.100000        15.1\n",
       "3  130.600006             10.7          8.399999        12.2\n",
       "4   54.799999              3.1          2.900000        10.6"
      ]
     },
     "execution_count": 21,
     "metadata": {},
     "output_type": "execute_result"
    }
   ],
   "source": [
    "# make a dataframe of the data\n",
    "df = pd.read_csv('movies.csv')\n",
    "\n",
    "# show first five rows of df\n",
    "df.head(n=5)"
   ]
  },
  {
   "cell_type": "code",
   "execution_count": 22,
   "metadata": {},
   "outputs": [
    {
     "data": {
      "text/html": [
       "<div>\n",
       "<style scoped>\n",
       "    .dataframe tbody tr th:only-of-type {\n",
       "        vertical-align: middle;\n",
       "    }\n",
       "\n",
       "    .dataframe tbody tr th {\n",
       "        vertical-align: top;\n",
       "    }\n",
       "\n",
       "    .dataframe thead th {\n",
       "        text-align: right;\n",
       "    }\n",
       "</style>\n",
       "<table border=\"1\" class=\"dataframe\">\n",
       "  <thead>\n",
       "    <tr style=\"text-align: right;\">\n",
       "      <th></th>\n",
       "      <th>production_cost</th>\n",
       "      <th>promotional_cost</th>\n",
       "      <th>book_sales</th>\n",
       "    </tr>\n",
       "  </thead>\n",
       "  <tbody>\n",
       "    <tr>\n",
       "      <th>0</th>\n",
       "      <td>8.5</td>\n",
       "      <td>5.100000</td>\n",
       "      <td>4.7</td>\n",
       "    </tr>\n",
       "    <tr>\n",
       "      <th>1</th>\n",
       "      <td>12.9</td>\n",
       "      <td>5.800000</td>\n",
       "      <td>8.8</td>\n",
       "    </tr>\n",
       "    <tr>\n",
       "      <th>2</th>\n",
       "      <td>5.2</td>\n",
       "      <td>2.100000</td>\n",
       "      <td>15.1</td>\n",
       "    </tr>\n",
       "    <tr>\n",
       "      <th>3</th>\n",
       "      <td>10.7</td>\n",
       "      <td>8.399999</td>\n",
       "      <td>12.2</td>\n",
       "    </tr>\n",
       "    <tr>\n",
       "      <th>4</th>\n",
       "      <td>3.1</td>\n",
       "      <td>2.900000</td>\n",
       "      <td>10.6</td>\n",
       "    </tr>\n",
       "  </tbody>\n",
       "</table>\n",
       "</div>"
      ],
      "text/plain": [
       "   production_cost  promotional_cost  book_sales\n",
       "0              8.5          5.100000         4.7\n",
       "1             12.9          5.800000         8.8\n",
       "2              5.2          2.100000        15.1\n",
       "3             10.7          8.399999        12.2\n",
       "4              3.1          2.900000        10.6"
      ]
     },
     "execution_count": 22,
     "metadata": {},
     "output_type": "execute_result"
    }
   ],
   "source": [
    "# Extract the first column and set it to the output or dependent varaible y\n",
    "y = df[['revenue']]\n",
    "\n",
    "# Remove the first column and set the rest of the dataframe to X. This is the set of indepedent variables\n",
    "X = df.drop(columns=['revenue'])\n",
    "\n",
    "# show first five rows of X\n",
    "X.head(n=5)"
   ]
  },
  {
   "cell_type": "code",
   "execution_count": 23,
   "metadata": {},
   "outputs": [
    {
     "data": {
      "text/html": [
       "<div>\n",
       "<style scoped>\n",
       "    .dataframe tbody tr th:only-of-type {\n",
       "        vertical-align: middle;\n",
       "    }\n",
       "\n",
       "    .dataframe tbody tr th {\n",
       "        vertical-align: top;\n",
       "    }\n",
       "\n",
       "    .dataframe thead th {\n",
       "        text-align: right;\n",
       "    }\n",
       "</style>\n",
       "<table border=\"1\" class=\"dataframe\">\n",
       "  <thead>\n",
       "    <tr style=\"text-align: right;\">\n",
       "      <th></th>\n",
       "      <th>revenue</th>\n",
       "    </tr>\n",
       "  </thead>\n",
       "  <tbody>\n",
       "    <tr>\n",
       "      <th>0</th>\n",
       "      <td>85.099998</td>\n",
       "    </tr>\n",
       "    <tr>\n",
       "      <th>1</th>\n",
       "      <td>106.300003</td>\n",
       "    </tr>\n",
       "    <tr>\n",
       "      <th>2</th>\n",
       "      <td>50.200001</td>\n",
       "    </tr>\n",
       "    <tr>\n",
       "      <th>3</th>\n",
       "      <td>130.600006</td>\n",
       "    </tr>\n",
       "    <tr>\n",
       "      <th>4</th>\n",
       "      <td>54.799999</td>\n",
       "    </tr>\n",
       "  </tbody>\n",
       "</table>\n",
       "</div>"
      ],
      "text/plain": [
       "      revenue\n",
       "0   85.099998\n",
       "1  106.300003\n",
       "2   50.200001\n",
       "3  130.600006\n",
       "4   54.799999"
      ]
     },
     "execution_count": 23,
     "metadata": {},
     "output_type": "execute_result"
    }
   ],
   "source": [
    "# show first five rows of y\n",
    "y.head(n=5)"
   ]
  },
  {
   "cell_type": "code",
   "execution_count": 24,
   "metadata": {},
   "outputs": [
    {
     "data": {
      "text/plain": [
       "(array([7.67602854]), array([[3.66160401, 7.62105126, 0.82846807]]))"
      ]
     },
     "execution_count": 24,
     "metadata": {},
     "output_type": "execute_result"
    }
   ],
   "source": [
    "from sklearn.linear_model import LinearRegression\n",
    "\n",
    "# make a lin_reg object form the LinearRegression class\n",
    "lin_reg = LinearRegression()\n",
    "\n",
    "# use the fit method of LinearRegression class to fit a straight line through the data\n",
    "lin_reg.fit(X, y)\n",
    "\n",
    "# Display the learned parameters\n",
    "lin_reg.intercept_, lin_reg.coef_"
   ]
  },
  {
   "cell_type": "markdown",
   "metadata": {},
   "source": [
    "## Exercise 2.1<a class=\"anchor\" id=\"exercise2_1\"></a> "
   ]
  },
  {
   "cell_type": "code",
   "execution_count": 25,
   "metadata": {},
   "outputs": [
    {
     "data": {
      "text/plain": [
       "array([[191.6302165]])"
      ]
     },
     "execution_count": 25,
     "metadata": {},
     "output_type": "execute_result"
    }
   ],
   "source": [
    "## TODO\n",
    "## Write your code here\n",
    "prod_c = 23\n",
    "prom_c = 12\n",
    "book_s = 10\n",
    "X_test = np.array([prod_c, prom_c, book_s]).reshape(1, -1)\n",
    "lin_reg.predict(X_test)"
   ]
  },
  {
   "cell_type": "markdown",
   "metadata": {},
   "source": [
    "# Multivariate Regression with Polynomial basis"
   ]
  },
  {
   "cell_type": "code",
   "execution_count": 26,
   "metadata": {},
   "outputs": [],
   "source": [
    "# define the number of points to generate as k\n",
    "k = 100\n",
    "\n",
    "# define a seed value. It is important to define the seed value\n",
    "# so that the random numbers generated are the same every time\n",
    "# this code is executed.\n",
    "np.random.seed(10)\n",
    "\n",
    "# generate k x-axis values from -3 to +3\n",
    "X = 6 * np.random.rand(k, 1) - 3\n",
    "\n",
    "# sort the numbers in ascending order. This helps when we are plotting the data. \n",
    "# Without this line, your plots will be all jumbled up\n",
    "X.sort(axis=0)\n",
    "\n",
    "# generate k y-axis values\n",
    "y = 0.5 * X**2 + X + 2 + np.random.rand(k, 1)"
   ]
  },
  {
   "cell_type": "markdown",
   "metadata": {},
   "source": [
    "Let us now plot the data:"
   ]
  },
  {
   "cell_type": "code",
   "execution_count": 27,
   "metadata": {},
   "outputs": [
    {
     "data": {
      "text/plain": [
       "Text(0,0.5,'y')"
      ]
     },
     "execution_count": 27,
     "metadata": {},
     "output_type": "execute_result"
    },
    {
     "data": {
      "image/png": "[encoded data removed]",
      "text/plain": [
       "<Figure size 432x288 with 1 Axes>"
      ]
     },
     "metadata": {},
     "output_type": "display_data"
    }
   ],
   "source": [
    "plt.scatter(X, y)\n",
    "plt.xlabel('x'); plt.ylabel('y')"
   ]
  },
  {
   "cell_type": "code",
   "execution_count": 28,
   "metadata": {},
   "outputs": [],
   "source": [
    "from sklearn.preprocessing import PolynomialFeatures\n",
    "\n",
    "poly_features = PolynomialFeatures(degree=15, include_bias=False)\n",
    "\n",
    "# generate polyonimal features upto degree 2 from the vector X\n",
    "X_poly = poly_features.fit_transform(X)"
   ]
  },
  {
   "cell_type": "code",
   "execution_count": 29,
   "metadata": {},
   "outputs": [
    {
     "data": {
      "text/plain": [
       "array([[-2.8754883 ],\n",
       "       [-2.84760131],\n",
       "       [-2.7643094 ],\n",
       "       [-2.76024475]])"
      ]
     },
     "execution_count": 29,
     "metadata": {},
     "output_type": "execute_result"
    }
   ],
   "source": [
    "# display 4 original data points \n",
    "X[1:5]"
   ]
  },
  {
   "cell_type": "code",
   "execution_count": 30,
   "metadata": {},
   "outputs": [
    {
     "data": {
      "text/plain": [
       "array([[-2.87548830e+00,  8.26843299e+00, -2.37757823e+01,\n",
       "         6.83669840e+01, -1.96588463e+02,  5.65287826e+02,\n",
       "        -1.62547853e+03,  4.67404451e+03, -1.34401603e+04,\n",
       "         3.86470238e+04, -1.11129065e+05,  3.19550326e+05,\n",
       "        -9.18863225e+05,  2.64218046e+06, -7.59755900e+06],\n",
       "       [-2.84760131e+00,  8.10883321e+00, -2.30907240e+01,\n",
       "         6.57531760e+01, -1.87238830e+02,  5.33181537e+02,\n",
       "        -1.51828844e+03,  4.32348015e+03, -1.23115477e+04,\n",
       "         3.50583794e+04, -9.98322871e+04,  2.84282551e+05,\n",
       "        -8.09523365e+05,  2.30519979e+06, -6.56428994e+06],\n",
       "       [-2.76430940e+00,  7.64140644e+00, -2.11232116e+01,\n",
       "         5.83910924e+01, -1.61411045e+02,  4.46190069e+02,\n",
       "        -1.23340740e+03,  3.40951967e+03, -9.42496726e+03,\n",
       "         2.60535256e+04, -7.20200055e+04,  1.99085578e+05,\n",
       "        -5.50334134e+05,  1.52129382e+06, -4.20532680e+06],\n",
       "       [-2.76024475e+00,  7.61895107e+00, -2.10301697e+01,\n",
       "         5.80484154e+01, -1.60227834e+02,  4.42268036e+02,\n",
       "        -1.22076802e+03,  3.36961853e+03, -9.30097184e+03,\n",
       "         2.56729587e+04, -7.08636494e+04,  1.95601016e+05,\n",
       "        -5.39906677e+05,  1.49027457e+06, -4.11352255e+06]])"
      ]
     },
     "execution_count": 30,
     "metadata": {},
     "output_type": "execute_result"
    }
   ],
   "source": [
    "# Display the transformed data.\n",
    "# You will now see the original X data alongside its corresponding 2nd-degree polynomial feature\n",
    "X_poly[1:5]"
   ]
  },
  {
   "cell_type": "code",
   "execution_count": 31,
   "metadata": {},
   "outputs": [
    {
     "data": {
      "text/plain": [
       "(array([2.43771889]),\n",
       " array([[ 4.70240062e-01,  9.81483416e-01,  1.45901724e+00,\n",
       "         -5.43920910e-01, -1.30913386e+00,  2.30186856e-01,\n",
       "          5.62777734e-01, -4.49943278e-02, -1.28760085e-01,\n",
       "          3.53201168e-03,  1.58848833e-02,  1.15315775e-05,\n",
       "         -9.84782281e-04, -1.01041607e-05,  2.36325364e-05]]))"
      ]
     },
     "execution_count": 31,
     "metadata": {},
     "output_type": "execute_result"
    }
   ],
   "source": [
    "lin_reg = LinearRegression()\n",
    "\n",
    "# Now we fit a linear model to the X_poly (the transformed features set) and y\n",
    "lin_reg.fit(X_poly, y)\n",
    "\n",
    "# show the values of intercept and learned co-efficients\n",
    "lin_reg.intercept_, lin_reg.coef_"
   ]
  },
  {
   "cell_type": "code",
   "execution_count": 32,
   "metadata": {
    "scrolled": true
   },
   "outputs": [
    {
     "data": {
      "text/plain": [
       "Text(0,0.5,'y')"
      ]
     },
     "execution_count": 32,
     "metadata": {},
     "output_type": "execute_result"
    },
    {
     "data": {
      "image/png": "[encoded data removed]",
      "text/plain": [
       "<Figure size 432x288 with 1 Axes>"
      ]
     },
     "metadata": {},
     "output_type": "display_data"
    }
   ],
   "source": [
    "y_ = lin_reg.predict(X_poly)\n",
    "    \n",
    "plt.scatter(X, y, label='original data')\n",
    "plt.plot(X, y_, color='r', label='predicted fit')\n",
    "plt.legend(loc='best')\n",
    "\n",
    "plt.xlabel('x')\n",
    "plt.ylabel('y')"
   ]
  },
  {
   "cell_type": "markdown",
   "metadata": {},
   "source": [
    "### Regularization with Ridge Penalty"
   ]
  },
  {
   "cell_type": "code",
   "execution_count": 33,
   "metadata": {},
   "outputs": [
    {
     "name": "stderr",
     "output_type": "stream",
     "text": [
      "C:\\Users\\Sindr\\Anaconda3\\lib\\site-packages\\sklearn\\linear_model\\ridge.py:112: LinAlgWarning: scipy.linalg.solve\n",
      "Ill-conditioned matrix detected. Result is not guaranteed to be accurate.\n",
      "Reciprocal condition number9.211483e-17\n",
      "  overwrite_a=True).T\n"
     ]
    },
    {
     "data": {
      "text/plain": [
       "<matplotlib.legend.Legend at 0x26955f7d898>"
      ]
     },
     "execution_count": 33,
     "metadata": {},
     "output_type": "execute_result"
    },
    {
     "data": {
      "image/png": "[encoded data removed]",
      "text/plain": [
       "<Figure size 432x288 with 1 Axes>"
      ]
     },
     "metadata": {},
     "output_type": "display_data"
    }
   ],
   "source": [
    "from sklearn.linear_model import Ridge\n",
    "from sklearn.linear_model import LinearRegression\n",
    "from sklearn.preprocessing import PolynomialFeatures\n",
    "\n",
    "# define the number of points to generate\n",
    "k = 100\n",
    "np.random.seed(10)\n",
    "\n",
    "# generate k x-axis values from -3 to +3\n",
    "X = 6 * np.random.rand(k, 1) - 3\n",
    "X.sort(axis=0)\n",
    "\n",
    "# generate k y-axis values\n",
    "y = 0.5 * X**2 + X + 2 + np.random.randn(k, 1)\n",
    "\n",
    "# Create polynomial feature (degree 15)\n",
    "poly_features = PolynomialFeatures(degree=15, include_bias=False)\n",
    "X_poly = poly_features.fit_transform(X)\n",
    "\n",
    "# Create Ridge regression object from Ridge class\n",
    "ridge_reg = Ridge(alpha=5e-2)\n",
    "# Fit data using Ridge regression\n",
    "ridge_reg.fit(X_poly, y)\n",
    "\n",
    "# Create Linear regression object from LinearRegress class (this is just for comparison)\n",
    "lin_reg = LinearRegression()\n",
    "# Fit data using Linear regression\n",
    "lin_reg.fit(X_poly, y)\n",
    "\n",
    "y_predict_ridge = ridge_reg.predict(X_poly)\n",
    "y_predict_linear = lin_reg.predict(X_poly)\n",
    "\n",
    "plt.scatter(X, y, label='data')\n",
    "plt.plot(X, y_predict_linear, color='b', label='Linear regression fit')\n",
    "plt.plot(X, y_predict_ridge, color='r', label='Ridge regression fit')\n",
    "\n",
    "plt.xlabel('x')\n",
    "plt.ylabel('y')\n",
    "\n",
    "plt.legend(loc='best')"
   ]
  },
  {
   "cell_type": "markdown",
   "metadata": {},
   "source": [
    "## Exercise 2.2<a class=\"anchor\" id=\"exercise2_2\"></a> "
   ]
  },
  {
   "cell_type": "markdown",
   "metadata": {},
   "source": [
    "##### TODO\n",
    "> Observing that when changing(/decreasing) the __regularization parameter__ the model starts overfitting\n"
   ]
  },
  {
   "cell_type": "markdown",
   "metadata": {},
   "source": [
    "# Linear Regression with Radial Basis Functions"
   ]
  },
  {
   "cell_type": "code",
   "execution_count": 34,
   "metadata": {},
   "outputs": [
    {
     "data": {
      "text/plain": [
       "<matplotlib.collections.PathCollection at 0x26955fe5fd0>"
      ]
     },
     "execution_count": 34,
     "metadata": {},
     "output_type": "execute_result"
    },
    {
     "data": {
      "image/png": "[encoded data removed]",
      "text/plain": [
       "<Figure size 432x288 with 1 Axes>"
      ]
     },
     "metadata": {},
     "output_type": "display_data"
    }
   ],
   "source": [
    "# Set random seed\n",
    "np.random.seed(0)\n",
    "m = 100\n",
    "\n",
    "# Create random set of m x values between -6 and +6\n",
    "X = np.random.rand(m, 1)*12 - 6\n",
    "X.sort(axis =0)\n",
    "\n",
    "# Create a non-linear dataset with random noise\n",
    "y = 0.5*np.cos(X) + np.sin(X) + 4*np.cos(2*X) + np.exp(np.cos(3*X)) + 3*np.random.rand(m,1) \n",
    "\n",
    "# plot it\n",
    "plt.scatter(X, y)"
   ]
  },
  {
   "cell_type": "code",
   "execution_count": 35,
   "metadata": {},
   "outputs": [
    {
     "data": {
      "text/plain": [
       "<matplotlib.legend.Legend at 0x26958529048>"
      ]
     },
     "execution_count": 35,
     "metadata": {},
     "output_type": "execute_result"
    },
    {
     "data": {
      "image/png": "[encoded data removed]",
      "text/plain": [
       "<Figure size 432x288 with 1 Axes>"
      ]
     },
     "metadata": {},
     "output_type": "display_data"
    }
   ],
   "source": [
    "from sklearn.metrics.pairwise import rbf_kernel \n",
    "from sklearn.linear_model import LinearRegression\n",
    "\n",
    "# find the transformation of X using Radial Basis Functions \n",
    "# Each point in X is now modeled as vector of 100 values. \n",
    "# See the X_RBF.shape and X_RBF to find how rbf_kernel transformed \n",
    "# the original datapoints\n",
    "X_RBF = rbf_kernel(X, X, gamma=0.1) \n",
    "\n",
    "# Fit a linear regression model to the RBF-transformed data\n",
    "clf = LinearRegression()\n",
    "clf.fit(X_RBF, y)\n",
    "\n",
    "# find the predicted values\n",
    "y_= clf.predict(X_RBF)\n",
    "\n",
    "# plot original data and predicted fit\n",
    "plt.scatter(X, y, label='Original data')\n",
    "plt.plot(X, y_, color='r', label='Fit for RBF-transformed data')\n",
    "plt.legend(loc='best')"
   ]
  },
  {
   "cell_type": "markdown",
   "metadata": {},
   "source": [
    "## Exercise 2.3<a class=\"anchor\" id=\"exercise2_3\"></a> "
   ]
  },
  {
   "cell_type": "code",
   "execution_count": 36,
   "metadata": {},
   "outputs": [
    {
     "data": {
      "image/png": "[encoded data removed]",
      "text/plain": [
       "<Figure size 432x288 with 1 Axes>"
      ]
     },
     "metadata": {},
     "output_type": "display_data"
    }
   ],
   "source": [
    "# TODO\n",
    "# Paste your solution here\n",
    "X_RBF_0th = X_RBF[0]\n",
    "X_RBF_49th = X_RBF[49]\n",
    "X_RBF_99th = X_RBF[99]\n",
    "ans = np.array([X_RBF_0th, X_RBF_49th, X_RBF_99th])\n",
    "\n",
    "plt.plot(X, ans.T)\n",
    "plt.show()"
   ]
  },
  {
   "cell_type": "markdown",
   "metadata": {},
   "source": [
    "# 3. Logistic Regression <a class=\"anchor\" id=\"logistic\"></a> "
   ]
  },
  {
   "cell_type": "code",
   "execution_count": 37,
   "metadata": {},
   "outputs": [
    {
     "data": {
      "text/plain": [
       "['data', 'target', 'target_names', 'DESCR', 'feature_names']"
      ]
     },
     "execution_count": 37,
     "metadata": {},
     "output_type": "execute_result"
    }
   ],
   "source": [
    "from sklearn import datasets\n",
    "iris = datasets.load_iris()\n",
    "\n",
    "# iris is a dictionary of key-value pairs. Each key-value pairs contains some information about the dataset.\n",
    "# Lets display a list of these keys and see what they hold\n",
    "list(iris.keys())"
   ]
  },
  {
   "cell_type": "code",
   "execution_count": 38,
   "metadata": {},
   "outputs": [],
   "source": [
    "# let us get the petal width. It is present in the 4th column of data\n",
    "X = iris[\"data\"][:, 3:] \n",
    "X.sort(axis=0)\n",
    "\n",
    "# lets define a binaray variable that encodes whether a flower is Iris-Virginca or not\n",
    "# Iris_virginca flower is encoded as a 2 in target  \n",
    "y = (iris[\"target\"] == 2).astype(np.int) # 1 if Iris-Virginica, else 0"
   ]
  },
  {
   "cell_type": "code",
   "execution_count": 39,
   "metadata": {},
   "outputs": [
    {
     "data": {
      "text/plain": [
       "Text(0,0.5,'Iris-Virginica(1) \\n Not Iris-Virginica(0)')"
      ]
     },
     "execution_count": 39,
     "metadata": {},
     "output_type": "execute_result"
    },
    {
     "data": {
      "image/png": "[encoded data removed]",
      "text/plain": [
       "<Figure size 432x288 with 1 Axes>"
      ]
     },
     "metadata": {},
     "output_type": "display_data"
    }
   ],
   "source": [
    "plt.scatter(X, y)\n",
    "plt.xlabel('Petal width (cm)')\n",
    "plt.ylabel('Iris-Virginica(1) \\n Not Iris-Virginica(0)')"
   ]
  },
  {
   "cell_type": "code",
   "execution_count": 40,
   "metadata": {},
   "outputs": [
    {
     "data": {
      "text/plain": [
       "<matplotlib.legend.Legend at 0x26958593c18>"
      ]
     },
     "execution_count": 40,
     "metadata": {},
     "output_type": "execute_result"
    },
    {
     "data": {
      "image/png": "[encoded data removed]",
      "text/plain": [
       "<Figure size 432x288 with 1 Axes>"
      ]
     },
     "metadata": {},
     "output_type": "display_data"
    }
   ],
   "source": [
    "from sklearn.linear_model import LinearRegression\n",
    "\n",
    "lin_reg = LinearRegression()\n",
    "lin_reg.fit(X, y)\n",
    "y_ = lin_reg.predict(X)\n",
    "\n",
    "plt.scatter(X, y, label='original data')\n",
    "plt.plot(X, y_, color='r', label='fit from linear regression')\n",
    "plt.legend(loc='best')"
   ]
  },
  {
   "cell_type": "code",
   "execution_count": 41,
   "metadata": {},
   "outputs": [
    {
     "data": {
      "text/plain": [
       "LogisticRegression(C=1.0, class_weight=None, dual=False, fit_intercept=True,\n",
       "          intercept_scaling=1, max_iter=100, multi_class='ovr', n_jobs=1,\n",
       "          penalty='l2', random_state=None, solver='liblinear', tol=0.0001,\n",
       "          verbose=0, warm_start=False)"
      ]
     },
     "execution_count": 41,
     "metadata": {},
     "output_type": "execute_result"
    }
   ],
   "source": [
    "from sklearn.linear_model import LogisticRegression\n",
    "log_reg = LogisticRegression()\n",
    "log_reg.fit(X, y)"
   ]
  },
  {
   "cell_type": "code",
   "execution_count": 42,
   "metadata": {},
   "outputs": [
    {
     "data": {
      "text/plain": [
       "<matplotlib.legend.Legend at 0x26958614e48>"
      ]
     },
     "execution_count": 42,
     "metadata": {},
     "output_type": "execute_result"
    },
    {
     "data": {
      "image/png": "[encoded data removed]",
      "text/plain": [
       "<Figure size 432x288 with 1 Axes>"
      ]
     },
     "metadata": {},
     "output_type": "display_data"
    }
   ],
   "source": [
    "# we generate X_new which is vector of closely spaced points form 0 to 3\n",
    "# This vector will help us plot the model\n",
    "X_new = np.linspace(0, 3, 1000).reshape(-1, 1)\n",
    "\n",
    "# make a vector of prediction probablity values for all datapoints in X_new\n",
    "y_proba = log_reg.predict_proba(X_new)\n",
    "\n",
    "plt.plot(X_new, y_proba[:, 1], \"g-\", label=\"Iris-Virginica Prob\")\n",
    "plt.plot(X_new, y_proba[:, 0], \"b--\", label=\"Not Iris-Virginica Prob\")\n",
    "plt.scatter(X, y, label='data')\n",
    "\n",
    "plt.xlabel('Petal width (cm)')\n",
    "plt.ylabel('Probability')\n",
    "plt.legend(loc='best')"
   ]
  },
  {
   "cell_type": "code",
   "execution_count": 43,
   "metadata": {},
   "outputs": [
    {
     "data": {
      "text/plain": [
       "array([1])"
      ]
     },
     "execution_count": 43,
     "metadata": {},
     "output_type": "execute_result"
    }
   ],
   "source": [
    "log_reg.predict([[1.7]])"
   ]
  },
  {
   "cell_type": "code",
   "execution_count": 44,
   "metadata": {},
   "outputs": [
    {
     "data": {
      "text/plain": [
       "array([[0.43834057, 0.56165943]])"
      ]
     },
     "execution_count": 44,
     "metadata": {},
     "output_type": "execute_result"
    }
   ],
   "source": [
    "log_reg.predict_proba([[1.7]])"
   ]
  },
  {
   "cell_type": "markdown",
   "metadata": {},
   "source": [
    "## Exercise 3.1<a class=\"anchor\" id=\"exercise3_1\"></a> "
   ]
  },
  {
   "cell_type": "code",
   "execution_count": 45,
   "metadata": {},
   "outputs": [],
   "source": [
    "multiclass_logreg_obj = LogisticRegression(multi_class=\"multinomial\", solver=\"lbfgs\", C=10)\n",
    "# let us get the petal width. It is present in the 4th column of data\n",
    "X = iris[\"data\"][:, [2,3]] \n",
    "y = iris[\"target\"]"
   ]
  },
  {
   "cell_type": "code",
   "execution_count": 46,
   "metadata": {},
   "outputs": [
    {
     "name": "stdout",
     "output_type": "stream",
     "text": [
      "(150, 2)\n",
      "(150,)\n"
     ]
    }
   ],
   "source": [
    "print(X.shape)\n",
    "print(y.shape)"
   ]
  },
  {
   "cell_type": "code",
   "execution_count": 47,
   "metadata": {},
   "outputs": [],
   "source": [
    "df = pd.DataFrame(X, columns=[iris.feature_names[2], iris.feature_names[3]])"
   ]
  },
  {
   "cell_type": "code",
   "execution_count": 48,
   "metadata": {},
   "outputs": [
    {
     "name": "stdout",
     "output_type": "stream",
     "text": [
      "   petal length (cm)  petal width (cm)\n",
      "0                1.4               0.1\n",
      "1                1.4               0.1\n",
      "2                1.3               0.1\n",
      "3                1.5               0.1\n",
      "4                1.4               0.1\n"
     ]
    }
   ],
   "source": [
    "print(df.head())"
   ]
  },
  {
   "cell_type": "code",
   "execution_count": 49,
   "metadata": {},
   "outputs": [
    {
     "data": {
      "text/plain": [
       "LogisticRegression(C=10, class_weight=None, dual=False, fit_intercept=True,\n",
       "          intercept_scaling=1, max_iter=100, multi_class='multinomial',\n",
       "          n_jobs=1, penalty='l2', random_state=None, solver='lbfgs',\n",
       "          tol=0.0001, verbose=0, warm_start=False)"
      ]
     },
     "execution_count": 49,
     "metadata": {},
     "output_type": "execute_result"
    }
   ],
   "source": [
    "multiclass_logreg_obj.fit(X, y)"
   ]
  },
  {
   "cell_type": "code",
   "execution_count": 69,
   "metadata": {},
   "outputs": [
    {
     "name": "stdout",
     "output_type": "stream",
     "text": [
      "Prediction [0], with a probability of: 0.9995796959204409\n"
     ]
    }
   ],
   "source": [
    "X_new = np.array([1, 0.1], ndmin=2)\n",
    "prediction = multiclass_logreg_obj.predict(X_new)\n",
    "pred_class = prediction[0]\n",
    "pred_prob = multiclass_logreg_obj.predict_proba(X_new)\n",
    "pred_prob_class = (pred_prob[0][pred_class])\n",
    "print('Prediction {}'.format(prediction) + ', with a probability of: {}'.format(pred_prob_class))"
   ]
  },
  {
   "cell_type": "code",
   "execution_count": null,
   "metadata": {},
   "outputs": [],
   "source": []
  }
 ],
 "metadata": {
  "kernelspec": {
   "display_name": "Python 3",
   "language": "python",
   "name": "python3"
  },
  "language_info": {
   "codemirror_mode": {
    "name": "ipython",
    "version": 3
   },
   "file_extension": ".py",
   "mimetype": "text/x-python",
   "name": "python",
   "nbconvert_exporter": "python",
   "pygments_lexer": "ipython3",
   "version": "3.5.2"
  }
 },
 "nbformat": 4,
 "nbformat_minor": 2
}
