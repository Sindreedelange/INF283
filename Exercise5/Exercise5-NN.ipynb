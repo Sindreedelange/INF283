{
 "cells": [
  {
   "cell_type": "code",
   "execution_count": 124,
   "metadata": {},
   "outputs": [],
   "source": [
    "from keras.models import Sequential\n",
    "from keras.layers.core import Dense\n",
    "from sklearn.datasets import load_iris\n",
    "from sklearn.model_selection import train_test_split\n",
    "from sklearn.preprocessing import LabelEncoder\n",
    "from keras.optimizers import Adam\n",
    "from sklearn.preprocessing import OneHotEncoder"
   ]
  },
  {
   "cell_type": "markdown",
   "metadata": {},
   "source": [
    "# Data"
   ]
  },
  {
   "cell_type": "code",
   "execution_count": 143,
   "metadata": {},
   "outputs": [],
   "source": [
    "iris = load_iris()"
   ]
  },
  {
   "cell_type": "code",
   "execution_count": 146,
   "metadata": {},
   "outputs": [],
   "source": [
    "X = iris.data\n",
    "y = iris.target.reshape(-1, 1)"
   ]
  },
  {
   "cell_type": "code",
   "execution_count": 147,
   "metadata": {},
   "outputs": [],
   "source": [
    "encoder = OneHotEncoder(sparse=False)\n",
    "y = encoder.fit_transform(y)"
   ]
  },
  {
   "cell_type": "code",
   "execution_count": 148,
   "metadata": {},
   "outputs": [],
   "source": [
    "X_train, X_test, y_train, y_test = train_test_split(X, y, test_size=0.3, random_state=42)"
   ]
  },
  {
   "cell_type": "markdown",
   "metadata": {},
   "source": [
    "# Deep Learning"
   ]
  },
  {
   "cell_type": "markdown",
   "metadata": {},
   "source": [
    "> Create the network"
   ]
  },
  {
   "cell_type": "code",
   "execution_count": 197,
   "metadata": {},
   "outputs": [],
   "source": [
    "model = Sequential()\n",
    "model.add(Dense(10, input_dim=4, activation='relu'))\n",
    "model.add(Dense(8, activation='relu'))\n",
    "model.add(Dense(6, activation='relu'))\n",
    "model.add(Dense(3, activation='sigmoid'))"
   ]
  },
  {
   "cell_type": "markdown",
   "metadata": {},
   "source": [
    "### Justification for the number of hidden layers and neuors in each layer\n",
    "As far as I understand there is not a set of rules specifying number of *hidden layers*, and *neurons* in those *hidden layers*. However, when using different dataset, with different sizes and complexity, one gains some heurestics about these choices. The *Iris dataset* is fairly non-complex, which is why one does not need to have too many hidden layers, nor many neurons on those layers. This is the reason I choose 2 hidden layers.  \n",
    "\n",
    "Furthermore, the number of *neurons* in each layer, as far as I understand, should be in a power of 2, when using GPUs. Apperantly they perform better if this is the case (which is the same for batch size, etc.). I can be wrong about this, so please correct me if that is the case. Nonetheless, I do not have GPU on my computer, so it does not really matter. \n",
    "\n",
    "The number of *neurons* in the *hidden layer* is basically a product of trial and error, which is how one usaully has to do in order to obtain the best results. That is, if one does not utilize proven models, such as VGG,  But, as stated earlier, the Iris dataset if fairly non-complex which means that one does not need a large amount of neurons in each layer, in order to obtain a good model. \n",
    "\n",
    "Lastly, the only layer that is static is the *output layer*, which has 3 neurons, because of my **OneHotEncoding** of the **target variable**. "
   ]
  },
  {
   "cell_type": "markdown",
   "metadata": {},
   "source": [
    "> Compile model, for speed"
   ]
  },
  {
   "cell_type": "code",
   "execution_count": 198,
   "metadata": {},
   "outputs": [],
   "source": [
    "optimizer = Adam(lr=0.002)"
   ]
  },
  {
   "cell_type": "code",
   "execution_count": 199,
   "metadata": {},
   "outputs": [],
   "source": [
    "# Categorial cross entropy lets you classify > two classes. \n",
    "model.compile(loss='categorical_crossentropy', optimizer=optimizer, metrics=['accuracy'])"
   ]
  },
  {
   "cell_type": "markdown",
   "metadata": {},
   "source": [
    "> Train, and evaluate the model (Should be > 95%)"
   ]
  },
  {
   "cell_type": "code",
   "execution_count": 200,
   "metadata": {},
   "outputs": [
    {
     "name": "stdout",
     "output_type": "stream",
     "text": [
      "Epoch 1/100\n",
      "105/105 [==============================] - 2s 22ms/step - loss: 1.9137 - acc: 0.2952\n",
      "Epoch 2/100\n",
      "105/105 [==============================] - 0s 791us/step - loss: 1.3842 - acc: 0.2952\n",
      "Epoch 3/100\n",
      "105/105 [==============================] - 0s 815us/step - loss: 1.1523 - acc: 0.4952\n",
      "Epoch 4/100\n",
      "105/105 [==============================] - 0s 809us/step - loss: 1.0248 - acc: 0.6476\n",
      "Epoch 5/100\n",
      "105/105 [==============================] - 0s 768us/step - loss: 0.9381 - acc: 0.6476\n",
      "Epoch 6/100\n",
      "105/105 [==============================] - 0s 807us/step - loss: 0.8715 - acc: 0.6381\n",
      "Epoch 7/100\n",
      "105/105 [==============================] - 0s 783us/step - loss: 0.8146 - acc: 0.6476\n",
      "Epoch 8/100\n",
      "105/105 [==============================] - 0s 823us/step - loss: 0.7503 - acc: 0.6476\n",
      "Epoch 9/100\n",
      "105/105 [==============================] - 0s 789us/step - loss: 0.6759 - acc: 0.6762\n",
      "Epoch 10/100\n",
      "105/105 [==============================] - 0s 767us/step - loss: 0.5882 - acc: 0.8762\n",
      "Epoch 11/100\n",
      "105/105 [==============================] - 0s 778us/step - loss: 0.4923 - acc: 0.9524\n",
      "Epoch 12/100\n",
      "105/105 [==============================] - 0s 761us/step - loss: 0.4092 - acc: 0.9333\n",
      "Epoch 13/100\n",
      "105/105 [==============================] - 0s 764us/step - loss: 0.3726 - acc: 0.8667\n",
      "Epoch 14/100\n",
      "105/105 [==============================] - 0s 780us/step - loss: 0.3148 - acc: 0.9333\n",
      "Epoch 15/100\n",
      "105/105 [==============================] - 0s 778us/step - loss: 0.2726 - acc: 0.9429\n",
      "Epoch 16/100\n",
      "105/105 [==============================] - 0s 804us/step - loss: 0.2325 - acc: 0.9619\n",
      "Epoch 17/100\n",
      "105/105 [==============================] - 0s 798us/step - loss: 0.2137 - acc: 0.9333\n",
      "Epoch 18/100\n",
      "105/105 [==============================] - 0s 758us/step - loss: 0.2161 - acc: 0.9238\n",
      "Epoch 19/100\n",
      "105/105 [==============================] - 0s 763us/step - loss: 0.2214 - acc: 0.9238\n",
      "Epoch 20/100\n",
      "105/105 [==============================] - 0s 742us/step - loss: 0.1820 - acc: 0.9524\n",
      "Epoch 21/100\n",
      "105/105 [==============================] - 0s 769us/step - loss: 0.1722 - acc: 0.9429\n",
      "Epoch 22/100\n",
      "105/105 [==============================] - 0s 810us/step - loss: 0.1670 - acc: 0.9143\n",
      "Epoch 23/100\n",
      "105/105 [==============================] - 0s 753us/step - loss: 0.1462 - acc: 0.9524\n",
      "Epoch 24/100\n",
      "105/105 [==============================] - 0s 818us/step - loss: 0.1545 - acc: 0.9524\n",
      "Epoch 25/100\n",
      "105/105 [==============================] - 0s 752us/step - loss: 0.1512 - acc: 0.9619\n",
      "Epoch 26/100\n",
      "105/105 [==============================] - 0s 776us/step - loss: 0.1441 - acc: 0.9524\n",
      "Epoch 27/100\n",
      "105/105 [==============================] - 0s 776us/step - loss: 0.1343 - acc: 0.9524\n",
      "Epoch 28/100\n",
      "105/105 [==============================] - 0s 803us/step - loss: 0.1523 - acc: 0.9619\n",
      "Epoch 29/100\n",
      "105/105 [==============================] - 0s 773us/step - loss: 0.1270 - acc: 0.9429\n",
      "Epoch 30/100\n",
      "105/105 [==============================] - 0s 806us/step - loss: 0.1262 - acc: 0.9619\n",
      "Epoch 31/100\n",
      "105/105 [==============================] - 0s 744us/step - loss: 0.1163 - acc: 0.9619\n",
      "Epoch 32/100\n",
      "105/105 [==============================] - 0s 768us/step - loss: 0.1388 - acc: 0.9429\n",
      "Epoch 33/100\n",
      "105/105 [==============================] - 0s 730us/step - loss: 0.1388 - acc: 0.9238\n",
      "Epoch 34/100\n",
      "105/105 [==============================] - 0s 808us/step - loss: 0.1278 - acc: 0.9333\n",
      "Epoch 35/100\n",
      "105/105 [==============================] - 0s 757us/step - loss: 0.1212 - acc: 0.9714\n",
      "Epoch 36/100\n",
      "105/105 [==============================] - 0s 834us/step - loss: 0.1122 - acc: 0.9619\n",
      "Epoch 37/100\n",
      "105/105 [==============================] - 0s 779us/step - loss: 0.1102 - acc: 0.9714\n",
      "Epoch 38/100\n",
      "105/105 [==============================] - 0s 824us/step - loss: 0.1078 - acc: 0.9619\n",
      "Epoch 39/100\n",
      "105/105 [==============================] - 0s 809us/step - loss: 0.1371 - acc: 0.9333\n",
      "Epoch 40/100\n",
      "105/105 [==============================] - 0s 795us/step - loss: 0.1297 - acc: 0.9524\n",
      "Epoch 41/100\n",
      "105/105 [==============================] - 0s 788us/step - loss: 0.1109 - acc: 0.9524\n",
      "Epoch 42/100\n",
      "105/105 [==============================] - 0s 806us/step - loss: 0.1063 - acc: 0.9619\n",
      "Epoch 43/100\n",
      "105/105 [==============================] - 0s 834us/step - loss: 0.1228 - acc: 0.9429\n",
      "Epoch 44/100\n",
      "105/105 [==============================] - 0s 806us/step - loss: 0.1009 - acc: 0.9619\n",
      "Epoch 45/100\n",
      "105/105 [==============================] - 0s 788us/step - loss: 0.1057 - acc: 0.9429\n",
      "Epoch 46/100\n",
      "105/105 [==============================] - 0s 758us/step - loss: 0.1174 - acc: 0.9619\n",
      "Epoch 47/100\n",
      "105/105 [==============================] - 0s 778us/step - loss: 0.1111 - acc: 0.9524\n",
      "Epoch 48/100\n",
      "105/105 [==============================] - 0s 786us/step - loss: 0.0938 - acc: 0.9810\n",
      "Epoch 49/100\n",
      "105/105 [==============================] - 0s 806us/step - loss: 0.1071 - acc: 0.9524\n",
      "Epoch 50/100\n",
      "105/105 [==============================] - 0s 799us/step - loss: 0.1266 - acc: 0.9429\n",
      "Epoch 51/100\n",
      "105/105 [==============================] - 0s 707us/step - loss: 0.1200 - acc: 0.9429\n",
      "Epoch 52/100\n",
      "105/105 [==============================] - 0s 757us/step - loss: 0.1063 - acc: 0.9524\n",
      "Epoch 53/100\n",
      "105/105 [==============================] - 0s 783us/step - loss: 0.1214 - acc: 0.9524\n",
      "Epoch 54/100\n",
      "105/105 [==============================] - 0s 756us/step - loss: 0.1181 - acc: 0.9619\n",
      "Epoch 55/100\n",
      "105/105 [==============================] - 0s 753us/step - loss: 0.1047 - acc: 0.9524\n",
      "Epoch 56/100\n",
      "105/105 [==============================] - 0s 748us/step - loss: 0.1020 - acc: 0.9524\n",
      "Epoch 57/100\n",
      "105/105 [==============================] - 0s 751us/step - loss: 0.1054 - acc: 0.9524\n",
      "Epoch 58/100\n",
      "105/105 [==============================] - 0s 743us/step - loss: 0.1306 - acc: 0.9524\n",
      "Epoch 59/100\n",
      "105/105 [==============================] - 0s 757us/step - loss: 0.1076 - acc: 0.9524\n",
      "Epoch 60/100\n",
      "105/105 [==============================] - 0s 760us/step - loss: 0.0975 - acc: 0.9524\n",
      "Epoch 61/100\n",
      "105/105 [==============================] - 0s 785us/step - loss: 0.0878 - acc: 0.9810\n",
      "Epoch 62/100\n",
      "105/105 [==============================] - 0s 737us/step - loss: 0.1020 - acc: 0.9619\n",
      "Epoch 63/100\n",
      "105/105 [==============================] - 0s 719us/step - loss: 0.0859 - acc: 0.9714\n",
      "Epoch 64/100\n",
      "105/105 [==============================] - 0s 752us/step - loss: 0.1188 - acc: 0.9714\n",
      "Epoch 65/100\n",
      "105/105 [==============================] - 0s 852us/step - loss: 0.2321 - acc: 0.9429\n",
      "Epoch 66/100\n",
      "105/105 [==============================] - 0s 750us/step - loss: 0.1476 - acc: 0.9333\n",
      "Epoch 67/100\n",
      "105/105 [==============================] - 0s 752us/step - loss: 0.1290 - acc: 0.9333\n",
      "Epoch 68/100\n",
      "105/105 [==============================] - 0s 680us/step - loss: 0.0837 - acc: 0.9619\n",
      "Epoch 69/100\n",
      "105/105 [==============================] - 0s 711us/step - loss: 0.0843 - acc: 0.9714\n",
      "Epoch 70/100\n",
      "105/105 [==============================] - 0s 669us/step - loss: 0.0843 - acc: 0.9619\n",
      "Epoch 71/100\n",
      "105/105 [==============================] - 0s 748us/step - loss: 0.0887 - acc: 0.9524\n",
      "Epoch 72/100\n",
      "105/105 [==============================] - 0s 750us/step - loss: 0.1131 - acc: 0.9619\n",
      "Epoch 73/100\n",
      "105/105 [==============================] - 0s 796us/step - loss: 0.1163 - acc: 0.9619\n",
      "Epoch 74/100\n",
      "105/105 [==============================] - 0s 720us/step - loss: 0.1278 - acc: 0.9524\n",
      "Epoch 75/100\n",
      "105/105 [==============================] - 0s 774us/step - loss: 0.0949 - acc: 0.9619\n",
      "Epoch 76/100\n",
      "105/105 [==============================] - 0s 776us/step - loss: 0.0988 - acc: 0.9619\n",
      "Epoch 77/100\n",
      "105/105 [==============================] - 0s 796us/step - loss: 0.1095 - acc: 0.9619\n",
      "Epoch 78/100\n",
      "105/105 [==============================] - 0s 794us/step - loss: 0.0922 - acc: 0.9619\n",
      "Epoch 79/100\n",
      "105/105 [==============================] - 0s 733us/step - loss: 0.0881 - acc: 0.9714\n",
      "Epoch 80/100\n",
      "105/105 [==============================] - 0s 757us/step - loss: 0.0845 - acc: 0.9619\n",
      "Epoch 81/100\n",
      "105/105 [==============================] - 0s 757us/step - loss: 0.0820 - acc: 0.9714\n",
      "Epoch 82/100\n",
      "105/105 [==============================] - 0s 787us/step - loss: 0.0908 - acc: 0.9524\n",
      "Epoch 83/100\n"
     ]
    },
    {
     "name": "stdout",
     "output_type": "stream",
     "text": [
      "105/105 [==============================] - 0s 787us/step - loss: 0.1023 - acc: 0.9524\n",
      "Epoch 84/100\n",
      "105/105 [==============================] - 0s 764us/step - loss: 0.1021 - acc: 0.9524\n",
      "Epoch 85/100\n",
      "105/105 [==============================] - 0s 766us/step - loss: 0.1257 - acc: 0.9429\n",
      "Epoch 86/100\n",
      "105/105 [==============================] - 0s 788us/step - loss: 0.1139 - acc: 0.9524\n",
      "Epoch 87/100\n",
      "105/105 [==============================] - 0s 774us/step - loss: 0.0868 - acc: 0.9714\n",
      "Epoch 88/100\n",
      "105/105 [==============================] - 0s 794us/step - loss: 0.1077 - acc: 0.9429\n",
      "Epoch 89/100\n",
      "105/105 [==============================] - 0s 793us/step - loss: 0.0891 - acc: 0.9619\n",
      "Epoch 90/100\n",
      "105/105 [==============================] - 0s 767us/step - loss: 0.0918 - acc: 0.9714\n",
      "Epoch 91/100\n",
      "105/105 [==============================] - 0s 782us/step - loss: 0.1085 - acc: 0.9524\n",
      "Epoch 92/100\n",
      "105/105 [==============================] - 0s 752us/step - loss: 0.1177 - acc: 0.9524\n",
      "Epoch 93/100\n",
      "105/105 [==============================] - 0s 728us/step - loss: 0.1002 - acc: 0.9524\n",
      "Epoch 94/100\n",
      "105/105 [==============================] - 0s 744us/step - loss: 0.0779 - acc: 0.9714\n",
      "Epoch 95/100\n",
      "105/105 [==============================] - 0s 743us/step - loss: 0.0781 - acc: 0.9810\n",
      "Epoch 96/100\n",
      "105/105 [==============================] - 0s 734us/step - loss: 0.0890 - acc: 0.9524\n",
      "Epoch 97/100\n",
      "105/105 [==============================] - 0s 784us/step - loss: 0.0809 - acc: 0.9714\n",
      "Epoch 98/100\n",
      "105/105 [==============================] - 0s 785us/step - loss: 0.0777 - acc: 0.9714\n",
      "Epoch 99/100\n",
      "105/105 [==============================] - 0s 739us/step - loss: 0.0867 - acc: 0.9714\n",
      "Epoch 100/100\n",
      "105/105 [==============================] - 0s 747us/step - loss: 0.0791 - acc: 0.9619\n",
      "45/45 [==============================] - 1s 14ms/step\n"
     ]
    }
   ],
   "source": [
    "model.fit(X_train, y_train, epochs=100, batch_size=5)\n",
    "scores = model.evaluate(X_test, y_test)"
   ]
  },
  {
   "cell_type": "code",
   "execution_count": 201,
   "metadata": {},
   "outputs": [
    {
     "name": "stdout",
     "output_type": "stream",
     "text": [
      "\n",
      "acc: 100.00%\n"
     ]
    }
   ],
   "source": [
    "print(\"\\n%s: %.2f%%\" % (model.metrics_names[1], scores[1]*100))"
   ]
  },
  {
   "cell_type": "code",
   "execution_count": null,
   "metadata": {},
   "outputs": [],
   "source": []
  }
 ],
 "metadata": {
  "kernelspec": {
   "display_name": "DAT158",
   "language": "python",
   "name": "dat158"
  },
  "language_info": {
   "codemirror_mode": {
    "name": "ipython",
    "version": 3
   },
   "file_extension": ".py",
   "mimetype": "text/x-python",
   "name": "python",
   "nbconvert_exporter": "python",
   "pygments_lexer": "ipython3",
   "version": "3.6.6"
  }
 },
 "nbformat": 4,
 "nbformat_minor": 2
}
