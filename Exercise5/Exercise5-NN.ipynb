{
 "cells": [
  {
   "cell_type": "code",
   "execution_count": 124,
   "metadata": {},
   "outputs": [],
   "source": [
    "from keras.models import Sequential\n",
    "from keras.layers.core import Dense\n",
    "from sklearn.datasets import load_iris\n",
    "import pandas as pd\n",
    "from sklearn.model_selection import train_test_split\n",
    "from sklearn.preprocessing import LabelEncoder\n",
    "from keras.optimizers import Adam\n",
    "from sklearn.preprocessing import OneHotEncoder"
   ]
  },
  {
   "cell_type": "markdown",
   "metadata": {},
   "source": [
    "# Data"
   ]
  },
  {
   "cell_type": "code",
   "execution_count": 118,
   "metadata": {},
   "outputs": [],
   "source": [
    "iris = load_iris()\n",
    "#iris = pd.DataFrame(iris.data, columns = iris.feature_names)"
   ]
  },
  {
   "cell_type": "code",
   "execution_count": 125,
   "metadata": {},
   "outputs": [],
   "source": [
    "X = iris.data\n",
    "y = iris.target.reshape(-1, 1)"
   ]
  },
  {
   "cell_type": "code",
   "execution_count": 127,
   "metadata": {},
   "outputs": [],
   "source": [
    "encoder = OneHotEncoder(sparse=False)\n",
    "y = encoder.fit_transform(y)"
   ]
  },
  {
   "cell_type": "code",
   "execution_count": 128,
   "metadata": {},
   "outputs": [],
   "source": [
    "X_train, X_test, y_train, y_test = train_test_split(X, y, test_size=0.3, random_state=42)"
   ]
  },
  {
   "cell_type": "markdown",
   "metadata": {},
   "source": [
    "# Deep Learning"
   ]
  },
  {
   "cell_type": "markdown",
   "metadata": {},
   "source": [
    "> Create the network"
   ]
  },
  {
   "cell_type": "code",
   "execution_count": 134,
   "metadata": {},
   "outputs": [],
   "source": [
    "model = Sequential()\n",
    "model.add(Dense(10, input_dim=4, activation='relu'))\n",
    "model.add(Dense(8, activation='relu'))\n",
    "model.add(Dense(6, activation='relu'))\n",
    "model.add(Dense(3, activation='sigmoid'))"
   ]
  },
  {
   "cell_type": "markdown",
   "metadata": {},
   "source": [
    "> Compile model, for speed"
   ]
  },
  {
   "cell_type": "code",
   "execution_count": 139,
   "metadata": {},
   "outputs": [],
   "source": [
    "optimizer = Adam(lr=0.008)"
   ]
  },
  {
   "cell_type": "code",
   "execution_count": 140,
   "metadata": {},
   "outputs": [],
   "source": [
    "model.compile(loss='categorical_crossentropy', optimizer=optimizer, metrics=['accuracy'])"
   ]
  },
  {
   "cell_type": "markdown",
   "metadata": {},
   "source": [
    "> Train, and evaluate the model (Should be > 95%)"
   ]
  },
  {
   "cell_type": "code",
   "execution_count": 141,
   "metadata": {},
   "outputs": [
    {
     "name": "stdout",
     "output_type": "stream",
     "text": [
      "Epoch 1/100\n",
      "105/105 [==============================] - 1s 7ms/step - loss: 0.1731 - acc: 0.9238\n",
      "Epoch 2/100\n",
      "105/105 [==============================] - 0s 313us/step - loss: 0.1384 - acc: 0.9238\n",
      "Epoch 3/100\n",
      "105/105 [==============================] - 0s 342us/step - loss: 0.1288 - acc: 0.9619\n",
      "Epoch 4/100\n",
      "105/105 [==============================] - 0s 332us/step - loss: 0.0874 - acc: 0.9619\n",
      "Epoch 5/100\n",
      "105/105 [==============================] - 0s 371us/step - loss: 0.1005 - acc: 0.9619\n",
      "Epoch 6/100\n",
      "105/105 [==============================] - 0s 351us/step - loss: 0.1002 - acc: 0.9619\n",
      "Epoch 7/100\n",
      "105/105 [==============================] - 0s 342us/step - loss: 0.0982 - acc: 0.9524\n",
      "Epoch 8/100\n",
      "105/105 [==============================] - 0s 351us/step - loss: 0.0900 - acc: 0.9524\n",
      "Epoch 9/100\n",
      "105/105 [==============================] - 0s 342us/step - loss: 0.1036 - acc: 0.9619\n",
      "Epoch 10/100\n",
      "105/105 [==============================] - 0s 342us/step - loss: 0.1625 - acc: 0.9238\n",
      "Epoch 11/100\n",
      "105/105 [==============================] - 0s 342us/step - loss: 0.1373 - acc: 0.9714\n",
      "Epoch 12/100\n",
      "105/105 [==============================] - 0s 342us/step - loss: 0.1297 - acc: 0.9429\n",
      "Epoch 13/100\n",
      "105/105 [==============================] - 0s 332us/step - loss: 0.1542 - acc: 0.9429\n",
      "Epoch 14/100\n",
      "105/105 [==============================] - 0s 313us/step - loss: 0.1567 - acc: 0.9238\n",
      "Epoch 15/100\n",
      "105/105 [==============================] - 0s 332us/step - loss: 0.1498 - acc: 0.9238\n",
      "Epoch 16/100\n",
      "105/105 [==============================] - 0s 354us/step - loss: 0.1017 - acc: 0.9619\n",
      "Epoch 17/100\n",
      "105/105 [==============================] - 0s 323us/step - loss: 0.1578 - acc: 0.9333\n",
      "Epoch 18/100\n",
      "105/105 [==============================] - 0s 323us/step - loss: 0.1127 - acc: 0.9619\n",
      "Epoch 19/100\n",
      "105/105 [==============================] - 0s 328us/step - loss: 0.1135 - acc: 0.9429\n",
      "Epoch 20/100\n",
      "105/105 [==============================] - 0s 294us/step - loss: 0.0969 - acc: 0.9524\n",
      "Epoch 21/100\n",
      "105/105 [==============================] - 0s 304us/step - loss: 0.1173 - acc: 0.9619\n",
      "Epoch 22/100\n",
      "105/105 [==============================] - 0s 305us/step - loss: 0.0802 - acc: 0.9714\n",
      "Epoch 23/100\n",
      "105/105 [==============================] - 0s 294us/step - loss: 0.0814 - acc: 0.9714\n",
      "Epoch 24/100\n",
      "105/105 [==============================] - 0s 342us/step - loss: 0.0852 - acc: 0.9810\n",
      "Epoch 25/100\n",
      "105/105 [==============================] - 0s 313us/step - loss: 0.0813 - acc: 0.9619\n",
      "Epoch 26/100\n",
      "105/105 [==============================] - 0s 351us/step - loss: 0.0862 - acc: 0.9524\n",
      "Epoch 27/100\n",
      "105/105 [==============================] - 0s 313us/step - loss: 0.1002 - acc: 0.9714\n",
      "Epoch 28/100\n",
      "105/105 [==============================] - 0s 310us/step - loss: 0.1265 - acc: 0.9429\n",
      "Epoch 29/100\n",
      "105/105 [==============================] - 0s 342us/step - loss: 0.1076 - acc: 0.9524\n",
      "Epoch 30/100\n",
      "105/105 [==============================] - 0s 323us/step - loss: 0.0920 - acc: 0.9619\n",
      "Epoch 31/100\n",
      "105/105 [==============================] - 0s 349us/step - loss: 0.0914 - acc: 0.9524\n",
      "Epoch 32/100\n",
      "105/105 [==============================] - 0s 332us/step - loss: 0.0841 - acc: 0.9810\n",
      "Epoch 33/100\n",
      "105/105 [==============================] - 0s 313us/step - loss: 0.1506 - acc: 0.9429\n",
      "Epoch 34/100\n",
      "105/105 [==============================] - 0s 361us/step - loss: 0.1190 - acc: 0.9429\n",
      "Epoch 35/100\n",
      "105/105 [==============================] - 0s 332us/step - loss: 0.0738 - acc: 0.9810\n",
      "Epoch 36/100\n",
      "105/105 [==============================] - 0s 361us/step - loss: 0.1068 - acc: 0.9619\n",
      "Epoch 37/100\n",
      "105/105 [==============================] - 0s 351us/step - loss: 0.0866 - acc: 0.9714\n",
      "Epoch 38/100\n",
      "105/105 [==============================] - 0s 304us/step - loss: 0.0941 - acc: 0.9714\n",
      "Epoch 39/100\n",
      "105/105 [==============================] - 0s 338us/step - loss: 0.2267 - acc: 0.8952\n",
      "Epoch 40/100\n",
      "105/105 [==============================] - 0s 332us/step - loss: 0.1244 - acc: 0.9238\n",
      "Epoch 41/100\n",
      "105/105 [==============================] - 0s 275us/step - loss: 0.1182 - acc: 0.9619\n",
      "Epoch 42/100\n",
      "105/105 [==============================] - 0s 332us/step - loss: 0.0842 - acc: 0.9619\n",
      "Epoch 43/100\n",
      "105/105 [==============================] - 0s 304us/step - loss: 0.1078 - acc: 0.9429\n",
      "Epoch 44/100\n",
      "105/105 [==============================] - 0s 294us/step - loss: 0.1002 - acc: 0.9524\n",
      "Epoch 45/100\n",
      "105/105 [==============================] - 0s 304us/step - loss: 0.0878 - acc: 0.9714\n",
      "Epoch 46/100\n",
      "105/105 [==============================] - 0s 313us/step - loss: 0.1266 - acc: 0.9429\n",
      "Epoch 47/100\n",
      "105/105 [==============================] - 0s 313us/step - loss: 0.0953 - acc: 0.9714\n",
      "Epoch 48/100\n",
      "105/105 [==============================] - 0s 294us/step - loss: 0.0965 - acc: 0.9524\n",
      "Epoch 49/100\n",
      "105/105 [==============================] - 0s 342us/step - loss: 0.0755 - acc: 0.9619\n",
      "Epoch 50/100\n",
      "105/105 [==============================] - 0s 332us/step - loss: 0.1367 - acc: 0.9619\n",
      "Epoch 51/100\n",
      "105/105 [==============================] - 0s 313us/step - loss: 0.0917 - acc: 0.9524\n",
      "Epoch 52/100\n",
      "105/105 [==============================] - 0s 313us/step - loss: 0.0749 - acc: 0.9714\n",
      "Epoch 53/100\n",
      "105/105 [==============================] - 0s 332us/step - loss: 0.0823 - acc: 0.9619\n",
      "Epoch 54/100\n",
      "105/105 [==============================] - 0s 294us/step - loss: 0.0710 - acc: 0.9619\n",
      "Epoch 55/100\n",
      "105/105 [==============================] - 0s 304us/step - loss: 0.0751 - acc: 0.9619\n",
      "Epoch 56/100\n",
      "105/105 [==============================] - 0s 332us/step - loss: 0.0648 - acc: 0.9619\n",
      "Epoch 57/100\n",
      "105/105 [==============================] - 0s 313us/step - loss: 0.1075 - acc: 0.9619\n",
      "Epoch 58/100\n",
      "105/105 [==============================] - 0s 294us/step - loss: 0.1863 - acc: 0.9333\n",
      "Epoch 59/100\n",
      "105/105 [==============================] - 0s 313us/step - loss: 0.0804 - acc: 0.9619\n",
      "Epoch 60/100\n",
      "105/105 [==============================] - 0s 323us/step - loss: 0.0876 - acc: 0.9619\n",
      "Epoch 61/100\n",
      "105/105 [==============================] - 0s 323us/step - loss: 0.0775 - acc: 0.9619\n",
      "Epoch 62/100\n",
      "105/105 [==============================] - 0s 313us/step - loss: 0.1237 - acc: 0.9429\n",
      "Epoch 63/100\n",
      "105/105 [==============================] - 0s 313us/step - loss: 0.1114 - acc: 0.9619\n",
      "Epoch 64/100\n",
      "105/105 [==============================] - 0s 332us/step - loss: 0.1007 - acc: 0.9524\n",
      "Epoch 65/100\n",
      "105/105 [==============================] - 0s 332us/step - loss: 0.0811 - acc: 0.9619\n",
      "Epoch 66/100\n",
      "105/105 [==============================] - 0s 275us/step - loss: 0.0696 - acc: 0.9619\n",
      "Epoch 67/100\n",
      "105/105 [==============================] - 0s 332us/step - loss: 0.0742 - acc: 0.9810\n",
      "Epoch 68/100\n",
      "105/105 [==============================] - 0s 294us/step - loss: 0.0827 - acc: 0.9619\n",
      "Epoch 69/100\n",
      "105/105 [==============================] - 0s 304us/step - loss: 0.0939 - acc: 0.9619\n",
      "Epoch 70/100\n",
      "105/105 [==============================] - 0s 294us/step - loss: 0.0771 - acc: 0.9714\n",
      "Epoch 71/100\n",
      "105/105 [==============================] - 0s 304us/step - loss: 0.0951 - acc: 0.9619\n",
      "Epoch 72/100\n",
      "105/105 [==============================] - 0s 292us/step - loss: 0.0654 - acc: 0.9714\n",
      "Epoch 73/100\n",
      "105/105 [==============================] - 0s 304us/step - loss: 0.1371 - acc: 0.9524\n",
      "Epoch 74/100\n",
      "105/105 [==============================] - 0s 342us/step - loss: 0.1694 - acc: 0.9143\n",
      "Epoch 75/100\n",
      "105/105 [==============================] - 0s 300us/step - loss: 0.0941 - acc: 0.9524\n",
      "Epoch 76/100\n",
      "105/105 [==============================] - 0s 304us/step - loss: 0.0812 - acc: 0.9714\n",
      "Epoch 77/100\n",
      "105/105 [==============================] - 0s 313us/step - loss: 0.0671 - acc: 0.9714\n",
      "Epoch 78/100\n",
      "105/105 [==============================] - 0s 334us/step - loss: 0.0866 - acc: 0.9429\n",
      "Epoch 79/100\n",
      "105/105 [==============================] - 0s 323us/step - loss: 0.0820 - acc: 0.9714\n",
      "Epoch 80/100\n",
      "105/105 [==============================] - 0s 304us/step - loss: 0.0726 - acc: 0.9714\n",
      "Epoch 81/100\n",
      "105/105 [==============================] - 0s 304us/step - loss: 0.0704 - acc: 0.9714\n",
      "Epoch 82/100\n",
      "105/105 [==============================] - 0s 304us/step - loss: 0.1086 - acc: 0.9619\n",
      "Epoch 83/100\n"
     ]
    },
    {
     "name": "stdout",
     "output_type": "stream",
     "text": [
      "105/105 [==============================] - 0s 332us/step - loss: 0.0709 - acc: 0.9619\n",
      "Epoch 84/100\n",
      "105/105 [==============================] - 0s 323us/step - loss: 0.1004 - acc: 0.9429\n",
      "Epoch 85/100\n",
      "105/105 [==============================] - 0s 313us/step - loss: 0.0718 - acc: 0.9714\n",
      "Epoch 86/100\n",
      "105/105 [==============================] - 0s 323us/step - loss: 0.0739 - acc: 0.9714\n",
      "Epoch 87/100\n",
      "105/105 [==============================] - 0s 323us/step - loss: 0.0746 - acc: 0.9714\n",
      "Epoch 88/100\n",
      "105/105 [==============================] - 0s 304us/step - loss: 0.0985 - acc: 0.9333\n",
      "Epoch 89/100\n",
      "105/105 [==============================] - 0s 313us/step - loss: 0.1390 - acc: 0.9333\n",
      "Epoch 90/100\n",
      "105/105 [==============================] - 0s 323us/step - loss: 0.1481 - acc: 0.9524\n",
      "Epoch 91/100\n",
      "105/105 [==============================] - 0s 294us/step - loss: 0.1129 - acc: 0.9524\n",
      "Epoch 92/100\n",
      "105/105 [==============================] - 0s 304us/step - loss: 0.0985 - acc: 0.9714\n",
      "Epoch 93/100\n",
      "105/105 [==============================] - 0s 294us/step - loss: 0.0895 - acc: 0.9524\n",
      "Epoch 94/100\n",
      "105/105 [==============================] - 0s 304us/step - loss: 0.0711 - acc: 0.9714\n",
      "Epoch 95/100\n",
      "105/105 [==============================] - 0s 313us/step - loss: 0.0812 - acc: 0.9714\n",
      "Epoch 96/100\n",
      "105/105 [==============================] - 0s 313us/step - loss: 0.0914 - acc: 0.9619\n",
      "Epoch 97/100\n",
      "105/105 [==============================] - 0s 323us/step - loss: 0.0748 - acc: 0.9619\n",
      "Epoch 98/100\n",
      "105/105 [==============================] - 0s 304us/step - loss: 0.0775 - acc: 0.9619\n",
      "Epoch 99/100\n",
      "105/105 [==============================] - 0s 323us/step - loss: 0.0756 - acc: 0.9810\n",
      "Epoch 100/100\n",
      "105/105 [==============================] - 0s 294us/step - loss: 0.0887 - acc: 0.9619\n",
      "45/45 [==============================] - 0s 4ms/step\n"
     ]
    }
   ],
   "source": [
    "model.fit(X_train, y_train, epochs=100, batch_size=5)\n",
    "scores = model.evaluate(X_test, y_test)"
   ]
  },
  {
   "cell_type": "code",
   "execution_count": 142,
   "metadata": {},
   "outputs": [
    {
     "name": "stdout",
     "output_type": "stream",
     "text": [
      "\n",
      "acc: 100.00%\n"
     ]
    }
   ],
   "source": [
    "print(\"\\n%s: %.2f%%\" % (model.metrics_names[1], scores[1]*100))"
   ]
  }
 ],
 "metadata": {
  "kernelspec": {
   "display_name": "DAT158",
   "language": "python",
   "name": "dat158"
  },
  "language_info": {
   "codemirror_mode": {
    "name": "ipython",
    "version": 3
   },
   "file_extension": ".py",
   "mimetype": "text/x-python",
   "name": "python",
   "nbconvert_exporter": "python",
   "pygments_lexer": "ipython3",
   "version": "3.6.6"
  }
 },
 "nbformat": 4,
 "nbformat_minor": 2
}
