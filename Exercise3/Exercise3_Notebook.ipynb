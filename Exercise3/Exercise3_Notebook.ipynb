{
 "cells": [
  {
   "cell_type": "markdown",
   "metadata": {},
   "source": [
    "# Exercise 3"
   ]
  },
  {
   "cell_type": "markdown",
   "metadata": {},
   "source": [
    "## 1.1 Training- vs. Validation set\n",
    "In short, the difference between the training set and the validation set is that the training set is for the model to learn the data, more specifically to optimize its (tunable) parameters, e.g. through Stochastic Gradient Descent. The validation set is, fittingly enough, to validate that the model and its parameters are tuned in such a way that it generalizes well (enough) to new data. This gives the developer an insight into which models too choose and how to tune its hyperparameters, e.g. learning rate. So, often one would train multiple models on the training set, then pick the best model, based on some chosen metric like RMSE, after running it on the validation set. \n"
   ]
  },
  {
   "cell_type": "markdown",
   "metadata": {},
   "source": [
    "## 1.2 KNN vs. Logistic Regression"
   ]
  },
  {
   "cell_type": "code",
   "execution_count": 1,
   "metadata": {},
   "outputs": [],
   "source": [
    "# import\n",
    "from sklearn import datasets\n",
    "import pandas as pd\n",
    "import numpy as np"
   ]
  },
  {
   "cell_type": "code",
   "execution_count": 2,
   "metadata": {},
   "outputs": [],
   "source": [
    "iris = datasets.load_iris()"
   ]
  },
  {
   "cell_type": "code",
   "execution_count": 3,
   "metadata": {},
   "outputs": [
    {
     "data": {
      "text/plain": [
       "sklearn.utils.Bunch"
      ]
     },
     "execution_count": 3,
     "metadata": {},
     "output_type": "execute_result"
    }
   ],
   "source": [
    "type(iris)"
   ]
  },
  {
   "cell_type": "code",
   "execution_count": 4,
   "metadata": {},
   "outputs": [],
   "source": [
    "df = pd.DataFrame(iris.data, columns=iris.feature_names)"
   ]
  },
  {
   "cell_type": "code",
   "execution_count": 5,
   "metadata": {},
   "outputs": [
    {
     "data": {
      "text/html": [
       "<div>\n",
       "<style scoped>\n",
       "    .dataframe tbody tr th:only-of-type {\n",
       "        vertical-align: middle;\n",
       "    }\n",
       "\n",
       "    .dataframe tbody tr th {\n",
       "        vertical-align: top;\n",
       "    }\n",
       "\n",
       "    .dataframe thead th {\n",
       "        text-align: right;\n",
       "    }\n",
       "</style>\n",
       "<table border=\"1\" class=\"dataframe\">\n",
       "  <thead>\n",
       "    <tr style=\"text-align: right;\">\n",
       "      <th></th>\n",
       "      <th>sepal length (cm)</th>\n",
       "      <th>sepal width (cm)</th>\n",
       "      <th>petal length (cm)</th>\n",
       "      <th>petal width (cm)</th>\n",
       "    </tr>\n",
       "  </thead>\n",
       "  <tbody>\n",
       "    <tr>\n",
       "      <th>0</th>\n",
       "      <td>5.1</td>\n",
       "      <td>3.5</td>\n",
       "      <td>1.4</td>\n",
       "      <td>0.2</td>\n",
       "    </tr>\n",
       "    <tr>\n",
       "      <th>1</th>\n",
       "      <td>4.9</td>\n",
       "      <td>3.0</td>\n",
       "      <td>1.4</td>\n",
       "      <td>0.2</td>\n",
       "    </tr>\n",
       "    <tr>\n",
       "      <th>2</th>\n",
       "      <td>4.7</td>\n",
       "      <td>3.2</td>\n",
       "      <td>1.3</td>\n",
       "      <td>0.2</td>\n",
       "    </tr>\n",
       "    <tr>\n",
       "      <th>3</th>\n",
       "      <td>4.6</td>\n",
       "      <td>3.1</td>\n",
       "      <td>1.5</td>\n",
       "      <td>0.2</td>\n",
       "    </tr>\n",
       "    <tr>\n",
       "      <th>4</th>\n",
       "      <td>5.0</td>\n",
       "      <td>3.6</td>\n",
       "      <td>1.4</td>\n",
       "      <td>0.2</td>\n",
       "    </tr>\n",
       "  </tbody>\n",
       "</table>\n",
       "</div>"
      ],
      "text/plain": [
       "   sepal length (cm)  sepal width (cm)  petal length (cm)  petal width (cm)\n",
       "0                5.1               3.5                1.4               0.2\n",
       "1                4.9               3.0                1.4               0.2\n",
       "2                4.7               3.2                1.3               0.2\n",
       "3                4.6               3.1                1.5               0.2\n",
       "4                5.0               3.6                1.4               0.2"
      ]
     },
     "execution_count": 5,
     "metadata": {},
     "output_type": "execute_result"
    }
   ],
   "source": [
    "df.head()"
   ]
  },
  {
   "cell_type": "code",
   "execution_count": 6,
   "metadata": {},
   "outputs": [],
   "source": [
    "from sklearn.model_selection import train_test_split\n",
    "from sklearn.model_selection import cross_val_score\n",
    "from sklearn.neighbors import KNeighborsClassifier\n",
    "from sklearn.linear_model import LogisticRegression"
   ]
  },
  {
   "cell_type": "code",
   "execution_count": 8,
   "metadata": {},
   "outputs": [
    {
     "name": "stdout",
     "output_type": "stream",
     "text": [
      "Best parameter for knn: k =  16 , with a score of:  0.9737654320987654\n",
      "Best parameter for logreg: c =  16 , with a score of:  0.9622549019607843\n",
      "\n",
      " Validation score for (seemingly) optimal models: \n",
      "\n",
      "knn:  1.0\n",
      "\n",
      "logreg:  1.0\n",
      "\n"
     ]
    }
   ],
   "source": [
    "X = iris.data\n",
    "y = iris.target\n",
    "\n",
    "# Split data\n",
    "X_train, X_test, y_train, y_test = train_test_split(X, y, test_size=0.3, random_state=42)\n",
    "\n",
    "cv_num_splits = 6\n",
    "\n",
    "k = [2, 4, 8, 16, 32]\n",
    "knn_scores = {}\n",
    "for param in k:\n",
    "    knn = KNeighborsClassifier(n_neighbors=param)\n",
    "    scores_mean = cross_val_score(knn, X_train, y_train, cv=cv_num_splits).mean()\n",
    "    knn_scores[param] = scores_mean\n",
    "knn_key_max = max(knn_scores.keys(), key=(lambda k: knn_scores[k]))\n",
    "\n",
    "c = [1, 2, 4, 8, 16]\n",
    "logreg_scores = {}\n",
    "for param in c:\n",
    "    logreg = LogisticRegression(C=param)\n",
    "    scores_mean = cross_val_score(logreg, X_train, y_train, cv=cv_num_splits).mean()\n",
    "    logreg_scores[param] = scores_mean\n",
    "logreg_key_max = max(logreg_scores.keys(), key=(lambda k: logreg_scores[k]))\n",
    "\n",
    "knn_score = knn_scores[knn_key_max]\n",
    "logreg_score = logreg_scores[logreg_key_max]\n",
    "print(\"Best parameter for knn: k = \", knn_key_max, \", with a score of: \", knn_score)\n",
    "print(\"Best parameter for logreg: c = \", logreg_key_max, \", with a score of: \", logreg_score)\n",
    "\n",
    "knn_optim = KNeighborsClassifier(n_neighbors=knn_key_max)\n",
    "logreg_optim = LogisticRegression(C=logreg_key_max)\n",
    "\n",
    "knn_optim.fit(X_train, y_train)\n",
    "logreg_optim.fit(X_train, y_train)\n",
    "\n",
    "knn_optim_score = knn_optim.score(X_test, y_test)\n",
    "logreg_optim_score = logreg_optim.score(X_test, y_test)\n",
    "\n",
    "print(\"\\n Validation score for (seemingly) optimal models: \\n\")\n",
    "print(\"knn: \", str(knn_optim_score) + \"\\n\")\n",
    "print(\"logreg: \", str(logreg_optim_score) + \"\\n\")"
   ]
  },
  {
   "cell_type": "markdown",
   "metadata": {},
   "source": [
    "## Decision Tree Learning"
   ]
  },
  {
   "attachments": {
    "Entropy.png": {
     "image/png": "[encoded data removed]"
    },
    "InformationGain.png": {
     "image/png": "[encoded data removed]"
    }
   },
   "cell_type": "markdown",
   "metadata": {},
   "source": [
    "### 2.1 \n",
    "> __Node__: <br> What a _decision tree_ is constructed by, combined with edges. Check on input value to either send further down in tree, or return result -depending on whether or not the node is leaf or not. <br>  \n",
    "\n",
    "> __Leaf__: <br> Node with no children - return a prediction, classification or regression, depending on model <br> \n",
    "\n",
    "> __Branch/split__: <br> Tree subsection. Combination of an edge and a node, attached to another node. The edge represent a possible answer to output of the parent node, and the attached (child) node represents another check <br> \n",
    "\n",
    "> __Entropy__: <br> A purity/tidiness measurement of a dataset/split of a dataset. <br> \n",
    "![Entropy.png](attachment:Entropy.png)\n",
    "> __Gini index__: <br>  An alternative way, to Entropy, for picking features. Measures the \"purity\" of a split, e.g. each leaf contains one class --> \"homogeneous branches\". <br>  \n",
    "\n",
    "> __Information gain__: <br> Increase of information: Entropy of the whole set minus the entropy when a particular feature is chosen: \n",
    "![InformationGain.png](attachment:InformationGain.png) <br>\n",
    "E.g. \"uncertainty\" before and after the split"
   ]
  },
  {
   "attachments": {
    "Entropy.png": {
     "image/png": "[encoded data removed]"
    },
    "EntropyCards.png": {
     "image/png": "[encoded data removed]"
    }
   },
   "cell_type": "markdown",
   "metadata": {},
   "source": [
    "### 2.2\n",
    "\n",
    "When using the formula given in the previous answer (2.1 - Entropy): \n",
    "![Entropy.png](attachment:Entropy.png)\n",
    "one gets:\n",
    "![EntropyCards.png](attachment:EntropyCards.png) "
   ]
  },
  {
   "attachments": {
    "EntropySolSystemAlt.png": {
     "image/png": "[encoded data removed]"
    },
    "EntropySolsDistAlt.png": {
     "image/png": "[encoded data removed]"
    },
    "InformationGainEntropy.png": {
     "image/png": "[encoded data removed]"
    },
    "InformationGainEntropyResult.png": {
     "image/png": "[encoded data removed]"
    }
   },
   "cell_type": "markdown",
   "metadata": {},
   "source": [
    "### 2.3\n",
    "> __A__: <br> \n",
    "E(solar system): ![EntropySolSystemAlt.png](attachment:EntropySolSystemAlt.png)\n",
    "E(solar system, distance): ![EntropySolsDistAlt.png](attachment:EntropySolsDistAlt.png)\n",
    "IG(solar system, distance) = E(solar system) - E(solar system, distance):\n",
    "![InformationGainEntropy.png](attachment:InformationGainEntropy.png)\n",
    "= \n",
    "![InformationGainEntropyResult.png](attachment:InformationGainEntropyResult.png)"
   ]
  },
  {
   "attachments": {
    "GSolSystDist.png": {
     "image/png": "[encoded data removed]"
    },
    "GSolarSystem.png": {
     "image/png": "[encoded data removed]"
    },
    "InformationGainGini.png": {
     "image/png": "[encoded data removed]"
    },
    "InformationGainGiniResult.png": {
     "image/png": "[encoded data removed]"
    }
   },
   "cell_type": "markdown",
   "metadata": {},
   "source": [
    "> __B__: <br>\n",
    "G(solar system):\n",
    "![GSolarSystem.png](attachment:GSolarSystem.png)\n",
    "G(solar system, distance):\n",
    "![GSolSystDist.png](attachment:GSolSystDist.png)\n",
    "IG(solar system, distance) = G(solar system) - G(solar system, distance)\n",
    "![InformationGainGini.png](attachment:InformationGainGini.png)\n",
    "= \n",
    "![InformationGainGiniResult.png](attachment:InformationGainGiniResult.png)"
   ]
  },
  {
   "cell_type": "markdown",
   "metadata": {},
   "source": [
    "## Pruning Decision Trees"
   ]
  },
  {
   "cell_type": "markdown",
   "metadata": {},
   "source": [
    "### 3.1 \n",
    "> __A__: <br> \n",
    "\n",
    "    for node in dfs(tree): # Consider each node for pruning. Start on leaves and move updwards \n",
    "\n",
    "        sub_tree = tree.replaceNodeWLeaf(node) # for a sub tree of the tree \n",
    "    \n",
    "        if(pred_error_val(sub_tree) <= pred_error_val(tree)): # if replacing --> !increased pred error \n",
    "    \n",
    "            tree = sub_tree # replace node by a leaf "
   ]
  },
  {
   "cell_type": "markdown",
   "metadata": {},
   "source": [
    "> __B__: <br>\n",
    "Naming the node integers kept after pruning: <br>\n",
    "3, 6, 9 <br>\n",
    "\n",
    "__Note to self__: Removing [4,5] because 1 > 0 (from hint), [10, 11], because 10 = 2, 11 = 0, 10 + 11 = 2 > 9 = 1 "
   ]
  },
  {
   "cell_type": "code",
   "execution_count": null,
   "metadata": {},
   "outputs": [],
   "source": []
  }
 ],
 "metadata": {
  "kernelspec": {
   "display_name": "DAT158",
   "language": "python",
   "name": "dat158"
  },
  "language_info": {
   "codemirror_mode": {
    "name": "ipython",
    "version": 3
   },
   "file_extension": ".py",
   "mimetype": "text/x-python",
   "name": "python",
   "nbconvert_exporter": "python",
   "pygments_lexer": "ipython3",
   "version": "3.6.6"
  }
 },
 "nbformat": 4,
 "nbformat_minor": 2
}
